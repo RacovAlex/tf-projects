{
  "nbformat": 4,
  "nbformat_minor": 0,
  "metadata": {
    "accelerator": "GPU",
    "colab": {
      "name": "Project: SkimLit f1_90.1.ipynb\"",
      "provenance": [],
      "collapsed_sections": [
        "6Gwtwh1rfsSb",
        "52gcpQ9ah4ZR",
        "d3Fh1P5kyRXb",
        "3HJJ1LFypLIV",
        "kHBL6Hc1tcO1",
        "CLLbttb90pfX",
        "8QVvaiPL6E-o",
        "vAxGCGWw57h_",
        "E7fRt8uhDvng",
        "XJPfYEJtNdbU",
        "BOtnCUp1SKOW",
        "CUyN4z6yTEJq",
        "jCo67TjrT5qe",
        "mCX-JytxgKgf",
        "quPuLeQOic7Y",
        "VhcbGj5PoUu9",
        "MDRk00dryunI",
        "DtBAbl2Od6Qn",
        "fH06xt0bg3HJ",
        "eAPl1R8MnLgP",
        "zgv8Uu81nzwo",
        "zlq-hgA0sMN2",
        "ul8W9CQr6ka2",
        "c_LONLGOxte1",
        "87EzKHAWym-j",
        "3fsPTqWdxte-",
        "D9O6vZX56t9X"
      ]
    },
    "kernelspec": {
      "display_name": "Python 3",
      "name": "python3"
    },
    "language_info": {
      "name": "python"
    }
  },
  "cells": [
    {
      "cell_type": "markdown",
      "metadata": {
        "id": "kkpmGRGTHN7b"
      },
      "source": [
        "## **Project: SkimLit**\n",
        "\n",
        "### Problem in a sentence\n",
        "The number of RCT papers released is continuing to increase, those without structured abstracts can be hard to read and in turn slow down researchers moving through the literature.\n",
        "\n",
        "### Solution in a sentence\n",
        "Create an NLP model to classify abstract sentences into the role they play (e.g. objective, methods, results, etc) to enable researchers to skim through the literature (hence SkimLit) and dive deeper when necessary.\n",
        "\n",
        "More specificially, we're going to be replicating the deep learning model behind the 2017 paper [PubMed 200k RCT: a Dataset for Sequenctial Sentence Classification in Medical Abstracts.](https://arxiv.org/abs/1710.06071)\n",
        "\n",
        "### What we're going to cover\n",
        "What we are going to do:\n",
        "\n",
        "\n",
        "*   Downloading a text dataset ([PubMed RCT200k from GitHub](https://github.com/Franck-Dernoncourt/pubmed-rct))\n",
        "*   Writing a preprocessing function to prepare our data for modelling\n",
        "*   Setting up a series of modelling experiments\n",
        "  *   Making a baseline (TF-IDF classifier)\n",
        "  *   Deep models with different combinations of: token embeddings, character embeddings, pretrained embeddings, positional embeddings\n",
        "*   Building our first multimodal model (taking multiple types of data inputs)\n",
        "  *   Replicating the model architecture from https://arxiv.org/pdf/1612.05251.pdf\n",
        "*   Find the most wrong predictions\n",
        "*   Making predictions on PubMed abstracts from the wild\n",
        "\n",
        "\n",
        "\n"
      ]
    },
    {
      "cell_type": "code",
      "metadata": {
        "colab": {
          "base_uri": "https://localhost:8080/"
        },
        "id": "Rfw-28-6F2dj",
        "outputId": "178ccb36-35bf-4366-e218-7cdbd2cf7ef2"
      },
      "source": [
        "# Check for GPU\n",
        "!nvidia-smi -L "
      ],
      "execution_count": null,
      "outputs": [
        {
          "output_type": "stream",
          "text": [
            "GPU 0: Tesla T4 (UUID: GPU-bdfd82b8-2073-230f-8dd1-44ec5b19cb80)\n"
          ],
          "name": "stdout"
        }
      ]
    },
    {
      "cell_type": "markdown",
      "metadata": {
        "id": "6Gwtwh1rfsSb"
      },
      "source": [
        "## Get data"
      ]
    },
    {
      "cell_type": "markdown",
      "metadata": {
        "id": "SrMOey1cf1jY"
      },
      "source": [
        "Before we can start building a model, we've got to download the PubMed 200k RCT dataset.\n",
        "\n",
        "In a phenomenal act of kindness, the authors of the paper have made the data they used for their research availably publically and for free in the form of .txt files on GitHub."
      ]
    },
    {
      "cell_type": "code",
      "metadata": {
        "colab": {
          "base_uri": "https://localhost:8080/"
        },
        "id": "NiYRrCTefUXl",
        "outputId": "b3e93133-22dd-4af5-9fb6-69f3e10d84b8"
      },
      "source": [
        "!git clone https://github.com/Franck-Dernoncourt/pubmed-rct.git\n",
        "!ls pubmed-rct "
      ],
      "execution_count": null,
      "outputs": [
        {
          "output_type": "stream",
          "text": [
            "Cloning into 'pubmed-rct'...\n",
            "remote: Enumerating objects: 33, done.\u001b[K\n",
            "remote: Counting objects: 100% (3/3), done.\u001b[K\n",
            "remote: Compressing objects: 100% (3/3), done.\u001b[K\n",
            "remote: Total 33 (delta 0), reused 0 (delta 0), pack-reused 30\u001b[K\n",
            "Unpacking objects: 100% (33/33), done.\n",
            "PubMed_200k_RCT\n",
            "PubMed_200k_RCT_numbers_replaced_with_at_sign\n",
            "PubMed_20k_RCT\n",
            "PubMed_20k_RCT_numbers_replaced_with_at_sign\n",
            "README.md\n"
          ],
          "name": "stdout"
        }
      ]
    },
    {
      "cell_type": "markdown",
      "metadata": {
        "id": "pO-ZiPnig_8M"
      },
      "source": [
        "To begin with, the dataset we're going to be focused on is `PubMed_20k_RCT_numbers_replaced_with_at_sign`.\n",
        "\n",
        "Why this one?\n",
        "\n",
        "Rather than working with the whole 200k dataset, we'll keep our experiments quick by starting with a smaller subset."
      ]
    },
    {
      "cell_type": "code",
      "metadata": {
        "colab": {
          "base_uri": "https://localhost:8080/"
        },
        "id": "xePq70f2gHdM",
        "outputId": "d78e9d1e-18bb-4bd2-f59f-d0a828957c74"
      },
      "source": [
        "# Check what files are in the PubMed_20K dataset \n",
        "!ls pubmed-rct/PubMed_20k_RCT_numbers_replaced_with_at_sign"
      ],
      "execution_count": null,
      "outputs": [
        {
          "output_type": "stream",
          "text": [
            "dev.txt  test.txt  train.txt\n"
          ],
          "name": "stdout"
        }
      ]
    },
    {
      "cell_type": "code",
      "metadata": {
        "id": "dgzPlNLihR5p"
      },
      "source": [
        "# Start by using the 20k dataset\n",
        "data_dir = \"pubmed-rct/PubMed_20k_RCT_numbers_replaced_with_at_sign/\""
      ],
      "execution_count": null,
      "outputs": []
    },
    {
      "cell_type": "code",
      "metadata": {
        "colab": {
          "base_uri": "https://localhost:8080/"
        },
        "id": "yJyf6nHyhfOS",
        "outputId": "a2ba92bd-2763-445e-e646-784ec1f5c8af"
      },
      "source": [
        "# Check all of the filenames in the target directory\n",
        "import os\n",
        "filenames = [data_dir + filename for filename in os.listdir(data_dir)]\n",
        "filenames"
      ],
      "execution_count": null,
      "outputs": [
        {
          "output_type": "execute_result",
          "data": {
            "text/plain": [
              "['pubmed-rct/PubMed_20k_RCT_numbers_replaced_with_at_sign/dev.txt',\n",
              " 'pubmed-rct/PubMed_20k_RCT_numbers_replaced_with_at_sign/test.txt',\n",
              " 'pubmed-rct/PubMed_20k_RCT_numbers_replaced_with_at_sign/train.txt']"
            ]
          },
          "metadata": {},
          "execution_count": 5
        }
      ]
    },
    {
      "cell_type": "markdown",
      "metadata": {
        "id": "52gcpQ9ah4ZR"
      },
      "source": [
        "## Preprocess data"
      ]
    },
    {
      "cell_type": "code",
      "metadata": {
        "id": "3Vlh4Zfbhx51"
      },
      "source": [
        "# Create function to read the lines of a document\n",
        "def get_lines(filename):\n",
        "  \"\"\"\n",
        "  Reads filename (a text file) and returns the lines of text as a list.\n",
        "  \n",
        "  Args:\n",
        "      filename: a string containing the target filepath to read.\n",
        "  \n",
        "  Returns:\n",
        "      A list of strings with one string per line from the target filename.\n",
        "      For example:\n",
        "      [\"this is the first line of filename\",\n",
        "       \"this is the second line of filename\",\n",
        "       \"...\"]\n",
        "  \"\"\"\n",
        "  with open(filename, \"r\") as f:\n",
        "    return f.readlines()"
      ],
      "execution_count": null,
      "outputs": []
    },
    {
      "cell_type": "markdown",
      "metadata": {
        "id": "sJSS0Lglisb8"
      },
      "source": [
        "Alright, we've got a little function, get_lines() which takes the filepath of a text file, opens it, reads each of the lines and returns them.\n",
        "\n",
        "Let's try it out on the training data (train.txt)."
      ]
    },
    {
      "cell_type": "code",
      "metadata": {
        "colab": {
          "base_uri": "https://localhost:8080/"
        },
        "id": "7V0xZtCeijeO",
        "outputId": "419d1c30-1827-4459-8ca0-9273bbe38d17"
      },
      "source": [
        "train_lines = get_lines(data_dir + \"train.txt\")\n",
        "train_lines[:20]"
      ],
      "execution_count": null,
      "outputs": [
        {
          "output_type": "execute_result",
          "data": {
            "text/plain": [
              "['###24293578\\n',\n",
              " 'OBJECTIVE\\tTo investigate the efficacy of @ weeks of daily low-dose oral prednisolone in improving pain , mobility , and systemic low-grade inflammation in the short term and whether the effect would be sustained at @ weeks in older adults with moderate to severe knee osteoarthritis ( OA ) .\\n',\n",
              " 'METHODS\\tA total of @ patients with primary knee OA were randomized @:@ ; @ received @ mg/day of prednisolone and @ received placebo for @ weeks .\\n',\n",
              " 'METHODS\\tOutcome measures included pain reduction and improvement in function scores and systemic inflammation markers .\\n',\n",
              " 'METHODS\\tPain was assessed using the visual analog pain scale ( @-@ mm ) .\\n',\n",
              " 'METHODS\\tSecondary outcome measures included the Western Ontario and McMaster Universities Osteoarthritis Index scores , patient global assessment ( PGA ) of the severity of knee OA , and @-min walk distance ( @MWD ) .\\n',\n",
              " 'METHODS\\tSerum levels of interleukin @ ( IL-@ ) , IL-@ , tumor necrosis factor ( TNF ) - , and high-sensitivity C-reactive protein ( hsCRP ) were measured .\\n',\n",
              " 'RESULTS\\tThere was a clinically relevant reduction in the intervention group compared to the placebo group for knee pain , physical function , PGA , and @MWD at @ weeks .\\n',\n",
              " 'RESULTS\\tThe mean difference between treatment arms ( @ % CI ) was @ ( @-@ @ ) , p < @ ; @ ( @-@ @ ) , p < @ ; @ ( @-@ @ ) , p < @ ; and @ ( @-@ @ ) , p < @ , respectively .\\n',\n",
              " 'RESULTS\\tFurther , there was a clinically relevant reduction in the serum levels of IL-@ , IL-@ , TNF - , and hsCRP at @ weeks in the intervention group when compared to the placebo group .\\n',\n",
              " 'RESULTS\\tThese differences remained significant at @ weeks .\\n',\n",
              " 'RESULTS\\tThe Outcome Measures in Rheumatology Clinical Trials-Osteoarthritis Research Society International responder rate was @ % in the intervention group and @ % in the placebo group ( p < @ ) .\\n',\n",
              " 'CONCLUSIONS\\tLow-dose oral prednisolone had both a short-term and a longer sustained effect resulting in less knee pain , better physical function , and attenuation of systemic inflammation in older patients with knee OA ( ClinicalTrials.gov identifier NCT@ ) .\\n',\n",
              " '\\n',\n",
              " '###24854809\\n',\n",
              " 'BACKGROUND\\tEmotional eating is associated with overeating and the development of obesity .\\n',\n",
              " 'BACKGROUND\\tYet , empirical evidence for individual ( trait ) differences in emotional eating and cognitive mechanisms that contribute to eating during sad mood remain equivocal .\\n',\n",
              " 'OBJECTIVE\\tThe aim of this study was to test if attention bias for food moderates the effect of self-reported emotional eating during sad mood ( vs neutral mood ) on actual food intake .\\n',\n",
              " 'OBJECTIVE\\tIt was expected that emotional eating is predictive of elevated attention for food and higher food intake after an experimentally induced sad mood and that attentional maintenance on food predicts food intake during a sad versus a neutral mood .\\n',\n",
              " 'METHODS\\tParticipants ( N = @ ) were randomly assigned to one of the two experimental mood induction conditions ( sad/neutral ) .\\n']"
            ]
          },
          "metadata": {},
          "execution_count": 7
        }
      ]
    },
    {
      "cell_type": "code",
      "metadata": {
        "id": "TT04y-XKi7tx"
      },
      "source": [
        "def preprocess_text_with_line_numbers(filename):\n",
        "  \"\"\"Returns a list of dictionaries of abstract line data.\n",
        "\n",
        "  Takes in filename, reads its contents and sorts through each line,\n",
        "  extracting things like the target label, the text of the sentence,\n",
        "  how many sentences are in the current abstract and what sentence number\n",
        "  the target line is.\n",
        "\n",
        "  Args:\n",
        "      filename: a string of the target text file to read and extract line data\n",
        "      from.\n",
        "\n",
        "  Returns:\n",
        "      A list of dictionaries each containing a line from an abstract,\n",
        "      the lines label, the lines position in the abstract and the total number\n",
        "      of lines in the abstract where the line is from. For example:\n",
        "\n",
        "      [{\"target\": 'CONCLUSION',\n",
        "        \"text\": The study couldn't have gone better, turns out people are kinder than you think\",\n",
        "        \"line_number\": 8,\n",
        "        \"total_lines\": 8}]\n",
        "  \"\"\"\n",
        "  input_lines = get_lines(filename) # get all lines from filename\n",
        "  abstract_lines = \"\" # create an empty abstract\n",
        "  abstract_samples = [] # create an empty list of abstracts\n",
        "\n",
        "  # Loop through each line in target file\n",
        "  for line in input_lines:\n",
        "    if line.startswith(\"###\"): # check to see if line is an ID line\n",
        "      abstract_id = line\n",
        "      abstract_lines = \"\" # reset abstract string\n",
        "    elif line.isspace(): # check to see if line is a new line\n",
        "      abstract_line_split = abstract_lines.splitlines() # split abstract into separate lines\n",
        "\n",
        "      # Iterate through each line in abstract and count them at the same time\n",
        "      for abstract_line_number, abstract_line in enumerate(abstract_line_split):\n",
        "        line_data = {} # create empty dict to store data from line\n",
        "        target_text_split = abstract_line.split(\"\\t\") # split target label from text\n",
        "        line_data[\"target\"] = target_text_split[0] # get target label\n",
        "        line_data[\"text\"] = target_text_split[1].lower() # get target text and lower it\n",
        "        line_data[\"line_number\"] = abstract_line_number # what number line does the line appear in the abstract?\n",
        "        line_data[\"total_lines\"] = len(abstract_line_split) - 1 # how many total lines are in the abstract? (start from 0)\n",
        "        abstract_samples.append(line_data) # add line data to abstract samples list\n",
        "    \n",
        "    else: # if the above conditions aren't fulfilled, the line contains a labelled sentence\n",
        "      abstract_lines += line\n",
        "  \n",
        "  return abstract_samples"
      ],
      "execution_count": null,
      "outputs": []
    },
    {
      "cell_type": "code",
      "metadata": {
        "colab": {
          "base_uri": "https://localhost:8080/"
        },
        "id": "aaG_0NUQoMkh",
        "outputId": "803a5188-c053-451c-9984-5ba8a0740a81"
      },
      "source": [
        "# Get data from file and preprocess it\n",
        "# %%time\n",
        "train_samples = preprocess_text_with_line_numbers(data_dir + \"train.txt\")\n",
        "val_samples = preprocess_text_with_line_numbers(data_dir + \"dev.txt\")\n",
        "test_samples = preprocess_text_with_line_numbers(data_dir + \"test.txt\")\n",
        "len(train_samples), len(val_samples), len(test_samples) "
      ],
      "execution_count": null,
      "outputs": [
        {
          "output_type": "execute_result",
          "data": {
            "text/plain": [
              "(180040, 30212, 30135)"
            ]
          },
          "metadata": {},
          "execution_count": 9
        }
      ]
    },
    {
      "cell_type": "code",
      "metadata": {
        "colab": {
          "base_uri": "https://localhost:8080/"
        },
        "id": "mPywvxoJpJGX",
        "outputId": "d962a15c-e0c7-4860-8229-e9d957b8cfa6"
      },
      "source": [
        "# Check the first abstract of our training data\n",
        "train_samples[:14]"
      ],
      "execution_count": null,
      "outputs": [
        {
          "output_type": "execute_result",
          "data": {
            "text/plain": [
              "[{'line_number': 0,\n",
              "  'target': 'OBJECTIVE',\n",
              "  'text': 'to investigate the efficacy of @ weeks of daily low-dose oral prednisolone in improving pain , mobility , and systemic low-grade inflammation in the short term and whether the effect would be sustained at @ weeks in older adults with moderate to severe knee osteoarthritis ( oa ) .',\n",
              "  'total_lines': 11},\n",
              " {'line_number': 1,\n",
              "  'target': 'METHODS',\n",
              "  'text': 'a total of @ patients with primary knee oa were randomized @:@ ; @ received @ mg/day of prednisolone and @ received placebo for @ weeks .',\n",
              "  'total_lines': 11},\n",
              " {'line_number': 2,\n",
              "  'target': 'METHODS',\n",
              "  'text': 'outcome measures included pain reduction and improvement in function scores and systemic inflammation markers .',\n",
              "  'total_lines': 11},\n",
              " {'line_number': 3,\n",
              "  'target': 'METHODS',\n",
              "  'text': 'pain was assessed using the visual analog pain scale ( @-@ mm ) .',\n",
              "  'total_lines': 11},\n",
              " {'line_number': 4,\n",
              "  'target': 'METHODS',\n",
              "  'text': 'secondary outcome measures included the western ontario and mcmaster universities osteoarthritis index scores , patient global assessment ( pga ) of the severity of knee oa , and @-min walk distance ( @mwd ) .',\n",
              "  'total_lines': 11},\n",
              " {'line_number': 5,\n",
              "  'target': 'METHODS',\n",
              "  'text': 'serum levels of interleukin @ ( il-@ ) , il-@ , tumor necrosis factor ( tnf ) - , and high-sensitivity c-reactive protein ( hscrp ) were measured .',\n",
              "  'total_lines': 11},\n",
              " {'line_number': 6,\n",
              "  'target': 'RESULTS',\n",
              "  'text': 'there was a clinically relevant reduction in the intervention group compared to the placebo group for knee pain , physical function , pga , and @mwd at @ weeks .',\n",
              "  'total_lines': 11},\n",
              " {'line_number': 7,\n",
              "  'target': 'RESULTS',\n",
              "  'text': 'the mean difference between treatment arms ( @ % ci ) was @ ( @-@ @ ) , p < @ ; @ ( @-@ @ ) , p < @ ; @ ( @-@ @ ) , p < @ ; and @ ( @-@ @ ) , p < @ , respectively .',\n",
              "  'total_lines': 11},\n",
              " {'line_number': 8,\n",
              "  'target': 'RESULTS',\n",
              "  'text': 'further , there was a clinically relevant reduction in the serum levels of il-@ , il-@ , tnf - , and hscrp at @ weeks in the intervention group when compared to the placebo group .',\n",
              "  'total_lines': 11},\n",
              " {'line_number': 9,\n",
              "  'target': 'RESULTS',\n",
              "  'text': 'these differences remained significant at @ weeks .',\n",
              "  'total_lines': 11},\n",
              " {'line_number': 10,\n",
              "  'target': 'RESULTS',\n",
              "  'text': 'the outcome measures in rheumatology clinical trials-osteoarthritis research society international responder rate was @ % in the intervention group and @ % in the placebo group ( p < @ ) .',\n",
              "  'total_lines': 11},\n",
              " {'line_number': 11,\n",
              "  'target': 'CONCLUSIONS',\n",
              "  'text': 'low-dose oral prednisolone had both a short-term and a longer sustained effect resulting in less knee pain , better physical function , and attenuation of systemic inflammation in older patients with knee oa ( clinicaltrials.gov identifier nct@ ) .',\n",
              "  'total_lines': 11},\n",
              " {'line_number': 0,\n",
              "  'target': 'BACKGROUND',\n",
              "  'text': 'emotional eating is associated with overeating and the development of obesity .',\n",
              "  'total_lines': 10},\n",
              " {'line_number': 1,\n",
              "  'target': 'BACKGROUND',\n",
              "  'text': 'yet , empirical evidence for individual ( trait ) differences in emotional eating and cognitive mechanisms that contribute to eating during sad mood remain equivocal .',\n",
              "  'total_lines': 10}]"
            ]
          },
          "metadata": {},
          "execution_count": 10
        }
      ]
    },
    {
      "cell_type": "code",
      "metadata": {
        "colab": {
          "base_uri": "https://localhost:8080/"
        },
        "id": "2ibLYV0qpoqm",
        "outputId": "9d9db3e4-4aa2-473c-c997-6a272109412e"
      },
      "source": [
        "# Turn our list of dictionaries into pandas DataFrame's so we visualize them better\n",
        "import pandas as pd\n",
        "train_df = pd.DataFrame(train_samples)\n",
        "val_df = pd.DataFrame(val_samples)\n",
        "test_df = pd.DataFrame(test_samples)\n",
        "train_df.head(14)"
      ],
      "execution_count": null,
      "outputs": [
        {
          "output_type": "execute_result",
          "data": {
            "text/html": [
              "<div>\n",
              "<style scoped>\n",
              "    .dataframe tbody tr th:only-of-type {\n",
              "        vertical-align: middle;\n",
              "    }\n",
              "\n",
              "    .dataframe tbody tr th {\n",
              "        vertical-align: top;\n",
              "    }\n",
              "\n",
              "    .dataframe thead th {\n",
              "        text-align: right;\n",
              "    }\n",
              "</style>\n",
              "<table border=\"1\" class=\"dataframe\">\n",
              "  <thead>\n",
              "    <tr style=\"text-align: right;\">\n",
              "      <th></th>\n",
              "      <th>target</th>\n",
              "      <th>text</th>\n",
              "      <th>line_number</th>\n",
              "      <th>total_lines</th>\n",
              "    </tr>\n",
              "  </thead>\n",
              "  <tbody>\n",
              "    <tr>\n",
              "      <th>0</th>\n",
              "      <td>OBJECTIVE</td>\n",
              "      <td>to investigate the efficacy of @ weeks of dail...</td>\n",
              "      <td>0</td>\n",
              "      <td>11</td>\n",
              "    </tr>\n",
              "    <tr>\n",
              "      <th>1</th>\n",
              "      <td>METHODS</td>\n",
              "      <td>a total of @ patients with primary knee oa wer...</td>\n",
              "      <td>1</td>\n",
              "      <td>11</td>\n",
              "    </tr>\n",
              "    <tr>\n",
              "      <th>2</th>\n",
              "      <td>METHODS</td>\n",
              "      <td>outcome measures included pain reduction and i...</td>\n",
              "      <td>2</td>\n",
              "      <td>11</td>\n",
              "    </tr>\n",
              "    <tr>\n",
              "      <th>3</th>\n",
              "      <td>METHODS</td>\n",
              "      <td>pain was assessed using the visual analog pain...</td>\n",
              "      <td>3</td>\n",
              "      <td>11</td>\n",
              "    </tr>\n",
              "    <tr>\n",
              "      <th>4</th>\n",
              "      <td>METHODS</td>\n",
              "      <td>secondary outcome measures included the wester...</td>\n",
              "      <td>4</td>\n",
              "      <td>11</td>\n",
              "    </tr>\n",
              "    <tr>\n",
              "      <th>5</th>\n",
              "      <td>METHODS</td>\n",
              "      <td>serum levels of interleukin @ ( il-@ ) , il-@ ...</td>\n",
              "      <td>5</td>\n",
              "      <td>11</td>\n",
              "    </tr>\n",
              "    <tr>\n",
              "      <th>6</th>\n",
              "      <td>RESULTS</td>\n",
              "      <td>there was a clinically relevant reduction in t...</td>\n",
              "      <td>6</td>\n",
              "      <td>11</td>\n",
              "    </tr>\n",
              "    <tr>\n",
              "      <th>7</th>\n",
              "      <td>RESULTS</td>\n",
              "      <td>the mean difference between treatment arms ( @...</td>\n",
              "      <td>7</td>\n",
              "      <td>11</td>\n",
              "    </tr>\n",
              "    <tr>\n",
              "      <th>8</th>\n",
              "      <td>RESULTS</td>\n",
              "      <td>further , there was a clinically relevant redu...</td>\n",
              "      <td>8</td>\n",
              "      <td>11</td>\n",
              "    </tr>\n",
              "    <tr>\n",
              "      <th>9</th>\n",
              "      <td>RESULTS</td>\n",
              "      <td>these differences remained significant at @ we...</td>\n",
              "      <td>9</td>\n",
              "      <td>11</td>\n",
              "    </tr>\n",
              "    <tr>\n",
              "      <th>10</th>\n",
              "      <td>RESULTS</td>\n",
              "      <td>the outcome measures in rheumatology clinical ...</td>\n",
              "      <td>10</td>\n",
              "      <td>11</td>\n",
              "    </tr>\n",
              "    <tr>\n",
              "      <th>11</th>\n",
              "      <td>CONCLUSIONS</td>\n",
              "      <td>low-dose oral prednisolone had both a short-te...</td>\n",
              "      <td>11</td>\n",
              "      <td>11</td>\n",
              "    </tr>\n",
              "    <tr>\n",
              "      <th>12</th>\n",
              "      <td>BACKGROUND</td>\n",
              "      <td>emotional eating is associated with overeating...</td>\n",
              "      <td>0</td>\n",
              "      <td>10</td>\n",
              "    </tr>\n",
              "    <tr>\n",
              "      <th>13</th>\n",
              "      <td>BACKGROUND</td>\n",
              "      <td>yet , empirical evidence for individual ( trai...</td>\n",
              "      <td>1</td>\n",
              "      <td>10</td>\n",
              "    </tr>\n",
              "  </tbody>\n",
              "</table>\n",
              "</div>"
            ],
            "text/plain": [
              "         target  ... total_lines\n",
              "0     OBJECTIVE  ...          11\n",
              "1       METHODS  ...          11\n",
              "2       METHODS  ...          11\n",
              "3       METHODS  ...          11\n",
              "4       METHODS  ...          11\n",
              "5       METHODS  ...          11\n",
              "6       RESULTS  ...          11\n",
              "7       RESULTS  ...          11\n",
              "8       RESULTS  ...          11\n",
              "9       RESULTS  ...          11\n",
              "10      RESULTS  ...          11\n",
              "11  CONCLUSIONS  ...          11\n",
              "12   BACKGROUND  ...          10\n",
              "13   BACKGROUND  ...          10\n",
              "\n",
              "[14 rows x 4 columns]"
            ]
          },
          "metadata": {},
          "execution_count": 11
        }
      ]
    },
    {
      "cell_type": "code",
      "metadata": {
        "colab": {
          "base_uri": "https://localhost:8080/"
        },
        "id": "8XQKZbJaqTxP",
        "outputId": "2df414bb-8a92-4cce-e66e-a28eab685f83"
      },
      "source": [
        "# Distribution of labels in training data\n",
        "train_df.target.value_counts()"
      ],
      "execution_count": null,
      "outputs": [
        {
          "output_type": "execute_result",
          "data": {
            "text/plain": [
              "METHODS        59353\n",
              "RESULTS        57953\n",
              "CONCLUSIONS    27168\n",
              "BACKGROUND     21727\n",
              "OBJECTIVE      13839\n",
              "Name: target, dtype: int64"
            ]
          },
          "metadata": {},
          "execution_count": 12
        }
      ]
    },
    {
      "cell_type": "code",
      "metadata": {
        "colab": {
          "base_uri": "https://localhost:8080/"
        },
        "id": "RrcziS_3qrMI",
        "outputId": "94709a46-b7d8-430e-b3dc-ae9eb56157d0"
      },
      "source": [
        "# Check the distribution of our abstract lengths\n",
        "train_df.total_lines.plot.hist()"
      ],
      "execution_count": null,
      "outputs": [
        {
          "output_type": "execute_result",
          "data": {
            "text/plain": [
              "<matplotlib.axes._subplots.AxesSubplot at 0x7f12fc626d10>"
            ]
          },
          "metadata": {},
          "execution_count": 13
        },
        {
          "output_type": "display_data",
          "data": {
            "image/png": "[encoded data removed]",
            "text/plain": [
              "<Figure size 432x288 with 1 Axes>"
            ]
          },
          "metadata": {
            "needs_background": "light"
          }
        }
      ]
    },
    {
      "cell_type": "markdown",
      "metadata": {
        "id": "L09oReGSrblT"
      },
      "source": [
        "Okay, looks like most of the abstracts are around 7 to 15 sentences in length.\n",
        "\n",
        "It's good to check these things out to make sure when we do train a model or test it on unseen samples, our results aren't outlandish."
      ]
    },
    {
      "cell_type": "markdown",
      "metadata": {
        "id": "KfIu2XIBreQO"
      },
      "source": [
        "### Get lists of sentences"
      ]
    },
    {
      "cell_type": "markdown",
      "metadata": {
        "id": "crWAsbWns8Z1"
      },
      "source": [
        "When we build our deep learning model, one of its main inputs will be a list of strings (the lines of an abstract)."
      ]
    },
    {
      "cell_type": "code",
      "metadata": {
        "colab": {
          "base_uri": "https://localhost:8080/"
        },
        "id": "2C5jipjvrEBd",
        "outputId": "56fa0a51-25c5-4bf5-9739-26408662b0c6"
      },
      "source": [
        "# Convert abstract text lines into lists \n",
        "train_sentences = train_df[\"text\"].tolist()\n",
        "val_sentences = val_df[\"text\"].tolist()\n",
        "test_sentences = test_df[\"text\"].tolist()\n",
        "len(train_sentences), len(val_sentences), len(test_sentences)"
      ],
      "execution_count": null,
      "outputs": [
        {
          "output_type": "execute_result",
          "data": {
            "text/plain": [
              "(180040, 30212, 30135)"
            ]
          },
          "metadata": {},
          "execution_count": 14
        }
      ]
    },
    {
      "cell_type": "code",
      "metadata": {
        "colab": {
          "base_uri": "https://localhost:8080/"
        },
        "id": "A96r-Nims_4K",
        "outputId": "e4fd7be5-f3bb-4c95-ac71-1f1dfaed0211"
      },
      "source": [
        "# View first 10 lines of training sentences\n",
        "train_sentences[:10]"
      ],
      "execution_count": null,
      "outputs": [
        {
          "output_type": "execute_result",
          "data": {
            "text/plain": [
              "['to investigate the efficacy of @ weeks of daily low-dose oral prednisolone in improving pain , mobility , and systemic low-grade inflammation in the short term and whether the effect would be sustained at @ weeks in older adults with moderate to severe knee osteoarthritis ( oa ) .',\n",
              " 'a total of @ patients with primary knee oa were randomized @:@ ; @ received @ mg/day of prednisolone and @ received placebo for @ weeks .',\n",
              " 'outcome measures included pain reduction and improvement in function scores and systemic inflammation markers .',\n",
              " 'pain was assessed using the visual analog pain scale ( @-@ mm ) .',\n",
              " 'secondary outcome measures included the western ontario and mcmaster universities osteoarthritis index scores , patient global assessment ( pga ) of the severity of knee oa , and @-min walk distance ( @mwd ) .',\n",
              " 'serum levels of interleukin @ ( il-@ ) , il-@ , tumor necrosis factor ( tnf ) - , and high-sensitivity c-reactive protein ( hscrp ) were measured .',\n",
              " 'there was a clinically relevant reduction in the intervention group compared to the placebo group for knee pain , physical function , pga , and @mwd at @ weeks .',\n",
              " 'the mean difference between treatment arms ( @ % ci ) was @ ( @-@ @ ) , p < @ ; @ ( @-@ @ ) , p < @ ; @ ( @-@ @ ) , p < @ ; and @ ( @-@ @ ) , p < @ , respectively .',\n",
              " 'further , there was a clinically relevant reduction in the serum levels of il-@ , il-@ , tnf - , and hscrp at @ weeks in the intervention group when compared to the placebo group .',\n",
              " 'these differences remained significant at @ weeks .']"
            ]
          },
          "metadata": {},
          "execution_count": 15
        }
      ]
    },
    {
      "cell_type": "markdown",
      "metadata": {
        "id": "d3Fh1P5kyRXb"
      },
      "source": [
        "## Make numeric labels"
      ]
    },
    {
      "cell_type": "markdown",
      "metadata": {
        "id": "mSIewA0fyiUr"
      },
      "source": [
        "We could get away with just making label encoded labels, however, TensorFlow's CategoricalCrossentropy loss function likes to have one hot encoded labels (this will enable us to use label smoothing later on)."
      ]
    },
    {
      "cell_type": "code",
      "metadata": {
        "colab": {
          "base_uri": "https://localhost:8080/"
        },
        "id": "Cp614XuytBxJ",
        "outputId": "468afb39-7c44-4925-f57e-46bb002e1237"
      },
      "source": [
        "# One hot encode labels\n",
        "from sklearn.preprocessing import OneHotEncoder\n",
        "one_hot_encoder = OneHotEncoder(sparse=False)\n",
        "train_labels_one_hot = one_hot_encoder.fit_transform(train_df['target'].to_numpy().reshape(-1,1))\n",
        "val_labels_one_hot = one_hot_encoder.fit_transform(val_df['target'].to_numpy().reshape(-1,1))\n",
        "test_labels_one_hot = one_hot_encoder.fit_transform(test_df['target'].to_numpy().reshape(-1,1))\n",
        "\n",
        "train_labels_one_hot"
      ],
      "execution_count": null,
      "outputs": [
        {
          "output_type": "execute_result",
          "data": {
            "text/plain": [
              "array([[0., 0., 0., 1., 0.],\n",
              "       [0., 0., 1., 0., 0.],\n",
              "       [0., 0., 1., 0., 0.],\n",
              "       ...,\n",
              "       [0., 0., 0., 0., 1.],\n",
              "       [0., 1., 0., 0., 0.],\n",
              "       [0., 1., 0., 0., 0.]])"
            ]
          },
          "metadata": {},
          "execution_count": 16
        }
      ]
    },
    {
      "cell_type": "markdown",
      "metadata": {
        "id": "claQ9LVf0h2d"
      },
      "source": [
        "Label encode labels"
      ]
    },
    {
      "cell_type": "code",
      "metadata": {
        "colab": {
          "base_uri": "https://localhost:8080/"
        },
        "id": "zmuOe0mvy6kv",
        "outputId": "dee85543-c2e7-4ce5-df20-0dcdb0714bc3"
      },
      "source": [
        "# Extract labels (\"target\" columns) and encode them into integers \n",
        "from sklearn.preprocessing import LabelEncoder\n",
        "label_encoder = LabelEncoder()\n",
        "train_labels_encoded = label_encoder.fit_transform(train_df[\"target\"].to_numpy())\n",
        "val_labels_encoded = label_encoder.fit_transform(val_df[\"target\"].to_numpy())\n",
        "test_labels_encoded = label_encoder.fit_transform(test_df[\"target\"].to_numpy())\n",
        "\n",
        "train_labels_encoded"
      ],
      "execution_count": null,
      "outputs": [
        {
          "output_type": "execute_result",
          "data": {
            "text/plain": [
              "array([3, 2, 2, ..., 4, 1, 1])"
            ]
          },
          "metadata": {},
          "execution_count": 17
        }
      ]
    },
    {
      "cell_type": "code",
      "metadata": {
        "colab": {
          "base_uri": "https://localhost:8080/"
        },
        "id": "el8lgrpd1ZSk",
        "outputId": "b7700305-06f0-40df-bfc8-7d2ef6167896"
      },
      "source": [
        "# Get class names and number of classes from LabelEncoder instance \n",
        "class_names = label_encoder.classes_\n",
        "num_classes = len(class_names)\n",
        "num_classes, class_names"
      ],
      "execution_count": null,
      "outputs": [
        {
          "output_type": "execute_result",
          "data": {
            "text/plain": [
              "(5, array(['BACKGROUND', 'CONCLUSIONS', 'METHODS', 'OBJECTIVE', 'RESULTS'],\n",
              "       dtype=object))"
            ]
          },
          "metadata": {},
          "execution_count": 18
        }
      ]
    },
    {
      "cell_type": "markdown",
      "metadata": {
        "id": "vkx2N5uC2fnf"
      },
      "source": [
        "## Model 0: Getting a baseline"
      ]
    },
    {
      "cell_type": "markdown",
      "metadata": {
        "id": "9SSVOMM42l24"
      },
      "source": [
        "We'll start by creating a simple baseline model to obtain a score we'll try to beat by building more and more complex models as we move towards replicating the sequence model outlined in Neural networks for joint sentence classification in medical paper abstracts.\n",
        "\n",
        "Our first model we'll be a TF-IDF Multinomial Naive Bayes as recommended by Scikit-Learn's machine learning map.\n",
        "\n",
        "To build it, we'll create a Scikit-Learn `Pipeline` which uses the `TfidfVectorizer` class to convert our abstract sentences to numbers using the TF-IDF (term frequency-inverse document frequecy) algorithm and then learns to classify our sentences using the `MultinomialNB` aglorithm."
      ]
    },
    {
      "cell_type": "code",
      "metadata": {
        "colab": {
          "base_uri": "https://localhost:8080/"
        },
        "id": "-dCxQaaf15b0",
        "outputId": "492d3a7f-2967-4120-adce-c11ab55b7bac"
      },
      "source": [
        "from sklearn.feature_extraction.text import TfidfVectorizer\n",
        "from sklearn.naive_bayes import MultinomialNB\n",
        "from sklearn.pipeline import Pipeline\n",
        "\n",
        "# Create a pipeline\n",
        "model_0 = Pipeline([\n",
        "  (\"tf-idf\", TfidfVectorizer()),\n",
        "  (\"clf\", MultinomialNB())                    \n",
        "])\n",
        "\n",
        "# Fit the pipeline to the training data\n",
        "model_0.fit(X=train_sentences,\n",
        "            y=train_labels_encoded)"
      ],
      "execution_count": null,
      "outputs": [
        {
          "output_type": "execute_result",
          "data": {
            "text/plain": [
              "Pipeline(memory=None,\n",
              "         steps=[('tf-idf',\n",
              "                 TfidfVectorizer(analyzer='word', binary=False,\n",
              "                                 decode_error='strict',\n",
              "                                 dtype=<class 'numpy.float64'>,\n",
              "                                 encoding='utf-8', input='content',\n",
              "                                 lowercase=True, max_df=1.0, max_features=None,\n",
              "                                 min_df=1, ngram_range=(1, 1), norm='l2',\n",
              "                                 preprocessor=None, smooth_idf=True,\n",
              "                                 stop_words=None, strip_accents=None,\n",
              "                                 sublinear_tf=False,\n",
              "                                 token_pattern='(?u)\\\\b\\\\w\\\\w+\\\\b',\n",
              "                                 tokenizer=None, use_idf=True,\n",
              "                                 vocabulary=None)),\n",
              "                ('clf',\n",
              "                 MultinomialNB(alpha=1.0, class_prior=None, fit_prior=True))],\n",
              "         verbose=False)"
            ]
          },
          "metadata": {
            "tags": []
          },
          "execution_count": 19
        }
      ]
    },
    {
      "cell_type": "code",
      "metadata": {
        "colab": {
          "base_uri": "https://localhost:8080/"
        },
        "id": "NrB2TFo59z6H",
        "outputId": "fe594740-82a1-45d8-f284-9425e9f0c01b"
      },
      "source": [
        "# Evaluate baseline on validation dataset\n",
        "model_0.score(X=val_sentences,\n",
        "              y=val_labels_encoded)"
      ],
      "execution_count": null,
      "outputs": [
        {
          "output_type": "execute_result",
          "data": {
            "text/plain": [
              "0.7218323844829869"
            ]
          },
          "metadata": {
            "tags": []
          },
          "execution_count": 20
        }
      ]
    },
    {
      "cell_type": "code",
      "metadata": {
        "colab": {
          "base_uri": "https://localhost:8080/"
        },
        "id": "qumO3NGi-B43",
        "outputId": "d8ee9260-e262-4974-e7a5-a156e28df367"
      },
      "source": [
        "# Make predictions\n",
        "baseline_pred = model_0.predict(val_sentences)\n",
        "baseline_pred"
      ],
      "execution_count": null,
      "outputs": [
        {
          "output_type": "execute_result",
          "data": {
            "text/plain": [
              "array([4, 1, 3, ..., 4, 4, 1])"
            ]
          },
          "metadata": {
            "tags": []
          },
          "execution_count": 21
        }
      ]
    },
    {
      "cell_type": "code",
      "metadata": {
        "id": "JUZfbcVZ-QRR"
      },
      "source": [
        "# Create calculate_results helper function\n",
        "from sklearn.metrics import accuracy_score, precision_recall_fscore_support\n",
        "\n",
        "def calculate_results(y_true, y_pred):\n",
        "  \"\"\"\n",
        "  Calculates model accuracy, precision, recall and f1 score of a binary classification model.\n",
        "\n",
        "  Args:\n",
        "      y_true: true labels in the form of a 1D array\n",
        "      y_pred: predicted labels in the form of a 1D array\n",
        "\n",
        "  Returns a dictionary of accuracy, precision, recall, f1-score.\n",
        "  \"\"\"\n",
        "  # Calculate model accuracy\n",
        "  model_accuracy = accuracy_score(y_true, y_pred) * 100\n",
        "  # Calculate model precision, recall and f1 score using \"weighted average\n",
        "  model_precision, model_recall, model_f1, _ = precision_recall_fscore_support(y_true, y_pred, average=\"weighted\")\n",
        "  model_results = {\"accuracy\": model_accuracy,\n",
        "                  \"precision\": model_precision,\n",
        "                  \"recall\": model_recall,\n",
        "                  \"f1\": model_f1}\n",
        "  return model_results"
      ],
      "execution_count": null,
      "outputs": []
    },
    {
      "cell_type": "code",
      "metadata": {
        "colab": {
          "base_uri": "https://localhost:8080/"
        },
        "id": "_9lWSZiL-hUy",
        "outputId": "f424f690-c736-43fd-f515-6f1d019e04cd"
      },
      "source": [
        "# Calculate baseline results\n",
        "baseline_results = calculate_results(y_true=val_labels_encoded,\n",
        "                                     y_pred=baseline_pred)\n",
        "baseline_results"
      ],
      "execution_count": null,
      "outputs": [
        {
          "output_type": "execute_result",
          "data": {
            "text/plain": [
              "{'accuracy': 72.1832384482987,\n",
              " 'f1': 0.6989250353450294,\n",
              " 'precision': 0.7186466952323352,\n",
              " 'recall': 0.7218323844829869}"
            ]
          },
          "metadata": {
            "tags": []
          },
          "execution_count": 23
        }
      ]
    },
    {
      "cell_type": "markdown",
      "metadata": {
        "id": "3HJJ1LFypLIV"
      },
      "source": [
        "## Preparing our data for deep sequence models"
      ]
    },
    {
      "cell_type": "code",
      "metadata": {
        "id": "XlysE8b8_b4J"
      },
      "source": [
        "import numpy as np\n",
        "import tensorflow as tf\n",
        "from tensorflow.keras import layers"
      ],
      "execution_count": null,
      "outputs": []
    },
    {
      "cell_type": "code",
      "metadata": {
        "colab": {
          "base_uri": "https://localhost:8080/"
        },
        "id": "Kfql1zl9rLU5",
        "outputId": "677c929f-a6e0-4e30-dd5f-7261b6d5bec7"
      },
      "source": [
        "# How long is each sentence on average?\n",
        "sent_lens = [len(sentence.split()) for sentence in train_sentences]\n",
        "avg_sent_len = np.mean(sent_lens)\n",
        "avg_sent_len"
      ],
      "execution_count": null,
      "outputs": [
        {
          "output_type": "execute_result",
          "data": {
            "text/plain": [
              "26.338269273494777"
            ]
          },
          "metadata": {},
          "execution_count": 21
        }
      ]
    },
    {
      "cell_type": "code",
      "metadata": {
        "colab": {
          "base_uri": "https://localhost:8080/"
        },
        "id": "sbVrtGdurwWU",
        "outputId": "5e948aa5-4b8e-496d-d2d7-a3f03fb085ae"
      },
      "source": [
        "# What's the distribution look like?\n",
        "import matplotlib.pyplot as plt\n",
        "plt.hist(sent_lens, bins=15)"
      ],
      "execution_count": null,
      "outputs": [
        {
          "output_type": "execute_result",
          "data": {
            "text/plain": [
              "(array([7.3163e+04, 8.1733e+04, 1.8772e+04, 4.5680e+03, 1.2400e+03,\n",
              "        3.5400e+02, 1.1600e+02, 4.5000e+01, 1.7000e+01, 1.2000e+01,\n",
              "        1.2000e+01, 3.0000e+00, 3.0000e+00, 1.0000e+00, 1.0000e+00]),\n",
              " array([  1.        ,  20.66666667,  40.33333333,  60.        ,\n",
              "         79.66666667,  99.33333333, 119.        , 138.66666667,\n",
              "        158.33333333, 178.        , 197.66666667, 217.33333333,\n",
              "        237.        , 256.66666667, 276.33333333, 296.        ]),\n",
              " <a list of 15 Patch objects>)"
            ]
          },
          "metadata": {},
          "execution_count": 22
        },
        {
          "output_type": "display_data",
          "data": {
            "image/png": "[encoded data removed]",
            "text/plain": [
              "<Figure size 432x288 with 1 Axes>"
            ]
          },
          "metadata": {
            "needs_background": "light"
          }
        }
      ]
    },
    {
      "cell_type": "code",
      "metadata": {
        "colab": {
          "base_uri": "https://localhost:8080/"
        },
        "id": "fx7t6Dcir9Kw",
        "outputId": "08dfa6f7-f5a3-498b-df78-2373ce768b87"
      },
      "source": [
        "# How long of a sentence covers 95% of the lengths?\n",
        "output_seq_len = int(np.percentile(sent_lens, 95))\n",
        "output_seq_len"
      ],
      "execution_count": null,
      "outputs": [
        {
          "output_type": "execute_result",
          "data": {
            "text/plain": [
              "55"
            ]
          },
          "metadata": {},
          "execution_count": 23
        }
      ]
    },
    {
      "cell_type": "code",
      "metadata": {
        "colab": {
          "base_uri": "https://localhost:8080/"
        },
        "id": "WfYRKWEIsjTI",
        "outputId": "f20d2fe8-d9b7-4003-fd99-98c099919457"
      },
      "source": [
        "# Maximum sentence length in the training set\n",
        "np.max(sent_lens)"
      ],
      "execution_count": null,
      "outputs": [
        {
          "output_type": "execute_result",
          "data": {
            "text/plain": [
              "296"
            ]
          },
          "metadata": {},
          "execution_count": 24
        }
      ]
    },
    {
      "cell_type": "markdown",
      "metadata": {
        "id": "kHBL6Hc1tcO1"
      },
      "source": [
        "The steps we've gone through are good practice when working with a text corpus for a NLP problem. You want to know how long your samples are and what the distribution of them is.\n",
        "\n",
        "### Create text vectorizer\n"
      ]
    },
    {
      "cell_type": "code",
      "metadata": {
        "id": "KgB8ynZHs3np"
      },
      "source": [
        "# How many words are in our vocabulary? (taken from 3.2 in https://arxiv.org/pdf/1710.06071.pdf)\n",
        "max_tokens = 68000"
      ],
      "execution_count": null,
      "outputs": []
    },
    {
      "cell_type": "markdown",
      "metadata": {
        "id": "BCVIMHPVvZXr"
      },
      "source": [
        "And since discovered a sentence length of 55 covers 95% of the training sentences, we'll use that as our `output_sequence_length` parameter."
      ]
    },
    {
      "cell_type": "code",
      "metadata": {
        "id": "jgXUxOupvRT7"
      },
      "source": [
        "# Create text vectorizer\n",
        "from tensorflow.keras.layers.experimental.preprocessing import TextVectorization\n",
        "\n",
        "text_vectorizer = TextVectorization(max_tokens=max_tokens, # number of words in vocabulary\n",
        "                                    output_sequence_length=55) # desired output length of vectorized sequences"
      ],
      "execution_count": null,
      "outputs": []
    },
    {
      "cell_type": "code",
      "metadata": {
        "id": "Fqv-tj30yMaW"
      },
      "source": [
        "# Adapt text vectorizer to training sentences\n",
        "text_vectorizer.adapt(train_sentences)"
      ],
      "execution_count": null,
      "outputs": []
    },
    {
      "cell_type": "code",
      "metadata": {
        "colab": {
          "base_uri": "https://localhost:8080/"
        },
        "id": "2ZWWp8-mz4kZ",
        "outputId": "6cd01831-bee2-4d59-a13e-d9df3186ad64"
      },
      "source": [
        "# Test out text vectorizer\n",
        "import random\n",
        "target_sentence = random.choice(train_sentences)\n",
        "print(f\"Text:\\n{target_sentence}\")\n",
        "print(f\"Length of sentence: {len(target_sentence.split())}\")\n",
        "print(f\"Vectorized sentence:\\n{text_vectorizer([target_sentence])}\")"
      ],
      "execution_count": null,
      "outputs": [
        {
          "output_type": "stream",
          "text": [
            "Text:\n",
            "we tested a novel kit designed to assist in saliva sampling at home for later determination of the dlmo .\n",
            "Length of sentence: 20\n",
            "Vectorized sentence:\n",
            "[[   43   567     8   741  5131   560     6  3541     5  3465  2382    15\n",
            "    548    11   869  3732     4     2 39558     0     0     0     0     0\n",
            "      0     0     0     0     0     0     0     0     0     0     0     0\n",
            "      0     0     0     0     0     0     0     0     0     0     0     0\n",
            "      0     0     0     0     0     0     0]]\n"
          ],
          "name": "stdout"
        }
      ]
    },
    {
      "cell_type": "code",
      "metadata": {
        "colab": {
          "base_uri": "https://localhost:8080/"
        },
        "id": "fGmlmSNc0yQn",
        "outputId": "0c863e13-c370-4096-d88f-b4cdc0a3e5ab"
      },
      "source": [
        "# How many words in our training vocabulary?\n",
        "rct_20k_text_vocab = text_vectorizer.get_vocabulary()\n",
        "print(f\"Number of words in vocabulary: {len(rct_20k_text_vocab)}\")\n",
        "print(f\"Most common words in vocabulary: {rct_20k_text_vocab[:10]}\")\n",
        "print(f\"Least common words in vocabulary: {rct_20k_text_vocab[-10:]}\")"
      ],
      "execution_count": null,
      "outputs": [
        {
          "output_type": "stream",
          "text": [
            "Number of words in vocabulary: 64841\n",
            "Most common words in vocabulary: ['', '[UNK]', 'the', 'and', 'of', 'in', 'to', 'with', 'a', 'were']\n",
            "Least common words in vocabulary: ['aarm', 'aaqol', 'aaq', 'aanhui', 'aana', 'aainduced', 'aaigroup', 'aachener', 'aachen', 'aaacp']\n"
          ],
          "name": "stdout"
        }
      ]
    },
    {
      "cell_type": "code",
      "metadata": {
        "colab": {
          "base_uri": "https://localhost:8080/"
        },
        "id": "yhcADmLP3stF",
        "outputId": "661d5f5d-b913-42da-b876-c328024eea8e"
      },
      "source": [
        "# Get the config of our text vectorize\n",
        "text_vectorizer.get_config()"
      ],
      "execution_count": null,
      "outputs": [
        {
          "output_type": "execute_result",
          "data": {
            "text/plain": [
              "{'batch_input_shape': (None,),\n",
              " 'dtype': 'string',\n",
              " 'max_tokens': 68000,\n",
              " 'name': 'text_vectorization',\n",
              " 'ngrams': None,\n",
              " 'output_mode': 'int',\n",
              " 'output_sequence_length': 55,\n",
              " 'pad_to_max_tokens': False,\n",
              " 'split': 'whitespace',\n",
              " 'standardize': 'lower_and_strip_punctuation',\n",
              " 'trainable': True}"
            ]
          },
          "metadata": {},
          "execution_count": 30
        }
      ]
    },
    {
      "cell_type": "markdown",
      "metadata": {
        "id": "CLLbttb90pfX"
      },
      "source": [
        "### Create custom text embedding"
      ]
    },
    {
      "cell_type": "code",
      "metadata": {
        "colab": {
          "base_uri": "https://localhost:8080/"
        },
        "id": "2PiIBgtw3_Hx",
        "outputId": "e0c0c31e-f171-4760-eb0a-ce8094f39877"
      },
      "source": [
        "# Create token embedding layer\n",
        "token_embed = layers.Embedding(input_dim=len(rct_20k_text_vocab), # length of vocabulary\n",
        "                               output_dim=128, # Note: different embedding sizes result in drastically different numbers of parameters to train\n",
        "                               mask_zero=True, # Use masking to handle variable sequence lengths (save space)\n",
        "                               name=\"token_embedding\")\n",
        "\n",
        "# Show example embedding\n",
        "print(f\"Sentence before vectorization:\\n{target_sentence}\")\n",
        "vectorized_sentence = text_vectorizer([target_sentence])\n",
        "print(f\"Sentence after vectorization (before embedding):\\n{vectorized_sentence}\")\n",
        "embed_sentence = token_embed(vectorized_sentence)\n",
        "print(f\"Sentence after embedding:\\n{embed_sentence}\\n\")\n",
        "print(f\"Shape of embedded sentence: {embed_sentence.shape}\")"
      ],
      "execution_count": null,
      "outputs": [
        {
          "output_type": "stream",
          "text": [
            "Sentence before vectorization:\n",
            "we tested a novel kit designed to assist in saliva sampling at home for later determination of the dlmo .\n",
            "Sentence after vectorization (before embedding):\n",
            "[[   43   567     8   741  5131   560     6  3541     5  3465  2382    15\n",
            "    548    11   869  3732     4     2 39558     0     0     0     0     0\n",
            "      0     0     0     0     0     0     0     0     0     0     0     0\n",
            "      0     0     0     0     0     0     0     0     0     0     0     0\n",
            "      0     0     0     0     0     0     0]]\n",
            "Sentence after embedding:\n",
            "[[[-0.03263657 -0.02617579  0.04006858 ...  0.03933723  0.00029094\n",
            "   -0.04691136]\n",
            "  [ 0.02771293 -0.0478775  -0.03559381 ... -0.04760915  0.00863807\n",
            "    0.01113135]\n",
            "  [-0.04039418  0.03117254  0.03068197 ...  0.03456603 -0.01474373\n",
            "   -0.01861597]\n",
            "  ...\n",
            "  [ 0.02451037 -0.02521099 -0.00695348 ...  0.03912202  0.03144265\n",
            "   -0.02093941]\n",
            "  [ 0.02451037 -0.02521099 -0.00695348 ...  0.03912202  0.03144265\n",
            "   -0.02093941]\n",
            "  [ 0.02451037 -0.02521099 -0.00695348 ...  0.03912202  0.03144265\n",
            "   -0.02093941]]]\n",
            "\n",
            "Shape of embedded sentence: (1, 55, 128)\n"
          ],
          "name": "stdout"
        }
      ]
    },
    {
      "cell_type": "markdown",
      "metadata": {
        "id": "8QVvaiPL6E-o"
      },
      "source": [
        "## Create datasets"
      ]
    },
    {
      "cell_type": "code",
      "metadata": {
        "colab": {
          "base_uri": "https://localhost:8080/"
        },
        "id": "bFxqox5F5SZG",
        "outputId": "42ead229-a797-47b7-fe11-7df2641a3395"
      },
      "source": [
        "# Turn our data into TensorFlow Datasets\n",
        "train_dataset = tf.data.Dataset.from_tensor_slices((train_sentences, train_labels_one_hot))\n",
        "valid_dataset = tf.data.Dataset.from_tensor_slices((val_sentences, val_labels_one_hot))\n",
        "test_dataset = tf.data.Dataset.from_tensor_slices((test_sentences, test_labels_one_hot))\n",
        "\n",
        "train_dataset"
      ],
      "execution_count": null,
      "outputs": [
        {
          "output_type": "execute_result",
          "data": {
            "text/plain": [
              "<TensorSliceDataset shapes: ((), (5,)), types: (tf.string, tf.float64)>"
            ]
          },
          "metadata": {},
          "execution_count": 32
        }
      ]
    },
    {
      "cell_type": "code",
      "metadata": {
        "colab": {
          "base_uri": "https://localhost:8080/"
        },
        "id": "2zgOH8tn5KPp",
        "outputId": "904b8cf2-88e1-4d90-8c00-9dc17886dc6b"
      },
      "source": [
        "# Take the TensorSliceDataset's and turn them into prefetched batches\n",
        "train_dataset = train_dataset.batch(32).prefetch(tf.data.AUTOTUNE)\n",
        "valid_dataset = valid_dataset.batch(32).prefetch(tf.data.AUTOTUNE)\n",
        "test_dataset = test_dataset.batch(32).prefetch(tf.data.AUTOTUNE)\n",
        "\n",
        "train_dataset"
      ],
      "execution_count": null,
      "outputs": [
        {
          "output_type": "execute_result",
          "data": {
            "text/plain": [
              "<PrefetchDataset shapes: ((None,), (None, 5)), types: (tf.string, tf.float64)>"
            ]
          },
          "metadata": {},
          "execution_count": 33
        }
      ]
    },
    {
      "cell_type": "markdown",
      "metadata": {
        "id": "vAxGCGWw57h_"
      },
      "source": [
        "## Model 1: Conv1D with token embeddings"
      ]
    },
    {
      "cell_type": "code",
      "metadata": {
        "id": "FOtobM605zW4"
      },
      "source": [
        "# Create 1D convolutional model to process sequences\n",
        "inputs = layers.Input(shape=(1,), dtype=tf.string)\n",
        "text_vectors = text_vectorizer(inputs)\n",
        "token_embeddings = token_embed(text_vectors)\n",
        "x = layers.Conv1D(64, kernel_size=5, padding=\"same\", activation=\"relu\")(token_embeddings)\n",
        "x = layers.GlobalAveragePooling1D()(x) # condense the output of our feature vector\n",
        "outputs = layers.Dense(num_classes, activation=\"softmax\")(x)\n",
        "model_1 = tf.keras.Model(inputs, outputs)\n",
        "\n",
        "# Compile\n",
        "model_1.compile(loss=\"categorical_crossentropy\",\n",
        "                optimizer=tf.keras.optimizers.Adam(),\n",
        "                metrics=[\"accuracy\"])"
      ],
      "execution_count": null,
      "outputs": []
    },
    {
      "cell_type": "code",
      "metadata": {
        "colab": {
          "base_uri": "https://localhost:8080/"
        },
        "id": "ZDC7WWWh89uV",
        "outputId": "0bd505cf-274e-43a7-9eca-30d851132e11"
      },
      "source": [
        "model_1.summary()"
      ],
      "execution_count": null,
      "outputs": [
        {
          "output_type": "stream",
          "text": [
            "Model: \"model\"\n",
            "_________________________________________________________________\n",
            "Layer (type)                 Output Shape              Param #   \n",
            "=================================================================\n",
            "input_1 (InputLayer)         [(None, 1)]               0         \n",
            "_________________________________________________________________\n",
            "text_vectorization (TextVect (None, 55)                0         \n",
            "_________________________________________________________________\n",
            "token_embedding (Embedding)  (None, 55, 128)           8299648   \n",
            "_________________________________________________________________\n",
            "conv1d (Conv1D)              (None, 55, 64)            41024     \n",
            "_________________________________________________________________\n",
            "global_average_pooling1d (Gl (None, 64)                0         \n",
            "_________________________________________________________________\n",
            "dense (Dense)                (None, 5)                 325       \n",
            "=================================================================\n",
            "Total params: 8,340,997\n",
            "Trainable params: 8,340,997\n",
            "Non-trainable params: 0\n",
            "_________________________________________________________________\n"
          ],
          "name": "stdout"
        }
      ]
    },
    {
      "cell_type": "markdown",
      "metadata": {
        "id": "AmtmqfG892nY"
      },
      "source": [
        "Since our training data contains nearly 200,000 sentences, fitting a deep model may take a while even with a GPU. So to keep our experiments swift, we're going to run them on a subset of the training dataset.\n",
        "\n",
        "More specifically, we'll only use the first 10% of batches (about 18,000 samples) of the training set to train on and the first 10% of batches from the validation set to validate on."
      ]
    },
    {
      "cell_type": "code",
      "metadata": {
        "colab": {
          "base_uri": "https://localhost:8080/"
        },
        "id": "_uZotM159RYX",
        "outputId": "b5a8437d-099d-4d87-d567-214e961803e1"
      },
      "source": [
        "# Fit the model\n",
        "model_1_history = model_1.fit(train_dataset,\n",
        "                              steps_per_epoch=int(0.1 * len(train_dataset)), # only fit on 10% of batches for faster training time\n",
        "                              epochs=3,\n",
        "                              validation_data=valid_dataset,\n",
        "                              validation_steps=int(0.1 * len(valid_dataset))) # only validate on 10% of batches"
      ],
      "execution_count": null,
      "outputs": [
        {
          "output_type": "stream",
          "text": [
            "Epoch 1/3\n",
            "562/562 [==============================] - 87s 103ms/step - loss: 0.9211 - accuracy: 0.6320 - val_loss: 0.6912 - val_accuracy: 0.7374\n",
            "Epoch 2/3\n",
            "562/562 [==============================] - 58s 103ms/step - loss: 0.6545 - accuracy: 0.7584 - val_loss: 0.6356 - val_accuracy: 0.7666\n",
            "Epoch 3/3\n",
            "562/562 [==============================] - 58s 103ms/step - loss: 0.6134 - accuracy: 0.7755 - val_loss: 0.5910 - val_accuracy: 0.7836\n"
          ],
          "name": "stdout"
        }
      ]
    },
    {
      "cell_type": "code",
      "metadata": {
        "colab": {
          "base_uri": "https://localhost:8080/"
        },
        "id": "hfk7VVBj_Pmz",
        "outputId": "1b2fb3ea-541d-4c69-8383-d9e8dd45f55f"
      },
      "source": [
        "# Evaluate on whole validation dataset (we only validated on 10% of batches during training\n",
        "model_1.evaluate(valid_dataset)"
      ],
      "execution_count": null,
      "outputs": [
        {
          "output_type": "stream",
          "text": [
            "945/945 [==============================] - 5s 5ms/step - loss: 0.5913 - accuracy: 0.7886\n"
          ],
          "name": "stdout"
        },
        {
          "output_type": "execute_result",
          "data": {
            "text/plain": [
              "[0.5912830829620361, 0.788627028465271]"
            ]
          },
          "metadata": {
            "tags": []
          },
          "execution_count": 41
        }
      ]
    },
    {
      "cell_type": "code",
      "metadata": {
        "colab": {
          "base_uri": "https://localhost:8080/"
        },
        "id": "xbVuAkGX_mK-",
        "outputId": "abc13fec-de9d-495c-e966-d75ff0854ff5"
      },
      "source": [
        "# Make predictions (our model outputs prediction probabilities for each class)\n",
        "model_1_pred_probs = model_1.predict(valid_dataset)\n",
        "model_1_pred_probs"
      ],
      "execution_count": null,
      "outputs": [
        {
          "output_type": "execute_result",
          "data": {
            "text/plain": [
              "array([[4.64681923e-01, 1.63896918e-01, 5.16435020e-02, 2.90990174e-01,\n",
              "        2.87874229e-02],\n",
              "       [4.52072680e-01, 2.85295278e-01, 1.23085305e-02, 2.40359068e-01,\n",
              "        9.96452942e-03],\n",
              "       [1.69215932e-01, 5.84285613e-03, 1.62451621e-03, 8.23271096e-01,\n",
              "        4.55853478e-05],\n",
              "       ...,\n",
              "       [6.55053054e-06, 7.23823789e-04, 9.47733643e-04, 6.48647620e-06,\n",
              "        9.98315454e-01],\n",
              "       [4.80497852e-02, 4.96589720e-01, 7.37218559e-02, 6.34450689e-02,\n",
              "        3.18193525e-01],\n",
              "       [2.11477980e-01, 6.53793931e-01, 5.40847145e-02, 4.91198413e-02,\n",
              "        3.15235816e-02]], dtype=float32)"
            ]
          },
          "metadata": {
            "tags": []
          },
          "execution_count": 42
        }
      ]
    },
    {
      "cell_type": "code",
      "metadata": {
        "colab": {
          "base_uri": "https://localhost:8080/"
        },
        "id": "a4FPG0kAAFma",
        "outputId": "2102de2b-2f92-4660-ce95-e2ada78b39ed"
      },
      "source": [
        "# Convert pred probs to classes\n",
        "model_1_preds = tf.argmax(model_1_pred_probs, axis=1)\n",
        "model_1_preds"
      ],
      "execution_count": null,
      "outputs": [
        {
          "output_type": "execute_result",
          "data": {
            "text/plain": [
              "<tf.Tensor: shape=(30212,), dtype=int64, numpy=array([0, 0, 3, ..., 4, 1, 1])>"
            ]
          },
          "metadata": {
            "tags": []
          },
          "execution_count": 43
        }
      ]
    },
    {
      "cell_type": "code",
      "metadata": {
        "colab": {
          "base_uri": "https://localhost:8080/"
        },
        "id": "rlT3QAvlAZY9",
        "outputId": "19ba25d7-7595-45a1-fe11-043015117e9f"
      },
      "source": [
        "# Calculate model_1 results\n",
        "model_1_results = calculate_results(y_true=val_labels_encoded,\n",
        "                                    y_pred=model_1_preds)\n",
        "model_1_results "
      ],
      "execution_count": null,
      "outputs": [
        {
          "output_type": "execute_result",
          "data": {
            "text/plain": [
              "{'accuracy': 78.86270356149873,\n",
              " 'f1': 0.7862426216866586,\n",
              " 'precision': 0.7850417743966223,\n",
              " 'recall': 0.7886270356149874}"
            ]
          },
          "metadata": {
            "tags": []
          },
          "execution_count": 44
        }
      ]
    },
    {
      "cell_type": "markdown",
      "metadata": {
        "id": "xtHqxB_WBGBl"
      },
      "source": [
        "## Model 2: Feature extraction with pretrained token embeddings"
      ]
    },
    {
      "cell_type": "markdown",
      "metadata": {
        "id": "n3pJfcVeBRbz"
      },
      "source": [
        "Training our own embeddings took a little while to run, slowing our experiments down.\n",
        "\n",
        "Since we're moving towards replicating the model architecture in [Neural Networks for Joint Sentence Classification in Medical Paper Abstracts](https://arxiv.org/pdf/1612.05251.pdf), it mentions they used a [pretrained GloVe embedding](https://nlp.stanford.edu/projects/glove/) as a way to initialise their token embeddings.\n",
        "\n",
        "To emulate this, let's see what results we can get with the [pretrained Universal Sentence Encoder embeddings from TensorFlow Hub](https://tfhub.dev/google/universal-sentence-encoder/4).\n",
        "\n",
        "We'll notice the lack of tokenization layer we've used in a previous model. This is because the Universal Sentence Encoder (USE) takes care of tokenization for us.\n",
        "\n",
        "This type of model is called transfer learning, or more specifically, **feature extraction transfer learning**. In other words, taking the patterns a model has learned elsewhere and applying it to our own problem.\n",
        "\n",
        "The feature extractor model we're building using a pretrained embedding from TensorFlow Hub.\n",
        "\n",
        "To download the pretrained USE into a layer we can use in our model, we can use the hub.KerasLayer class.\n",
        "\n",
        "We'll keep the pretrained embeddings frozen (by setting `trainable=False`) and add a trainable couple of layers on the top to tailor the model outputs to our own data."
      ]
    },
    {
      "cell_type": "code",
      "metadata": {
        "id": "qY4z9rgQA3yi"
      },
      "source": [
        "# Download pretrained TensorFlow Hub USE\n",
        "import tensorflow_hub as hub\n",
        "tf_hub_embedding_layer = hub.KerasLayer(\"https://tfhub.dev/google/universal-sentence-encoder/4\",\n",
        "                                        trainable=False,\n",
        "                                        name=\"universal_sentence_encoder\")"
      ],
      "execution_count": null,
      "outputs": []
    },
    {
      "cell_type": "code",
      "metadata": {
        "colab": {
          "base_uri": "https://localhost:8080/"
        },
        "id": "p6Te8EcUDBJo",
        "outputId": "240eb818-217f-4bf8-d02c-db820d573326"
      },
      "source": [
        "# Test out the embedding on a random sentence\n",
        "import random\n",
        "random_training_sentence = random.choice(train_sentences)\n",
        "print(f\"Random training sentence:\\n{random_training_sentence}\\n\")\n",
        "use_embedded_sentence = tf_hub_embedding_layer([random_training_sentence])\n",
        "print(f\"Sentence after embedding:\\n{use_embedded_sentence[0][:30]} (truncated output)...\\n\")\n",
        "print(f\"Length of sentence embedding:\\n{len(use_embedded_sentence[0])}\")"
      ],
      "execution_count": null,
      "outputs": [
        {
          "output_type": "stream",
          "text": [
            "Random training sentence:\n",
            "perceived facilitation barriers were lack of money , inadequate support , and the function of the intervention groups .\n",
            "\n",
            "Sentence after embedding:\n",
            "[ 0.01114345 -0.04249476  0.07008157  0.0012651   0.05823292  0.06803604\n",
            " -0.03984676 -0.03150039 -0.04814467  0.01189659  0.05168412 -0.01501627\n",
            "  0.01224182  0.00096828 -0.01756607 -0.06859259 -0.05095416  0.07761278\n",
            " -0.05287469  0.04662128  0.05585958  0.06577932 -0.01671256 -0.03629309\n",
            " -0.0439628  -0.00877021 -0.0732163  -0.06401973  0.01953175 -0.04816848] (truncated output)...\n",
            "\n",
            "Length of sentence embedding:\n",
            "512\n"
          ],
          "name": "stdout"
        }
      ]
    },
    {
      "cell_type": "markdown",
      "metadata": {
        "id": "E7fRt8uhDvng"
      },
      "source": [
        "### Building and fitting an NLP feature extraction model from TensorFlow Hub"
      ]
    },
    {
      "cell_type": "code",
      "metadata": {
        "id": "YgFnA7qKDSUq"
      },
      "source": [
        "# Define feature extractor model using TF Hub layer\n",
        "inputs = layers.Input(shape=[], dtype=tf.string)\n",
        "pretrained_embedding = tf_hub_embedding_layer(inputs) # tokenize text and create embedding\n",
        "x = layers.Dense(128, activation=\"relu\")(pretrained_embedding) # add a fully connected layer on top of the embedding\n",
        "outputs = layers.Dense(num_classes, activation=\"softmax\")(x)\n",
        "model_2 = tf.keras.Model(inputs=inputs, outputs=outputs)\n",
        "\n",
        "# Compile the model\n",
        "model_2.compile(loss=\"categorical_crossentropy\",\n",
        "                optimizer=tf.keras.optimizers.Adam(),\n",
        "                metrics=[\"accuracy\"])"
      ],
      "execution_count": null,
      "outputs": []
    },
    {
      "cell_type": "code",
      "metadata": {
        "colab": {
          "base_uri": "https://localhost:8080/"
        },
        "id": "s9yx-c91E9Jt",
        "outputId": "3784cc5c-79a0-4f03-8f05-044fd0bbf734"
      },
      "source": [
        "# Get a summary of the model\n",
        "model_2.summary()"
      ],
      "execution_count": null,
      "outputs": [
        {
          "output_type": "stream",
          "text": [
            "Model: \"model_1\"\n",
            "_________________________________________________________________\n",
            "Layer (type)                 Output Shape              Param #   \n",
            "=================================================================\n",
            "input_2 (InputLayer)         [(None,)]                 0         \n",
            "_________________________________________________________________\n",
            "universal_sentence_encoder ( (None, 512)               256797824 \n",
            "_________________________________________________________________\n",
            "dense_1 (Dense)              (None, 128)               65664     \n",
            "_________________________________________________________________\n",
            "dense_2 (Dense)              (None, 5)                 645       \n",
            "=================================================================\n",
            "Total params: 256,864,133\n",
            "Trainable params: 66,309\n",
            "Non-trainable params: 256,797,824\n",
            "_________________________________________________________________\n"
          ],
          "name": "stdout"
        }
      ]
    },
    {
      "cell_type": "code",
      "metadata": {
        "colab": {
          "base_uri": "https://localhost:8080/"
        },
        "id": "Bo5c3Fp6GBm8",
        "outputId": "5ca476e8-72bf-479a-834c-ec0f9512a779"
      },
      "source": [
        "# Fit feature extractor model for 3 epochs\n",
        "model_2_history = model_2.fit(train_dataset,\n",
        "                              steps_per_epoch=int(0.1 * len(train_dataset)),\n",
        "                              epochs=3,\n",
        "                              validation_data=valid_dataset,\n",
        "                              validation_steps=int(0.1 * len(valid_dataset)))"
      ],
      "execution_count": null,
      "outputs": [
        {
          "output_type": "stream",
          "text": [
            "Epoch 1/3\n",
            "562/562 [==============================] - 13s 19ms/step - loss: 0.9118 - accuracy: 0.6530 - val_loss: 0.7929 - val_accuracy: 0.6905\n",
            "Epoch 2/3\n",
            "562/562 [==============================] - 10s 18ms/step - loss: 0.7663 - accuracy: 0.7016 - val_loss: 0.7524 - val_accuracy: 0.7055\n",
            "Epoch 3/3\n",
            "562/562 [==============================] - 10s 18ms/step - loss: 0.7500 - accuracy: 0.7131 - val_loss: 0.7366 - val_accuracy: 0.7171\n"
          ],
          "name": "stdout"
        }
      ]
    },
    {
      "cell_type": "code",
      "metadata": {
        "colab": {
          "base_uri": "https://localhost:8080/"
        },
        "id": "txJRXWXhGwHG",
        "outputId": "9cf6817e-4325-4116-9fe5-a554b45206ac"
      },
      "source": [
        "# Evaluate on whole validation dataset\n",
        "model_2.evaluate(valid_dataset)"
      ],
      "execution_count": null,
      "outputs": [
        {
          "output_type": "stream",
          "text": [
            "945/945 [==============================] - 15s 16ms/step - loss: 0.7395 - accuracy: 0.7153\n"
          ],
          "name": "stdout"
        },
        {
          "output_type": "execute_result",
          "data": {
            "text/plain": [
              "[0.7394587397575378, 0.715278685092926]"
            ]
          },
          "metadata": {
            "tags": []
          },
          "execution_count": 50
        }
      ]
    },
    {
      "cell_type": "code",
      "metadata": {
        "colab": {
          "base_uri": "https://localhost:8080/"
        },
        "id": "YwNxh1u-G8cG",
        "outputId": "9066207f-55d7-44bb-a43f-6e245222bd26"
      },
      "source": [
        "# Make predictions with feature extraction model\n",
        "model_2_pred_probs = model_2.predict(valid_dataset)\n",
        "model_2_pred_probs"
      ],
      "execution_count": null,
      "outputs": [
        {
          "output_type": "execute_result",
          "data": {
            "text/plain": [
              "array([[4.4543669e-01, 3.5248405e-01, 1.7686195e-03, 1.9333018e-01,\n",
              "        6.9803982e-03],\n",
              "       [4.0523764e-01, 4.5198312e-01, 2.7251909e-03, 1.3790429e-01,\n",
              "        2.1497582e-03],\n",
              "       [2.2948164e-01, 1.6082358e-01, 1.4623503e-02, 5.5683696e-01,\n",
              "        3.8234346e-02],\n",
              "       ...,\n",
              "       [1.8198245e-03, 6.0117948e-03, 5.8271851e-02, 9.1045036e-04,\n",
              "        9.3298602e-01],\n",
              "       [4.3522408e-03, 5.1270600e-02, 2.0259455e-01, 1.4678506e-03,\n",
              "        7.4031472e-01],\n",
              "       [1.7830025e-01, 3.7462586e-01, 3.9574292e-01, 6.6813445e-03,\n",
              "        4.4649553e-02]], dtype=float32)"
            ]
          },
          "metadata": {
            "tags": []
          },
          "execution_count": 51
        }
      ]
    },
    {
      "cell_type": "code",
      "metadata": {
        "colab": {
          "base_uri": "https://localhost:8080/"
        },
        "id": "K02ZYSfHHP-p",
        "outputId": "cc79a117-09ba-46ff-a8e4-436fec4ebd30"
      },
      "source": [
        "# Convert the predictions with feature extraction model to classes\n",
        "model_2_preds = tf.argmax(model_2_pred_probs, axis=1)\n",
        "model_2_preds"
      ],
      "execution_count": null,
      "outputs": [
        {
          "output_type": "execute_result",
          "data": {
            "text/plain": [
              "<tf.Tensor: shape=(30212,), dtype=int64, numpy=array([0, 1, 3, ..., 4, 4, 2])>"
            ]
          },
          "metadata": {
            "tags": []
          },
          "execution_count": 52
        }
      ]
    },
    {
      "cell_type": "code",
      "metadata": {
        "colab": {
          "base_uri": "https://localhost:8080/"
        },
        "id": "pwkW8mfBHbyz",
        "outputId": "4f0391af-adc5-4e99-bdc1-756ad62a703b"
      },
      "source": [
        "# Calculate results from TF Hub pretrained embeddings results on validation set\n",
        "model_2_results = calculate_results(y_true=val_labels_encoded,\n",
        "                                    y_pred=model_2_preds)\n",
        "model_2_results"
      ],
      "execution_count": null,
      "outputs": [
        {
          "output_type": "execute_result",
          "data": {
            "text/plain": [
              "{'accuracy': 71.52786972064081,\n",
              " 'f1': 0.7122609615120118,\n",
              " 'precision': 0.7157054465609791,\n",
              " 'recall': 0.715278697206408}"
            ]
          },
          "metadata": {
            "tags": []
          },
          "execution_count": 53
        }
      ]
    },
    {
      "cell_type": "markdown",
      "metadata": {
        "id": "0CMsSIAeH2yS"
      },
      "source": [
        "## Model 3: Conv1D with character embeddings"
      ]
    },
    {
      "cell_type": "markdown",
      "metadata": {
        "id": "XJPfYEJtNdbU"
      },
      "source": [
        "### Creating a character-level tokenizer\n",
        "\n",
        "The Neural Networks for Joint Sentence Classification in Medical Paper Abstracts paper mentions their model uses a hybrid of token and character embeddings."
      ]
    },
    {
      "cell_type": "code",
      "metadata": {
        "colab": {
          "base_uri": "https://localhost:8080/"
        },
        "id": "4zlymYB9HzFW",
        "outputId": "c9871060-6840-411e-81d0-6bb657063114"
      },
      "source": [
        "# Make function to split sentences into characters\n",
        "def split_chars(text):\n",
        "  return \" \".join(list(text))\n",
        "\n",
        "# Test splitting non-character-level sequence into characters\n",
        "split_chars(random_training_sentence)"
      ],
      "execution_count": null,
      "outputs": [
        {
          "output_type": "execute_result",
          "data": {
            "application/vnd.google.colaboratory.intrinsic+json": {
              "type": "string"
            },
            "text/plain": [
              "'p e r c e i v e d   f a c i l i t a t i o n   b a r r i e r s   w e r e   l a c k   o f   m o n e y   ,   i n a d e q u a t e   s u p p o r t   ,   a n d   t h e   f u n c t i o n   o f   t h e   i n t e r v e n t i o n   g r o u p s   .'"
            ]
          },
          "metadata": {},
          "execution_count": 36
        }
      ]
    },
    {
      "cell_type": "code",
      "metadata": {
        "colab": {
          "base_uri": "https://localhost:8080/"
        },
        "id": "tW6BZ1bDOpSi",
        "outputId": "d8f455bb-9fb1-4fa6-fe5e-b45ee214cd5a"
      },
      "source": [
        "# Split sequence-level data splits into character-level data splits\n",
        "train_chars = [split_chars(sentence) for sentence in train_sentences]\n",
        "val_chars = [split_chars(sentence) for sentence in val_sentences]\n",
        "test_chars = [split_chars(sentence) for sentence in test_sentences]\n",
        "\n",
        "train_chars[0]"
      ],
      "execution_count": null,
      "outputs": [
        {
          "output_type": "execute_result",
          "data": {
            "application/vnd.google.colaboratory.intrinsic+json": {
              "type": "string"
            },
            "text/plain": [
              "'t o   i n v e s t i g a t e   t h e   e f f i c a c y   o f   @   w e e k s   o f   d a i l y   l o w - d o s e   o r a l   p r e d n i s o l o n e   i n   i m p r o v i n g   p a i n   ,   m o b i l i t y   ,   a n d   s y s t e m i c   l o w - g r a d e   i n f l a m m a t i o n   i n   t h e   s h o r t   t e r m   a n d   w h e t h e r   t h e   e f f e c t   w o u l d   b e   s u s t a i n e d   a t   @   w e e k s   i n   o l d e r   a d u l t s   w i t h   m o d e r a t e   t o   s e v e r e   k n e e   o s t e o a r t h r i t i s   (   o a   )   .'"
            ]
          },
          "metadata": {},
          "execution_count": 37
        }
      ]
    },
    {
      "cell_type": "code",
      "metadata": {
        "colab": {
          "base_uri": "https://localhost:8080/"
        },
        "id": "97xN5fgVPLZ_",
        "outputId": "3eb29e9c-9d4d-4176-b89d-005f711e9f7b"
      },
      "source": [
        "# What's the average character length?\n",
        "char_lens = [len(sentence) for sentence in train_sentences]\n",
        "mean_char_len = np.mean(char_lens)\n",
        "mean_char_len"
      ],
      "execution_count": null,
      "outputs": [
        {
          "output_type": "execute_result",
          "data": {
            "text/plain": [
              "149.3662574983337"
            ]
          },
          "metadata": {},
          "execution_count": 38
        }
      ]
    },
    {
      "cell_type": "code",
      "metadata": {
        "colab": {
          "base_uri": "https://localhost:8080/"
        },
        "id": "SjCE_RXIPYuw",
        "outputId": "192e93e6-2c7c-4ab4-e4eb-3a4d454b047d"
      },
      "source": [
        "# Check the distribution of our sequences at character-level\n",
        "import matplotlib.pyplot as plt\n",
        "plt.hist(char_lens, bins=15);"
      ],
      "execution_count": null,
      "outputs": [
        {
          "output_type": "display_data",
          "data": {
            "image/png": "[encoded data removed]",
            "text/plain": [
              "<Figure size 432x288 with 1 Axes>"
            ]
          },
          "metadata": {
            "needs_background": "light"
          }
        }
      ]
    },
    {
      "cell_type": "code",
      "metadata": {
        "colab": {
          "base_uri": "https://localhost:8080/"
        },
        "id": "eZQobxx5Pe5B",
        "outputId": "810b3cb3-1a27-4541-c14f-ec92b79a0c2b"
      },
      "source": [
        "# Find what character length covers 95% of sequences\n",
        "output_seq_char_len = int(np.percentile(char_lens, 95))\n",
        "output_seq_char_len"
      ],
      "execution_count": null,
      "outputs": [
        {
          "output_type": "execute_result",
          "data": {
            "text/plain": [
              "290"
            ]
          },
          "metadata": {},
          "execution_count": 40
        }
      ]
    },
    {
      "cell_type": "code",
      "metadata": {
        "colab": {
          "base_uri": "https://localhost:8080/"
        },
        "id": "NdSYe631PxWL",
        "outputId": "bf72e75a-86b1-4630-c47a-8b0692bcdaae"
      },
      "source": [
        "# Get all keyboard characters for char-level embedding\n",
        "import string\n",
        "alphabet = string.ascii_lowercase + string.digits + string.punctuation\n",
        "alphabet"
      ],
      "execution_count": null,
      "outputs": [
        {
          "output_type": "execute_result",
          "data": {
            "application/vnd.google.colaboratory.intrinsic+json": {
              "type": "string"
            },
            "text/plain": [
              "'abcdefghijklmnopqrstuvwxyz0123456789!\"#$%&\\'()*+,-./:;<=>?@[\\\\]^_`{|}~'"
            ]
          },
          "metadata": {},
          "execution_count": 41
        }
      ]
    },
    {
      "cell_type": "code",
      "metadata": {
        "id": "qChKyvy-QfPC"
      },
      "source": [
        "# Create char-level token vectorizer instance\n",
        "NUM_CHAR_TOKENS = len(alphabet) + 2 # num characters in alphabet + space + OOV token\n",
        "char_vectorizer = TextVectorization(max_tokens=NUM_CHAR_TOKENS,\n",
        "                                    output_sequence_length=output_seq_char_len,\n",
        "                                    standardize=\"lower_and_strip_punctuation\",\n",
        "                                    name=\"char_vectorizer\")\n",
        "# Adapt character vectorizer to training characters\n",
        "char_vectorizer.adapt(train_chars)"
      ],
      "execution_count": null,
      "outputs": []
    },
    {
      "cell_type": "code",
      "metadata": {
        "colab": {
          "base_uri": "https://localhost:8080/"
        },
        "id": "mFJED2G8RfS8",
        "outputId": "cb1d7edc-3c2b-4ff4-8942-13ed5987ce0e"
      },
      "source": [
        "# Check character vocabulary characteristics\n",
        "char_vocab = char_vectorizer.get_vocabulary()\n",
        "print(f\"Number of different characters in character vocab: {len(char_vocab)}\")\n",
        "print(f\"5 most common characters: {char_vocab[:5]}\")\n",
        "print(f\"5 least common characters: {char_vocab[-5:]}\")"
      ],
      "execution_count": null,
      "outputs": [
        {
          "output_type": "stream",
          "text": [
            "Number of different characters in character vocab: 28\n",
            "5 most common characters: ['', '[UNK]', 'e', 't', 'i']\n",
            "5 least common characters: ['k', 'x', 'z', 'q', 'j']\n"
          ],
          "name": "stdout"
        }
      ]
    },
    {
      "cell_type": "code",
      "metadata": {
        "colab": {
          "base_uri": "https://localhost:8080/"
        },
        "id": "MW1kDay0RqSd",
        "outputId": "a78a55af-002d-4e69-9d06-1b829604b23c"
      },
      "source": [
        "# Test out character vectorizer\n",
        "random_train_chars = random.choice(train_chars)\n",
        "print(f\"Charified text:\\n{random_train_chars}\")\n",
        "print(f\"\\nLength of chars: {len(random_train_chars.split())}\")\n",
        "vectorized_chars = char_vectorizer([random_train_chars])\n",
        "print(f\"\\nVectorized chars:\\n{vectorized_chars}\")\n",
        "print(f\"\\nLength of vectorized chars: {len(vectorized_chars[0])}\")"
      ],
      "execution_count": null,
      "outputs": [
        {
          "output_type": "stream",
          "text": [
            "Charified text:\n",
            "i n t r a o p e r a t i v e   c o n t i n u o u s   i n f u s i o n   o f   d e x m e d e t o m i d i n e   m a y   h e l p   a l l e v i a t e   i o p   i n c r e a s e   i n   p a t i e n t s   u n d e r g o i n g   r a l r p   i n   t h e   s t   p o s i t i o n   .\n",
            "\n",
            "Length of chars: 117\n",
            "\n",
            "Vectorized chars:\n",
            "[[ 4  6  3  8  5  7 14  2  8  5  3  4 21  2 11  7  6  3  4  6 16  7 16  9\n",
            "   4  6 17 16  9  4  7  6  7 17 10  2 24 15  2 10  2  3  7 15  4 10  4  6\n",
            "   2 15  5 19 13  2 12 14  5 12 12  2 21  4  5  3  2  4  7 14  4  6 11  8\n",
            "   2  5  9  2  4  6 14  5  3  4  2  6  3  9 16  6 10  2  8 18  7  4  6 18\n",
            "   8  5 12  8 14  4  6  3 13  2  9  3 14  7  9  4  3  4  7  6  0  0  0  0\n",
            "   0  0  0  0  0  0  0  0  0  0  0  0  0  0  0  0  0  0  0  0  0  0  0  0\n",
            "   0  0  0  0  0  0  0  0  0  0  0  0  0  0  0  0  0  0  0  0  0  0  0  0\n",
            "   0  0  0  0  0  0  0  0  0  0  0  0  0  0  0  0  0  0  0  0  0  0  0  0\n",
            "   0  0  0  0  0  0  0  0  0  0  0  0  0  0  0  0  0  0  0  0  0  0  0  0\n",
            "   0  0  0  0  0  0  0  0  0  0  0  0  0  0  0  0  0  0  0  0  0  0  0  0\n",
            "   0  0  0  0  0  0  0  0  0  0  0  0  0  0  0  0  0  0  0  0  0  0  0  0\n",
            "   0  0  0  0  0  0  0  0  0  0  0  0  0  0  0  0  0  0  0  0  0  0  0  0\n",
            "   0  0]]\n",
            "\n",
            "Length of vectorized chars: 290\n"
          ],
          "name": "stdout"
        }
      ]
    },
    {
      "cell_type": "markdown",
      "metadata": {
        "id": "BOtnCUp1SKOW"
      },
      "source": [
        "### Creating a character-level embedding\n",
        "\n",
        "The input dimension (input_dim) will be equal to the number of different characters in our char_vocab (28). And since we're following the structure of the model in Figure 1 of Neural Networks for Joint Sentence Classification in Medical Paper Abstracts, the output dimension of the character embedding (output_dim) will be 25."
      ]
    },
    {
      "cell_type": "code",
      "metadata": {
        "colab": {
          "base_uri": "https://localhost:8080/"
        },
        "id": "Fo0D4JM1RyRe",
        "outputId": "a41ec9bd-6247-4e47-f6a5-00a85681dce4"
      },
      "source": [
        "# Create char embedding layer\n",
        "char_embed = layers.Embedding(input_dim=NUM_CHAR_TOKENS,\n",
        "                              output_dim=25,\n",
        "                              mask_zero=True,\n",
        "                              name=\"char_embed\")\n",
        "\n",
        "# Test out character embedding layer\n",
        "print(f\"Charified text (before vectorization and embedding):\\n{random_train_chars}\\n\")\n",
        "char_embed_example = char_embed(char_vectorizer([random_train_chars]))\n",
        "print(f\"Embedded chars (after vectorization and embedding):\\n{char_embed_example}\\n\")\n",
        "print(f\"Character embedding shape: {char_embed_example.shape}\")"
      ],
      "execution_count": null,
      "outputs": [
        {
          "output_type": "stream",
          "text": [
            "Charified text (before vectorization and embedding):\n",
            "i n t r a o p e r a t i v e   c o n t i n u o u s   i n f u s i o n   o f   d e x m e d e t o m i d i n e   m a y   h e l p   a l l e v i a t e   i o p   i n c r e a s e   i n   p a t i e n t s   u n d e r g o i n g   r a l r p   i n   t h e   s t   p o s i t i o n   .\n",
            "\n",
            "Embedded chars (after vectorization and embedding):\n",
            "[[[-0.01200318  0.01289489  0.04413452 ... -0.04190961 -0.00814465\n",
            "   -0.00311457]\n",
            "  [-0.04907811  0.02864489 -0.03594076 ... -0.00597104  0.00164485\n",
            "    0.00248868]\n",
            "  [-0.03040208  0.02984324  0.01404187 ...  0.04279238  0.02797277\n",
            "   -0.01393082]\n",
            "  ...\n",
            "  [ 0.04376933  0.02031547  0.03473891 ...  0.00203146  0.04484833\n",
            "    0.03227634]\n",
            "  [ 0.04376933  0.02031547  0.03473891 ...  0.00203146  0.04484833\n",
            "    0.03227634]\n",
            "  [ 0.04376933  0.02031547  0.03473891 ...  0.00203146  0.04484833\n",
            "    0.03227634]]]\n",
            "\n",
            "Character embedding shape: (1, 290, 25)\n"
          ],
          "name": "stdout"
        }
      ]
    },
    {
      "cell_type": "markdown",
      "metadata": {
        "id": "CUyN4z6yTEJq"
      },
      "source": [
        "### Building a Conv1D model to fit on character embeddings"
      ]
    },
    {
      "cell_type": "code",
      "metadata": {
        "id": "sfgeP4g6S3Q5"
      },
      "source": [
        "# Make Conv1D on chars only\n",
        "inputs = layers.Input(shape=(1,), dtype=tf.string)\n",
        "char_vectors = char_vectorizer(inputs)\n",
        "char_embeddings = char_embed(char_vectors)\n",
        "x = layers.Conv1D(64, kernel_size=5, padding=\"same\", activation=\"relu\")(char_embeddings)\n",
        "x = layers.GlobalMaxPool1D()(x)\n",
        "outputs = layers.Dense(num_classes, activation=\"softmax\")(x)\n",
        "model_3 = tf.keras.Model(inputs=inputs,\n",
        "                         outputs=outputs,\n",
        "                         name=\"model_3_conv1D_char_embedding\")\n",
        "\n",
        "# Compile model\n",
        "model_3.compile(loss=\"categorical_crossentropy\",\n",
        "                optimizer=tf.keras.optimizers.Adam(),\n",
        "                metrics=[\"accuracy\"])"
      ],
      "execution_count": null,
      "outputs": []
    },
    {
      "cell_type": "code",
      "metadata": {
        "colab": {
          "base_uri": "https://localhost:8080/"
        },
        "id": "VLWV2NQ_Tff3",
        "outputId": "eea82244-1290-4208-cd11-12664015a141"
      },
      "source": [
        "# Check the summary of conv1d_char_model\n",
        "model_3.summary()"
      ],
      "execution_count": null,
      "outputs": [
        {
          "output_type": "stream",
          "text": [
            "Model: \"model_3_conv1D_char_embedding\"\n",
            "_________________________________________________________________\n",
            "Layer (type)                 Output Shape              Param #   \n",
            "=================================================================\n",
            "input_3 (InputLayer)         [(None, 1)]               0         \n",
            "_________________________________________________________________\n",
            "char_vectorizer (TextVectori (None, 290)               0         \n",
            "_________________________________________________________________\n",
            "char_embed (Embedding)       (None, 290, 25)           1750      \n",
            "_________________________________________________________________\n",
            "conv1d_1 (Conv1D)            (None, 290, 64)           8064      \n",
            "_________________________________________________________________\n",
            "global_max_pooling1d (Global (None, 64)                0         \n",
            "_________________________________________________________________\n",
            "dense_3 (Dense)              (None, 5)                 325       \n",
            "=================================================================\n",
            "Total params: 10,139\n",
            "Trainable params: 10,139\n",
            "Non-trainable params: 0\n",
            "_________________________________________________________________\n"
          ],
          "name": "stdout"
        }
      ]
    },
    {
      "cell_type": "code",
      "metadata": {
        "colab": {
          "base_uri": "https://localhost:8080/"
        },
        "id": "rictxTYCThiY",
        "outputId": "57e6343a-f5ad-49ae-9b32-554c6d5d2c04"
      },
      "source": [
        "# Create char datasets\n",
        "train_char_dataset = tf.data.Dataset.from_tensor_slices((train_chars, train_labels_one_hot)).batch(32).prefetch(tf.data.AUTOTUNE)\n",
        "val_char_dataset = tf.data.Dataset.from_tensor_slices((val_chars, val_labels_one_hot)).batch(32).prefetch(tf.data.AUTOTUNE)\n",
        "\n",
        "train_char_dataset"
      ],
      "execution_count": null,
      "outputs": [
        {
          "output_type": "execute_result",
          "data": {
            "text/plain": [
              "<PrefetchDataset shapes: ((None,), (None, 5)), types: (tf.string, tf.float64)>"
            ]
          },
          "metadata": {
            "tags": []
          },
          "execution_count": 66
        }
      ]
    },
    {
      "cell_type": "code",
      "metadata": {
        "colab": {
          "base_uri": "https://localhost:8080/"
        },
        "id": "5poNDduWTox5",
        "outputId": "4d030a29-0e09-423c-c1cf-b0214de30803"
      },
      "source": [
        "# Fit the model on chars only\n",
        "model_3_history = model_3.fit(train_char_dataset,\n",
        "                              steps_per_epoch=int(0.1 * len(train_char_dataset)),\n",
        "                              epochs=3,\n",
        "                              validation_data=val_char_dataset,\n",
        "                              validation_steps=int(0.1 * len(val_char_dataset)))"
      ],
      "execution_count": null,
      "outputs": [
        {
          "output_type": "stream",
          "text": [
            "Epoch 1/3\n",
            "562/562 [==============================] - 6s 10ms/step - loss: 1.2654 - accuracy: 0.5030 - val_loss: 1.0323 - val_accuracy: 0.6004\n",
            "Epoch 2/3\n",
            "562/562 [==============================] - 5s 9ms/step - loss: 0.9979 - accuracy: 0.6059 - val_loss: 0.9320 - val_accuracy: 0.6370\n",
            "Epoch 3/3\n",
            "562/562 [==============================] - 5s 9ms/step - loss: 0.9201 - accuracy: 0.6375 - val_loss: 0.8550 - val_accuracy: 0.6749\n"
          ],
          "name": "stdout"
        }
      ]
    },
    {
      "cell_type": "code",
      "metadata": {
        "colab": {
          "base_uri": "https://localhost:8080/"
        },
        "id": "fqrxKWc4Tu8R",
        "outputId": "d2446818-d8d0-434a-ad61-94b7c4a295d1"
      },
      "source": [
        "# Evaluate model_3 on whole validation char dataset\n",
        "model_3.evaluate(val_char_dataset)"
      ],
      "execution_count": null,
      "outputs": [
        {
          "output_type": "stream",
          "text": [
            "945/945 [==============================] - 6s 6ms/step - loss: 0.8760 - accuracy: 0.6606\n"
          ],
          "name": "stdout"
        },
        {
          "output_type": "execute_result",
          "data": {
            "text/plain": [
              "[0.8760107755661011, 0.660631537437439]"
            ]
          },
          "metadata": {
            "tags": []
          },
          "execution_count": 68
        }
      ]
    },
    {
      "cell_type": "code",
      "metadata": {
        "colab": {
          "base_uri": "https://localhost:8080/"
        },
        "id": "NlLeh2McTyyy",
        "outputId": "a1841456-045f-4a1c-aa88-e1f29ce818ff"
      },
      "source": [
        "# Make predictions with character model only\n",
        "model_3_pred_probs = model_3.predict(val_char_dataset)\n",
        "model_3_pred_probs"
      ],
      "execution_count": null,
      "outputs": [
        {
          "output_type": "execute_result",
          "data": {
            "text/plain": [
              "array([[0.14946418, 0.42311782, 0.03503442, 0.35196823, 0.04041531],\n",
              "       [0.2120753 , 0.5563775 , 0.00616389, 0.1844146 , 0.04096869],\n",
              "       [0.12844722, 0.4114031 , 0.13683736, 0.2634557 , 0.05985657],\n",
              "       ...,\n",
              "       [0.05085246, 0.04530982, 0.1868394 , 0.04570933, 0.671289  ],\n",
              "       [0.01849125, 0.07317933, 0.17120348, 0.01654439, 0.72058153],\n",
              "       [0.31295183, 0.44481054, 0.11517311, 0.08644342, 0.04062117]],\n",
              "      dtype=float32)"
            ]
          },
          "metadata": {
            "tags": []
          },
          "execution_count": 69
        }
      ]
    },
    {
      "cell_type": "code",
      "metadata": {
        "colab": {
          "base_uri": "https://localhost:8080/"
        },
        "id": "Xvl13SpsT0sq",
        "outputId": "eee42c31-f229-4dbe-dc2f-ed832830bd6b"
      },
      "source": [
        "# Convert predictions to classes\n",
        "model_3_preds = tf.argmax(model_3_pred_probs, axis=1)\n",
        "model_3_preds"
      ],
      "execution_count": null,
      "outputs": [
        {
          "output_type": "execute_result",
          "data": {
            "text/plain": [
              "<tf.Tensor: shape=(30212,), dtype=int64, numpy=array([1, 1, 1, ..., 4, 4, 1])>"
            ]
          },
          "metadata": {
            "tags": []
          },
          "execution_count": 70
        }
      ]
    },
    {
      "cell_type": "code",
      "metadata": {
        "colab": {
          "base_uri": "https://localhost:8080/"
        },
        "id": "w36Q18dyT2sT",
        "outputId": "673bdd14-89c8-49df-869b-f3a278eb636d"
      },
      "source": [
        "# Calculate Conv1D char only model results\n",
        "model_3_results = calculate_results(y_true=val_labels_encoded,\n",
        "                                        y_pred=model_3_preds)\n",
        "model_3_results"
      ],
      "execution_count": null,
      "outputs": [
        {
          "output_type": "execute_result",
          "data": {
            "text/plain": [
              "{'accuracy': 66.06315371375612,\n",
              " 'f1': 0.6530142371124392,\n",
              " 'precision': 0.6559188208881196,\n",
              " 'recall': 0.6606315371375613}"
            ]
          },
          "metadata": {
            "tags": []
          },
          "execution_count": 71
        }
      ]
    },
    {
      "cell_type": "markdown",
      "metadata": {
        "id": "jCo67TjrT5qe"
      },
      "source": [
        "## Model 4: Combining pretrained token embeddings + character embeddings (hybrid embedding layer)"
      ]
    },
    {
      "cell_type": "code",
      "metadata": {
        "id": "tqq4NR9cT4pb"
      },
      "source": [
        "# 1. Setup token inputs/model\n",
        "token_inputs = layers.Input(shape=[], dtype=tf.string, name=\"token_inputs\")\n",
        "token_embeddings = tf_hub_embedding_layer(token_inputs)\n",
        "token_outputs = layers.Dense(128, activation=\"relu\")(token_embeddings)\n",
        "token_model = tf.keras.Model(inputs=token_inputs,\n",
        "                             outputs=token_outputs)\n",
        "\n",
        "# 2. Setup char inputs/model\n",
        "char_inputs = layers.Input(shape=(1,), dtype=tf.string, name=\"char_inputs\")\n",
        "char_vectors = char_vectorizer(char_inputs)\n",
        "char_embeddings = char_embed(char_vectors)\n",
        "char_bi_lstm = layers.Bidirectional(layers.LSTM(25))(char_embeddings) # bi-LSTM shown in Figure 1 of https://arxiv.org/pdf/1612.05251.pdf\n",
        "char_model = tf.keras.Model(inputs=char_inputs,\n",
        "                            outputs=char_bi_lstm)\n",
        "\n",
        "# 3. Concatenate token and char inputs (create hybrid token embedding)\n",
        "token_char_concat = layers.Concatenate(name=\"token_char_hybrid\")([token_model.output,\n",
        "                                                                  char_model.output])\n",
        "\n",
        "# 4. Create output layers - addition of dropout discussed in 4.2 of https://arxiv.org/pdf/1612.05251.pdf\n",
        "combined_dropout = layers.Dropout(0.5)(token_char_concat)\n",
        "combined_dense = layers.Dense(200, activation=\"relu\")(combined_dropout) # slightly different to Figure 1 due to different shapes of token/char embedding layers\n",
        "final_dropout = layers.Dropout(0.5)(combined_dense)\n",
        "output_layer = layers.Dense(num_classes, activation=\"softmax\")(final_dropout)\n",
        "\n",
        "# 5. Construct model with char and token inputs\n",
        "model_4 = tf.keras.Model(inputs=[token_model.input, char_model.input],\n",
        "                         outputs=output_layer,\n",
        "                         name=\"model_4_token_and_char_embeddings\")"
      ],
      "execution_count": null,
      "outputs": []
    },
    {
      "cell_type": "code",
      "metadata": {
        "colab": {
          "base_uri": "https://localhost:8080/"
        },
        "id": "KSrtZ7ofRC6K",
        "outputId": "a513cc33-6ea2-4cbd-8ce5-1f0b75d73ea9"
      },
      "source": [
        "# Get summary of token and character model\n",
        "model_4.summary()"
      ],
      "execution_count": null,
      "outputs": [
        {
          "output_type": "stream",
          "text": [
            "Model: \"model_4_token_and_char_embeddings\"\n",
            "__________________________________________________________________________________________________\n",
            "Layer (type)                    Output Shape         Param #     Connected to                     \n",
            "==================================================================================================\n",
            "char_inputs (InputLayer)        [(None, 1)]          0                                            \n",
            "__________________________________________________________________________________________________\n",
            "token_inputs (InputLayer)       [(None,)]            0                                            \n",
            "__________________________________________________________________________________________________\n",
            "char_vectorizer (TextVectorizat (None, 290)          0           char_inputs[0][0]                \n",
            "__________________________________________________________________________________________________\n",
            "universal_sentence_encoder (Ker (None, 512)          256797824   token_inputs[0][0]               \n",
            "__________________________________________________________________________________________________\n",
            "char_embed (Embedding)          (None, 290, 25)      1750        char_vectorizer[1][0]            \n",
            "__________________________________________________________________________________________________\n",
            "dense_4 (Dense)                 (None, 128)          65664       universal_sentence_encoder[1][0] \n",
            "__________________________________________________________________________________________________\n",
            "bidirectional (Bidirectional)   (None, 50)           10200       char_embed[1][0]                 \n",
            "__________________________________________________________________________________________________\n",
            "token_char_hybrid (Concatenate) (None, 178)          0           dense_4[0][0]                    \n",
            "                                                                 bidirectional[0][0]              \n",
            "__________________________________________________________________________________________________\n",
            "dropout (Dropout)               (None, 178)          0           token_char_hybrid[0][0]          \n",
            "__________________________________________________________________________________________________\n",
            "dense_5 (Dense)                 (None, 200)          35800       dropout[0][0]                    \n",
            "__________________________________________________________________________________________________\n",
            "dropout_1 (Dropout)             (None, 200)          0           dense_5[0][0]                    \n",
            "__________________________________________________________________________________________________\n",
            "dense_6 (Dense)                 (None, 5)            1005        dropout_1[0][0]                  \n",
            "==================================================================================================\n",
            "Total params: 256,912,243\n",
            "Trainable params: 114,419\n",
            "Non-trainable params: 256,797,824\n",
            "__________________________________________________________________________________________________\n"
          ],
          "name": "stdout"
        }
      ]
    },
    {
      "cell_type": "code",
      "metadata": {
        "colab": {
          "base_uri": "https://localhost:8080/"
        },
        "id": "OCiwTG67ROLr",
        "outputId": "464a931f-53a7-4740-e885-4b353a356d86"
      },
      "source": [
        "# Plot hybrid token and character model\n",
        "from tensorflow.keras.utils import plot_model\n",
        "plot_model(model_4)"
      ],
      "execution_count": null,
      "outputs": [
        {
          "output_type": "execute_result",
          "data": {
            "image/png": "[encoded data removed]",
            "text/plain": [
              "<IPython.core.display.Image object>"
            ]
          },
          "metadata": {
            "tags": []
          },
          "execution_count": 74
        }
      ]
    },
    {
      "cell_type": "code",
      "metadata": {
        "id": "9duCyrzfRmNk"
      },
      "source": [
        "# Compile token char model\n",
        "model_4.compile(loss=\"categorical_crossentropy\",\n",
        "                optimizer=tf.keras.optimizers.Adam(), # section 4.2 of https://arxiv.org/pdf/1612.05251.pdf mentions using SGD but we'll stick with Adam\n",
        "                metrics=[\"accuracy\"])"
      ],
      "execution_count": null,
      "outputs": []
    },
    {
      "cell_type": "markdown",
      "metadata": {
        "id": "D2Sx7KjOVGUp"
      },
      "source": [
        "### Combining token and character data into a tf.data dataset"
      ]
    },
    {
      "cell_type": "code",
      "metadata": {
        "id": "WDLX7juySIZh"
      },
      "source": [
        "# Combine chars and tokens into a dataset\n",
        "train_char_token_data = tf.data.Dataset.from_tensor_slices((train_sentences, train_chars))\n",
        "train_char_token_labels = tf.data.Dataset.from_tensor_slices(train_labels_one_hot)\n",
        "train_char_token_dataset = tf.data.Dataset.zip((train_char_token_data, train_char_token_labels))\n",
        "\n",
        "# Prefetch and batch train data\n",
        "train_char_token_dataset = train_char_token_dataset.batch(32).prefetch(tf.data.AUTOTUNE)\n",
        "\n",
        "# Repeat same steps validation data\n",
        "val_char_token_data = tf.data.Dataset.from_tensor_slices((val_sentences, val_chars))\n",
        "val_char_token_labels = tf.data.Dataset.from_tensor_slices(val_labels_one_hot)\n",
        "val_char_token_dataset = tf.data.Dataset.zip((val_char_token_data, val_char_token_labels))\n",
        "val_char_token_dataset = val_char_token_dataset.batch(32).prefetch(tf.data.AUTOTUNE)"
      ],
      "execution_count": null,
      "outputs": []
    },
    {
      "cell_type": "code",
      "metadata": {
        "colab": {
          "base_uri": "https://localhost:8080/"
        },
        "id": "hjiGXge4Wc6H",
        "outputId": "63a73230-f94d-4468-bdff-4f3408e25ed7"
      },
      "source": [
        "# Check out training char and token embedding dataset\n",
        "train_char_token_dataset, val_char_token_dataset"
      ],
      "execution_count": null,
      "outputs": [
        {
          "output_type": "execute_result",
          "data": {
            "text/plain": [
              "(<PrefetchDataset shapes: (((None,), (None,)), (None, 5)), types: ((tf.string, tf.string), tf.float64)>,\n",
              " <PrefetchDataset shapes: (((None,), (None,)), (None, 5)), types: ((tf.string, tf.string), tf.float64)>)"
            ]
          },
          "metadata": {
            "tags": []
          },
          "execution_count": 77
        }
      ]
    },
    {
      "cell_type": "markdown",
      "metadata": {
        "id": "WxHYqRMkXFod"
      },
      "source": [
        "### Fitting a model on token and character-level sequences"
      ]
    },
    {
      "cell_type": "code",
      "metadata": {
        "colab": {
          "base_uri": "https://localhost:8080/"
        },
        "id": "_1TOX3vjXAPA",
        "outputId": "93db8ae4-da89-4eaa-aed0-eb7e22e185bc"
      },
      "source": [
        "# Fit the model on tokens and chars\n",
        "model_4_history = model_4.fit(train_char_token_dataset, # train on dataset of token and characters\n",
        "                              steps_per_epoch=int(0.1 * len(train_char_token_dataset)),\n",
        "                              epochs=3,\n",
        "                              validation_data=val_char_token_dataset,\n",
        "                              validation_steps=int(0.1 * len(val_char_token_dataset)))\n"
      ],
      "execution_count": null,
      "outputs": [
        {
          "output_type": "stream",
          "text": [
            "Epoch 1/3\n",
            "562/562 [==============================] - 83s 130ms/step - loss: 0.9723 - accuracy: 0.6119 - val_loss: 0.7759 - val_accuracy: 0.7001\n",
            "Epoch 2/3\n",
            "562/562 [==============================] - 71s 125ms/step - loss: 0.7938 - accuracy: 0.6926 - val_loss: 0.7102 - val_accuracy: 0.7317\n",
            "Epoch 3/3\n",
            "562/562 [==============================] - 67s 120ms/step - loss: 0.7713 - accuracy: 0.7033 - val_loss: 0.6827 - val_accuracy: 0.7473\n"
          ],
          "name": "stdout"
        }
      ]
    },
    {
      "cell_type": "code",
      "metadata": {
        "colab": {
          "base_uri": "https://localhost:8080/"
        },
        "id": "s7-l1-u7Y3qb",
        "outputId": "78123c4e-f08e-4e37-f4bc-9289aea8b835"
      },
      "source": [
        "# Evaluate on the whole validation dataset\n",
        "model_4.evaluate(val_char_token_dataset)"
      ],
      "execution_count": null,
      "outputs": [
        {
          "output_type": "stream",
          "text": [
            "945/945 [==============================] - 48s 51ms/step - loss: 0.6940 - accuracy: 0.7355\n"
          ],
          "name": "stdout"
        },
        {
          "output_type": "execute_result",
          "data": {
            "text/plain": [
              "[0.69398033618927, 0.7354693412780762]"
            ]
          },
          "metadata": {
            "tags": []
          },
          "execution_count": 79
        }
      ]
    },
    {
      "cell_type": "code",
      "metadata": {
        "colab": {
          "base_uri": "https://localhost:8080/"
        },
        "id": "AW0OqJPgZNBd",
        "outputId": "d6a8fba4-ba80-44e5-c32e-99f8783fc3fc"
      },
      "source": [
        "# Make predictions using the token-character model hybrid\n",
        "model_4_pred_probs = model_4.predict(val_char_token_dataset)\n",
        "model_4_pred_probs"
      ],
      "execution_count": null,
      "outputs": [
        {
          "output_type": "execute_result",
          "data": {
            "text/plain": [
              "array([[4.8295164e-01, 3.1045496e-01, 4.1570342e-03, 1.9704956e-01,\n",
              "        5.3868056e-03],\n",
              "       [4.2634559e-01, 3.9148897e-01, 3.8009444e-03, 1.7704837e-01,\n",
              "        1.3161971e-03],\n",
              "       [3.2235384e-01, 1.3096040e-01, 3.7569109e-02, 4.9089545e-01,\n",
              "        1.8221254e-02],\n",
              "       ...,\n",
              "       [5.1487796e-04, 5.2385642e-03, 5.7461169e-02, 2.2919370e-04,\n",
              "        9.3655616e-01],\n",
              "       [6.0585220e-03, 7.4935965e-02, 2.8561011e-01, 3.5604849e-03,\n",
              "        6.2983489e-01],\n",
              "       [2.7640679e-01, 4.6798623e-01, 1.8995893e-01, 2.4292666e-02,\n",
              "        4.1355368e-02]], dtype=float32)"
            ]
          },
          "metadata": {
            "tags": []
          },
          "execution_count": 80
        }
      ]
    },
    {
      "cell_type": "code",
      "metadata": {
        "colab": {
          "base_uri": "https://localhost:8080/"
        },
        "id": "4iLXrAr9ZNeh",
        "outputId": "37232b2d-cdcf-4063-b24e-b7b62576e335"
      },
      "source": [
        "# Turn prediction probabilities into prediction classes\n",
        "model_4_preds = tf.argmax(model_4_pred_probs, axis=1)\n",
        "model_4_preds"
      ],
      "execution_count": null,
      "outputs": [
        {
          "output_type": "execute_result",
          "data": {
            "text/plain": [
              "<tf.Tensor: shape=(30212,), dtype=int64, numpy=array([0, 0, 3, ..., 4, 4, 1])>"
            ]
          },
          "metadata": {
            "tags": []
          },
          "execution_count": 81
        }
      ]
    },
    {
      "cell_type": "code",
      "metadata": {
        "colab": {
          "base_uri": "https://localhost:8080/"
        },
        "id": "1-Hkd72TZRhp",
        "outputId": "006f1816-896e-41c3-ada1-3464806d64fa"
      },
      "source": [
        "# Get results of token-char-hybrid model\n",
        "model_4_results = calculate_results(y_true=val_labels_encoded,\n",
        "                                    y_pred=model_4_preds)\n",
        "model_4_results"
      ],
      "execution_count": null,
      "outputs": [
        {
          "output_type": "execute_result",
          "data": {
            "text/plain": [
              "{'accuracy': 73.54693499271812,\n",
              " 'f1': 0.7337321152337715,\n",
              " 'precision': 0.7373996619304823,\n",
              " 'recall': 0.7354693499271813}"
            ]
          },
          "metadata": {
            "tags": []
          },
          "execution_count": 82
        }
      ]
    },
    {
      "cell_type": "markdown",
      "metadata": {
        "id": "mCX-JytxgKgf"
      },
      "source": [
        "## Model 5: Transfer Learning with pretrained token embeddings + character embeddings + positional embeddings"
      ]
    },
    {
      "cell_type": "code",
      "metadata": {
        "colab": {
          "base_uri": "https://localhost:8080/",
          "height": 204
        },
        "id": "txd_ezAPZTYi",
        "outputId": "0d047bb9-e23a-48b4-d534-ea2309281a10"
      },
      "source": [
        "# Inspect training dataframe\n",
        "train_df.head()"
      ],
      "execution_count": null,
      "outputs": [
        {
          "output_type": "execute_result",
          "data": {
            "text/html": [
              "<div>\n",
              "<style scoped>\n",
              "    .dataframe tbody tr th:only-of-type {\n",
              "        vertical-align: middle;\n",
              "    }\n",
              "\n",
              "    .dataframe tbody tr th {\n",
              "        vertical-align: top;\n",
              "    }\n",
              "\n",
              "    .dataframe thead th {\n",
              "        text-align: right;\n",
              "    }\n",
              "</style>\n",
              "<table border=\"1\" class=\"dataframe\">\n",
              "  <thead>\n",
              "    <tr style=\"text-align: right;\">\n",
              "      <th></th>\n",
              "      <th>target</th>\n",
              "      <th>text</th>\n",
              "      <th>line_number</th>\n",
              "      <th>total_lines</th>\n",
              "    </tr>\n",
              "  </thead>\n",
              "  <tbody>\n",
              "    <tr>\n",
              "      <th>0</th>\n",
              "      <td>OBJECTIVE</td>\n",
              "      <td>to investigate the efficacy of @ weeks of dail...</td>\n",
              "      <td>0</td>\n",
              "      <td>11</td>\n",
              "    </tr>\n",
              "    <tr>\n",
              "      <th>1</th>\n",
              "      <td>METHODS</td>\n",
              "      <td>a total of @ patients with primary knee oa wer...</td>\n",
              "      <td>1</td>\n",
              "      <td>11</td>\n",
              "    </tr>\n",
              "    <tr>\n",
              "      <th>2</th>\n",
              "      <td>METHODS</td>\n",
              "      <td>outcome measures included pain reduction and i...</td>\n",
              "      <td>2</td>\n",
              "      <td>11</td>\n",
              "    </tr>\n",
              "    <tr>\n",
              "      <th>3</th>\n",
              "      <td>METHODS</td>\n",
              "      <td>pain was assessed using the visual analog pain...</td>\n",
              "      <td>3</td>\n",
              "      <td>11</td>\n",
              "    </tr>\n",
              "    <tr>\n",
              "      <th>4</th>\n",
              "      <td>METHODS</td>\n",
              "      <td>secondary outcome measures included the wester...</td>\n",
              "      <td>4</td>\n",
              "      <td>11</td>\n",
              "    </tr>\n",
              "  </tbody>\n",
              "</table>\n",
              "</div>"
            ],
            "text/plain": [
              "      target  ... total_lines\n",
              "0  OBJECTIVE  ...          11\n",
              "1    METHODS  ...          11\n",
              "2    METHODS  ...          11\n",
              "3    METHODS  ...          11\n",
              "4    METHODS  ...          11\n",
              "\n",
              "[5 rows x 4 columns]"
            ]
          },
          "metadata": {
            "tags": []
          },
          "execution_count": 83
        }
      ]
    },
    {
      "cell_type": "markdown",
      "metadata": {
        "id": "mNm8sdAchnlc"
      },
      "source": [
        "The `\"line_number\"` and `\"total_lines\"` columns are features which didn't necessarily come with the training data but can be passed to our model as a positional embedding. In other words, the positional embedding is where the sentence appears in an abstract.\n",
        "\n",
        "Since abstracts typically have a sequential order about them (for example, background, objective, methods, results, conclusion), it makes sense to add the line number of where a particular sentence occurs to our model. The beautiful thing is, these features will be available at test time (we can just count the number of sentences in an abstract and the number of each one)."
      ]
    },
    {
      "cell_type": "markdown",
      "metadata": {
        "id": "quPuLeQOic7Y"
      },
      "source": [
        "### Create positional embeddings"
      ]
    },
    {
      "cell_type": "markdown",
      "metadata": {
        "id": "3GXo94Rfi5Bu"
      },
      "source": [
        "But to avoid our model thinking a line with `\"line_number\"=5` is five times greater than a line with `\"line_number\"=1`, we'll use one-hot-encoding to encode our `\"line_number\"` and `\"total_lines\"` features.\n",
        "\n",
        "To do this, we can use the tf.one_hot utility."
      ]
    },
    {
      "cell_type": "code",
      "metadata": {
        "colab": {
          "base_uri": "https://localhost:8080/"
        },
        "id": "_QU2mIW3hYpN",
        "outputId": "b5c453be-2042-4b77-d5aa-f37a73686364"
      },
      "source": [
        "# How many different line numbers are there?\n",
        "train_df[\"line_number\"].value_counts()"
      ],
      "execution_count": null,
      "outputs": [
        {
          "output_type": "execute_result",
          "data": {
            "text/plain": [
              "0     15000\n",
              "1     15000\n",
              "2     15000\n",
              "3     15000\n",
              "4     14992\n",
              "5     14949\n",
              "6     14758\n",
              "7     14279\n",
              "8     13346\n",
              "9     11981\n",
              "10    10041\n",
              "11     7892\n",
              "12     5853\n",
              "13     4152\n",
              "14     2835\n",
              "15     1861\n",
              "16     1188\n",
              "17      751\n",
              "18      462\n",
              "19      286\n",
              "20      162\n",
              "21      101\n",
              "22       66\n",
              "23       33\n",
              "24       22\n",
              "25       14\n",
              "26        7\n",
              "27        4\n",
              "28        3\n",
              "29        1\n",
              "30        1\n",
              "Name: line_number, dtype: int64"
            ]
          },
          "metadata": {
            "tags": []
          },
          "execution_count": 84
        }
      ]
    },
    {
      "cell_type": "code",
      "metadata": {
        "colab": {
          "base_uri": "https://localhost:8080/"
        },
        "id": "f613hVyvjSvp",
        "outputId": "6fc92078-9e8f-45b9-cc1a-c98712960fc2"
      },
      "source": [
        "# Check the distribution of \"line_number\" column\n",
        "train_df.line_number.plot.hist()"
      ],
      "execution_count": null,
      "outputs": [
        {
          "output_type": "execute_result",
          "data": {
            "text/plain": [
              "<matplotlib.axes._subplots.AxesSubplot at 0x7f79d1a26810>"
            ]
          },
          "metadata": {
            "tags": []
          },
          "execution_count": 85
        },
        {
          "output_type": "display_data",
          "data": {
            "image/png": "[encoded data removed]",
            "text/plain": [
              "<Figure size 432x288 with 1 Axes>"
            ]
          },
          "metadata": {
            "tags": [],
            "needs_background": "light"
          }
        }
      ]
    },
    {
      "cell_type": "markdown",
      "metadata": {
        "id": "AkzSlgdxj1GZ"
      },
      "source": [
        "Looking at the distribution of the `\"line_number\"` column, it looks like the majority of lines have a position of 15 or less.\n",
        "\n",
        "Knowing this, let's set the `depth` parameter of `tf.one_hot` to 15.\n",
        "\n",
        "Setting the `depth `parameter of `tf.one_hot` to 15 means any sample with a `\"line_number\"` value of over 15 gets set to a tensor of all 0's, where as any sample with a `\"line_number\"` of under 15 gets turned into a tensor of all 0's but with a 1 at the index equal to the `\"line_number\"` value."
      ]
    },
    {
      "cell_type": "code",
      "metadata": {
        "id": "eNVJ5ke5jcDh"
      },
      "source": [
        "# Use TensorFlow to create one-hot-encoded tensors of our \"line_number\" column \n",
        "train_line_numbers_one_hot = tf.one_hot(train_df[\"line_number\"].to_numpy(), depth=15)\n",
        "val_line_numbers_one_hot = tf.one_hot(val_df[\"line_number\"].to_numpy(), depth=15)\n",
        "test_line_numbers_one_hot = tf.one_hot(test_df[\"line_number\"].to_numpy(), depth=15)"
      ],
      "execution_count": null,
      "outputs": []
    },
    {
      "cell_type": "markdown",
      "metadata": {
        "id": "1OV3y6cZlg5Y"
      },
      "source": [
        "We could create a one-hot tensor which has room for all of the potential values of `\"line_number\"` (`depth=30`), however, this would end up in a tensor of double the size of our current one (`depth=15`) where the vast majority of values are 0. Plus, only ~2,000/180,000 samples have a `\"line_number\"` value of over 15. So we would not be gaining much information about our data for doubling our feature space. This kind of problem is called the curse of dimensionality."
      ]
    },
    {
      "cell_type": "code",
      "metadata": {
        "colab": {
          "base_uri": "https://localhost:8080/"
        },
        "id": "Rl1gskjRlJcI",
        "outputId": "49ebc87f-3590-4b80-e7a3-d4578f2a6583"
      },
      "source": [
        "# Check one-hot encoded \"line_number\" feature samples\n",
        "train_line_numbers_one_hot.shape, train_line_numbers_one_hot[:20]"
      ],
      "execution_count": null,
      "outputs": [
        {
          "output_type": "execute_result",
          "data": {
            "text/plain": [
              "(TensorShape([180040, 15]), <tf.Tensor: shape=(20, 15), dtype=float32, numpy=\n",
              " array([[1., 0., 0., 0., 0., 0., 0., 0., 0., 0., 0., 0., 0., 0., 0.],\n",
              "        [0., 1., 0., 0., 0., 0., 0., 0., 0., 0., 0., 0., 0., 0., 0.],\n",
              "        [0., 0., 1., 0., 0., 0., 0., 0., 0., 0., 0., 0., 0., 0., 0.],\n",
              "        [0., 0., 0., 1., 0., 0., 0., 0., 0., 0., 0., 0., 0., 0., 0.],\n",
              "        [0., 0., 0., 0., 1., 0., 0., 0., 0., 0., 0., 0., 0., 0., 0.],\n",
              "        [0., 0., 0., 0., 0., 1., 0., 0., 0., 0., 0., 0., 0., 0., 0.],\n",
              "        [0., 0., 0., 0., 0., 0., 1., 0., 0., 0., 0., 0., 0., 0., 0.],\n",
              "        [0., 0., 0., 0., 0., 0., 0., 1., 0., 0., 0., 0., 0., 0., 0.],\n",
              "        [0., 0., 0., 0., 0., 0., 0., 0., 1., 0., 0., 0., 0., 0., 0.],\n",
              "        [0., 0., 0., 0., 0., 0., 0., 0., 0., 1., 0., 0., 0., 0., 0.],\n",
              "        [0., 0., 0., 0., 0., 0., 0., 0., 0., 0., 1., 0., 0., 0., 0.],\n",
              "        [0., 0., 0., 0., 0., 0., 0., 0., 0., 0., 0., 1., 0., 0., 0.],\n",
              "        [1., 0., 0., 0., 0., 0., 0., 0., 0., 0., 0., 0., 0., 0., 0.],\n",
              "        [0., 1., 0., 0., 0., 0., 0., 0., 0., 0., 0., 0., 0., 0., 0.],\n",
              "        [0., 0., 1., 0., 0., 0., 0., 0., 0., 0., 0., 0., 0., 0., 0.],\n",
              "        [0., 0., 0., 1., 0., 0., 0., 0., 0., 0., 0., 0., 0., 0., 0.],\n",
              "        [0., 0., 0., 0., 1., 0., 0., 0., 0., 0., 0., 0., 0., 0., 0.],\n",
              "        [0., 0., 0., 0., 0., 1., 0., 0., 0., 0., 0., 0., 0., 0., 0.],\n",
              "        [0., 0., 0., 0., 0., 0., 1., 0., 0., 0., 0., 0., 0., 0., 0.],\n",
              "        [0., 0., 0., 0., 0., 0., 0., 1., 0., 0., 0., 0., 0., 0., 0.]],\n",
              "       dtype=float32)>)"
            ]
          },
          "metadata": {
            "tags": []
          },
          "execution_count": 87
        }
      ]
    },
    {
      "cell_type": "code",
      "metadata": {
        "colab": {
          "base_uri": "https://localhost:8080/"
        },
        "id": "q-zuHuMQl8M_",
        "outputId": "f71d1569-6317-4d0b-c9e6-4f46c227476a"
      },
      "source": [
        "# How many different numbers of lines are there?\n",
        "train_df[\"total_lines\"].value_counts()"
      ],
      "execution_count": null,
      "outputs": [
        {
          "output_type": "execute_result",
          "data": {
            "text/plain": [
              "11    24468\n",
              "10    23639\n",
              "12    22113\n",
              "9     19400\n",
              "13    18438\n",
              "14    14610\n",
              "8     12285\n",
              "15    10768\n",
              "7      7464\n",
              "16     7429\n",
              "17     5202\n",
              "6      3353\n",
              "18     3344\n",
              "19     2480\n",
              "20     1281\n",
              "5      1146\n",
              "21      770\n",
              "22      759\n",
              "23      264\n",
              "4       215\n",
              "24      200\n",
              "25      182\n",
              "26       81\n",
              "28       58\n",
              "3        32\n",
              "30       31\n",
              "27       28\n",
              "Name: total_lines, dtype: int64"
            ]
          },
          "metadata": {
            "tags": []
          },
          "execution_count": 88
        }
      ]
    },
    {
      "cell_type": "code",
      "metadata": {
        "colab": {
          "base_uri": "https://localhost:8080/"
        },
        "id": "iVkNC6NtmVyE",
        "outputId": "35cf59ed-9bea-472e-b87b-786da9cb2f58"
      },
      "source": [
        "# Check the distribution of total lines\n",
        "train_df.total_lines.plot.hist()"
      ],
      "execution_count": null,
      "outputs": [
        {
          "output_type": "execute_result",
          "data": {
            "text/plain": [
              "<matplotlib.axes._subplots.AxesSubplot at 0x7f79d032b210>"
            ]
          },
          "metadata": {
            "tags": []
          },
          "execution_count": 89
        },
        {
          "output_type": "display_data",
          "data": {
            "image/png": "[encoded data removed]",
            "text/plain": [
              "<Figure size 432x288 with 1 Axes>"
            ]
          },
          "metadata": {
            "tags": [],
            "needs_background": "light"
          }
        }
      ]
    },
    {
      "cell_type": "code",
      "metadata": {
        "colab": {
          "base_uri": "https://localhost:8080/"
        },
        "id": "lnAiPqUdmuFU",
        "outputId": "c48f73c7-3f6e-41ff-bce4-22bb96d8819c"
      },
      "source": [
        "# Check the coverage of a \"total_lines\" value of 20\n",
        "np.percentile(train_df[\"total_lines\"], 98)"
      ],
      "execution_count": null,
      "outputs": [
        {
          "output_type": "execute_result",
          "data": {
            "text/plain": [
              "20.0"
            ]
          },
          "metadata": {
            "tags": []
          },
          "execution_count": 90
        }
      ]
    },
    {
      "cell_type": "code",
      "metadata": {
        "colab": {
          "base_uri": "https://localhost:8080/"
        },
        "id": "SDr2jJ_xnEMz",
        "outputId": "7e34b7e1-d7cc-4b64-ffb3-d8228158e3c1"
      },
      "source": [
        "# Use TensorFlow to create one-hot-encoded tensors of our \"total_lines\" column \n",
        "train_total_lines_one_hot = tf.one_hot(train_df[\"total_lines\"].to_numpy(), depth=20)\n",
        "val_total_lines_one_hot = tf.one_hot(val_df[\"total_lines\"].to_numpy(), depth=20)\n",
        "test_total_lines_one_hot = tf.one_hot(test_df[\"total_lines\"].to_numpy(), depth=20)\n",
        "\n",
        "# Check shape and samples of total lines one-hot tensor\n",
        "train_total_lines_one_hot.shape, train_total_lines_one_hot[:10]"
      ],
      "execution_count": null,
      "outputs": [
        {
          "output_type": "execute_result",
          "data": {
            "text/plain": [
              "(TensorShape([180040, 20]), <tf.Tensor: shape=(10, 20), dtype=float32, numpy=\n",
              " array([[0., 0., 0., 0., 0., 0., 0., 0., 0., 0., 0., 1., 0., 0., 0., 0.,\n",
              "         0., 0., 0., 0.],\n",
              "        [0., 0., 0., 0., 0., 0., 0., 0., 0., 0., 0., 1., 0., 0., 0., 0.,\n",
              "         0., 0., 0., 0.],\n",
              "        [0., 0., 0., 0., 0., 0., 0., 0., 0., 0., 0., 1., 0., 0., 0., 0.,\n",
              "         0., 0., 0., 0.],\n",
              "        [0., 0., 0., 0., 0., 0., 0., 0., 0., 0., 0., 1., 0., 0., 0., 0.,\n",
              "         0., 0., 0., 0.],\n",
              "        [0., 0., 0., 0., 0., 0., 0., 0., 0., 0., 0., 1., 0., 0., 0., 0.,\n",
              "         0., 0., 0., 0.],\n",
              "        [0., 0., 0., 0., 0., 0., 0., 0., 0., 0., 0., 1., 0., 0., 0., 0.,\n",
              "         0., 0., 0., 0.],\n",
              "        [0., 0., 0., 0., 0., 0., 0., 0., 0., 0., 0., 1., 0., 0., 0., 0.,\n",
              "         0., 0., 0., 0.],\n",
              "        [0., 0., 0., 0., 0., 0., 0., 0., 0., 0., 0., 1., 0., 0., 0., 0.,\n",
              "         0., 0., 0., 0.],\n",
              "        [0., 0., 0., 0., 0., 0., 0., 0., 0., 0., 0., 1., 0., 0., 0., 0.,\n",
              "         0., 0., 0., 0.],\n",
              "        [0., 0., 0., 0., 0., 0., 0., 0., 0., 0., 0., 1., 0., 0., 0., 0.,\n",
              "         0., 0., 0., 0.]], dtype=float32)>)"
            ]
          },
          "metadata": {
            "tags": []
          },
          "execution_count": 91
        }
      ]
    },
    {
      "cell_type": "markdown",
      "metadata": {
        "id": "VhcbGj5PoUu9"
      },
      "source": [
        "### Building a tribrid embedding model"
      ]
    },
    {
      "cell_type": "code",
      "metadata": {
        "id": "HdPKVwi-oPXj"
      },
      "source": [
        "# 1. Token inputs\n",
        "token_inputs = layers.Input(shape=[], dtype=tf.string, name=\"token_inputs\")\n",
        "token_embeddings = tf_hub_embedding_layer(token_inputs)\n",
        "token_outputs = layers.Dense(128, activation=\"relu\")(token_embeddings)\n",
        "token_model = tf.keras.Model(inputs=token_inputs,\n",
        "                             outputs=token_outputs)\n",
        "\n",
        "# 2. Char inputs\n",
        "char_inputs = layers.Input(shape=(1,), dtype=tf.string, name=\"char_inputs\")\n",
        "char_vectors = char_vectorizer(char_inputs)\n",
        "char_embeddings = char_embed(char_vectors)\n",
        "char_bi_lstm = layers.Bidirectional(layers.LSTM(32))(char_embeddings)\n",
        "char_model = tf.keras.Model(inputs=char_inputs,\n",
        "                            outputs=char_bi_lstm)\n",
        "\n",
        "# 3. Line numbers inputs\n",
        "line_number_inputs = layers.Input(shape=(15,), dtype=tf.int32, name=\"line_number_inputs\")\n",
        "x = layers.Dense(32, activation=\"relu\")(line_number_inputs)\n",
        "line_number_model = tf.keras.Model(inputs=line_number_inputs,\n",
        "                                   outputs=x)\n",
        "\n",
        "# 4. Total lines inputs\n",
        "total_lines_inputs = layers.Input(shape=(20,), dtype=tf.int32, name=\"total_lines_inputs\")\n",
        "y = layers.Dense(32, activation=\"relu\")(total_lines_inputs)\n",
        "total_lines_model = tf.keras.Model(inputs=total_lines_inputs,\n",
        "                                   outputs=y)\n",
        "\n",
        "# 5. Combine token and char embeddings into a hybrid embedding\n",
        "combined_embeddings = layers.Concatenate(name=\"token_char_hybrid_embedding\")([token_model.output,\n",
        "                                                                              char_model.output])\n",
        "z = layers.Dense(256, activation=\"relu\")(combined_embeddings)\n",
        "z = layers.Dropout(0.5)(z)\n",
        "\n",
        "# 6. Combine positional embeddings with combined token and char embeddings into a tribrid embedding\n",
        "z = layers.Concatenate(name=\"token_char_positional_embedding\")([line_number_model.output,\n",
        "                                                               total_lines_model.output,\n",
        "                                                               z])\n",
        "\n",
        "# 7. Create output layer\n",
        "output_layer = layers.Dense(5, activation=\"softmax\", name=\"output_layer\")(z)\n",
        "\n",
        "# 8. Put together model\n",
        "model_5 = tf.keras.Model(inputs=[token_model.input,\n",
        "                                 char_model.input,\n",
        "                                 line_number_model.input,\n",
        "                                 total_lines_model.input],\n",
        "                         outputs=output_layer)"
      ],
      "execution_count": null,
      "outputs": []
    },
    {
      "cell_type": "code",
      "metadata": {
        "colab": {
          "base_uri": "https://localhost:8080/"
        },
        "id": "BAf-2BUlv279",
        "outputId": "58efc451-885d-4a3e-b4b6-4bb36a0751c1"
      },
      "source": [
        "# Get a summary of our token, char and positional embedding model\n",
        "model_5.summary()"
      ],
      "execution_count": null,
      "outputs": [
        {
          "output_type": "stream",
          "text": [
            "Model: \"model_8\"\n",
            "__________________________________________________________________________________________________\n",
            "Layer (type)                    Output Shape         Param #     Connected to                     \n",
            "==================================================================================================\n",
            "char_inputs (InputLayer)        [(None, 1)]          0                                            \n",
            "__________________________________________________________________________________________________\n",
            "token_inputs (InputLayer)       [(None,)]            0                                            \n",
            "__________________________________________________________________________________________________\n",
            "char_vectorizer (TextVectorizat (None, 290)          0           char_inputs[0][0]                \n",
            "__________________________________________________________________________________________________\n",
            "universal_sentence_encoder (Ker (None, 512)          256797824   token_inputs[0][0]               \n",
            "__________________________________________________________________________________________________\n",
            "char_embed (Embedding)          (None, 290, 25)      1750        char_vectorizer[2][0]            \n",
            "__________________________________________________________________________________________________\n",
            "dense_7 (Dense)                 (None, 128)          65664       universal_sentence_encoder[2][0] \n",
            "__________________________________________________________________________________________________\n",
            "bidirectional_1 (Bidirectional) (None, 64)           14848       char_embed[2][0]                 \n",
            "__________________________________________________________________________________________________\n",
            "token_char_hybrid_embedding (Co (None, 192)          0           dense_7[0][0]                    \n",
            "                                                                 bidirectional_1[0][0]            \n",
            "__________________________________________________________________________________________________\n",
            "line_number_inputs (InputLayer) [(None, 15)]         0                                            \n",
            "__________________________________________________________________________________________________\n",
            "total_lines_inputs (InputLayer) [(None, 20)]         0                                            \n",
            "__________________________________________________________________________________________________\n",
            "dense_10 (Dense)                (None, 256)          49408       token_char_hybrid_embedding[0][0]\n",
            "__________________________________________________________________________________________________\n",
            "dense_8 (Dense)                 (None, 32)           512         line_number_inputs[0][0]         \n",
            "__________________________________________________________________________________________________\n",
            "dense_9 (Dense)                 (None, 32)           672         total_lines_inputs[0][0]         \n",
            "__________________________________________________________________________________________________\n",
            "dropout_2 (Dropout)             (None, 256)          0           dense_10[0][0]                   \n",
            "__________________________________________________________________________________________________\n",
            "token_char_positional_embedding (None, 320)          0           dense_8[0][0]                    \n",
            "                                                                 dense_9[0][0]                    \n",
            "                                                                 dropout_2[0][0]                  \n",
            "__________________________________________________________________________________________________\n",
            "output_layer (Dense)            (None, 5)            1605        token_char_positional_embedding[0\n",
            "==================================================================================================\n",
            "Total params: 256,932,283\n",
            "Trainable params: 134,459\n",
            "Non-trainable params: 256,797,824\n",
            "__________________________________________________________________________________________________\n"
          ],
          "name": "stdout"
        }
      ]
    },
    {
      "cell_type": "code",
      "metadata": {
        "colab": {
          "base_uri": "https://localhost:8080/"
        },
        "id": "TqIW8_u4wISt",
        "outputId": "ad4ed12b-66b3-4879-df41-7cb41b965533"
      },
      "source": [
        "# Plot the token, char, positional embedding model\n",
        "from tensorflow.keras.utils import plot_model\n",
        "plot_model(model_5)"
      ],
      "execution_count": null,
      "outputs": [
        {
          "output_type": "execute_result",
          "data": {
            "image/png": "[encoded data removed]",
            "text/plain": [
              "<IPython.core.display.Image object>"
            ]
          },
          "metadata": {
            "tags": []
          },
          "execution_count": 94
        }
      ]
    },
    {
      "cell_type": "markdown",
      "metadata": {
        "id": "wIYyu146w_pk"
      },
      "source": [
        "You'll notice our model is looking very similar to the model shown in Figure 1 of Neural Networks for Joint Sentence Classification in Medical Paper Abstracts. However, a few differences still remain:\n",
        "\n",
        "\n",
        "\n",
        "*   We're using pretrained TensorFlow Hub token embeddings instead of GloVe emebddings.\n",
        "*   We're using a Dense layer on top of our token-character hybrid embeddings instead of a bi-LSTM layer.\n",
        "*   Section 3.1.3 of the paper mentions a label sequence optimization layer (which helps to make sure sequence labels come out in a respectable order) but it isn't shown in Figure 1. To makeup for the lack of this layer in our model, we've created the positional embeddings layers.\n",
        "*   Section 4.2 of the paper mentions the token and character embeddings are updated during training, our pretrained TensorFlow Hub embeddings remain frozen.\n",
        "*   The paper uses the SGD optimizer, we're going to stick with Adam.\n",
        "\n"
      ]
    },
    {
      "cell_type": "code",
      "metadata": {
        "colab": {
          "base_uri": "https://localhost:8080/"
        },
        "id": "m5TXHXtWwWhK",
        "outputId": "4dc20f52-8a68-4dad-c8ff-373e6a07bda8"
      },
      "source": [
        "# Check which layers of our model are trainable or not\n",
        "for layer in model_5.layers:\n",
        "  print(layer, layer.trainable)"
      ],
      "execution_count": null,
      "outputs": [
        {
          "output_type": "stream",
          "text": [
            "<tensorflow.python.keras.engine.input_layer.InputLayer object at 0x7f79d025bfd0> True\n",
            "<tensorflow.python.keras.engine.input_layer.InputLayer object at 0x7f79d025b150> True\n",
            "<tensorflow.python.keras.layers.preprocessing.text_vectorization.TextVectorization object at 0x7f79defce7d0> True\n",
            "<tensorflow_hub.keras_layer.KerasLayer object at 0x7f7a800a5250> False\n",
            "<tensorflow.python.keras.layers.embeddings.Embedding object at 0x7f79defdba50> True\n",
            "<tensorflow.python.keras.layers.core.Dense object at 0x7f79d025b650> True\n",
            "<tensorflow.python.keras.layers.wrappers.Bidirectional object at 0x7f79d01cb390> True\n",
            "<tensorflow.python.keras.layers.merge.Concatenate object at 0x7f79cfc6add0> True\n",
            "<tensorflow.python.keras.engine.input_layer.InputLayer object at 0x7f79d021d4d0> True\n",
            "<tensorflow.python.keras.engine.input_layer.InputLayer object at 0x7f79cff61790> True\n",
            "<tensorflow.python.keras.layers.core.Dense object at 0x7f79cfc6ae10> True\n",
            "<tensorflow.python.keras.layers.core.Dense object at 0x7f79dcfb8990> True\n",
            "<tensorflow.python.keras.layers.core.Dense object at 0x7f79cfc5d490> True\n",
            "<tensorflow.python.keras.layers.core.Dropout object at 0x7f79cfc6a350> True\n",
            "<tensorflow.python.keras.layers.merge.Concatenate object at 0x7f79cfc5e410> True\n",
            "<tensorflow.python.keras.layers.core.Dense object at 0x7f79cfc6e090> True\n"
          ],
          "name": "stdout"
        }
      ]
    },
    {
      "cell_type": "markdown",
      "metadata": {
        "id": "biChsxobyBJ1"
      },
      "source": [
        "This time, we're going to introduce a new parameter to our loss function called label_smoothing. Label smoothing helps to regularize our model (prevent overfitting) by making sure it doesn't get too focused on applying one particular label to a sample."
      ]
    },
    {
      "cell_type": "code",
      "metadata": {
        "id": "3sr2pMtexc5R"
      },
      "source": [
        "# Compile token, char, positional embedding model\n",
        "model_5.compile(loss=tf.keras.losses.CategoricalCrossentropy(label_smoothing=0.2), # add label smoothing (examples which are really confident get smoothed a little)\n",
        "                optimizer=tf.keras.optimizers.Adam(),\n",
        "                metrics=[\"accuracy\"])"
      ],
      "execution_count": null,
      "outputs": []
    },
    {
      "cell_type": "markdown",
      "metadata": {
        "id": "MDRk00dryunI"
      },
      "source": [
        "### Create tribrid embedding datasets and fit tribrid model"
      ]
    },
    {
      "cell_type": "code",
      "metadata": {
        "colab": {
          "base_uri": "https://localhost:8080/"
        },
        "id": "ilUVgaGlyoLp",
        "outputId": "0c1151e6-a99c-4c0e-f42e-7c670b0dc26d"
      },
      "source": [
        "# Create training and validation datasets (all four kinds of inputs)\n",
        "train_pos_char_token_data = tf.data.Dataset.from_tensor_slices((train_sentences,\n",
        "                                                                train_chars,\n",
        "                                                                train_line_numbers_one_hot,\n",
        "                                                                train_total_lines_one_hot))\n",
        "train_pos_char_token_labels = tf.data.Dataset.from_tensor_slices(train_labels_one_hot)\n",
        "train_pos_char_token_dataset = tf.data.Dataset.zip((train_pos_char_token_data, train_pos_char_token_labels))\n",
        "train_pos_char_token_dataset = train_pos_char_token_dataset.batch(32).prefetch(tf.data.AUTOTUNE)\n",
        "\n",
        "# Validation dataset\n",
        "val_pos_char_token_data = tf.data.Dataset.from_tensor_slices((val_sentences,\n",
        "                                                              val_chars,\n",
        "                                                              val_line_numbers_one_hot,\n",
        "                                                              val_total_lines_one_hot))\n",
        "val_pos_char_token_labels = tf.data.Dataset.from_tensor_slices(val_labels_one_hot)\n",
        "val_pos_char_token_dataset = tf.data.Dataset.zip((val_pos_char_token_data, val_pos_char_token_labels))\n",
        "val_pos_char_token_dataset = val_pos_char_token_dataset.batch(32).prefetch(tf.data.AUTOTUNE) # turn into batches and prefetch appropriately\n",
        "\n",
        "# Check input shapes\n",
        "train_pos_char_token_dataset, val_pos_char_token_dataset"
      ],
      "execution_count": null,
      "outputs": [
        {
          "output_type": "execute_result",
          "data": {
            "text/plain": [
              "(<PrefetchDataset shapes: (((None,), (None,), (None, 15), (None, 20)), (None, 5)), types: ((tf.string, tf.string, tf.float32, tf.float32), tf.float64)>,\n",
              " <PrefetchDataset shapes: (((None,), (None,), (None, 15), (None, 20)), (None, 5)), types: ((tf.string, tf.string, tf.float32, tf.float32), tf.float64)>)"
            ]
          },
          "metadata": {
            "tags": []
          },
          "execution_count": 97
        }
      ]
    },
    {
      "cell_type": "code",
      "metadata": {
        "id": "sF__TLpoFepb"
      },
      "source": [
        "# Create ModelCheckpoint callback to save model's progress\n",
        "checkpoint_path = \"model_checkpoints/cp.ckpt\" # saving weights requires \".ckpt\" extension\n",
        "model_checkpoint = tf.keras.callbacks.ModelCheckpoint(filepath=checkpoint_path,\n",
        "                                                      save_best_only=True)\n",
        "\n",
        "# Setup EarlyStopping callback to stop training if model's val_loss doesn't improve for 3 epochs\n",
        "early_stopping = tf.keras.callbacks.EarlyStopping(patience=3)"
      ],
      "execution_count": null,
      "outputs": []
    },
    {
      "cell_type": "code",
      "metadata": {
        "colab": {
          "base_uri": "https://localhost:8080/"
        },
        "id": "HRisdzNw1E26",
        "outputId": "2e82e9de-3ec8-49ec-e945-9218cd53e457"
      },
      "source": [
        "# Fit the token, char and positional embedding model\n",
        "history_model_5 = model_5.fit(train_pos_char_token_dataset,\n",
        "                              steps_per_epoch=len(train_pos_char_token_dataset),\n",
        "                              epochs=20,\n",
        "                              validation_data=val_pos_char_token_dataset,\n",
        "                              validation_steps=int(0.1 * len(val_pos_char_token_dataset)),\n",
        "                              callbacks=[model_checkpoint,\n",
        "                                         early_stopping])"
      ],
      "execution_count": null,
      "outputs": [
        {
          "output_type": "stream",
          "text": [
            "Epoch 1/20\n",
            "5627/5627 [==============================] - 679s 119ms/step - loss: 0.9534 - accuracy: 0.8233 - val_loss: 0.9099 - val_accuracy: 0.8438\n"
          ],
          "name": "stdout"
        },
        {
          "output_type": "stream",
          "text": [
            "WARNING:absl:Found untraced functions such as lstm_cell_4_layer_call_and_return_conditional_losses, lstm_cell_4_layer_call_fn, lstm_cell_5_layer_call_and_return_conditional_losses, lstm_cell_5_layer_call_fn, lstm_cell_4_layer_call_fn while saving (showing 5 of 10). These functions will not be directly callable after loading.\n"
          ],
          "name": "stderr"
        },
        {
          "output_type": "stream",
          "text": [
            "INFO:tensorflow:Assets written to: model_checkpoints/cp.ckpt/assets\n"
          ],
          "name": "stdout"
        },
        {
          "output_type": "stream",
          "text": [
            "INFO:tensorflow:Assets written to: model_checkpoints/cp.ckpt/assets\n"
          ],
          "name": "stderr"
        },
        {
          "output_type": "stream",
          "text": [
            "Epoch 2/20\n",
            "5627/5627 [==============================] - 665s 118ms/step - loss: 0.9085 - accuracy: 0.8549 - val_loss: 0.9017 - val_accuracy: 0.8537\n"
          ],
          "name": "stdout"
        },
        {
          "output_type": "stream",
          "text": [
            "WARNING:absl:Found untraced functions such as lstm_cell_4_layer_call_and_return_conditional_losses, lstm_cell_4_layer_call_fn, lstm_cell_5_layer_call_and_return_conditional_losses, lstm_cell_5_layer_call_fn, lstm_cell_4_layer_call_fn while saving (showing 5 of 10). These functions will not be directly callable after loading.\n"
          ],
          "name": "stderr"
        },
        {
          "output_type": "stream",
          "text": [
            "INFO:tensorflow:Assets written to: model_checkpoints/cp.ckpt/assets\n"
          ],
          "name": "stdout"
        },
        {
          "output_type": "stream",
          "text": [
            "INFO:tensorflow:Assets written to: model_checkpoints/cp.ckpt/assets\n"
          ],
          "name": "stderr"
        },
        {
          "output_type": "stream",
          "text": [
            "Epoch 3/20\n",
            "5627/5627 [==============================] - 666s 118ms/step - loss: 0.8954 - accuracy: 0.8640 - val_loss: 0.8987 - val_accuracy: 0.8561\n"
          ],
          "name": "stdout"
        },
        {
          "output_type": "stream",
          "text": [
            "WARNING:absl:Found untraced functions such as lstm_cell_4_layer_call_and_return_conditional_losses, lstm_cell_4_layer_call_fn, lstm_cell_5_layer_call_and_return_conditional_losses, lstm_cell_5_layer_call_fn, lstm_cell_4_layer_call_fn while saving (showing 5 of 10). These functions will not be directly callable after loading.\n"
          ],
          "name": "stderr"
        },
        {
          "output_type": "stream",
          "text": [
            "INFO:tensorflow:Assets written to: model_checkpoints/cp.ckpt/assets\n"
          ],
          "name": "stdout"
        },
        {
          "output_type": "stream",
          "text": [
            "INFO:tensorflow:Assets written to: model_checkpoints/cp.ckpt/assets\n"
          ],
          "name": "stderr"
        },
        {
          "output_type": "stream",
          "text": [
            "Epoch 4/20\n",
            "5627/5627 [==============================] - 665s 118ms/step - loss: 0.8868 - accuracy: 0.8706 - val_loss: 0.8991 - val_accuracy: 0.8577\n",
            "Epoch 5/20\n",
            "5627/5627 [==============================] - 664s 118ms/step - loss: 0.8801 - accuracy: 0.8757 - val_loss: 0.8985 - val_accuracy: 0.8534\n"
          ],
          "name": "stdout"
        },
        {
          "output_type": "stream",
          "text": [
            "WARNING:absl:Found untraced functions such as lstm_cell_4_layer_call_and_return_conditional_losses, lstm_cell_4_layer_call_fn, lstm_cell_5_layer_call_and_return_conditional_losses, lstm_cell_5_layer_call_fn, lstm_cell_4_layer_call_fn while saving (showing 5 of 10). These functions will not be directly callable after loading.\n"
          ],
          "name": "stderr"
        },
        {
          "output_type": "stream",
          "text": [
            "INFO:tensorflow:Assets written to: model_checkpoints/cp.ckpt/assets\n"
          ],
          "name": "stdout"
        },
        {
          "output_type": "stream",
          "text": [
            "INFO:tensorflow:Assets written to: model_checkpoints/cp.ckpt/assets\n"
          ],
          "name": "stderr"
        },
        {
          "output_type": "stream",
          "text": [
            "Epoch 6/20\n",
            "5627/5627 [==============================] - 665s 118ms/step - loss: 0.8733 - accuracy: 0.8803 - val_loss: 0.9024 - val_accuracy: 0.8511\n",
            "Epoch 7/20\n",
            "5627/5627 [==============================] - 665s 118ms/step - loss: 0.8685 - accuracy: 0.8848 - val_loss: 0.9048 - val_accuracy: 0.8501\n",
            "Epoch 8/20\n",
            "5627/5627 [==============================] - 665s 118ms/step - loss: 0.8637 - accuracy: 0.8882 - val_loss: 0.9016 - val_accuracy: 0.8541\n"
          ],
          "name": "stdout"
        }
      ]
    },
    {
      "cell_type": "code",
      "metadata": {
        "colab": {
          "base_uri": "https://localhost:8080/"
        },
        "id": "9gBlBh761W58",
        "outputId": "e1235f90-935f-4d22-a7e0-97535f17735b"
      },
      "source": [
        "# Make predictions with token-char-positional hybrid model\n",
        "model_5_pred_probs = model_5.predict(val_pos_char_token_dataset, verbose=1)\n",
        "model_5_pred_probs"
      ],
      "execution_count": null,
      "outputs": [
        {
          "output_type": "stream",
          "text": [
            "945/945 [==============================] - 47s 50ms/step\n"
          ],
          "name": "stdout"
        },
        {
          "output_type": "execute_result",
          "data": {
            "text/plain": [
              "array([[0.578746  , 0.08761216, 0.0209059 , 0.29179516, 0.02094079],\n",
              "       [0.5928701 , 0.11774789, 0.03159508, 0.24449293, 0.013294  ],\n",
              "       [0.40068993, 0.09093946, 0.0198752 , 0.45457953, 0.03391595],\n",
              "       ...,\n",
              "       [0.02512644, 0.09307478, 0.02827695, 0.03356085, 0.81996095],\n",
              "       [0.02759466, 0.44140744, 0.04631951, 0.03093467, 0.45374367],\n",
              "       [0.02693645, 0.91223305, 0.03049   , 0.02031056, 0.01002994]],\n",
              "      dtype=float32)"
            ]
          },
          "metadata": {
            "tags": []
          },
          "execution_count": 103
        }
      ]
    },
    {
      "cell_type": "code",
      "metadata": {
        "colab": {
          "base_uri": "https://localhost:8080/"
        },
        "id": "ab19qnHk1jiz",
        "outputId": "8f25c347-69ec-4183-8642-6bcbe0345087"
      },
      "source": [
        "# Turn prediction probabilities into prediction classes\n",
        "model_5_preds = tf.argmax(model_5_pred_probs, axis=1)\n",
        "model_5_preds"
      ],
      "execution_count": null,
      "outputs": [
        {
          "output_type": "execute_result",
          "data": {
            "text/plain": [
              "<tf.Tensor: shape=(30212,), dtype=int64, numpy=array([0, 0, 3, ..., 4, 4, 1])>"
            ]
          },
          "metadata": {
            "tags": []
          },
          "execution_count": 104
        }
      ]
    },
    {
      "cell_type": "code",
      "metadata": {
        "colab": {
          "base_uri": "https://localhost:8080/"
        },
        "id": "GwPGEypu1kAD",
        "outputId": "1df1cd8f-5f22-4d70-81a7-507f0a2389f5"
      },
      "source": [
        "# Calculate results of token-char-positional hybrid model\n",
        "model_5_results = calculate_results(y_true=val_labels_encoded,\n",
        "                                    y_pred=model_5_preds)\n",
        "model_5_results"
      ],
      "execution_count": null,
      "outputs": [
        {
          "output_type": "execute_result",
          "data": {
            "text/plain": [
              "{'accuracy': 85.74738514497551,\n",
              " 'f1': 0.8547095382584745,\n",
              " 'precision': 0.8593115025548798,\n",
              " 'recall': 0.8574738514497551}"
            ]
          },
          "metadata": {
            "tags": []
          },
          "execution_count": 105
        }
      ]
    },
    {
      "cell_type": "markdown",
      "metadata": {
        "id": "DtBAbl2Od6Qn"
      },
      "source": [
        "## Compare model results"
      ]
    },
    {
      "cell_type": "code",
      "metadata": {
        "colab": {
          "base_uri": "https://localhost:8080/",
          "height": 235
        },
        "id": "f1dyqgD_anRH",
        "outputId": "ecc4e039-d714-4666-ef28-a593be4a0801"
      },
      "source": [
        "# Combine model results into a DataFrame\n",
        "all_model_results = pd.DataFrame({\"baseline\": baseline_results,\n",
        "                                  \"custom_token_embed_conv1d\": model_1_results,\n",
        "                                  \"pretrained_token_embed\": model_2_results,\n",
        "                                  \"custom_char_embed_conv1d\": model_3_results,\n",
        "                                  \"hybrid_char_token_embed\": model_4_results,\n",
        "                                  \"tribrid_pos_char_token_embed\": model_5_results})\n",
        "all_model_results = all_model_results.transpose()\n",
        "all_model_results"
      ],
      "execution_count": null,
      "outputs": [
        {
          "output_type": "execute_result",
          "data": {
            "text/html": [
              "<div>\n",
              "<style scoped>\n",
              "    .dataframe tbody tr th:only-of-type {\n",
              "        vertical-align: middle;\n",
              "    }\n",
              "\n",
              "    .dataframe tbody tr th {\n",
              "        vertical-align: top;\n",
              "    }\n",
              "\n",
              "    .dataframe thead th {\n",
              "        text-align: right;\n",
              "    }\n",
              "</style>\n",
              "<table border=\"1\" class=\"dataframe\">\n",
              "  <thead>\n",
              "    <tr style=\"text-align: right;\">\n",
              "      <th></th>\n",
              "      <th>accuracy</th>\n",
              "      <th>precision</th>\n",
              "      <th>recall</th>\n",
              "      <th>f1</th>\n",
              "    </tr>\n",
              "  </thead>\n",
              "  <tbody>\n",
              "    <tr>\n",
              "      <th>baseline</th>\n",
              "      <td>72.183238</td>\n",
              "      <td>0.718647</td>\n",
              "      <td>0.721832</td>\n",
              "      <td>0.698925</td>\n",
              "    </tr>\n",
              "    <tr>\n",
              "      <th>custom_token_embed_conv1d</th>\n",
              "      <td>78.862704</td>\n",
              "      <td>0.785042</td>\n",
              "      <td>0.788627</td>\n",
              "      <td>0.786243</td>\n",
              "    </tr>\n",
              "    <tr>\n",
              "      <th>pretrained_token_embed</th>\n",
              "      <td>71.527870</td>\n",
              "      <td>0.715705</td>\n",
              "      <td>0.715279</td>\n",
              "      <td>0.712261</td>\n",
              "    </tr>\n",
              "    <tr>\n",
              "      <th>custom_char_embed_conv1d</th>\n",
              "      <td>66.063154</td>\n",
              "      <td>0.655919</td>\n",
              "      <td>0.660632</td>\n",
              "      <td>0.653014</td>\n",
              "    </tr>\n",
              "    <tr>\n",
              "      <th>hybrid_char_token_embed</th>\n",
              "      <td>73.546935</td>\n",
              "      <td>0.737400</td>\n",
              "      <td>0.735469</td>\n",
              "      <td>0.733732</td>\n",
              "    </tr>\n",
              "    <tr>\n",
              "      <th>tribrid_pos_char_token_embed</th>\n",
              "      <td>85.747385</td>\n",
              "      <td>0.859312</td>\n",
              "      <td>0.857474</td>\n",
              "      <td>0.854710</td>\n",
              "    </tr>\n",
              "  </tbody>\n",
              "</table>\n",
              "</div>"
            ],
            "text/plain": [
              "                               accuracy  precision    recall        f1\n",
              "baseline                      72.183238   0.718647  0.721832  0.698925\n",
              "custom_token_embed_conv1d     78.862704   0.785042  0.788627  0.786243\n",
              "pretrained_token_embed        71.527870   0.715705  0.715279  0.712261\n",
              "custom_char_embed_conv1d      66.063154   0.655919  0.660632  0.653014\n",
              "hybrid_char_token_embed       73.546935   0.737400  0.735469  0.733732\n",
              "tribrid_pos_char_token_embed  85.747385   0.859312  0.857474  0.854710"
            ]
          },
          "metadata": {
            "tags": []
          },
          "execution_count": 106
        }
      ]
    },
    {
      "cell_type": "code",
      "metadata": {
        "id": "CW2vCRfleawz"
      },
      "source": [
        "# Reduce the accuracy to same scale as other metrics\n",
        "all_model_results[\"accuracy\"] = all_model_results[\"accuracy\"] / 100"
      ],
      "execution_count": null,
      "outputs": []
    },
    {
      "cell_type": "code",
      "metadata": {
        "colab": {
          "base_uri": "https://localhost:8080/",
          "height": 588
        },
        "id": "Y8NWgKCfe08N",
        "outputId": "0180cfb4-177c-4950-9c13-626237dd96a4"
      },
      "source": [
        "# Plot and compare all of the model results\n",
        "all_model_results.plot(kind=\"bar\", figsize=(10,7)).legend(bbox_to_anchor=(1.0, 1.0))"
      ],
      "execution_count": null,
      "outputs": [
        {
          "output_type": "execute_result",
          "data": {
            "text/plain": [
              "<matplotlib.legend.Legend at 0x7f79c663f950>"
            ]
          },
          "metadata": {
            "tags": []
          },
          "execution_count": 108
        },
        {
          "output_type": "display_data",
          "data": {
            "image/png": "[encoded data removed]",
            "text/plain": [
              "<Figure size 720x504 with 1 Axes>"
            ]
          },
          "metadata": {
            "tags": [],
            "needs_background": "light"
          }
        }
      ]
    },
    {
      "cell_type": "code",
      "metadata": {
        "colab": {
          "base_uri": "https://localhost:8080/",
          "height": 588
        },
        "id": "x2oKhtrVfJg5",
        "outputId": "fcf06a82-2b32-4a42-94fe-63c4bff9883e"
      },
      "source": [
        "# Sort model results by f1-score\n",
        "all_model_results.sort_values(\"f1\", ascending=False)[\"f1\"].plot(kind=\"bar\", figsize=(10,7))"
      ],
      "execution_count": null,
      "outputs": [
        {
          "output_type": "execute_result",
          "data": {
            "text/plain": [
              "<matplotlib.axes._subplots.AxesSubplot at 0x7f79c8a536d0>"
            ]
          },
          "metadata": {
            "tags": []
          },
          "execution_count": 109
        },
        {
          "output_type": "display_data",
          "data": {
            "image/png": "[encoded data removed]",
            "text/plain": [
              "<Figure size 720x504 with 1 Axes>"
            ]
          },
          "metadata": {
            "tags": [],
            "needs_background": "light"
          }
        }
      ]
    },
    {
      "cell_type": "markdown",
      "metadata": {
        "id": "7GYJwDbegmhq"
      },
      "source": [
        "Though, in comparison to the results reported in Table 3 of the PubMed 200k RCT: a Dataset for Sequential Sentence Classification in Medical Abstracts paper, our model's F1-score is still underperforming (the authors model achieves an F1-score of 90.0 on the 20k RCT dataset versus our F1-score of ~82.6).\n",
        "\n",
        "There are some things to note about this difference:\n",
        "\n",
        "\n",
        "*   Our models (with an exception for the baseline) have been trained on ~18,000 (10% of batches) samples of sequences and labels rather than the full ~180,000 in the 20k RCT dataset.\n",
        "  *   This is often the case in machine learning experiments though, make sure training works on a smaller number of samples, then upscale when needed (an extension to this project will be training a model on the full dataset).\n",
        "*   Our model's prediction performance levels have been evaluated on the validation dataset not the test dataset (we'll evaluate our best model on the test dataset shortly).\n",
        "\n"
      ]
    },
    {
      "cell_type": "markdown",
      "metadata": {
        "id": "fH06xt0bg3HJ"
      },
      "source": [
        "## Save and load best performing model"
      ]
    },
    {
      "cell_type": "code",
      "metadata": {
        "colab": {
          "base_uri": "https://localhost:8080/"
        },
        "id": "RcVpb044f3z2",
        "outputId": "81deabff-fd40-4c68-f58f-3ff46fe81fdf"
      },
      "source": [
        "# Save best performing model to SavedModel format (default)\n",
        "model_5.save(\"skimlit_tribrid_model\") # model will be saved to path specified by string"
      ],
      "execution_count": null,
      "outputs": [
        {
          "output_type": "stream",
          "text": [
            "WARNING:absl:Found untraced functions such as lstm_cell_4_layer_call_and_return_conditional_losses, lstm_cell_4_layer_call_fn, lstm_cell_5_layer_call_and_return_conditional_losses, lstm_cell_5_layer_call_fn, lstm_cell_4_layer_call_fn while saving (showing 5 of 10). These functions will not be directly callable after loading.\n"
          ],
          "name": "stderr"
        },
        {
          "output_type": "stream",
          "text": [
            "INFO:tensorflow:Assets written to: skimlit_tribrid_model/assets\n"
          ],
          "name": "stdout"
        },
        {
          "output_type": "stream",
          "text": [
            "INFO:tensorflow:Assets written to: skimlit_tribrid_model/assets\n"
          ],
          "name": "stderr"
        }
      ]
    },
    {
      "cell_type": "code",
      "metadata": {
        "id": "zhdMrksOhER6"
      },
      "source": [
        "# Example of copying saved model from Google Colab to Drive (requires Google Drive to be mounted)\n",
        "!cp skimlit_tribrid_model -r /content/drive/MyDrive/skim_lit"
      ],
      "execution_count": null,
      "outputs": []
    },
    {
      "cell_type": "markdown",
      "metadata": {
        "id": "lfU6MwpniO3v"
      },
      "source": [
        "And when loading in our model, since it uses a couple of custom objects (our TensorFlow Hub layer and `TextVectorization` layer), we'll have to load it in by specifying them in the `custom_objects` parameter of `tf.keras.models.load_model()`."
      ]
    },
    {
      "cell_type": "code",
      "metadata": {
        "id": "7EiGB7NchSOD"
      },
      "source": [
        "# Import TensorFlow model dependencies (if needed) - https://github.com/tensorflow/tensorflow/issues/38250 \n",
        "import tensorflow_hub as hub\n",
        "import tensorflow as tf\n",
        "from tensorflow.keras.layers.experimental.preprocessing import TextVectorization\n",
        "\n",
        "model_path = \"drive/MyDrive/skim_lit/skimlit_tribrid_model\"\n",
        "\n",
        "# Load downloaded model from Google Storage\n",
        "loaded_model = tf.keras.models.load_model(model_path,\n",
        "                                          custom_objects={\"TextVectorization\": TextVectorization, # required for char vectorization\n",
        "                                                          \"KerasLayer\": hub.KerasLayer}) # required for token embedding"
      ],
      "execution_count": null,
      "outputs": []
    },
    {
      "cell_type": "markdown",
      "metadata": {
        "id": "clrNUCBJlzNo"
      },
      "source": [
        "### Make predictions and evalaute them against the truth labels"
      ]
    },
    {
      "cell_type": "code",
      "metadata": {
        "colab": {
          "base_uri": "https://localhost:8080/"
        },
        "id": "gqNK736clmxc",
        "outputId": "3030231f-f13e-4f4a-fb2e-225a532dc9fd"
      },
      "source": [
        "# Make predictions with the loaded model on the validation set\n",
        "loaded_pred_probs = loaded_model.predict(val_pos_char_token_dataset, verbose=1)\n",
        "loaded_preds = tf.argmax(loaded_pred_probs, axis=1)\n",
        "loaded_preds[:10]"
      ],
      "execution_count": null,
      "outputs": [
        {
          "output_type": "stream",
          "text": [
            "945/945 [==============================] - 52s 50ms/step\n"
          ],
          "name": "stdout"
        },
        {
          "output_type": "execute_result",
          "data": {
            "text/plain": [
              "<tf.Tensor: shape=(10,), dtype=int64, numpy=array([0, 0, 3, 2, 2, 4, 4, 4, 4, 1])>"
            ]
          },
          "metadata": {
            "tags": []
          },
          "execution_count": 120
        }
      ]
    },
    {
      "cell_type": "code",
      "metadata": {
        "colab": {
          "base_uri": "https://localhost:8080/"
        },
        "id": "nHVPk-bdmWbq",
        "outputId": "34ff351d-0ffe-4b4f-d9f0-64d52b055005"
      },
      "source": [
        "# Evaluate loaded model's predictions\n",
        "# Evaluate loaded model's predictions\n",
        "loaded_model_results = calculate_results(val_labels_encoded,\n",
        "                                         loaded_preds)\n",
        "loaded_model_results"
      ],
      "execution_count": null,
      "outputs": [
        {
          "output_type": "execute_result",
          "data": {
            "text/plain": [
              "{'accuracy': 85.74738514497551,\n",
              " 'f1': 0.8547095382584745,\n",
              " 'precision': 0.8593115025548798,\n",
              " 'recall': 0.8574738514497551}"
            ]
          },
          "metadata": {
            "tags": []
          },
          "execution_count": 121
        }
      ]
    },
    {
      "cell_type": "code",
      "metadata": {
        "id": "91_hr1ZBmjO5"
      },
      "source": [
        "# Compare loaded model results with original trained model results (should return no errors)\n",
        "assert model_5_results == loaded_model_results"
      ],
      "execution_count": null,
      "outputs": []
    },
    {
      "cell_type": "code",
      "metadata": {
        "colab": {
          "base_uri": "https://localhost:8080/"
        },
        "id": "xGZKZMFzmuST",
        "outputId": "d2c6a463-52c7-4257-fd84-f579dcf77da0"
      },
      "source": [
        "# Check loaded model summary (note the number of trainable parameters)\n",
        "loaded_model.summary()"
      ],
      "execution_count": null,
      "outputs": [
        {
          "output_type": "stream",
          "text": [
            "Model: \"model_8\"\n",
            "__________________________________________________________________________________________________\n",
            "Layer (type)                    Output Shape         Param #     Connected to                     \n",
            "==================================================================================================\n",
            "char_inputs (InputLayer)        [(None, 1)]          0                                            \n",
            "__________________________________________________________________________________________________\n",
            "token_inputs (InputLayer)       [(None,)]            0                                            \n",
            "__________________________________________________________________________________________________\n",
            "char_vectorizer (TextVectorizat (None, 290)          0           char_inputs[0][0]                \n",
            "__________________________________________________________________________________________________\n",
            "universal_sentence_encoder (Ker (None, 512)          256797824   token_inputs[0][0]               \n",
            "__________________________________________________________________________________________________\n",
            "char_embed (Embedding)          (None, 290, 25)      1750        char_vectorizer[0][0]            \n",
            "__________________________________________________________________________________________________\n",
            "dense_7 (Dense)                 (None, 128)          65664       universal_sentence_encoder[0][0] \n",
            "__________________________________________________________________________________________________\n",
            "bidirectional_1 (Bidirectional) (None, 64)           14848       char_embed[0][0]                 \n",
            "__________________________________________________________________________________________________\n",
            "token_char_hybrid_embedding (Co (None, 192)          0           dense_7[0][0]                    \n",
            "                                                                 bidirectional_1[0][0]            \n",
            "__________________________________________________________________________________________________\n",
            "line_number_inputs (InputLayer) [(None, 15)]         0                                            \n",
            "__________________________________________________________________________________________________\n",
            "total_lines_inputs (InputLayer) [(None, 20)]         0                                            \n",
            "__________________________________________________________________________________________________\n",
            "dense_10 (Dense)                (None, 256)          49408       token_char_hybrid_embedding[0][0]\n",
            "__________________________________________________________________________________________________\n",
            "dense_8 (Dense)                 (None, 32)           512         line_number_inputs[0][0]         \n",
            "__________________________________________________________________________________________________\n",
            "dense_9 (Dense)                 (None, 32)           672         total_lines_inputs[0][0]         \n",
            "__________________________________________________________________________________________________\n",
            "dropout_2 (Dropout)             (None, 256)          0           dense_10[0][0]                   \n",
            "__________________________________________________________________________________________________\n",
            "token_char_positional_embedding (None, 320)          0           dense_8[0][0]                    \n",
            "                                                                 dense_9[0][0]                    \n",
            "                                                                 dropout_2[0][0]                  \n",
            "__________________________________________________________________________________________________\n",
            "output_layer (Dense)            (None, 5)            1605        token_char_positional_embedding[0\n",
            "==================================================================================================\n",
            "Total params: 256,932,283\n",
            "Trainable params: 134,459\n",
            "Non-trainable params: 256,797,824\n",
            "__________________________________________________________________________________________________\n"
          ],
          "name": "stdout"
        }
      ]
    },
    {
      "cell_type": "markdown",
      "metadata": {
        "id": "qFQl0PwenC2X"
      },
      "source": [
        "It's worth noting that loading in a SavedModel unfreezes all layers (makes them all trainable). So if you want to freeze any layers, you'll have to set their trainable attribute to `False`."
      ]
    },
    {
      "cell_type": "markdown",
      "metadata": {
        "id": "eAPl1R8MnLgP"
      },
      "source": [
        "## Evaluate model on test datase"
      ]
    },
    {
      "cell_type": "code",
      "metadata": {
        "colab": {
          "base_uri": "https://localhost:8080/"
        },
        "id": "TAZK3T--m2vs",
        "outputId": "44f0cc42-9265-4622-a664-a5d5aa9db763"
      },
      "source": [
        "# Create test dataset batch and prefetched\n",
        "test_pos_char_token_data = tf.data.Dataset.from_tensor_slices((test_sentences,\n",
        "                                                               test_chars,\n",
        "                                                               test_line_numbers_one_hot,\n",
        "                                                               test_total_lines_one_hot))\n",
        "test_pos_char_token_labels = tf.data.Dataset.from_tensor_slices(test_labels_one_hot)\n",
        "test_pos_char_token_dataset = tf.data.Dataset.zip((test_pos_char_token_data, test_pos_char_token_labels))\n",
        "test_pos_char_token_dataset = test_pos_char_token_dataset.batch(32).prefetch(tf.data.AUTOTUNE)\n",
        "\n",
        "# Check shapes\n",
        "test_pos_char_token_dataset"
      ],
      "execution_count": null,
      "outputs": [
        {
          "output_type": "execute_result",
          "data": {
            "text/plain": [
              "<PrefetchDataset shapes: (((None,), (None,), (None, 15), (None, 20)), (None, 5)), types: ((tf.string, tf.string, tf.float32, tf.float32), tf.float64)>"
            ]
          },
          "metadata": {
            "tags": []
          },
          "execution_count": 124
        }
      ]
    },
    {
      "cell_type": "code",
      "metadata": {
        "colab": {
          "base_uri": "https://localhost:8080/"
        },
        "id": "yLYqNsH3nUFE",
        "outputId": "f92758ca-e7f7-4989-d707-5c30bb803d4d"
      },
      "source": [
        "# Make predictions on the test dataset\n",
        "test_pred_probs = loaded_model.predict(test_pos_char_token_dataset,\n",
        "                                       verbose=1)\n",
        "test_preds = tf.argmax(test_pred_probs, axis=1)\n",
        "test_preds[:10]"
      ],
      "execution_count": null,
      "outputs": [
        {
          "output_type": "stream",
          "text": [
            "942/942 [==============================] - 47s 50ms/step\n"
          ],
          "name": "stdout"
        },
        {
          "output_type": "execute_result",
          "data": {
            "text/plain": [
              "<tf.Tensor: shape=(10,), dtype=int64, numpy=array([3, 2, 2, 2, 4, 4, 4, 1, 1, 0])>"
            ]
          },
          "metadata": {
            "tags": []
          },
          "execution_count": 125
        }
      ]
    },
    {
      "cell_type": "code",
      "metadata": {
        "colab": {
          "base_uri": "https://localhost:8080/"
        },
        "id": "v8uD-t5nnf0C",
        "outputId": "f989952c-fd5b-456d-fd6a-9c7ca2ffe60e"
      },
      "source": [
        "# Evaluate loaded model test predictions\n",
        "loaded_model_test_results = calculate_results(y_true=test_labels_encoded,\n",
        "                                              y_pred=test_preds)\n",
        "loaded_model_test_results"
      ],
      "execution_count": null,
      "outputs": [
        {
          "output_type": "execute_result",
          "data": {
            "text/plain": [
              "{'accuracy': 85.38244566119131,\n",
              " 'f1': 0.8506965491624671,\n",
              " 'precision': 0.8542155506343708,\n",
              " 'recall': 0.8538244566119131}"
            ]
          },
          "metadata": {
            "tags": []
          },
          "execution_count": 126
        }
      ]
    },
    {
      "cell_type": "markdown",
      "metadata": {
        "id": "vNPNrAnHnuyR"
      },
      "source": [
        "It seems our best model (so far) still has some ways to go to match the performance of the results in the paper (their model gets 90.0 F1-score on the test dataset, where as ours gets ~82.1 F1-score).\n",
        "\n",
        "However, as we discussed before our model has only been trained on 20,000 out of the total ~180,000 sequences in the RCT 20k dataset. We also haven't fine-tuned our pretrained embeddings (the paper fine-tunes GloVe embeddings). So there's a couple of extensions we could try to improve our results."
      ]
    },
    {
      "cell_type": "markdown",
      "metadata": {
        "id": "zgv8Uu81nzwo"
      },
      "source": [
        "## Find most wrong"
      ]
    },
    {
      "cell_type": "markdown",
      "metadata": {
        "id": "JUbfDy0mn_iU"
      },
      "source": [
        "Looking at the most wrong predictions can give us valuable information on how to improve further models or fix the labels in our data."
      ]
    },
    {
      "cell_type": "code",
      "metadata": {
        "colab": {
          "base_uri": "https://localhost:8080/"
        },
        "id": "PwM-KsQ-nioq",
        "outputId": "e8675337-a6dc-4ad6-e509-92cb31798782"
      },
      "source": [
        "%%time\n",
        "# Get list of class names of test predictions\n",
        "test_pred_classes = [label_encoder.classes_[pred] for pred in test_preds]\n",
        "test_pred_classes"
      ],
      "execution_count": null,
      "outputs": [
        {
          "output_type": "stream",
          "text": [
            "CPU times: user 12.4 s, sys: 1.59 s, total: 14 s\n",
            "Wall time: 11.8 s\n"
          ],
          "name": "stdout"
        }
      ]
    },
    {
      "cell_type": "code",
      "metadata": {
        "colab": {
          "base_uri": "https://localhost:8080/"
        },
        "id": "Ag9QyYsYoQlr",
        "outputId": "db62444b-a7e6-4367-907b-88999d1d40c7"
      },
      "source": [
        "# Create prediction-enriched test dataframe\n",
        "test_df[\"prediction\"] = test_pred_classes # create column with test prediction class names\n",
        "test_df[\"pred_prob\"] = tf.reduce_max(test_pred_probs, axis=1).numpy() # get the maximum prediction probability\n",
        "test_df[\"correct\"] = test_df[\"prediction\"] == test_df[\"target\"] # create binary column for whether the prediction is right or not\n",
        "test_df.head(20)"
      ],
      "execution_count": null,
      "outputs": [
        {
          "output_type": "execute_result",
          "data": {
            "text/html": [
              "<div>\n",
              "<style scoped>\n",
              "    .dataframe tbody tr th:only-of-type {\n",
              "        vertical-align: middle;\n",
              "    }\n",
              "\n",
              "    .dataframe tbody tr th {\n",
              "        vertical-align: top;\n",
              "    }\n",
              "\n",
              "    .dataframe thead th {\n",
              "        text-align: right;\n",
              "    }\n",
              "</style>\n",
              "<table border=\"1\" class=\"dataframe\">\n",
              "  <thead>\n",
              "    <tr style=\"text-align: right;\">\n",
              "      <th></th>\n",
              "      <th>target</th>\n",
              "      <th>text</th>\n",
              "      <th>line_number</th>\n",
              "      <th>total_lines</th>\n",
              "      <th>prediction</th>\n",
              "      <th>pred_prob</th>\n",
              "      <th>correct</th>\n",
              "    </tr>\n",
              "  </thead>\n",
              "  <tbody>\n",
              "    <tr>\n",
              "      <th>0</th>\n",
              "      <td>BACKGROUND</td>\n",
              "      <td>this study analyzed liver function abnormaliti...</td>\n",
              "      <td>0</td>\n",
              "      <td>8</td>\n",
              "      <td>OBJECTIVE</td>\n",
              "      <td>0.424815</td>\n",
              "      <td>False</td>\n",
              "    </tr>\n",
              "    <tr>\n",
              "      <th>1</th>\n",
              "      <td>RESULTS</td>\n",
              "      <td>a post hoc analysis was conducted with the use...</td>\n",
              "      <td>1</td>\n",
              "      <td>8</td>\n",
              "      <td>METHODS</td>\n",
              "      <td>0.499753</td>\n",
              "      <td>False</td>\n",
              "    </tr>\n",
              "    <tr>\n",
              "      <th>2</th>\n",
              "      <td>RESULTS</td>\n",
              "      <td>liver function tests ( lfts ) were measured at...</td>\n",
              "      <td>2</td>\n",
              "      <td>8</td>\n",
              "      <td>METHODS</td>\n",
              "      <td>0.835144</td>\n",
              "      <td>False</td>\n",
              "    </tr>\n",
              "    <tr>\n",
              "      <th>3</th>\n",
              "      <td>RESULTS</td>\n",
              "      <td>survival analyses were used to assess the asso...</td>\n",
              "      <td>3</td>\n",
              "      <td>8</td>\n",
              "      <td>METHODS</td>\n",
              "      <td>0.797949</td>\n",
              "      <td>False</td>\n",
              "    </tr>\n",
              "    <tr>\n",
              "      <th>4</th>\n",
              "      <td>RESULTS</td>\n",
              "      <td>the percentage of patients with abnormal lfts ...</td>\n",
              "      <td>4</td>\n",
              "      <td>8</td>\n",
              "      <td>RESULTS</td>\n",
              "      <td>0.753653</td>\n",
              "      <td>True</td>\n",
              "    </tr>\n",
              "    <tr>\n",
              "      <th>5</th>\n",
              "      <td>RESULTS</td>\n",
              "      <td>when mean hemodynamic profiles were compared i...</td>\n",
              "      <td>5</td>\n",
              "      <td>8</td>\n",
              "      <td>RESULTS</td>\n",
              "      <td>0.808723</td>\n",
              "      <td>True</td>\n",
              "    </tr>\n",
              "    <tr>\n",
              "      <th>6</th>\n",
              "      <td>RESULTS</td>\n",
              "      <td>multivariable analyses revealed that patients ...</td>\n",
              "      <td>6</td>\n",
              "      <td>8</td>\n",
              "      <td>RESULTS</td>\n",
              "      <td>0.877650</td>\n",
              "      <td>True</td>\n",
              "    </tr>\n",
              "    <tr>\n",
              "      <th>7</th>\n",
              "      <td>CONCLUSIONS</td>\n",
              "      <td>abnormal lfts are common in the adhf populatio...</td>\n",
              "      <td>7</td>\n",
              "      <td>8</td>\n",
              "      <td>CONCLUSIONS</td>\n",
              "      <td>0.675050</td>\n",
              "      <td>True</td>\n",
              "    </tr>\n",
              "    <tr>\n",
              "      <th>8</th>\n",
              "      <td>CONCLUSIONS</td>\n",
              "      <td>elevated meld-xi scores are associated with po...</td>\n",
              "      <td>8</td>\n",
              "      <td>8</td>\n",
              "      <td>CONCLUSIONS</td>\n",
              "      <td>0.858200</td>\n",
              "      <td>True</td>\n",
              "    </tr>\n",
              "    <tr>\n",
              "      <th>9</th>\n",
              "      <td>BACKGROUND</td>\n",
              "      <td>minimally invasive endovascular aneurysm repai...</td>\n",
              "      <td>0</td>\n",
              "      <td>12</td>\n",
              "      <td>BACKGROUND</td>\n",
              "      <td>0.643477</td>\n",
              "      <td>True</td>\n",
              "    </tr>\n",
              "    <tr>\n",
              "      <th>10</th>\n",
              "      <td>BACKGROUND</td>\n",
              "      <td>the aim of this study was to analyse the cost-...</td>\n",
              "      <td>1</td>\n",
              "      <td>12</td>\n",
              "      <td>BACKGROUND</td>\n",
              "      <td>0.575574</td>\n",
              "      <td>True</td>\n",
              "    </tr>\n",
              "    <tr>\n",
              "      <th>11</th>\n",
              "      <td>METHODS</td>\n",
              "      <td>resource use was determined from the amsterdam...</td>\n",
              "      <td>2</td>\n",
              "      <td>12</td>\n",
              "      <td>METHODS</td>\n",
              "      <td>0.764197</td>\n",
              "      <td>True</td>\n",
              "    </tr>\n",
              "    <tr>\n",
              "      <th>12</th>\n",
              "      <td>METHODS</td>\n",
              "      <td>the analysis was performed from a provider per...</td>\n",
              "      <td>3</td>\n",
              "      <td>12</td>\n",
              "      <td>METHODS</td>\n",
              "      <td>0.861039</td>\n",
              "      <td>True</td>\n",
              "    </tr>\n",
              "    <tr>\n",
              "      <th>13</th>\n",
              "      <td>METHODS</td>\n",
              "      <td>all costs were calculated as if all patients h...</td>\n",
              "      <td>4</td>\n",
              "      <td>12</td>\n",
              "      <td>METHODS</td>\n",
              "      <td>0.785040</td>\n",
              "      <td>True</td>\n",
              "    </tr>\n",
              "    <tr>\n",
              "      <th>14</th>\n",
              "      <td>RESULTS</td>\n",
              "      <td>a total of @ patients were randomized .</td>\n",
              "      <td>5</td>\n",
              "      <td>12</td>\n",
              "      <td>RESULTS</td>\n",
              "      <td>0.947615</td>\n",
              "      <td>True</td>\n",
              "    </tr>\n",
              "    <tr>\n",
              "      <th>15</th>\n",
              "      <td>RESULTS</td>\n",
              "      <td>the @-day mortality rate was @ per cent after ...</td>\n",
              "      <td>6</td>\n",
              "      <td>12</td>\n",
              "      <td>RESULTS</td>\n",
              "      <td>0.801409</td>\n",
              "      <td>True</td>\n",
              "    </tr>\n",
              "    <tr>\n",
              "      <th>16</th>\n",
              "      <td>RESULTS</td>\n",
              "      <td>at @months , the total mortality rate for evar...</td>\n",
              "      <td>7</td>\n",
              "      <td>12</td>\n",
              "      <td>RESULTS</td>\n",
              "      <td>0.874078</td>\n",
              "      <td>True</td>\n",
              "    </tr>\n",
              "    <tr>\n",
              "      <th>17</th>\n",
              "      <td>RESULTS</td>\n",
              "      <td>the mean cost difference between evar and or w...</td>\n",
              "      <td>8</td>\n",
              "      <td>12</td>\n",
              "      <td>RESULTS</td>\n",
              "      <td>0.916492</td>\n",
              "      <td>True</td>\n",
              "    </tr>\n",
              "    <tr>\n",
              "      <th>18</th>\n",
              "      <td>RESULTS</td>\n",
              "      <td>the incremental cost-effectiveness ratio per p...</td>\n",
              "      <td>9</td>\n",
              "      <td>12</td>\n",
              "      <td>RESULTS</td>\n",
              "      <td>0.934814</td>\n",
              "      <td>True</td>\n",
              "    </tr>\n",
              "    <tr>\n",
              "      <th>19</th>\n",
              "      <td>RESULTS</td>\n",
              "      <td>there was no significant difference in quality...</td>\n",
              "      <td>10</td>\n",
              "      <td>12</td>\n",
              "      <td>RESULTS</td>\n",
              "      <td>0.795793</td>\n",
              "      <td>True</td>\n",
              "    </tr>\n",
              "  </tbody>\n",
              "</table>\n",
              "</div>"
            ],
            "text/plain": [
              "         target  ... correct\n",
              "0    BACKGROUND  ...   False\n",
              "1       RESULTS  ...   False\n",
              "2       RESULTS  ...   False\n",
              "3       RESULTS  ...   False\n",
              "4       RESULTS  ...    True\n",
              "5       RESULTS  ...    True\n",
              "6       RESULTS  ...    True\n",
              "7   CONCLUSIONS  ...    True\n",
              "8   CONCLUSIONS  ...    True\n",
              "9    BACKGROUND  ...    True\n",
              "10   BACKGROUND  ...    True\n",
              "11      METHODS  ...    True\n",
              "12      METHODS  ...    True\n",
              "13      METHODS  ...    True\n",
              "14      RESULTS  ...    True\n",
              "15      RESULTS  ...    True\n",
              "16      RESULTS  ...    True\n",
              "17      RESULTS  ...    True\n",
              "18      RESULTS  ...    True\n",
              "19      RESULTS  ...    True\n",
              "\n",
              "[20 rows x 7 columns]"
            ]
          },
          "metadata": {
            "tags": []
          },
          "execution_count": 128
        }
      ]
    },
    {
      "cell_type": "code",
      "metadata": {
        "colab": {
          "base_uri": "https://localhost:8080/"
        },
        "id": "r01NeWygoif8",
        "outputId": "c913a2d6-112d-4add-d227-c446ec4824d2"
      },
      "source": [
        "# Find top 100 most wrong samples (note: 100 is an abitrary number, you could go through all of them if you wanted)\n",
        "top_100_wrong = test_df[test_df['correct'] == False].sort_values(\"pred_prob\", ascending=False)[:100]\n",
        "top_100_wrong"
      ],
      "execution_count": null,
      "outputs": [
        {
          "output_type": "execute_result",
          "data": {
            "text/html": [
              "<div>\n",
              "<style scoped>\n",
              "    .dataframe tbody tr th:only-of-type {\n",
              "        vertical-align: middle;\n",
              "    }\n",
              "\n",
              "    .dataframe tbody tr th {\n",
              "        vertical-align: top;\n",
              "    }\n",
              "\n",
              "    .dataframe thead th {\n",
              "        text-align: right;\n",
              "    }\n",
              "</style>\n",
              "<table border=\"1\" class=\"dataframe\">\n",
              "  <thead>\n",
              "    <tr style=\"text-align: right;\">\n",
              "      <th></th>\n",
              "      <th>target</th>\n",
              "      <th>text</th>\n",
              "      <th>line_number</th>\n",
              "      <th>total_lines</th>\n",
              "      <th>prediction</th>\n",
              "      <th>pred_prob</th>\n",
              "      <th>correct</th>\n",
              "    </tr>\n",
              "  </thead>\n",
              "  <tbody>\n",
              "    <tr>\n",
              "      <th>1827</th>\n",
              "      <td>CONCLUSIONS</td>\n",
              "      <td>nct@ ( clinicaltrials.gov ) .</td>\n",
              "      <td>18</td>\n",
              "      <td>18</td>\n",
              "      <td>BACKGROUND</td>\n",
              "      <td>0.963123</td>\n",
              "      <td>False</td>\n",
              "    </tr>\n",
              "    <tr>\n",
              "      <th>8545</th>\n",
              "      <td>METHODS</td>\n",
              "      <td>pretest-posttest .</td>\n",
              "      <td>1</td>\n",
              "      <td>11</td>\n",
              "      <td>BACKGROUND</td>\n",
              "      <td>0.960438</td>\n",
              "      <td>False</td>\n",
              "    </tr>\n",
              "    <tr>\n",
              "      <th>19223</th>\n",
              "      <td>METHODS</td>\n",
              "      <td>of the @ dogs receiving placebo , @ ( @ % ) vo...</td>\n",
              "      <td>7</td>\n",
              "      <td>10</td>\n",
              "      <td>RESULTS</td>\n",
              "      <td>0.951603</td>\n",
              "      <td>False</td>\n",
              "    </tr>\n",
              "    <tr>\n",
              "      <th>12536</th>\n",
              "      <td>CONCLUSIONS</td>\n",
              "      <td>similarly , dissociation at the time of the ev...</td>\n",
              "      <td>8</td>\n",
              "      <td>8</td>\n",
              "      <td>RESULTS</td>\n",
              "      <td>0.950392</td>\n",
              "      <td>False</td>\n",
              "    </tr>\n",
              "    <tr>\n",
              "      <th>22736</th>\n",
              "      <td>OBJECTIVE</td>\n",
              "      <td>the national institute of oncology , budapest ...</td>\n",
              "      <td>4</td>\n",
              "      <td>20</td>\n",
              "      <td>METHODS</td>\n",
              "      <td>0.944186</td>\n",
              "      <td>False</td>\n",
              "    </tr>\n",
              "    <tr>\n",
              "      <th>...</th>\n",
              "      <td>...</td>\n",
              "      <td>...</td>\n",
              "      <td>...</td>\n",
              "      <td>...</td>\n",
              "      <td>...</td>\n",
              "      <td>...</td>\n",
              "      <td>...</td>\n",
              "    </tr>\n",
              "    <tr>\n",
              "      <th>7870</th>\n",
              "      <td>METHODS</td>\n",
              "      <td>a total of @,@ participants had three valid sy...</td>\n",
              "      <td>5</td>\n",
              "      <td>12</td>\n",
              "      <td>RESULTS</td>\n",
              "      <td>0.870362</td>\n",
              "      <td>False</td>\n",
              "    </tr>\n",
              "    <tr>\n",
              "      <th>20752</th>\n",
              "      <td>BACKGROUND</td>\n",
              "      <td>the experiment lasted @weeks , and samples wer...</td>\n",
              "      <td>2</td>\n",
              "      <td>9</td>\n",
              "      <td>METHODS</td>\n",
              "      <td>0.870197</td>\n",
              "      <td>False</td>\n",
              "    </tr>\n",
              "    <tr>\n",
              "      <th>15675</th>\n",
              "      <td>RESULTS</td>\n",
              "      <td>the lite group received @ follow-up phone call...</td>\n",
              "      <td>4</td>\n",
              "      <td>10</td>\n",
              "      <td>METHODS</td>\n",
              "      <td>0.869841</td>\n",
              "      <td>False</td>\n",
              "    </tr>\n",
              "    <tr>\n",
              "      <th>20004</th>\n",
              "      <td>CONCLUSIONS</td>\n",
              "      <td>no treatment-related serious ae occurred .</td>\n",
              "      <td>10</td>\n",
              "      <td>11</td>\n",
              "      <td>RESULTS</td>\n",
              "      <td>0.868052</td>\n",
              "      <td>False</td>\n",
              "    </tr>\n",
              "    <tr>\n",
              "      <th>13844</th>\n",
              "      <td>OBJECTIVE</td>\n",
              "      <td>unhealthy alcohol use is a leading contributor...</td>\n",
              "      <td>0</td>\n",
              "      <td>15</td>\n",
              "      <td>BACKGROUND</td>\n",
              "      <td>0.867862</td>\n",
              "      <td>False</td>\n",
              "    </tr>\n",
              "  </tbody>\n",
              "</table>\n",
              "<p>100 rows × 7 columns</p>\n",
              "</div>"
            ],
            "text/plain": [
              "            target  ... correct\n",
              "1827   CONCLUSIONS  ...   False\n",
              "8545       METHODS  ...   False\n",
              "19223      METHODS  ...   False\n",
              "12536  CONCLUSIONS  ...   False\n",
              "22736    OBJECTIVE  ...   False\n",
              "...            ...  ...     ...\n",
              "7870       METHODS  ...   False\n",
              "20752   BACKGROUND  ...   False\n",
              "15675      RESULTS  ...   False\n",
              "20004  CONCLUSIONS  ...   False\n",
              "13844    OBJECTIVE  ...   False\n",
              "\n",
              "[100 rows x 7 columns]"
            ]
          },
          "metadata": {
            "tags": []
          },
          "execution_count": 129
        }
      ]
    },
    {
      "cell_type": "code",
      "metadata": {
        "colab": {
          "base_uri": "https://localhost:8080/"
        },
        "id": "8n6ALBrmpcKs",
        "outputId": "42edbe40-fe54-49fd-c3f7-9531962d615e"
      },
      "source": [
        "# Investigate top wrong preds\n",
        "for row in top_100_wrong[0:10].itertuples(): # adjust indexes to view different samples\n",
        "  _, target, text, line_number, total_lines, prediction, pred_prob, _ = row\n",
        "  print(f\"Target: {target}, Pred: {prediction}, Prob: {pred_prob}, Line number: {line_number}, Total lines: {total_lines}\\n\")\n",
        "  print(f\"Text:\\n{text}\\n\")\n",
        "  print(\"-----\\n\")"
      ],
      "execution_count": null,
      "outputs": [
        {
          "output_type": "stream",
          "text": [
            "Target: CONCLUSIONS, Pred: BACKGROUND, Prob: 0.9631230235099792, Line number: 18, Total lines: 18\n",
            "\n",
            "Text:\n",
            "nct@ ( clinicaltrials.gov ) .\n",
            "\n",
            "-----\n",
            "\n",
            "Target: METHODS, Pred: BACKGROUND, Prob: 0.9604375958442688, Line number: 1, Total lines: 11\n",
            "\n",
            "Text:\n",
            "pretest-posttest .\n",
            "\n",
            "-----\n",
            "\n",
            "Target: METHODS, Pred: RESULTS, Prob: 0.9516029953956604, Line number: 7, Total lines: 10\n",
            "\n",
            "Text:\n",
            "of the @ dogs receiving placebo , @ ( @ % ) vomited and @ ( @ % ) developed signs of nausea ; overall , @ of @ ( @ % ) dogs in the placebo treatment group vomited or developed signs of nausea .\n",
            "\n",
            "-----\n",
            "\n",
            "Target: CONCLUSIONS, Pred: RESULTS, Prob: 0.9503917694091797, Line number: 8, Total lines: 8\n",
            "\n",
            "Text:\n",
            "similarly , dissociation at the time of the event was positively related to ptsd symptoms in those who received treatment as usual .\n",
            "\n",
            "-----\n",
            "\n",
            "Target: OBJECTIVE, Pred: METHODS, Prob: 0.9441859722137451, Line number: 4, Total lines: 20\n",
            "\n",
            "Text:\n",
            "the national institute of oncology , budapest conducted a single centre randomized clinical study .\n",
            "\n",
            "-----\n",
            "\n",
            "Target: OBJECTIVE, Pred: BACKGROUND, Prob: 0.9435277581214905, Line number: 2, Total lines: 16\n",
            "\n",
            "Text:\n",
            "there are currently no therapies to prevent or treat bk virus infection .\n",
            "\n",
            "-----\n",
            "\n",
            "Target: METHODS, Pred: RESULTS, Prob: 0.939029335975647, Line number: 6, Total lines: 13\n",
            "\n",
            "Text:\n",
            "a total of @ volunteer subjects were randomized , and @ and @ subjects completed the first and second years of follow-up , respectively .\n",
            "\n",
            "-----\n",
            "\n",
            "Target: METHODS, Pred: RESULTS, Prob: 0.9373728632926941, Line number: 7, Total lines: 14\n",
            "\n",
            "Text:\n",
            "in total , @ patients were recruited .\n",
            "\n",
            "-----\n",
            "\n",
            "Target: CONCLUSIONS, Pred: RESULTS, Prob: 0.9330687522888184, Line number: 6, Total lines: 8\n",
            "\n",
            "Text:\n",
            "overall , the intervention enhanced health at an individual level and favored social network diversity at a group level .\n",
            "\n",
            "-----\n",
            "\n",
            "Target: CONCLUSIONS, Pred: RESULTS, Prob: 0.9314759373664856, Line number: 10, Total lines: 11\n",
            "\n",
            "Text:\n",
            "pain scores were similar among groups , and all @ groups had similar rescue analgesia requirements and similar times to first administration of rescue analgesia .\n",
            "\n",
            "-----\n",
            "\n"
          ],
          "name": "stdout"
        }
      ]
    },
    {
      "cell_type": "markdown",
      "metadata": {
        "id": "3DrHlhMpqoBI"
      },
      "source": [
        "What do we notice about the most wrong predictions? Does the model make silly mistakes? Or are some of the labels incorrect/ambiguous (e.g. a line in an abstract could potentially be labelled OBJECTIVE or BACKGROUND and make sense).\n",
        "\n",
        "A next step here would be if there are a fair few samples with inconsistent labels, we could go through your training dataset, update the labels and then retrain a model. The process of using a model to help improve/investigate your dataset's labels is often referred to as active learning."
      ]
    },
    {
      "cell_type": "markdown",
      "metadata": {
        "id": "zlq-hgA0sMN2"
      },
      "source": [
        "## Make example predictions"
      ]
    },
    {
      "cell_type": "code",
      "metadata": {
        "colab": {
          "base_uri": "https://localhost:8080/"
        },
        "id": "NJBPxFEFp59Q",
        "outputId": "b968827a-c20a-4530-8675-8d76af19c5ed"
      },
      "source": [
        "# Download and open example abstracts (copy and pasted from PubMed)\n",
        "import json\n",
        "!wget https://raw.githubusercontent.com/mrdbourke/tensorflow-deep-learning/main/extras/skimlit_example_abstracts.json\n",
        "\n",
        "with open(\"skimlit_example_abstracts.json\", \"r\") as f:\n",
        "  example_abstracts = json.load(f)\n",
        "\n",
        "example_abstracts"
      ],
      "execution_count": null,
      "outputs": [
        {
          "output_type": "stream",
          "text": [
            "--2021-07-21 16:31:40--  https://raw.githubusercontent.com/mrdbourke/tensorflow-deep-learning/main/extras/skimlit_example_abstracts.json\n",
            "Resolving raw.githubusercontent.com (raw.githubusercontent.com)... 185.199.108.133, 185.199.109.133, 185.199.110.133, ...\n",
            "Connecting to raw.githubusercontent.com (raw.githubusercontent.com)|185.199.108.133|:443... connected.\n",
            "HTTP request sent, awaiting response... 200 OK\n",
            "Length: 6737 (6.6K) [text/plain]\n",
            "Saving to: ‘skimlit_example_abstracts.json’\n",
            "\n",
            "skimlit_example_abs 100%[===================>]   6.58K  --.-KB/s    in 0s      \n",
            "\n",
            "2021-07-21 16:31:41 (54.0 MB/s) - ‘skimlit_example_abstracts.json’ saved [6737/6737]\n",
            "\n"
          ],
          "name": "stdout"
        },
        {
          "output_type": "execute_result",
          "data": {
            "text/plain": [
              "[{'abstract': 'This RCT examined the efficacy of a manualized social intervention for children with HFASDs. Participants were randomly assigned to treatment or wait-list conditions. Treatment included instruction and therapeutic activities targeting social skills, face-emotion recognition, interest expansion, and interpretation of non-literal language. A response-cost program was applied to reduce problem behaviors and foster skills acquisition. Significant treatment effects were found for five of seven primary outcome measures (parent ratings and direct child measures). Secondary measures based on staff ratings (treatment group only) corroborated gains reported by parents. High levels of parent, child and staff satisfaction were reported, along with high levels of treatment fidelity. Standardized effect size estimates were primarily in the medium and large ranges and favored the treatment group.',\n",
              "  'details': 'RCT of a manualized social treatment for high-functioning autism spectrum disorders',\n",
              "  'source': 'https://pubmed.ncbi.nlm.nih.gov/20232240/'},\n",
              " {'abstract': \"Postpartum depression (PPD) is the most prevalent mood disorder associated with childbirth. No single cause of PPD has been identified, however the increased risk of nutritional deficiencies incurred through the high nutritional requirements of pregnancy may play a role in the pathology of depressive symptoms. Three nutritional interventions have drawn particular interest as possible non-invasive and cost-effective prevention and/or treatment strategies for PPD; omega-3 (n-3) long chain polyunsaturated fatty acids (LCPUFA), vitamin D and overall diet. We searched for meta-analyses of randomised controlled trials (RCT's) of nutritional interventions during the perinatal period with PPD as an outcome, and checked for any trials published subsequently to the meta-analyses. Fish oil: Eleven RCT's of prenatal fish oil supplementation RCT's show null and positive effects on PPD symptoms. Vitamin D: no relevant RCT's were identified, however seven observational studies of maternal vitamin D levels with PPD outcomes showed inconsistent associations. Diet: Two Australian RCT's with dietary advice interventions in pregnancy had a positive and null result on PPD. With the exception of fish oil, few RCT's with nutritional interventions during pregnancy assess PPD. Further research is needed to determine whether nutritional intervention strategies during pregnancy can protect against symptoms of PPD. Given the prevalence of PPD and ease of administering PPD measures, we recommend future prenatal nutritional RCT's include PPD as an outcome.\",\n",
              "  'details': 'Formatting removed (can be used to compare model to actual example)',\n",
              "  'source': 'https://pubmed.ncbi.nlm.nih.gov/28012571/'},\n",
              " {'abstract': 'Mental illness, including depression, anxiety and bipolar disorder, accounts for a significant proportion of global disability and poses a substantial social, economic and heath burden. Treatment is presently dominated by pharmacotherapy, such as antidepressants, and psychotherapy, such as cognitive behavioural therapy; however, such treatments avert less than half of the disease burden, suggesting that additional strategies are needed to prevent and treat mental disorders. There are now consistent mechanistic, observational and interventional data to suggest diet quality may be a modifiable risk factor for mental illness. This review provides an overview of the nutritional psychiatry field. It includes a discussion of the neurobiological mechanisms likely modulated by diet, the use of dietary and nutraceutical interventions in mental disorders, and recommendations for further research. Potential biological pathways related to mental disorders include inflammation, oxidative stress, the gut microbiome, epigenetic modifications and neuroplasticity. Consistent epidemiological evidence, particularly for depression, suggests an association between measures of diet quality and mental health, across multiple populations and age groups; these do not appear to be explained by other demographic, lifestyle factors or reverse causality. Our recently published intervention trial provides preliminary clinical evidence that dietary interventions in clinically diagnosed populations are feasible and can provide significant clinical benefit. Furthermore, nutraceuticals including n-3 fatty acids, folate, S-adenosylmethionine, N-acetyl cysteine and probiotics, among others, are promising avenues for future research. Continued research is now required to investigate the efficacy of intervention studies in large cohorts and within clinically relevant populations, particularly in patients with schizophrenia, bipolar and anxiety disorders.',\n",
              "  'details': 'Effect of nutrition on mental health',\n",
              "  'source': 'https://pubmed.ncbi.nlm.nih.gov/28942748/'},\n",
              " {'abstract': \"Hepatitis C virus (HCV) and alcoholic liver disease (ALD), either alone or in combination, count for more than two thirds of all liver diseases in the Western world. There is no safe level of drinking in HCV-infected patients and the most effective goal for these patients is total abstinence. Baclofen, a GABA(B) receptor agonist, represents a promising pharmacotherapy for alcohol dependence (AD). Previously, we performed a randomized clinical trial (RCT), which demonstrated the safety and efficacy of baclofen in patients affected by AD and cirrhosis. The goal of this post-hoc analysis was to explore baclofen's effect in a subgroup of alcohol-dependent HCV-infected cirrhotic patients. Any patient with HCV infection was selected for this analysis. Among the 84 subjects randomized in the main trial, 24 alcohol-dependent cirrhotic patients had a HCV infection; 12 received baclofen 10mg t.i.d. and 12 received placebo for 12-weeks. With respect to the placebo group (3/12, 25.0%), a significantly higher number of patients who achieved and maintained total alcohol abstinence was found in the baclofen group (10/12, 83.3%; p=0.0123). Furthermore, in the baclofen group, compared to placebo, there was a significantly higher increase in albumin values from baseline (p=0.0132) and a trend toward a significant reduction in INR levels from baseline (p=0.0716). In conclusion, baclofen was safe and significantly more effective than placebo in promoting alcohol abstinence, and improving some Liver Function Tests (LFTs) (i.e. albumin, INR) in alcohol-dependent HCV-infected cirrhotic patients. Baclofen may represent a clinically relevant alcohol pharmacotherapy for these patients.\",\n",
              "  'details': 'Baclofen promotes alcohol abstinence in alcohol dependent cirrhotic patients with hepatitis C virus (HCV) infection',\n",
              "  'source': 'https://pubmed.ncbi.nlm.nih.gov/22244707/'}]"
            ]
          },
          "metadata": {
            "tags": []
          },
          "execution_count": 131
        }
      ]
    },
    {
      "cell_type": "code",
      "metadata": {
        "colab": {
          "base_uri": "https://localhost:8080/"
        },
        "id": "S2G8WtG2sP_N",
        "outputId": "4e7de6e5-7e96-403b-b065-bb5d2e9f1cca"
      },
      "source": [
        "# See what our example abstracts look like\n",
        "abstracts = pd.DataFrame(example_abstracts)\n",
        "abstracts"
      ],
      "execution_count": null,
      "outputs": [
        {
          "output_type": "execute_result",
          "data": {
            "text/html": [
              "<div>\n",
              "<style scoped>\n",
              "    .dataframe tbody tr th:only-of-type {\n",
              "        vertical-align: middle;\n",
              "    }\n",
              "\n",
              "    .dataframe tbody tr th {\n",
              "        vertical-align: top;\n",
              "    }\n",
              "\n",
              "    .dataframe thead th {\n",
              "        text-align: right;\n",
              "    }\n",
              "</style>\n",
              "<table border=\"1\" class=\"dataframe\">\n",
              "  <thead>\n",
              "    <tr style=\"text-align: right;\">\n",
              "      <th></th>\n",
              "      <th>abstract</th>\n",
              "      <th>source</th>\n",
              "      <th>details</th>\n",
              "    </tr>\n",
              "  </thead>\n",
              "  <tbody>\n",
              "    <tr>\n",
              "      <th>0</th>\n",
              "      <td>This RCT examined the efficacy of a manualized...</td>\n",
              "      <td>https://pubmed.ncbi.nlm.nih.gov/20232240/</td>\n",
              "      <td>RCT of a manualized social treatment for high-...</td>\n",
              "    </tr>\n",
              "    <tr>\n",
              "      <th>1</th>\n",
              "      <td>Postpartum depression (PPD) is the most preval...</td>\n",
              "      <td>https://pubmed.ncbi.nlm.nih.gov/28012571/</td>\n",
              "      <td>Formatting removed (can be used to compare mod...</td>\n",
              "    </tr>\n",
              "    <tr>\n",
              "      <th>2</th>\n",
              "      <td>Mental illness, including depression, anxiety ...</td>\n",
              "      <td>https://pubmed.ncbi.nlm.nih.gov/28942748/</td>\n",
              "      <td>Effect of nutrition on mental health</td>\n",
              "    </tr>\n",
              "    <tr>\n",
              "      <th>3</th>\n",
              "      <td>Hepatitis C virus (HCV) and alcoholic liver di...</td>\n",
              "      <td>https://pubmed.ncbi.nlm.nih.gov/22244707/</td>\n",
              "      <td>Baclofen promotes alcohol abstinence in alcoho...</td>\n",
              "    </tr>\n",
              "  </tbody>\n",
              "</table>\n",
              "</div>"
            ],
            "text/plain": [
              "                                            abstract  ...                                            details\n",
              "0  This RCT examined the efficacy of a manualized...  ...  RCT of a manualized social treatment for high-...\n",
              "1  Postpartum depression (PPD) is the most preval...  ...  Formatting removed (can be used to compare mod...\n",
              "2  Mental illness, including depression, anxiety ...  ...               Effect of nutrition on mental health\n",
              "3  Hepatitis C virus (HCV) and alcoholic liver di...  ...  Baclofen promotes alcohol abstinence in alcoho...\n",
              "\n",
              "[4 rows x 3 columns]"
            ]
          },
          "metadata": {
            "tags": []
          },
          "execution_count": 132
        }
      ]
    },
    {
      "cell_type": "code",
      "metadata": {
        "colab": {
          "base_uri": "https://localhost:8080/"
        },
        "id": "u_8N7YvGsjJ-",
        "outputId": "41f6f8d7-0e1e-435f-97fc-158f36bddc43"
      },
      "source": [
        "# Create sentencizer - Source: https://spacy.io/usage/linguistic-features#sbd \n",
        "from spacy.lang.en import English\n",
        "nlp = English() # setup English sentence parser\n",
        "sentencizer = nlp.create_pipe(\"sentencizer\") # create sentence splitting pipeline object\n",
        "nlp.add_pipe(sentencizer) # add sentence splitting pipeline object to sentence parser\n",
        "doc = nlp(example_abstracts[0][\"abstract\"]) # create \"doc\" of parsed sequences, change index for a different abstract\n",
        "abstract_lines = [str(sent) for sent in list(doc.sents)] # return detected sentences from doc in string type (not spaCy token type)\n",
        "abstract_lines"
      ],
      "execution_count": null,
      "outputs": [
        {
          "output_type": "execute_result",
          "data": {
            "text/plain": [
              "['This RCT examined the efficacy of a manualized social intervention for children with HFASDs.',\n",
              " 'Participants were randomly assigned to treatment or wait-list conditions.',\n",
              " 'Treatment included instruction and therapeutic activities targeting social skills, face-emotion recognition, interest expansion, and interpretation of non-literal language.',\n",
              " 'A response-cost program was applied to reduce problem behaviors and foster skills acquisition.',\n",
              " 'Significant treatment effects were found for five of seven primary outcome measures (parent ratings and direct child measures).',\n",
              " 'Secondary measures based on staff ratings (treatment group only) corroborated gains reported by parents.',\n",
              " 'High levels of parent, child and staff satisfaction were reported, along with high levels of treatment fidelity.',\n",
              " 'Standardized effect size estimates were primarily in the medium and large ranges and favored the treatment group.']"
            ]
          },
          "metadata": {
            "tags": []
          },
          "execution_count": 133
        }
      ]
    },
    {
      "cell_type": "code",
      "metadata": {
        "colab": {
          "base_uri": "https://localhost:8080/"
        },
        "id": "JFnAdGs-slxv",
        "outputId": "0cdf4c36-74d8-413a-91e6-3310ee470d15"
      },
      "source": [
        "# Get total number of lines\n",
        "total_lines_in_sample = len(abstract_lines)\n",
        "\n",
        "# Go through each line in abstract and create a list of dictionaries containing features for each line\n",
        "sample_lines = []\n",
        "for i, line in enumerate(abstract_lines):\n",
        "  sample_dict = {}\n",
        "  sample_dict[\"text\"] = str(line)\n",
        "  sample_dict[\"line_number\"] = i\n",
        "  sample_dict[\"total_lines\"] = total_lines_in_sample - 1\n",
        "  sample_lines.append(sample_dict)\n",
        "sample_lines"
      ],
      "execution_count": null,
      "outputs": [
        {
          "output_type": "execute_result",
          "data": {
            "text/plain": [
              "[{'line_number': 0,\n",
              "  'text': 'This RCT examined the efficacy of a manualized social intervention for children with HFASDs.',\n",
              "  'total_lines': 7},\n",
              " {'line_number': 1,\n",
              "  'text': 'Participants were randomly assigned to treatment or wait-list conditions.',\n",
              "  'total_lines': 7},\n",
              " {'line_number': 2,\n",
              "  'text': 'Treatment included instruction and therapeutic activities targeting social skills, face-emotion recognition, interest expansion, and interpretation of non-literal language.',\n",
              "  'total_lines': 7},\n",
              " {'line_number': 3,\n",
              "  'text': 'A response-cost program was applied to reduce problem behaviors and foster skills acquisition.',\n",
              "  'total_lines': 7},\n",
              " {'line_number': 4,\n",
              "  'text': 'Significant treatment effects were found for five of seven primary outcome measures (parent ratings and direct child measures).',\n",
              "  'total_lines': 7},\n",
              " {'line_number': 5,\n",
              "  'text': 'Secondary measures based on staff ratings (treatment group only) corroborated gains reported by parents.',\n",
              "  'total_lines': 7},\n",
              " {'line_number': 6,\n",
              "  'text': 'High levels of parent, child and staff satisfaction were reported, along with high levels of treatment fidelity.',\n",
              "  'total_lines': 7},\n",
              " {'line_number': 7,\n",
              "  'text': 'Standardized effect size estimates were primarily in the medium and large ranges and favored the treatment group.',\n",
              "  'total_lines': 7}]"
            ]
          },
          "metadata": {
            "tags": []
          },
          "execution_count": 134
        }
      ]
    },
    {
      "cell_type": "code",
      "metadata": {
        "colab": {
          "base_uri": "https://localhost:8080/"
        },
        "id": "IfStshfBsweB",
        "outputId": "3b497d69-2f1a-45c9-da7c-49868354cb10"
      },
      "source": [
        "# Get all line_number values from sample abstract\n",
        "test_abstract_line_numbers = [line[\"line_number\"] for line in sample_lines]\n",
        "# One-hot encode to same depth as training data, so model accepts right input shape\n",
        "test_abstract_line_numbers_one_hot = tf.one_hot(test_abstract_line_numbers, depth=15) \n",
        "test_abstract_line_numbers_one_hot"
      ],
      "execution_count": null,
      "outputs": [
        {
          "output_type": "execute_result",
          "data": {
            "text/plain": [
              "<tf.Tensor: shape=(8, 15), dtype=float32, numpy=\n",
              "array([[1., 0., 0., 0., 0., 0., 0., 0., 0., 0., 0., 0., 0., 0., 0.],\n",
              "       [0., 1., 0., 0., 0., 0., 0., 0., 0., 0., 0., 0., 0., 0., 0.],\n",
              "       [0., 0., 1., 0., 0., 0., 0., 0., 0., 0., 0., 0., 0., 0., 0.],\n",
              "       [0., 0., 0., 1., 0., 0., 0., 0., 0., 0., 0., 0., 0., 0., 0.],\n",
              "       [0., 0., 0., 0., 1., 0., 0., 0., 0., 0., 0., 0., 0., 0., 0.],\n",
              "       [0., 0., 0., 0., 0., 1., 0., 0., 0., 0., 0., 0., 0., 0., 0.],\n",
              "       [0., 0., 0., 0., 0., 0., 1., 0., 0., 0., 0., 0., 0., 0., 0.],\n",
              "       [0., 0., 0., 0., 0., 0., 0., 1., 0., 0., 0., 0., 0., 0., 0.]],\n",
              "      dtype=float32)>"
            ]
          },
          "metadata": {
            "tags": []
          },
          "execution_count": 135
        }
      ]
    },
    {
      "cell_type": "code",
      "metadata": {
        "colab": {
          "base_uri": "https://localhost:8080/"
        },
        "id": "-QvQ9IJfs1TR",
        "outputId": "97fb5af7-8cfa-49af-e296-aa7b9d00dbfb"
      },
      "source": [
        "# Get all total_lines values from sample abstract\n",
        "test_abstract_total_lines = [line[\"total_lines\"] for line in sample_lines]\n",
        "# One-hot encode to same depth as training data, so model accepts right input shape\n",
        "test_abstract_total_lines_one_hot = tf.one_hot(test_abstract_total_lines, depth=20)\n",
        "test_abstract_total_lines_one_hot"
      ],
      "execution_count": null,
      "outputs": [
        {
          "output_type": "execute_result",
          "data": {
            "text/plain": [
              "<tf.Tensor: shape=(8, 20), dtype=float32, numpy=\n",
              "array([[0., 0., 0., 0., 0., 0., 0., 1., 0., 0., 0., 0., 0., 0., 0., 0.,\n",
              "        0., 0., 0., 0.],\n",
              "       [0., 0., 0., 0., 0., 0., 0., 1., 0., 0., 0., 0., 0., 0., 0., 0.,\n",
              "        0., 0., 0., 0.],\n",
              "       [0., 0., 0., 0., 0., 0., 0., 1., 0., 0., 0., 0., 0., 0., 0., 0.,\n",
              "        0., 0., 0., 0.],\n",
              "       [0., 0., 0., 0., 0., 0., 0., 1., 0., 0., 0., 0., 0., 0., 0., 0.,\n",
              "        0., 0., 0., 0.],\n",
              "       [0., 0., 0., 0., 0., 0., 0., 1., 0., 0., 0., 0., 0., 0., 0., 0.,\n",
              "        0., 0., 0., 0.],\n",
              "       [0., 0., 0., 0., 0., 0., 0., 1., 0., 0., 0., 0., 0., 0., 0., 0.,\n",
              "        0., 0., 0., 0.],\n",
              "       [0., 0., 0., 0., 0., 0., 0., 1., 0., 0., 0., 0., 0., 0., 0., 0.,\n",
              "        0., 0., 0., 0.],\n",
              "       [0., 0., 0., 0., 0., 0., 0., 1., 0., 0., 0., 0., 0., 0., 0., 0.,\n",
              "        0., 0., 0., 0.]], dtype=float32)>"
            ]
          },
          "metadata": {
            "tags": []
          },
          "execution_count": 136
        }
      ]
    },
    {
      "cell_type": "code",
      "metadata": {
        "colab": {
          "base_uri": "https://localhost:8080/"
        },
        "id": "btL5x5Lks6xi",
        "outputId": "49f5d15b-ce38-4581-c99c-3f7438826e92"
      },
      "source": [
        "# Split abstract lines into characters\n",
        "abstract_chars = [split_chars(sentence) for sentence in abstract_lines]\n",
        "abstract_chars"
      ],
      "execution_count": null,
      "outputs": [
        {
          "output_type": "execute_result",
          "data": {
            "text/plain": [
              "['T h i s   R C T   e x a m i n e d   t h e   e f f i c a c y   o f   a   m a n u a l i z e d   s o c i a l   i n t e r v e n t i o n   f o r   c h i l d r e n   w i t h   H F A S D s .',\n",
              " 'P a r t i c i p a n t s   w e r e   r a n d o m l y   a s s i g n e d   t o   t r e a t m e n t   o r   w a i t - l i s t   c o n d i t i o n s .',\n",
              " 'T r e a t m e n t   i n c l u d e d   i n s t r u c t i o n   a n d   t h e r a p e u t i c   a c t i v i t i e s   t a r g e t i n g   s o c i a l   s k i l l s ,   f a c e - e m o t i o n   r e c o g n i t i o n ,   i n t e r e s t   e x p a n s i o n ,   a n d   i n t e r p r e t a t i o n   o f   n o n - l i t e r a l   l a n g u a g e .',\n",
              " 'A   r e s p o n s e - c o s t   p r o g r a m   w a s   a p p l i e d   t o   r e d u c e   p r o b l e m   b e h a v i o r s   a n d   f o s t e r   s k i l l s   a c q u i s i t i o n .',\n",
              " 'S i g n i f i c a n t   t r e a t m e n t   e f f e c t s   w e r e   f o u n d   f o r   f i v e   o f   s e v e n   p r i m a r y   o u t c o m e   m e a s u r e s   ( p a r e n t   r a t i n g s   a n d   d i r e c t   c h i l d   m e a s u r e s ) .',\n",
              " 'S e c o n d a r y   m e a s u r e s   b a s e d   o n   s t a f f   r a t i n g s   ( t r e a t m e n t   g r o u p   o n l y )   c o r r o b o r a t e d   g a i n s   r e p o r t e d   b y   p a r e n t s .',\n",
              " 'H i g h   l e v e l s   o f   p a r e n t ,   c h i l d   a n d   s t a f f   s a t i s f a c t i o n   w e r e   r e p o r t e d ,   a l o n g   w i t h   h i g h   l e v e l s   o f   t r e a t m e n t   f i d e l i t y .',\n",
              " 'S t a n d a r d i z e d   e f f e c t   s i z e   e s t i m a t e s   w e r e   p r i m a r i l y   i n   t h e   m e d i u m   a n d   l a r g e   r a n g e s   a n d   f a v o r e d   t h e   t r e a t m e n t   g r o u p .']"
            ]
          },
          "metadata": {
            "tags": []
          },
          "execution_count": 137
        }
      ]
    },
    {
      "cell_type": "code",
      "metadata": {
        "colab": {
          "base_uri": "https://localhost:8080/"
        },
        "id": "dETWQSSRtByc",
        "outputId": "0d41d4f6-9c77-4c3e-f365-1375ea34c054"
      },
      "source": [
        "# Make predictions on sample abstract features\n",
        "%%time\n",
        "test_abstract_pred_probs = loaded_model.predict(x=(tf.constant(abstract_lines),\n",
        "                                                   tf.constant(abstract_chars),\n",
        "                                                   test_abstract_line_numbers_one_hot,\n",
        "                                                   test_abstract_total_lines_one_hot))\n",
        "test_abstract_pred_probs"
      ],
      "execution_count": null,
      "outputs": [
        {
          "output_type": "stream",
          "text": [
            "CPU times: user 3.28 s, sys: 95.9 ms, total: 3.38 s\n",
            "Wall time: 3.35 s\n"
          ],
          "name": "stdout"
        }
      ]
    },
    {
      "cell_type": "code",
      "metadata": {
        "colab": {
          "base_uri": "https://localhost:8080/"
        },
        "id": "iWu9iLmQtMsF",
        "outputId": "0bc5914b-e20e-45f8-d155-2934edc80294"
      },
      "source": [
        "# Turn prediction probabilities into prediction classes\n",
        "test_abstract_preds = tf.argmax(test_abstract_pred_probs, axis=1)\n",
        "test_abstract_preds"
      ],
      "execution_count": null,
      "outputs": [
        {
          "output_type": "execute_result",
          "data": {
            "text/plain": [
              "<tf.Tensor: shape=(8,), dtype=int64, numpy=array([3, 2, 2, 2, 4, 2, 4, 4])>"
            ]
          },
          "metadata": {
            "tags": []
          },
          "execution_count": 139
        }
      ]
    },
    {
      "cell_type": "code",
      "metadata": {
        "colab": {
          "base_uri": "https://localhost:8080/"
        },
        "id": "49KLWB1atP8l",
        "outputId": "fac87376-cfff-42ab-efdf-f21a0ab4b4a1"
      },
      "source": [
        "# Turn prediction class integers into string class names\n",
        "test_abstract_pred_classes = [label_encoder.classes_[i] for i in test_abstract_preds]\n",
        "test_abstract_pred_classes"
      ],
      "execution_count": null,
      "outputs": [
        {
          "output_type": "execute_result",
          "data": {
            "text/plain": [
              "['OBJECTIVE',\n",
              " 'METHODS',\n",
              " 'METHODS',\n",
              " 'METHODS',\n",
              " 'RESULTS',\n",
              " 'METHODS',\n",
              " 'RESULTS',\n",
              " 'RESULTS']"
            ]
          },
          "metadata": {
            "tags": []
          },
          "execution_count": 140
        }
      ]
    },
    {
      "cell_type": "code",
      "metadata": {
        "colab": {
          "base_uri": "https://localhost:8080/"
        },
        "id": "bobfLi98tTLV",
        "outputId": "0c710740-55dc-4f46-8d8c-04929159b098"
      },
      "source": [
        "# Visualize abstract lines and predicted sequence labels\n",
        "for i, line in enumerate(abstract_lines):\n",
        "  print(f\"{test_abstract_pred_classes[i]}: {line}\")"
      ],
      "execution_count": null,
      "outputs": [
        {
          "output_type": "stream",
          "text": [
            "OBJECTIVE: This RCT examined the efficacy of a manualized social intervention for children with HFASDs.\n",
            "METHODS: Participants were randomly assigned to treatment or wait-list conditions.\n",
            "METHODS: Treatment included instruction and therapeutic activities targeting social skills, face-emotion recognition, interest expansion, and interpretation of non-literal language.\n",
            "METHODS: A response-cost program was applied to reduce problem behaviors and foster skills acquisition.\n",
            "RESULTS: Significant treatment effects were found for five of seven primary outcome measures (parent ratings and direct child measures).\n",
            "METHODS: Secondary measures based on staff ratings (treatment group only) corroborated gains reported by parents.\n",
            "RESULTS: High levels of parent, child and staff satisfaction were reported, along with high levels of treatment fidelity.\n",
            "RESULTS: Standardized effect size estimates were primarily in the medium and large ranges and favored the treatment group.\n"
          ],
          "name": "stdout"
        }
      ]
    },
    {
      "cell_type": "markdown",
      "metadata": {
        "id": "ul8W9CQr6ka2"
      },
      "source": [
        "## Best Model with Glove Embedding"
      ]
    },
    {
      "cell_type": "markdown",
      "metadata": {
        "id": "c_LONLGOxte1"
      },
      "source": [
        "### Create positional embeddings"
      ]
    },
    {
      "cell_type": "code",
      "metadata": {
        "id": "CGvUrkjSxte5"
      },
      "source": [
        "# Use TensorFlow to create one-hot-encoded tensors of our \"line_number\" column \n",
        "train_line_numbers_one_hot = tf.one_hot(train_df[\"line_number\"].to_numpy(), depth=15)\n",
        "val_line_numbers_one_hot = tf.one_hot(val_df[\"line_number\"].to_numpy(), depth=15)\n",
        "test_line_numbers_one_hot = tf.one_hot(test_df[\"line_number\"].to_numpy(), depth=15)"
      ],
      "execution_count": null,
      "outputs": []
    },
    {
      "cell_type": "code",
      "metadata": {
        "colab": {
          "base_uri": "https://localhost:8080/"
        },
        "id": "aassvYBIxte9",
        "outputId": "897b2eb6-39cc-46aa-d63e-e2bb79d91564"
      },
      "source": [
        "# Use TensorFlow to create one-hot-encoded tensors of our \"total_lines\" column \n",
        "train_total_lines_one_hot = tf.one_hot(train_df[\"total_lines\"].to_numpy(), depth=20)\n",
        "val_total_lines_one_hot = tf.one_hot(val_df[\"total_lines\"].to_numpy(), depth=20)\n",
        "test_total_lines_one_hot = tf.one_hot(test_df[\"total_lines\"].to_numpy(), depth=20)\n",
        "\n",
        "# Check shape and samples of total lines one-hot tensor\n",
        "train_total_lines_one_hot.shape, train_total_lines_one_hot[:10]"
      ],
      "execution_count": null,
      "outputs": [
        {
          "output_type": "execute_result",
          "data": {
            "text/plain": [
              "(TensorShape([180040, 20]), <tf.Tensor: shape=(10, 20), dtype=float32, numpy=\n",
              " array([[0., 0., 0., 0., 0., 0., 0., 0., 0., 0., 0., 1., 0., 0., 0., 0.,\n",
              "         0., 0., 0., 0.],\n",
              "        [0., 0., 0., 0., 0., 0., 0., 0., 0., 0., 0., 1., 0., 0., 0., 0.,\n",
              "         0., 0., 0., 0.],\n",
              "        [0., 0., 0., 0., 0., 0., 0., 0., 0., 0., 0., 1., 0., 0., 0., 0.,\n",
              "         0., 0., 0., 0.],\n",
              "        [0., 0., 0., 0., 0., 0., 0., 0., 0., 0., 0., 1., 0., 0., 0., 0.,\n",
              "         0., 0., 0., 0.],\n",
              "        [0., 0., 0., 0., 0., 0., 0., 0., 0., 0., 0., 1., 0., 0., 0., 0.,\n",
              "         0., 0., 0., 0.],\n",
              "        [0., 0., 0., 0., 0., 0., 0., 0., 0., 0., 0., 1., 0., 0., 0., 0.,\n",
              "         0., 0., 0., 0.],\n",
              "        [0., 0., 0., 0., 0., 0., 0., 0., 0., 0., 0., 1., 0., 0., 0., 0.,\n",
              "         0., 0., 0., 0.],\n",
              "        [0., 0., 0., 0., 0., 0., 0., 0., 0., 0., 0., 1., 0., 0., 0., 0.,\n",
              "         0., 0., 0., 0.],\n",
              "        [0., 0., 0., 0., 0., 0., 0., 0., 0., 0., 0., 1., 0., 0., 0., 0.,\n",
              "         0., 0., 0., 0.],\n",
              "        [0., 0., 0., 0., 0., 0., 0., 0., 0., 0., 0., 1., 0., 0., 0., 0.,\n",
              "         0., 0., 0., 0.]], dtype=float32)>)"
            ]
          },
          "metadata": {
            "tags": []
          },
          "execution_count": 34
        }
      ]
    },
    {
      "cell_type": "markdown",
      "metadata": {
        "id": "87EzKHAWym-j"
      },
      "source": [
        "### Create GloVe embedding layer"
      ]
    },
    {
      "cell_type": "code",
      "metadata": {
        "colab": {
          "base_uri": "https://localhost:8080/"
        },
        "id": "_S_1_pbCywVb",
        "outputId": "3b95b81b-9f42-4b09-f54b-eaf7de87c030"
      },
      "source": [
        "# Let's download pre-trained GloVe embeddings (a 822M zip file)\n",
        "!wget http://nlp.stanford.edu/data/glove.6B.zip\n",
        "!unzip -q glove.6B.zip"
      ],
      "execution_count": null,
      "outputs": [
        {
          "output_type": "stream",
          "text": [
            "--2021-07-22 10:38:14--  http://nlp.stanford.edu/data/glove.6B.zip\n",
            "Resolving nlp.stanford.edu (nlp.stanford.edu)... 171.64.67.140\n",
            "Connecting to nlp.stanford.edu (nlp.stanford.edu)|171.64.67.140|:80... connected.\n",
            "HTTP request sent, awaiting response... 302 Found\n",
            "Location: https://nlp.stanford.edu/data/glove.6B.zip [following]\n",
            "--2021-07-22 10:38:14--  https://nlp.stanford.edu/data/glove.6B.zip\n",
            "Connecting to nlp.stanford.edu (nlp.stanford.edu)|171.64.67.140|:443... connected.\n",
            "HTTP request sent, awaiting response... 301 Moved Permanently\n",
            "Location: http://downloads.cs.stanford.edu/nlp/data/glove.6B.zip [following]\n",
            "--2021-07-22 10:38:14--  http://downloads.cs.stanford.edu/nlp/data/glove.6B.zip\n",
            "Resolving downloads.cs.stanford.edu (downloads.cs.stanford.edu)... 171.64.64.22\n",
            "Connecting to downloads.cs.stanford.edu (downloads.cs.stanford.edu)|171.64.64.22|:80... connected.\n",
            "HTTP request sent, awaiting response... 200 OK\n",
            "Length: 862182613 (822M) [application/zip]\n",
            "Saving to: ‘glove.6B.zip’\n",
            "\n",
            "glove.6B.zip        100%[===================>] 822.24M  5.17MB/s    in 2m 40s  \n",
            "\n",
            "2021-07-22 10:40:54 (5.15 MB/s) - ‘glove.6B.zip’ saved [862182613/862182613]\n",
            "\n"
          ],
          "name": "stdout"
        }
      ]
    },
    {
      "cell_type": "markdown",
      "metadata": {
        "id": "35wuyzbozAzp"
      },
      "source": [
        "The archive contains text-encoded vectors of various sizes: 50-dimensional, 100-dimensional, 200-dimensional, 300-dimensional. We'll use the 100D ones."
      ]
    },
    {
      "cell_type": "code",
      "metadata": {
        "colab": {
          "base_uri": "https://localhost:8080/"
        },
        "id": "usrJ-BfTzZQ0",
        "outputId": "ff9682b7-6669-4b6e-963c-8bb1d27744b4"
      },
      "source": [
        "# Let's make a dict mapping words (strings) to their NumPy vector representation:\n",
        "path_to_glove_file = os.path.join(\n",
        "    \"glove.6B.100d.txt\"\n",
        ")\n",
        "\n",
        "embeddings_index = {}\n",
        "with open(path_to_glove_file) as f:\n",
        "    for line in f:\n",
        "        word, coefs = line.split(maxsplit=1)\n",
        "        coefs = np.fromstring(coefs, \"f\", sep=\" \")\n",
        "        embeddings_index[word] = coefs\n",
        "\n",
        "print(\"Found %s word vectors.\" % len(embeddings_index))"
      ],
      "execution_count": null,
      "outputs": [
        {
          "output_type": "stream",
          "text": [
            "Found 400000 word vectors.\n"
          ],
          "name": "stdout"
        }
      ]
    },
    {
      "cell_type": "code",
      "metadata": {
        "colab": {
          "base_uri": "https://localhost:8080/"
        },
        "id": "M0TnuvmT10Ay",
        "outputId": "06e811ce-db9f-451a-fd44-35d5c63dc846"
      },
      "source": [
        "# let's prepare a corresponding embedding matrix that we can use in a Keras Embedding layer\n",
        "num_tokens = len(rct_20k_text_vocab) + 2\n",
        "embedding_dim = 100\n",
        "hits = 0\n",
        "misses = 0\n",
        "\n",
        "# dict mapping words to their indices\n",
        "word_index = dict(zip(rct_20k_text_vocab, range(len(rct_20k_text_vocab))))\n",
        "\n",
        "# Prepare embedding matrix\n",
        "embedding_matrix = np.zeros((num_tokens, embedding_dim))\n",
        "for word, i in word_index.items():\n",
        "    embedding_vector = embeddings_index.get(word)\n",
        "    if embedding_vector is not None:\n",
        "        # Words not found in embedding index will be all-zeros.\n",
        "        # This includes the representation for \"padding\" and \"OOV\"\n",
        "        embedding_matrix[i] = embedding_vector\n",
        "        hits += 1\n",
        "    else:\n",
        "        misses += 1\n",
        "print(\"Converted %d words (%d misses)\" % (hits, misses))"
      ],
      "execution_count": null,
      "outputs": [
        {
          "output_type": "stream",
          "text": [
            "Converted 29730 words (35111 misses)\n"
          ],
          "name": "stdout"
        }
      ]
    },
    {
      "cell_type": "code",
      "metadata": {
        "id": "V2R51Qid2-PW"
      },
      "source": [
        "# load the pre-trained word embeddings matrix into an Embedding layer.\n",
        "from tensorflow.keras.layers import Embedding\n",
        "\n",
        "embedding_layer = Embedding(\n",
        "    num_tokens,\n",
        "    embedding_dim,\n",
        "    embeddings_initializer=tf.keras.initializers.Constant(embedding_matrix),\n",
        "    trainable=False,\n",
        ")"
      ],
      "execution_count": null,
      "outputs": []
    },
    {
      "cell_type": "markdown",
      "metadata": {
        "id": "3fsPTqWdxte-"
      },
      "source": [
        "### Building a tribrid embedding model"
      ]
    },
    {
      "cell_type": "code",
      "metadata": {
        "id": "PNzKOJnbxte_"
      },
      "source": [
        "# 1. Token inputs\n",
        "token_inputs = layers.Input(shape=[], dtype=tf.string, name=\"token_inputs\")\n",
        "token_vectors = text_vectorizer(token_inputs)\n",
        "token_embeddings = embedding_layer(token_vectors)\n",
        "token_global = layers.GlobalAveragePooling1D()(token_embeddings) # condense the output of our feature vector\n",
        "token_outputs = layers.Dense(128, activation=\"relu\")(token_global)\n",
        "token_model = tf.keras.Model(inputs=token_inputs,\n",
        "                             outputs=token_outputs)\n",
        "\n",
        "# 2. Char inputs\n",
        "char_inputs = layers.Input(shape=(1,), dtype=tf.string, name=\"char_inputs\")\n",
        "char_vectors = char_vectorizer(char_inputs)\n",
        "char_embeddings = char_embed(char_vectors)\n",
        "char_bi_lstm = layers.Bidirectional(layers.LSTM(32))(char_embeddings)\n",
        "char_model = tf.keras.Model(inputs=char_inputs,\n",
        "                            outputs=char_bi_lstm)\n",
        "\n",
        "# 3. Line numbers inputs\n",
        "line_number_inputs = layers.Input(shape=(15,), dtype=tf.int32, name=\"line_number_inputs\")\n",
        "x = layers.Dense(32, activation=\"relu\")(line_number_inputs)\n",
        "line_number_model = tf.keras.Model(inputs=line_number_inputs,\n",
        "                                   outputs=x)\n",
        "\n",
        "# 4. Total lines inputs\n",
        "total_lines_inputs = layers.Input(shape=(20,), dtype=tf.int32, name=\"total_lines_inputs\")\n",
        "y = layers.Dense(32, activation=\"relu\")(total_lines_inputs)\n",
        "total_lines_model = tf.keras.Model(inputs=total_lines_inputs,\n",
        "                                   outputs=y)\n",
        "\n",
        "# 5. Combine token and char embeddings into a hybrid embedding\n",
        "combined_embeddings = layers.Concatenate(name=\"token_char_hybrid_embedding\")([token_model.output,\n",
        "                                                                              char_model.output])\n",
        "z = layers.Dense(256, activation=\"relu\")(combined_embeddings)\n",
        "z = layers.Dropout(0.5)(z)\n",
        "\n",
        "# 6. Combine positional embeddings with combined token and char embeddings into a tribrid embedding\n",
        "z = layers.Concatenate(name=\"token_char_positional_embedding\")([line_number_model.output,\n",
        "                                                               total_lines_model.output,\n",
        "                                                               z])\n",
        "\n",
        "# 7. Create output layer\n",
        "output_layer = layers.Dense(5, activation=\"softmax\", name=\"output_layer\")(z)\n",
        "\n",
        "# 8. Put together model\n",
        "model_6 = tf.keras.Model(inputs=[token_model.input,\n",
        "                                 char_model.input,\n",
        "                                 line_number_model.input,\n",
        "                                 total_lines_model.input],\n",
        "                         outputs=output_layer)"
      ],
      "execution_count": null,
      "outputs": []
    },
    {
      "cell_type": "code",
      "metadata": {
        "colab": {
          "base_uri": "https://localhost:8080/"
        },
        "id": "WbQ_AZ2PxtfA",
        "outputId": "955e721d-c4a7-4eed-a8ae-0f521574b47b"
      },
      "source": [
        "# Get a summary of our token, char and positional embedding model\n",
        "model_6.summary()"
      ],
      "execution_count": null,
      "outputs": [
        {
          "output_type": "stream",
          "text": [
            "Model: \"model_68\"\n",
            "__________________________________________________________________________________________________\n",
            "Layer (type)                    Output Shape         Param #     Connected to                     \n",
            "==================================================================================================\n",
            "token_inputs (InputLayer)       [(None,)]            0                                            \n",
            "__________________________________________________________________________________________________\n",
            "text_vectorization (TextVectori (None, 55)           0           token_inputs[0][0]               \n",
            "__________________________________________________________________________________________________\n",
            "char_inputs (InputLayer)        [(None, 1)]          0                                            \n",
            "__________________________________________________________________________________________________\n",
            "embedding (Embedding)           multiple             6484300     text_vectorization[11][0]        \n",
            "__________________________________________________________________________________________________\n",
            "char_vectorizer (TextVectorizat (None, 290)          0           char_inputs[0][0]                \n",
            "__________________________________________________________________________________________________\n",
            "global_average_pooling1d_4 (Glo (None, 100)          0           embedding[16][0]                 \n",
            "__________________________________________________________________________________________________\n",
            "char_embed (Embedding)          (None, 290, 25)      1750        char_vectorizer[15][0]           \n",
            "__________________________________________________________________________________________________\n",
            "dense_50 (Dense)                (None, 128)          12928       global_average_pooling1d_4[0][0] \n",
            "__________________________________________________________________________________________________\n",
            "bidirectional_14 (Bidirectional (None, 64)           14848       char_embed[14][0]                \n",
            "__________________________________________________________________________________________________\n",
            "token_char_hybrid_embedding (Co (None, 192)          0           dense_50[0][0]                   \n",
            "                                                                 bidirectional_14[0][0]           \n",
            "__________________________________________________________________________________________________\n",
            "line_number_inputs (InputLayer) [(None, 15)]         0                                            \n",
            "__________________________________________________________________________________________________\n",
            "total_lines_inputs (InputLayer) [(None, 20)]         0                                            \n",
            "__________________________________________________________________________________________________\n",
            "dense_53 (Dense)                (None, 256)          49408       token_char_hybrid_embedding[0][0]\n",
            "__________________________________________________________________________________________________\n",
            "dense_51 (Dense)                (None, 32)           512         line_number_inputs[0][0]         \n",
            "__________________________________________________________________________________________________\n",
            "dense_52 (Dense)                (None, 32)           672         total_lines_inputs[0][0]         \n",
            "__________________________________________________________________________________________________\n",
            "dropout_6 (Dropout)             (None, 256)          0           dense_53[0][0]                   \n",
            "__________________________________________________________________________________________________\n",
            "token_char_positional_embedding (None, 320)          0           dense_51[0][0]                   \n",
            "                                                                 dense_52[0][0]                   \n",
            "                                                                 dropout_6[0][0]                  \n",
            "__________________________________________________________________________________________________\n",
            "output_layer (Dense)            (None, 5)            1605        token_char_positional_embedding[0\n",
            "==================================================================================================\n",
            "Total params: 6,566,023\n",
            "Trainable params: 81,723\n",
            "Non-trainable params: 6,484,300\n",
            "__________________________________________________________________________________________________\n"
          ],
          "name": "stdout"
        }
      ]
    },
    {
      "cell_type": "code",
      "metadata": {
        "colab": {
          "base_uri": "https://localhost:8080/",
          "height": 839
        },
        "id": "zIp191PHxtfA",
        "outputId": "6b72ff8b-295f-4646-a76b-2edfeb1513ba"
      },
      "source": [
        "# Plot the token, char, positional embedding model\n",
        "from tensorflow.keras.utils import plot_model\n",
        "plot_model(model_6)"
      ],
      "execution_count": null,
      "outputs": [
        {
          "output_type": "execute_result",
          "data": {
            "image/png": "[encoded data removed]",
            "text/plain": [
              "<IPython.core.display.Image object>"
            ]
          },
          "metadata": {
            "tags": []
          },
          "execution_count": 93
        }
      ]
    },
    {
      "cell_type": "code",
      "metadata": {
        "colab": {
          "base_uri": "https://localhost:8080/"
        },
        "id": "1Rd-4EHFxtfE",
        "outputId": "fbfb4fa8-8d59-4b12-e073-efc5fca2df5d"
      },
      "source": [
        "# Check which layers of our model are trainable or not\n",
        "for layer in model_6.layers:\n",
        "  print(layer, layer.trainable)"
      ],
      "execution_count": null,
      "outputs": [
        {
          "output_type": "stream",
          "text": [
            "<tensorflow.python.keras.engine.input_layer.InputLayer object at 0x7f4bff4b4d50> True\n",
            "<tensorflow.python.keras.layers.preprocessing.text_vectorization.TextVectorization object at 0x7f4c6c6138d0> True\n",
            "<tensorflow.python.keras.engine.input_layer.InputLayer object at 0x7f4bff5a0790> True\n",
            "<tensorflow.python.keras.layers.embeddings.Embedding object at 0x7f4c033bf110> False\n",
            "<tensorflow.python.keras.layers.preprocessing.text_vectorization.TextVectorization object at 0x7f4bfef52ad0> True\n",
            "<tensorflow.python.keras.layers.pooling.GlobalAveragePooling1D object at 0x7f4bff4b4450> True\n",
            "<tensorflow.python.keras.layers.embeddings.Embedding object at 0x7f4c02037a90> True\n",
            "<tensorflow.python.keras.layers.core.Dense object at 0x7f4bff4b4810> True\n",
            "<tensorflow.python.keras.layers.wrappers.Bidirectional object at 0x7f4bffd2c410> True\n",
            "<tensorflow.python.keras.layers.merge.Concatenate object at 0x7f4bb0f39f10> True\n",
            "<tensorflow.python.keras.engine.input_layer.InputLayer object at 0x7f4b6d0d2dd0> True\n",
            "<tensorflow.python.keras.engine.input_layer.InputLayer object at 0x7f4bffde9250> True\n",
            "<tensorflow.python.keras.layers.core.Dense object at 0x7f4bffdd1c10> True\n",
            "<tensorflow.python.keras.layers.core.Dense object at 0x7f4bff9391d0> True\n",
            "<tensorflow.python.keras.layers.core.Dense object at 0x7f4bff499790> True\n",
            "<tensorflow.python.keras.layers.core.Dropout object at 0x7f4bff499b50> True\n",
            "<tensorflow.python.keras.layers.merge.Concatenate object at 0x7f4bff49e6d0> True\n",
            "<tensorflow.python.keras.layers.core.Dense object at 0x7f4bb0f1f3d0> True\n"
          ],
          "name": "stdout"
        }
      ]
    },
    {
      "cell_type": "code",
      "metadata": {
        "id": "h_lveWzZxtfF"
      },
      "source": [
        "# Compile token, char, positional embedding model\n",
        "model_6.compile(loss=tf.keras.losses.CategoricalCrossentropy(label_smoothing=0.2),\n",
        "                optimizer=tf.keras.optimizers.Adam(),\n",
        "                metrics=[\"accuracy\"])"
      ],
      "execution_count": null,
      "outputs": []
    },
    {
      "cell_type": "code",
      "metadata": {
        "colab": {
          "base_uri": "https://localhost:8080/"
        },
        "id": "dByiGhGvxtfG",
        "outputId": "7e58a4c0-b1c2-4389-ce80-8dbd4714ca7a"
      },
      "source": [
        "# Create training and validation datasets (all four kinds of inputs)\n",
        "train_pos_char_token_data = tf.data.Dataset.from_tensor_slices((train_sentences,\n",
        "                                                                train_chars,\n",
        "                                                                train_line_numbers_one_hot,\n",
        "                                                                train_total_lines_one_hot))\n",
        "train_pos_char_token_labels = tf.data.Dataset.from_tensor_slices(train_labels_one_hot)\n",
        "train_pos_char_token_dataset = tf.data.Dataset.zip((train_pos_char_token_data, train_pos_char_token_labels))\n",
        "train_pos_char_token_dataset = train_pos_char_token_dataset.batch(32).prefetch(tf.data.AUTOTUNE)\n",
        "\n",
        "# Validation dataset\n",
        "val_pos_char_token_data = tf.data.Dataset.from_tensor_slices((val_sentences,\n",
        "                                                              val_chars,\n",
        "                                                              val_line_numbers_one_hot,\n",
        "                                                              val_total_lines_one_hot))\n",
        "val_pos_char_token_labels = tf.data.Dataset.from_tensor_slices(val_labels_one_hot)\n",
        "val_pos_char_token_dataset = tf.data.Dataset.zip((val_pos_char_token_data, val_pos_char_token_labels))\n",
        "val_pos_char_token_dataset = val_pos_char_token_dataset.batch(32).prefetch(tf.data.AUTOTUNE) # turn into batches and prefetch appropriately\n",
        "\n",
        "# Check input shapes\n",
        "train_pos_char_token_dataset, val_pos_char_token_dataset"
      ],
      "execution_count": null,
      "outputs": [
        {
          "output_type": "execute_result",
          "data": {
            "text/plain": [
              "(<PrefetchDataset shapes: (((None,), (None,), (None, 15), (None, 20)), (None, 5)), types: ((tf.string, tf.string, tf.float32, tf.float32), tf.float64)>,\n",
              " <PrefetchDataset shapes: (((None,), (None,), (None, 15), (None, 20)), (None, 5)), types: ((tf.string, tf.string, tf.float32, tf.float32), tf.float64)>)"
            ]
          },
          "metadata": {
            "tags": []
          },
          "execution_count": 96
        }
      ]
    },
    {
      "cell_type": "code",
      "metadata": {
        "id": "dPc4tDp4Dtu0"
      },
      "source": [
        "# Create ModelCheckpoint callback to save model's progress\n",
        "checkpoint_path = \"model_checkpoints/cp.ckpt\" # saving weights requires \".ckpt\" extension\n",
        "model_checkpoint = tf.keras.callbacks.ModelCheckpoint(filepath=checkpoint_path,\n",
        "                                                      save_best_only=True)\n",
        "\n",
        "# Setup EarlyStopping callback to stop training if model's val_loss doesn't improve for 3 epochs\n",
        "early_stopping = tf.keras.callbacks.EarlyStopping(patience=3)"
      ],
      "execution_count": null,
      "outputs": []
    },
    {
      "cell_type": "code",
      "metadata": {
        "colab": {
          "base_uri": "https://localhost:8080/"
        },
        "id": "5PUYpH_4xtfH",
        "outputId": "dbcb4fd4-8c78-4448-ca77-509af93686ed"
      },
      "source": [
        "# Fit the token, char and positional embedding model\n",
        "history_model_6 = model_6.fit(train_pos_char_token_dataset,\n",
        "                              steps_per_epoch=len(train_pos_char_token_dataset),\n",
        "                              epochs=20,\n",
        "                              validation_data=val_pos_char_token_dataset,\n",
        "                              validation_steps=int(0.1 * len(val_pos_char_token_dataset)),\n",
        "                              callbacks=[model_checkpoint,\n",
        "                                         early_stopping])"
      ],
      "execution_count": null,
      "outputs": [
        {
          "output_type": "stream",
          "text": [
            "Epoch 1/20\n",
            "5627/5627 [==============================] - 217s 37ms/step - loss: 0.9360 - accuracy: 0.8363 - val_loss: 0.9244 - val_accuracy: 0.8344\n"
          ],
          "name": "stdout"
        },
        {
          "output_type": "stream",
          "text": [
            "WARNING:absl:Found untraced functions such as lstm_cell_43_layer_call_and_return_conditional_losses, lstm_cell_43_layer_call_fn, lstm_cell_44_layer_call_and_return_conditional_losses, lstm_cell_44_layer_call_fn, lstm_cell_43_layer_call_fn while saving (showing 5 of 10). These functions will not be directly callable after loading.\n"
          ],
          "name": "stderr"
        },
        {
          "output_type": "stream",
          "text": [
            "INFO:tensorflow:Assets written to: model_checkpoints/cp.ckpt/assets\n"
          ],
          "name": "stdout"
        },
        {
          "output_type": "stream",
          "text": [
            "INFO:tensorflow:Assets written to: model_checkpoints/cp.ckpt/assets\n"
          ],
          "name": "stderr"
        },
        {
          "output_type": "stream",
          "text": [
            "Epoch 2/20\n",
            "5627/5627 [==============================] - 207s 37ms/step - loss: 0.9250 - accuracy: 0.8439 - val_loss: 0.9167 - val_accuracy: 0.8411\n"
          ],
          "name": "stdout"
        },
        {
          "output_type": "stream",
          "text": [
            "WARNING:absl:Found untraced functions such as lstm_cell_43_layer_call_and_return_conditional_losses, lstm_cell_43_layer_call_fn, lstm_cell_44_layer_call_and_return_conditional_losses, lstm_cell_44_layer_call_fn, lstm_cell_43_layer_call_fn while saving (showing 5 of 10). These functions will not be directly callable after loading.\n"
          ],
          "name": "stderr"
        },
        {
          "output_type": "stream",
          "text": [
            "INFO:tensorflow:Assets written to: model_checkpoints/cp.ckpt/assets\n"
          ],
          "name": "stdout"
        },
        {
          "output_type": "stream",
          "text": [
            "INFO:tensorflow:Assets written to: model_checkpoints/cp.ckpt/assets\n"
          ],
          "name": "stderr"
        },
        {
          "output_type": "stream",
          "text": [
            "Epoch 3/20\n",
            "5627/5627 [==============================] - 207s 37ms/step - loss: 0.9173 - accuracy: 0.8493 - val_loss: 0.9097 - val_accuracy: 0.8441\n"
          ],
          "name": "stdout"
        },
        {
          "output_type": "stream",
          "text": [
            "WARNING:absl:Found untraced functions such as lstm_cell_43_layer_call_and_return_conditional_losses, lstm_cell_43_layer_call_fn, lstm_cell_44_layer_call_and_return_conditional_losses, lstm_cell_44_layer_call_fn, lstm_cell_43_layer_call_fn while saving (showing 5 of 10). These functions will not be directly callable after loading.\n"
          ],
          "name": "stderr"
        },
        {
          "output_type": "stream",
          "text": [
            "INFO:tensorflow:Assets written to: model_checkpoints/cp.ckpt/assets\n"
          ],
          "name": "stdout"
        },
        {
          "output_type": "stream",
          "text": [
            "INFO:tensorflow:Assets written to: model_checkpoints/cp.ckpt/assets\n"
          ],
          "name": "stderr"
        },
        {
          "output_type": "stream",
          "text": [
            "Epoch 4/20\n",
            "5627/5627 [==============================] - 207s 37ms/step - loss: 0.9113 - accuracy: 0.8532 - val_loss: 0.9065 - val_accuracy: 0.8467\n"
          ],
          "name": "stdout"
        },
        {
          "output_type": "stream",
          "text": [
            "WARNING:absl:Found untraced functions such as lstm_cell_43_layer_call_and_return_conditional_losses, lstm_cell_43_layer_call_fn, lstm_cell_44_layer_call_and_return_conditional_losses, lstm_cell_44_layer_call_fn, lstm_cell_43_layer_call_fn while saving (showing 5 of 10). These functions will not be directly callable after loading.\n"
          ],
          "name": "stderr"
        },
        {
          "output_type": "stream",
          "text": [
            "INFO:tensorflow:Assets written to: model_checkpoints/cp.ckpt/assets\n"
          ],
          "name": "stdout"
        },
        {
          "output_type": "stream",
          "text": [
            "INFO:tensorflow:Assets written to: model_checkpoints/cp.ckpt/assets\n"
          ],
          "name": "stderr"
        },
        {
          "output_type": "stream",
          "text": [
            "Epoch 5/20\n",
            "5627/5627 [==============================] - 206s 37ms/step - loss: 0.9058 - accuracy: 0.8568 - val_loss: 0.9106 - val_accuracy: 0.8418\n",
            "Epoch 6/20\n",
            "5627/5627 [==============================] - 208s 37ms/step - loss: 0.9014 - accuracy: 0.8605 - val_loss: 0.9024 - val_accuracy: 0.8467\n"
          ],
          "name": "stdout"
        },
        {
          "output_type": "stream",
          "text": [
            "WARNING:absl:Found untraced functions such as lstm_cell_43_layer_call_and_return_conditional_losses, lstm_cell_43_layer_call_fn, lstm_cell_44_layer_call_and_return_conditional_losses, lstm_cell_44_layer_call_fn, lstm_cell_43_layer_call_fn while saving (showing 5 of 10). These functions will not be directly callable after loading.\n"
          ],
          "name": "stderr"
        },
        {
          "output_type": "stream",
          "text": [
            "INFO:tensorflow:Assets written to: model_checkpoints/cp.ckpt/assets\n"
          ],
          "name": "stdout"
        },
        {
          "output_type": "stream",
          "text": [
            "INFO:tensorflow:Assets written to: model_checkpoints/cp.ckpt/assets\n"
          ],
          "name": "stderr"
        },
        {
          "output_type": "stream",
          "text": [
            "Epoch 7/20\n",
            "5627/5627 [==============================] - 206s 37ms/step - loss: 0.8974 - accuracy: 0.8632 - val_loss: 0.9026 - val_accuracy: 0.8461\n",
            "Epoch 8/20\n",
            "5627/5627 [==============================] - 206s 37ms/step - loss: 0.8942 - accuracy: 0.8657 - val_loss: 0.8992 - val_accuracy: 0.8494\n"
          ],
          "name": "stdout"
        },
        {
          "output_type": "stream",
          "text": [
            "WARNING:absl:Found untraced functions such as lstm_cell_43_layer_call_and_return_conditional_losses, lstm_cell_43_layer_call_fn, lstm_cell_44_layer_call_and_return_conditional_losses, lstm_cell_44_layer_call_fn, lstm_cell_43_layer_call_fn while saving (showing 5 of 10). These functions will not be directly callable after loading.\n"
          ],
          "name": "stderr"
        },
        {
          "output_type": "stream",
          "text": [
            "INFO:tensorflow:Assets written to: model_checkpoints/cp.ckpt/assets\n"
          ],
          "name": "stdout"
        },
        {
          "output_type": "stream",
          "text": [
            "INFO:tensorflow:Assets written to: model_checkpoints/cp.ckpt/assets\n"
          ],
          "name": "stderr"
        },
        {
          "output_type": "stream",
          "text": [
            "Epoch 9/20\n",
            "5627/5627 [==============================] - 207s 37ms/step - loss: 0.8910 - accuracy: 0.8680 - val_loss: 0.8968 - val_accuracy: 0.8551\n"
          ],
          "name": "stdout"
        },
        {
          "output_type": "stream",
          "text": [
            "WARNING:absl:Found untraced functions such as lstm_cell_43_layer_call_and_return_conditional_losses, lstm_cell_43_layer_call_fn, lstm_cell_44_layer_call_and_return_conditional_losses, lstm_cell_44_layer_call_fn, lstm_cell_43_layer_call_fn while saving (showing 5 of 10). These functions will not be directly callable after loading.\n"
          ],
          "name": "stderr"
        },
        {
          "output_type": "stream",
          "text": [
            "INFO:tensorflow:Assets written to: model_checkpoints/cp.ckpt/assets\n"
          ],
          "name": "stdout"
        },
        {
          "output_type": "stream",
          "text": [
            "INFO:tensorflow:Assets written to: model_checkpoints/cp.ckpt/assets\n"
          ],
          "name": "stderr"
        },
        {
          "output_type": "stream",
          "text": [
            "Epoch 10/20\n",
            "5627/5627 [==============================] - 205s 36ms/step - loss: 0.8888 - accuracy: 0.8693 - val_loss: 0.8937 - val_accuracy: 0.8574\n"
          ],
          "name": "stdout"
        },
        {
          "output_type": "stream",
          "text": [
            "WARNING:absl:Found untraced functions such as lstm_cell_43_layer_call_and_return_conditional_losses, lstm_cell_43_layer_call_fn, lstm_cell_44_layer_call_and_return_conditional_losses, lstm_cell_44_layer_call_fn, lstm_cell_43_layer_call_fn while saving (showing 5 of 10). These functions will not be directly callable after loading.\n"
          ],
          "name": "stderr"
        },
        {
          "output_type": "stream",
          "text": [
            "INFO:tensorflow:Assets written to: model_checkpoints/cp.ckpt/assets\n"
          ],
          "name": "stdout"
        },
        {
          "output_type": "stream",
          "text": [
            "INFO:tensorflow:Assets written to: model_checkpoints/cp.ckpt/assets\n"
          ],
          "name": "stderr"
        },
        {
          "output_type": "stream",
          "text": [
            "Epoch 11/20\n",
            "5627/5627 [==============================] - 207s 37ms/step - loss: 0.8862 - accuracy: 0.8710 - val_loss: 0.8956 - val_accuracy: 0.8541\n",
            "Epoch 12/20\n",
            "5627/5627 [==============================] - 206s 37ms/step - loss: 0.8840 - accuracy: 0.8724 - val_loss: 0.8967 - val_accuracy: 0.8514\n",
            "Epoch 13/20\n",
            "5627/5627 [==============================] - 208s 37ms/step - loss: 0.8823 - accuracy: 0.8742 - val_loss: 0.8958 - val_accuracy: 0.8557\n"
          ],
          "name": "stdout"
        }
      ]
    },
    {
      "cell_type": "code",
      "metadata": {
        "colab": {
          "base_uri": "https://localhost:8080/"
        },
        "id": "V0gY7g2HxtfI",
        "outputId": "9f29bbdb-4de2-4a21-81f8-4469338fb9d4"
      },
      "source": [
        "# Make predictions with token-char-positional hybrid model\n",
        "model_6_pred_probs = model_6.predict(val_pos_char_token_dataset, verbose=1)\n",
        "model_6_pred_probs"
      ],
      "execution_count": null,
      "outputs": [
        {
          "output_type": "stream",
          "text": [
            "945/945 [==============================] - 15s 14ms/step\n"
          ],
          "name": "stdout"
        },
        {
          "output_type": "execute_result",
          "data": {
            "text/plain": [
              "array([[0.64873147, 0.08757225, 0.0134667 , 0.22162259, 0.028607  ],\n",
              "       [0.5971402 , 0.11011433, 0.05353642, 0.21077368, 0.02843537],\n",
              "       [0.35304138, 0.10404221, 0.03967239, 0.45314762, 0.05009642],\n",
              "       ...,\n",
              "       [0.02144435, 0.07926141, 0.01500697, 0.02661412, 0.85767317],\n",
              "       [0.01854215, 0.38864908, 0.0140976 , 0.0284909 , 0.5502203 ],\n",
              "       [0.01696056, 0.90546   , 0.04912953, 0.01420484, 0.01424503]],\n",
              "      dtype=float32)"
            ]
          },
          "metadata": {
            "tags": []
          },
          "execution_count": 106
        }
      ]
    },
    {
      "cell_type": "code",
      "metadata": {
        "colab": {
          "base_uri": "https://localhost:8080/"
        },
        "id": "T_PxxxpLxtfJ",
        "outputId": "fd6b801c-f065-4aa6-f420-5f96e98ec6bc"
      },
      "source": [
        "# Turn prediction probabilities into prediction classes\n",
        "model_6_preds = tf.argmax(model_6_pred_probs, axis=1)\n",
        "model_6_preds"
      ],
      "execution_count": null,
      "outputs": [
        {
          "output_type": "execute_result",
          "data": {
            "text/plain": [
              "<tf.Tensor: shape=(30212,), dtype=int64, numpy=array([0, 0, 3, ..., 4, 4, 1])>"
            ]
          },
          "metadata": {
            "tags": []
          },
          "execution_count": 107
        }
      ]
    },
    {
      "cell_type": "code",
      "metadata": {
        "colab": {
          "base_uri": "https://localhost:8080/"
        },
        "id": "fFHqIHFGxtfK",
        "outputId": "5fbcd063-2aab-41ad-bde2-b85a6c11e1f9"
      },
      "source": [
        "# Calculate results of token-char-positional hybrid model\n",
        "model_6_results = calculate_results(y_true=val_labels_encoded,\n",
        "                                    y_pred=model_6_preds)\n",
        "model_6_results"
      ],
      "execution_count": null,
      "outputs": [
        {
          "output_type": "execute_result",
          "data": {
            "text/plain": [
              "{'accuracy': 85.98901098901099,\n",
              " 'f1': 0.8573143253396311,\n",
              " 'precision': 0.8610986063634086,\n",
              " 'recall': 0.8598901098901099}"
            ]
          },
          "metadata": {
            "tags": []
          },
          "execution_count": 108
        }
      ]
    },
    {
      "cell_type": "markdown",
      "metadata": {
        "id": "FVhZ2WavTLVP"
      },
      "source": [
        "### Save model"
      ]
    },
    {
      "cell_type": "code",
      "metadata": {
        "colab": {
          "base_uri": "https://localhost:8080/"
        },
        "id": "33T174I_TPTN",
        "outputId": "6bd1b23a-521c-4585-fef0-5b86c3d56960"
      },
      "source": [
        "# Save best performing model to SavedModel format (default)\n",
        "model_6.save(\"skimlit_glove_model\")"
      ],
      "execution_count": null,
      "outputs": [
        {
          "output_type": "stream",
          "text": [
            "WARNING:absl:Found untraced functions such as lstm_cell_43_layer_call_and_return_conditional_losses, lstm_cell_43_layer_call_fn, lstm_cell_44_layer_call_and_return_conditional_losses, lstm_cell_44_layer_call_fn, lstm_cell_43_layer_call_fn while saving (showing 5 of 10). These functions will not be directly callable after loading.\n"
          ],
          "name": "stderr"
        },
        {
          "output_type": "stream",
          "text": [
            "INFO:tensorflow:Assets written to: skimlit_glove_model/assets\n"
          ],
          "name": "stdout"
        },
        {
          "output_type": "stream",
          "text": [
            "INFO:tensorflow:Assets written to: skimlit_glove_model/assets\n"
          ],
          "name": "stderr"
        }
      ]
    },
    {
      "cell_type": "code",
      "metadata": {
        "id": "sumcTSS1UD-5"
      },
      "source": [
        "# Example of copying saved model from Google Colab to Drive (requires Google Drive to be mounted)\n",
        "!cp skimlit_glove_model -r /content/drive/MyDrive/skim_lit"
      ],
      "execution_count": null,
      "outputs": []
    },
    {
      "cell_type": "markdown",
      "metadata": {
        "id": "7aValYfx6tSA"
      },
      "source": [
        ""
      ]
    },
    {
      "cell_type": "markdown",
      "metadata": {
        "id": "3MNMmI8H6t9W"
      },
      "source": [
        "## Best Model with TensorFlow Hub BERT PubMed expert Embedding"
      ]
    },
    {
      "cell_type": "markdown",
      "metadata": {
        "id": "D9O6vZX56t9X"
      },
      "source": [
        "### Create positional embeddings"
      ]
    },
    {
      "cell_type": "code",
      "metadata": {
        "id": "znmiuGDQ6t9Y"
      },
      "source": [
        "# Use TensorFlow to create one-hot-encoded tensors of our \"line_number\" column \n",
        "train_line_numbers_one_hot = tf.one_hot(train_df[\"line_number\"].to_numpy(), depth=15)\n",
        "val_line_numbers_one_hot = tf.one_hot(val_df[\"line_number\"].to_numpy(), depth=15)\n",
        "test_line_numbers_one_hot = tf.one_hot(test_df[\"line_number\"].to_numpy(), depth=15)"
      ],
      "execution_count": null,
      "outputs": []
    },
    {
      "cell_type": "code",
      "metadata": {
        "colab": {
          "base_uri": "https://localhost:8080/"
        },
        "id": "STzekCKF6t9Z",
        "outputId": "af364fa0-375a-4b7a-f1ec-198e90987e4d"
      },
      "source": [
        "# Use TensorFlow to create one-hot-encoded tensors of our \"total_lines\" column \n",
        "train_total_lines_one_hot = tf.one_hot(train_df[\"total_lines\"].to_numpy(), depth=20)\n",
        "val_total_lines_one_hot = tf.one_hot(val_df[\"total_lines\"].to_numpy(), depth=20)\n",
        "test_total_lines_one_hot = tf.one_hot(test_df[\"total_lines\"].to_numpy(), depth=20)\n",
        "\n",
        "# Check shape and samples of total lines one-hot tensor\n",
        "train_total_lines_one_hot.shape, train_total_lines_one_hot[:10]"
      ],
      "execution_count": null,
      "outputs": [
        {
          "output_type": "execute_result",
          "data": {
            "text/plain": [
              "(TensorShape([180040, 20]), <tf.Tensor: shape=(10, 20), dtype=float32, numpy=\n",
              " array([[0., 0., 0., 0., 0., 0., 0., 0., 0., 0., 0., 1., 0., 0., 0., 0.,\n",
              "         0., 0., 0., 0.],\n",
              "        [0., 0., 0., 0., 0., 0., 0., 0., 0., 0., 0., 1., 0., 0., 0., 0.,\n",
              "         0., 0., 0., 0.],\n",
              "        [0., 0., 0., 0., 0., 0., 0., 0., 0., 0., 0., 1., 0., 0., 0., 0.,\n",
              "         0., 0., 0., 0.],\n",
              "        [0., 0., 0., 0., 0., 0., 0., 0., 0., 0., 0., 1., 0., 0., 0., 0.,\n",
              "         0., 0., 0., 0.],\n",
              "        [0., 0., 0., 0., 0., 0., 0., 0., 0., 0., 0., 1., 0., 0., 0., 0.,\n",
              "         0., 0., 0., 0.],\n",
              "        [0., 0., 0., 0., 0., 0., 0., 0., 0., 0., 0., 1., 0., 0., 0., 0.,\n",
              "         0., 0., 0., 0.],\n",
              "        [0., 0., 0., 0., 0., 0., 0., 0., 0., 0., 0., 1., 0., 0., 0., 0.,\n",
              "         0., 0., 0., 0.],\n",
              "        [0., 0., 0., 0., 0., 0., 0., 0., 0., 0., 0., 1., 0., 0., 0., 0.,\n",
              "         0., 0., 0., 0.],\n",
              "        [0., 0., 0., 0., 0., 0., 0., 0., 0., 0., 0., 1., 0., 0., 0., 0.,\n",
              "         0., 0., 0., 0.],\n",
              "        [0., 0., 0., 0., 0., 0., 0., 0., 0., 0., 0., 1., 0., 0., 0., 0.,\n",
              "         0., 0., 0., 0.]], dtype=float32)>)"
            ]
          },
          "metadata": {},
          "execution_count": 47
        }
      ]
    },
    {
      "cell_type": "markdown",
      "metadata": {
        "id": "KKbNZUi06t9b"
      },
      "source": [
        "### Create BERT trained on MEDLINE/PubMed"
      ]
    },
    {
      "cell_type": "code",
      "metadata": {
        "id": "RDLvsSOy6t9c",
        "colab": {
          "base_uri": "https://localhost:8080/"
        },
        "outputId": "317f28e9-f528-4903-ba5c-9fc8bc110711"
      },
      "source": [
        "# Load the BERT encoder and preprocessing models\n",
        "!pip3 install --quiet tensorflow-text\n",
        "import tensorflow_hub as hub\n",
        "import tensorflow_text as text  # Imports TF ops for preprocessing.\n",
        "\n",
        "preprocess = hub.load('https://tfhub.dev/tensorflow/bert_en_uncased_preprocess/3')\n",
        "bert = hub.load('https://tfhub.dev/google/experts/bert/pubmed/2')"
      ],
      "execution_count": null,
      "outputs": [
        {
          "output_type": "stream",
          "text": [
            "\u001b[K     |████████████████████████████████| 4.4 MB 7.2 MB/s \n",
            "\u001b[?25h"
          ],
          "name": "stdout"
        }
      ]
    },
    {
      "cell_type": "code",
      "metadata": {
        "id": "0W1G3gxx6t9e",
        "colab": {
          "base_uri": "https://localhost:8080/"
        },
        "outputId": "5209f626-dd2b-4558-9b2b-91486fb3723b"
      },
      "source": [
        "# Convert the sentences to bert inputs\n",
        "%%time\n",
        "bert_inputs = preprocess(train_sentences[0:1])"
      ],
      "execution_count": null,
      "outputs": [
        {
          "output_type": "stream",
          "text": [
            "CPU times: user 127 ms, sys: 4.99 ms, total: 132 ms\n",
            "Wall time: 145 ms\n"
          ],
          "name": "stdout"
        }
      ]
    },
    {
      "cell_type": "code",
      "metadata": {
        "id": "GNd0WybO6t9h",
        "colab": {
          "base_uri": "https://localhost:8080/"
        },
        "outputId": "b1e8686d-c2ba-43db-9ffc-a970a03e2f61"
      },
      "source": [
        "# Feed the inputs to the model to get the pooled and sequence outputs\n",
        "bert_outputs = bert(bert_inputs, training=False)\n",
        "pooled_output = bert_outputs['pooled_output']\n",
        "sequence_output = bert_outputs['sequence_output']\n",
        "\n",
        "print('\\nSentences:')\n",
        "print(train_sentences[0:1])\n",
        "print('\\nPreprocessed sentence:')\n",
        "print(bert_inputs)\n",
        "print('\\nBert output sentence:')\n",
        "print(bert_outputs)\n",
        "print('\\nPooled output:')\n",
        "print(pooled_output.shape)\n",
        "print('\\nSequence output:')\n",
        "print(sequence_output.shape)"
      ],
      "execution_count": null,
      "outputs": [
        {
          "output_type": "stream",
          "text": [
            "\n",
            "Sentences:\n",
            "['to investigate the efficacy of @ weeks of daily low-dose oral prednisolone in improving pain , mobility , and systemic low-grade inflammation in the short term and whether the effect would be sustained at @ weeks in older adults with moderate to severe knee osteoarthritis ( oa ) .']\n",
            "\n",
            "Preprocessed sentence:\n",
            "{'input_word_ids': <tf.Tensor: shape=(1, 128), dtype=int32, numpy=\n",
            "array([[  101,  2000,  8556,  1996, 21150,  1997,  1030,  3134,  1997,\n",
            "         3679,  2659,  1011, 13004,  8700,  3653,  2094,  8977, 12898,\n",
            "         2638,  1999,  9229,  3255,  1010, 12969,  1010,  1998, 22575,\n",
            "         2659,  1011,  3694, 21733,  1999,  1996,  2460,  2744,  1998,\n",
            "         3251,  1996,  3466,  2052,  2022,  8760,  2012,  1030,  3134,\n",
            "         1999,  3080,  6001,  2007,  8777,  2000,  5729,  6181,  9808,\n",
            "         2618, 10441, 15265, 14778,  2483,  1006,  1051,  2050,  1007,\n",
            "         1012,   102,     0,     0,     0,     0,     0,     0,     0,\n",
            "            0,     0,     0,     0,     0,     0,     0,     0,     0,\n",
            "            0,     0,     0,     0,     0,     0,     0,     0,     0,\n",
            "            0,     0,     0,     0,     0,     0,     0,     0,     0,\n",
            "            0,     0,     0,     0,     0,     0,     0,     0,     0,\n",
            "            0,     0,     0,     0,     0,     0,     0,     0,     0,\n",
            "            0,     0,     0,     0,     0,     0,     0,     0,     0,\n",
            "            0,     0]], dtype=int32)>, 'input_mask': <tf.Tensor: shape=(1, 128), dtype=int32, numpy=\n",
            "array([[1, 1, 1, 1, 1, 1, 1, 1, 1, 1, 1, 1, 1, 1, 1, 1, 1, 1, 1, 1, 1, 1,\n",
            "        1, 1, 1, 1, 1, 1, 1, 1, 1, 1, 1, 1, 1, 1, 1, 1, 1, 1, 1, 1, 1, 1,\n",
            "        1, 1, 1, 1, 1, 1, 1, 1, 1, 1, 1, 1, 1, 1, 1, 1, 1, 1, 1, 1, 1, 0,\n",
            "        0, 0, 0, 0, 0, 0, 0, 0, 0, 0, 0, 0, 0, 0, 0, 0, 0, 0, 0, 0, 0, 0,\n",
            "        0, 0, 0, 0, 0, 0, 0, 0, 0, 0, 0, 0, 0, 0, 0, 0, 0, 0, 0, 0, 0, 0,\n",
            "        0, 0, 0, 0, 0, 0, 0, 0, 0, 0, 0, 0, 0, 0, 0, 0, 0, 0]],\n",
            "      dtype=int32)>, 'input_type_ids': <tf.Tensor: shape=(1, 128), dtype=int32, numpy=\n",
            "array([[0, 0, 0, 0, 0, 0, 0, 0, 0, 0, 0, 0, 0, 0, 0, 0, 0, 0, 0, 0, 0, 0,\n",
            "        0, 0, 0, 0, 0, 0, 0, 0, 0, 0, 0, 0, 0, 0, 0, 0, 0, 0, 0, 0, 0, 0,\n",
            "        0, 0, 0, 0, 0, 0, 0, 0, 0, 0, 0, 0, 0, 0, 0, 0, 0, 0, 0, 0, 0, 0,\n",
            "        0, 0, 0, 0, 0, 0, 0, 0, 0, 0, 0, 0, 0, 0, 0, 0, 0, 0, 0, 0, 0, 0,\n",
            "        0, 0, 0, 0, 0, 0, 0, 0, 0, 0, 0, 0, 0, 0, 0, 0, 0, 0, 0, 0, 0, 0,\n",
            "        0, 0, 0, 0, 0, 0, 0, 0, 0, 0, 0, 0, 0, 0, 0, 0, 0, 0]],\n",
            "      dtype=int32)>}\n",
            "\n",
            "Bert output sentence:\n",
            "{'encoder_outputs': [<tf.Tensor: shape=(1, 128, 768), dtype=float32, numpy=\n",
            "array([[[-0.00113917, -0.03851551,  0.05738293, ..., -0.06561451,\n",
            "         -0.02525268,  0.01200115],\n",
            "        [-0.39834258, -0.01629883,  0.35270566, ..., -0.25122467,\n",
            "         -0.05913283,  0.04271343],\n",
            "        [-0.1133259 ,  0.47059944,  0.23561694, ..., -0.73660713,\n",
            "          0.11889118,  0.26082143],\n",
            "        ...,\n",
            "        [ 0.08467264, -0.07661887,  0.1665924 , ..., -0.23282002,\n",
            "          0.17747876, -0.4185473 ],\n",
            "        [ 0.09634783, -0.09330636,  0.19126022, ..., -0.2425509 ,\n",
            "          0.19723542, -0.36697438],\n",
            "        [ 0.01887492, -0.10936506,  0.21036589, ..., -0.2375577 ,\n",
            "          0.23936546, -0.32810563]]], dtype=float32)>, <tf.Tensor: shape=(1, 128, 768), dtype=float32, numpy=\n",
            "array([[[ 0.01403591, -0.07293044,  0.07116172, ..., -0.08579279,\n",
            "         -0.02211542, -0.01677371],\n",
            "        [-0.4868888 ,  0.08262025,  0.3263864 , ..., -0.28604445,\n",
            "          0.18343441,  0.02567412],\n",
            "        [-0.2526482 ,  0.45721102,  0.33054793, ..., -0.38101932,\n",
            "          0.17992598,  0.35974288],\n",
            "        ...,\n",
            "        [ 0.07606228,  0.07449853,  0.0509069 , ..., -0.10128616,\n",
            "          0.17442657, -0.5002561 ],\n",
            "        [ 0.08862598,  0.06683755,  0.09997288, ..., -0.14644738,\n",
            "          0.24326521, -0.4207595 ],\n",
            "        [-0.04838938,  0.06669413,  0.14993161, ..., -0.19737092,\n",
            "          0.20895173, -0.44636026]]], dtype=float32)>, <tf.Tensor: shape=(1, 128, 768), dtype=float32, numpy=\n",
            "array([[[ 0.02296347, -0.08858521, -0.05324151, ..., -0.08366715,\n",
            "          0.1084689 , -0.01990519],\n",
            "        [-0.32846248,  0.09224248,  0.05053395, ..., -0.29858097,\n",
            "          0.18064928, -0.15592642],\n",
            "        [ 0.06565351,  0.48740616,  0.13287482, ..., -0.36390206,\n",
            "          0.08349586,  0.33201793],\n",
            "        ...,\n",
            "        [ 0.40796688,  0.03733977, -0.01891128, ..., -0.1417248 ,\n",
            "          0.12617148, -0.44090152],\n",
            "        [ 0.3175316 ,  0.03357802, -0.01019499, ..., -0.08044924,\n",
            "          0.1595265 , -0.38681835],\n",
            "        [ 0.2836911 , -0.00980149,  0.03711761, ..., -0.05893192,\n",
            "          0.18758284, -0.3674737 ]]], dtype=float32)>, <tf.Tensor: shape=(1, 128, 768), dtype=float32, numpy=\n",
            "array([[[-0.01150927, -0.00297471, -0.03834923, ...,  0.0450624 ,\n",
            "         -0.00197728,  0.01653016],\n",
            "        [-0.35978413,  0.11705959, -0.03098024, ...,  0.01135949,\n",
            "          0.1788987 ,  0.04081767],\n",
            "        [-0.11051114,  0.58474284, -0.01473014, ..., -0.1820712 ,\n",
            "          0.00453596,  0.34319764],\n",
            "        ...,\n",
            "        [ 0.4028769 ,  0.05560105, -0.12504354, ..., -0.03290984,\n",
            "         -0.12379517, -0.4594924 ],\n",
            "        [ 0.3219245 , -0.00548486, -0.07301569, ...,  0.0182097 ,\n",
            "         -0.10863563, -0.41245598],\n",
            "        [ 0.30087876, -0.05506396,  0.00678211, ...,  0.02671061,\n",
            "         -0.05821753, -0.42396942]]], dtype=float32)>, <tf.Tensor: shape=(1, 128, 768), dtype=float32, numpy=\n",
            "array([[[ 0.05008205, -0.0234682 , -0.00836825, ..., -0.04116713,\n",
            "         -0.00244376, -0.04464701],\n",
            "        [ 0.35935032,  0.13671425, -0.09766341, ...,  0.20165402,\n",
            "          0.00643951, -0.20121458],\n",
            "        [ 0.01766261,  0.6289598 ,  0.26361698, ...,  0.15474918,\n",
            "         -0.2637629 ,  0.15650713],\n",
            "        ...,\n",
            "        [ 0.3082331 , -0.1772106 , -0.05839979, ..., -0.33202848,\n",
            "          0.07593311, -0.5903905 ],\n",
            "        [ 0.3361986 , -0.22653541,  0.05023896, ..., -0.2028141 ,\n",
            "          0.0566204 , -0.7295564 ],\n",
            "        [ 0.21281694, -0.31403401,  0.26049042, ..., -0.06645571,\n",
            "          0.04564675, -0.70556396]]], dtype=float32)>, <tf.Tensor: shape=(1, 128, 768), dtype=float32, numpy=\n",
            "array([[[-0.3236656 , -0.03515596,  0.12385397, ...,  0.05848899,\n",
            "          0.16022797, -0.01376013],\n",
            "        [ 0.20199406,  0.21643725, -0.08792925, ..., -0.2028937 ,\n",
            "          0.53199506, -0.23675369],\n",
            "        [-0.19842446,  0.5786997 , -0.00710171, ...,  0.03735854,\n",
            "         -0.03091266,  0.25763512],\n",
            "        ...,\n",
            "        [ 0.2074797 , -0.31157178,  0.23806244, ..., -0.4565052 ,\n",
            "         -0.00741706, -0.6488134 ],\n",
            "        [ 0.21206158, -0.2850077 ,  0.24446304, ..., -0.36365843,\n",
            "         -0.02292652, -0.8089049 ],\n",
            "        [ 0.05886195, -0.31759548,  0.30874023, ..., -0.19780311,\n",
            "         -0.09538638, -0.82947874]]], dtype=float32)>, <tf.Tensor: shape=(1, 128, 768), dtype=float32, numpy=\n",
            "array([[[-0.09285504,  0.04153777,  0.20265965, ..., -0.21345186,\n",
            "          0.09370768, -0.03942093],\n",
            "        [-0.12557979,  0.236262  , -0.5227007 , ..., -0.08465372,\n",
            "         -0.03986729, -0.45965055],\n",
            "        [-0.30446896,  0.47418112, -0.00384333, ..., -0.35528204,\n",
            "         -0.23958495,  0.11381504],\n",
            "        ...,\n",
            "        [ 0.37071735, -0.32324257,  0.24194185, ..., -0.33405197,\n",
            "          0.0478327 , -0.61431146],\n",
            "        [ 0.3400437 , -0.37615213,  0.32000226, ..., -0.41500163,\n",
            "         -0.07385847, -0.89088917],\n",
            "        [ 0.10738902, -0.36021188,  0.36894184, ..., -0.36380062,\n",
            "         -0.1980066 , -1.043932  ]]], dtype=float32)>, <tf.Tensor: shape=(1, 128, 768), dtype=float32, numpy=\n",
            "array([[[-0.33944052, -0.09512299, -0.3638603 , ..., -0.6123765 ,\n",
            "         -0.12641993, -0.20039567],\n",
            "        [-0.39336172,  0.09748199, -0.3887783 , ..., -0.2363478 ,\n",
            "         -0.11891489, -0.35586247],\n",
            "        [-0.27149332,  0.46846956, -0.05510399, ..., -0.13073316,\n",
            "         -0.01635166,  0.20169483],\n",
            "        ...,\n",
            "        [ 0.31020924, -0.38835055, -0.30623293, ..., -0.3728998 ,\n",
            "          0.20014878, -0.44703746],\n",
            "        [ 0.28081852, -0.43204844, -0.13476813, ..., -0.46386743,\n",
            "          0.14953879, -0.85785496],\n",
            "        [ 0.1233057 , -0.367678  , -0.01294913, ..., -0.4505899 ,\n",
            "          0.07725364, -1.0139695 ]]], dtype=float32)>, <tf.Tensor: shape=(1, 128, 768), dtype=float32, numpy=\n",
            "array([[[-0.25319025, -0.21986249, -0.06739763, ..., -0.45869875,\n",
            "          0.29480433, -0.30658352],\n",
            "        [-0.25993767, -0.24234697, -0.08576762, ..., -0.23188412,\n",
            "          0.46030027, -0.32262498],\n",
            "        [-0.13704342,  0.185298  ,  0.05202705, ...,  0.37894008,\n",
            "          0.05439962,  0.24686532],\n",
            "        ...,\n",
            "        [ 0.19219047, -0.45638865, -0.07187704, ..., -0.40165424,\n",
            "          0.10626297, -0.21968247],\n",
            "        [ 0.0869583 , -0.70906025,  0.05373729, ..., -0.46096215,\n",
            "          0.06123109, -0.64906514],\n",
            "        [-0.01221472, -0.6097067 ,  0.11463539, ..., -0.3385898 ,\n",
            "          0.06989068, -0.9067879 ]]], dtype=float32)>, <tf.Tensor: shape=(1, 128, 768), dtype=float32, numpy=\n",
            "array([[[-6.3862020e-01, -3.1568405e-01, -1.3832067e-01, ...,\n",
            "         -1.6924189e-01,  3.7330857e-01, -3.6524692e-01],\n",
            "        [-1.4639068e-02, -3.0359632e-01, -4.2048469e-02, ...,\n",
            "         -3.7472954e-01,  2.1374355e-01, -2.6404369e-01],\n",
            "        [-9.1250032e-02,  1.2571773e-02, -7.4379351e-03, ...,\n",
            "          5.6472667e-02,  8.2116714e-03,  2.8294250e-01],\n",
            "        ...,\n",
            "        [ 8.2907595e-02, -6.2781477e-01, -1.7148773e-01, ...,\n",
            "          2.8964970e-03,  3.7918791e-02, -2.7377903e-01],\n",
            "        [ 1.1086880e-01, -8.7424076e-01,  1.6899897e-02, ...,\n",
            "          8.9419991e-02,  2.0897081e-01, -4.9740615e-01],\n",
            "        [-6.2384319e-02, -7.7985215e-01, -1.2420118e-05, ...,\n",
            "          2.6559490e-01,  1.1062283e-01, -6.3051182e-01]]], dtype=float32)>, <tf.Tensor: shape=(1, 128, 768), dtype=float32, numpy=\n",
            "array([[[-0.3753453 , -0.3241592 , -0.01844758, ..., -0.0803132 ,\n",
            "          0.40247437, -0.32918578],\n",
            "        [-0.02639833, -0.33758613,  0.09357759, ..., -0.18823302,\n",
            "          0.18761396, -0.28555828],\n",
            "        [-0.1182072 , -0.05271693, -0.0763007 , ...,  0.06974928,\n",
            "         -0.0149243 ,  0.2647247 ],\n",
            "        ...,\n",
            "        [ 0.05255402, -0.75007516, -0.20164515, ..., -0.06726727,\n",
            "         -0.10510015, -0.37684506],\n",
            "        [-0.18092795, -0.51264733,  0.12686864, ...,  0.19869724,\n",
            "         -0.00488234, -0.62380356],\n",
            "        [-0.4055617 , -0.26236105,  0.09530079, ...,  0.13492115,\n",
            "         -0.05995956, -0.701613  ]]], dtype=float32)>, <tf.Tensor: shape=(1, 128, 768), dtype=float32, numpy=\n",
            "array([[[-0.7705867 , -0.8793773 ,  0.13509202, ..., -0.49973077,\n",
            "          0.04365878, -0.7458722 ],\n",
            "        [ 0.6317787 , -0.9539268 ,  0.6360851 , ..., -0.48633832,\n",
            "          0.522472  , -0.0920327 ],\n",
            "        [-0.40651733,  0.4540264 ,  0.23950401, ..., -0.04735078,\n",
            "          0.5215421 , -0.11386806],\n",
            "        ...,\n",
            "        [ 0.04037932, -1.3306514 ,  0.09513462, ..., -0.09687656,\n",
            "         -0.10666385, -0.31084982],\n",
            "        [-0.35761154, -0.8454598 ,  0.33930573, ..., -0.11310777,\n",
            "         -0.30588305, -0.6189369 ],\n",
            "        [-0.6476548 , -0.38588718,  0.21757358, ..., -0.32382873,\n",
            "         -0.48836863, -0.828334  ]]], dtype=float32)>], 'sequence_output': <tf.Tensor: shape=(1, 128, 768), dtype=float32, numpy=\n",
            "array([[[-0.7705867 , -0.8793773 ,  0.13509202, ..., -0.49973077,\n",
            "          0.04365878, -0.7458722 ],\n",
            "        [ 0.6317787 , -0.9539268 ,  0.6360851 , ..., -0.48633832,\n",
            "          0.522472  , -0.0920327 ],\n",
            "        [-0.40651733,  0.4540264 ,  0.23950401, ..., -0.04735078,\n",
            "          0.5215421 , -0.11386806],\n",
            "        ...,\n",
            "        [ 0.04037932, -1.3306514 ,  0.09513462, ..., -0.09687656,\n",
            "         -0.10666385, -0.31084982],\n",
            "        [-0.35761154, -0.8454598 ,  0.33930573, ..., -0.11310777,\n",
            "         -0.30588305, -0.6189369 ],\n",
            "        [-0.6476548 , -0.38588718,  0.21757358, ..., -0.32382873,\n",
            "         -0.48836863, -0.828334  ]]], dtype=float32)>, 'default': <tf.Tensor: shape=(1, 768), dtype=float32, numpy=\n",
            "array([[-6.47270560e-01, -7.06107259e-01,  1.34276167e-01,\n",
            "        -1.59531578e-01, -4.69435275e-01, -3.85531455e-01,\n",
            "         7.53125668e-01,  8.39709222e-01,  5.14612794e-01,\n",
            "        -7.81927049e-01,  6.93201721e-01, -1.46007910e-01,\n",
            "         6.75568044e-01,  2.03594625e-01, -8.26803565e-01,\n",
            "         9.85379875e-01, -5.27399004e-01,  5.92745304e-01,\n",
            "        -1.71549916e-01,  8.37817609e-01, -4.45369452e-01,\n",
            "         5.48494756e-01,  5.91045260e-01, -6.64294004e-01,\n",
            "         9.67763841e-01, -3.34347576e-01, -7.25722969e-01,\n",
            "         5.22634447e-01, -1.49134994e-01, -1.99555174e-01,\n",
            "        -6.33884907e-01,  1.55682743e-01, -7.15718389e-01,\n",
            "         9.73863423e-01, -2.47891303e-02, -4.35931921e-01,\n",
            "        -2.73439199e-01, -9.38440040e-02, -9.13662612e-01,\n",
            "         3.69243741e-01,  2.61705220e-01,  8.95764232e-01,\n",
            "        -9.23897266e-01, -1.56670645e-01,  5.70603371e-01,\n",
            "        -1.92336142e-01,  5.54857671e-01,  5.84567606e-01,\n",
            "         8.77510786e-01, -4.29756641e-01, -6.97378695e-01,\n",
            "         5.40936947e-01, -1.56918555e-01,  7.48576939e-01,\n",
            "        -4.30269361e-01, -4.20839906e-01, -2.33529806e-01,\n",
            "        -7.84429252e-01, -5.00723004e-01,  5.08963227e-01,\n",
            "         6.92520082e-01,  7.69520938e-01, -9.35557961e-01,\n",
            "        -8.04720074e-02, -2.98905969e-01,  8.83800030e-01,\n",
            "         4.14895326e-01,  5.55568635e-01,  9.32344675e-01,\n",
            "         8.51573646e-02,  6.19666040e-01, -6.30938828e-01,\n",
            "        -6.71568990e-01, -9.29375291e-01,  6.70064807e-01,\n",
            "         6.12042069e-01, -2.27395475e-01,  5.13055623e-01,\n",
            "        -5.11407435e-01, -9.23772752e-01,  8.18356931e-01,\n",
            "         1.23879641e-01,  2.53977746e-01,  4.35387105e-01,\n",
            "         3.19392622e-01,  6.39214218e-01,  5.19959509e-01,\n",
            "        -1.39915377e-01,  1.71706304e-01, -1.33026570e-01,\n",
            "         5.52481830e-01, -5.22466481e-01, -6.23019412e-02,\n",
            "        -3.94257950e-03,  8.16528559e-01, -3.91675740e-01,\n",
            "        -4.00398314e-01, -2.26175442e-01,  3.14674340e-02,\n",
            "        -2.63279676e-01, -9.57081258e-01,  7.04635799e-01,\n",
            "        -2.33476341e-01,  8.51424277e-01,  3.43638241e-01,\n",
            "         6.41529918e-01,  5.44809811e-02, -6.52341783e-01,\n",
            "         9.12628546e-02,  2.97987610e-01,  2.24526957e-01,\n",
            "        -1.96138188e-01,  5.56397080e-01, -8.53455782e-01,\n",
            "         3.26582879e-01,  1.60780221e-01,  2.37550706e-01,\n",
            "         7.33483434e-01,  4.17379513e-02,  2.69785345e-01,\n",
            "         2.66406834e-01, -5.10578811e-01, -8.42525363e-02,\n",
            "         1.63388982e-01, -7.74232864e-01, -9.72528040e-01,\n",
            "         2.93836981e-01,  5.76805115e-01,  8.20212901e-01,\n",
            "        -1.99882053e-02,  8.08228254e-01,  3.87654789e-02,\n",
            "         7.65327573e-01,  4.01902832e-02,  7.60012805e-01,\n",
            "        -8.69841754e-01, -2.57133842e-01, -3.53689432e-01,\n",
            "        -3.27697903e-01,  4.16797608e-01, -9.63268876e-01,\n",
            "         8.98521960e-01,  9.51361001e-01, -1.45305663e-01,\n",
            "         5.84674537e-01, -6.03249371e-01, -1.89595923e-01,\n",
            "        -9.01208520e-01,  4.07827795e-02,  7.74924040e-01,\n",
            "        -3.99012744e-01, -7.77137503e-02, -7.35502958e-01,\n",
            "         8.10891926e-01, -1.23805471e-01,  8.45354974e-01,\n",
            "         4.98262793e-01,  7.70262420e-01,  7.19960093e-01,\n",
            "        -4.46600795e-01, -2.71794558e-01, -7.75401890e-01,\n",
            "        -3.07703257e-01, -2.05131143e-01, -2.07271129e-01,\n",
            "         2.48460561e-01,  8.32853615e-01,  3.89556468e-01,\n",
            "        -1.21993348e-01, -5.34861267e-01, -8.99836898e-01,\n",
            "         4.24176574e-01, -2.21087694e-01,  3.64716016e-02,\n",
            "        -4.20221895e-01, -4.50362802e-01, -5.97645521e-01,\n",
            "         8.05922687e-01,  9.28002596e-01, -9.57311988e-01,\n",
            "        -7.37512112e-01, -1.40448928e-01,  8.08756873e-02,\n",
            "         3.86641026e-02, -9.96336579e-01, -3.28927338e-01,\n",
            "        -4.84835744e-01, -8.53362083e-01,  3.35081905e-01,\n",
            "         7.34555125e-01,  4.63054806e-01, -8.90232682e-01,\n",
            "        -1.52608812e-01, -2.56489217e-01,  8.30003858e-01,\n",
            "         2.13525385e-01,  6.07942998e-01, -6.18545711e-01,\n",
            "         3.71177912e-01,  6.04629442e-02, -3.95559460e-01,\n",
            "         6.97988331e-01,  8.79851758e-01, -8.61593604e-01,\n",
            "         8.49027872e-01, -2.14833915e-01,  4.99446929e-01,\n",
            "        -5.34401238e-01, -6.37707949e-01, -9.63053524e-01,\n",
            "        -5.35566270e-01, -6.96012676e-01, -4.04271603e-01,\n",
            "         6.72626913e-01,  5.75853348e-01, -1.26749396e-01,\n",
            "         2.08682016e-01, -4.83886786e-02,  9.14655328e-01,\n",
            "         4.01832193e-01, -3.88063520e-01, -3.42209697e-01,\n",
            "         4.21636045e-01, -7.31528878e-01, -6.36055410e-01,\n",
            "         8.78131986e-01,  8.84387314e-01, -2.90006578e-01,\n",
            "         8.18600476e-01,  9.35276926e-01,  9.77374792e-01,\n",
            "         3.84400547e-01, -3.31019610e-01,  3.66708726e-01,\n",
            "         4.78831351e-01,  8.99982035e-01, -2.23045975e-01,\n",
            "        -7.54411817e-01,  1.09223031e-01, -5.85145175e-01,\n",
            "        -5.50085187e-01,  7.05108881e-01,  1.41590834e-04,\n",
            "         1.69824418e-02,  9.33419168e-01,  7.61806220e-02,\n",
            "         2.41088018e-01,  5.55460572e-01,  1.56938359e-01,\n",
            "         2.79049486e-01,  5.00081241e-01, -2.71756887e-01,\n",
            "        -9.13185596e-01,  4.29118015e-02,  6.47907197e-01,\n",
            "         4.35540199e-01, -1.30846024e-01,  5.56904912e-01,\n",
            "        -1.26672477e-01, -4.84721065e-01, -5.00892708e-03,\n",
            "         5.99385381e-01,  4.74932343e-02,  6.38368130e-01,\n",
            "        -8.07435095e-01, -2.60729045e-01,  6.63775086e-01,\n",
            "        -6.11798882e-01, -5.35894930e-01, -7.59330630e-01,\n",
            "         9.08847034e-01, -5.99397779e-01, -1.40656322e-01,\n",
            "         4.29107010e-01, -6.85955405e-01, -5.01555502e-01,\n",
            "         3.39606225e-01,  8.62605155e-01, -2.00982898e-01,\n",
            "        -5.53693771e-01,  6.60075545e-01,  6.85413003e-01,\n",
            "         9.63587582e-01,  9.31332290e-01, -4.67239708e-01,\n",
            "         7.44412303e-01, -3.75425309e-01, -4.61117566e-01,\n",
            "        -1.77059457e-01,  4.39106256e-01, -3.30209941e-01,\n",
            "        -1.38379529e-01,  1.61582381e-02,  8.42041492e-01,\n",
            "         8.61783266e-01, -9.47661936e-01, -1.54305264e-01,\n",
            "        -2.09478773e-02, -7.00069189e-01, -5.55537879e-01,\n",
            "        -4.53875810e-01, -1.14943936e-01,  9.73797083e-01,\n",
            "         1.58157364e-01,  8.07582617e-01, -7.21505165e-01,\n",
            "         1.72481805e-01,  5.17580509e-01,  3.03635985e-01,\n",
            "        -9.99303162e-02,  6.56225145e-01,  4.44145322e-01,\n",
            "         1.19991675e-01,  7.16159701e-01,  5.59646189e-01,\n",
            "        -7.23405719e-01,  9.81653810e-01, -8.28977600e-02,\n",
            "         2.34280959e-01,  9.76332277e-02, -8.44526350e-01,\n",
            "        -7.45577514e-01, -2.42252186e-01,  5.43003380e-01,\n",
            "        -6.96885467e-01,  5.43637097e-01, -8.22661042e-01,\n",
            "         8.48617554e-01,  2.89134264e-01,  1.38947293e-01,\n",
            "         4.35909212e-01,  5.99144161e-01,  5.60336292e-01,\n",
            "         4.49966967e-01,  3.22194934e-01,  8.09173644e-01,\n",
            "         6.20131254e-01,  1.28758833e-01, -5.39588090e-03,\n",
            "         1.54832482e-01, -4.10026908e-01,  5.98262310e-01,\n",
            "         8.55327725e-01,  3.16731840e-01,  8.26961339e-01,\n",
            "        -2.81497329e-01, -8.23853239e-02, -1.06997028e-01,\n",
            "         3.76220644e-01, -2.25588962e-01, -3.88795644e-01,\n",
            "         8.35444987e-01,  3.16895843e-01,  8.32057536e-01,\n",
            "        -1.69171020e-01,  6.90423921e-02, -2.09123939e-02,\n",
            "         9.44276750e-01, -2.63590038e-01,  8.05181026e-01,\n",
            "        -1.25161707e-01,  6.20989859e-01,  1.64269581e-01,\n",
            "         7.54248381e-01,  2.89835215e-01,  6.29287004e-01,\n",
            "        -1.41055230e-02,  9.67573702e-01,  8.73555601e-01,\n",
            "         7.34434128e-01, -4.32039678e-01, -7.00373113e-01,\n",
            "         1.20464712e-01, -7.59519756e-01,  9.92361188e-01,\n",
            "         9.86195635e-04, -7.08595216e-01, -7.21004367e-01,\n",
            "         2.32542709e-01, -5.91597147e-02,  6.66342489e-03,\n",
            "         4.26731467e-01,  5.10777354e-01, -7.80478120e-01,\n",
            "         5.22202432e-01, -7.02022970e-01,  7.94039369e-01,\n",
            "        -2.48261645e-01, -1.61330968e-01,  9.74362612e-01,\n",
            "        -7.52261698e-01,  7.14284003e-01, -1.60175443e-01,\n",
            "         7.89407074e-01, -6.89613283e-01, -9.60046709e-01,\n",
            "         6.88796341e-01, -6.76073968e-01, -4.38497275e-01,\n",
            "         6.93370402e-01, -9.35048759e-01,  8.22698772e-01,\n",
            "         9.15553331e-01,  2.98316240e-01, -5.14312625e-01,\n",
            "         7.62512028e-01,  3.64216685e-01, -6.56141043e-02,\n",
            "        -2.20105007e-01, -8.48309323e-03, -1.14220574e-01,\n",
            "        -9.70863104e-01,  9.13389802e-01,  6.42665625e-01,\n",
            "        -3.23686421e-01,  8.06181729e-01, -6.12571776e-01,\n",
            "        -5.81492603e-01,  7.22738862e-01,  9.52336371e-01,\n",
            "         6.26275659e-01, -3.36406142e-01, -4.29747254e-01,\n",
            "        -3.09707105e-01, -2.10960880e-01,  8.72303784e-01,\n",
            "        -7.42626309e-01,  3.26928586e-01,  8.64579737e-01,\n",
            "        -3.91467005e-01,  6.88522041e-01,  1.30483955e-01,\n",
            "        -9.04254436e-01,  4.78940010e-01,  2.34548867e-01,\n",
            "         1.32267013e-01,  6.21768355e-01,  8.78268600e-01,\n",
            "        -4.83594656e-01, -4.92437035e-01, -6.53740764e-01,\n",
            "        -1.60073061e-02, -7.18126714e-01,  3.45587194e-01,\n",
            "        -3.83940488e-01,  3.30005825e-01,  7.22930968e-01,\n",
            "        -4.79201645e-01,  1.72794715e-01,  2.58451253e-01,\n",
            "        -2.72974640e-01, -6.37527704e-01,  1.18903384e-01,\n",
            "         3.26164544e-01,  7.07208157e-01, -1.91665012e-02,\n",
            "         1.53969496e-01,  7.72398785e-02,  6.54699206e-01,\n",
            "         2.79885381e-01,  7.55222976e-01, -9.18570459e-01,\n",
            "         3.99123102e-01,  7.48545527e-01, -6.86695635e-01,\n",
            "        -9.07125115e-01,  6.69617891e-01, -9.40863729e-01,\n",
            "        -6.32718503e-01, -6.50838315e-01,  7.70240247e-01,\n",
            "        -2.91613638e-01,  6.39400601e-01, -9.22436118e-01,\n",
            "        -4.57436740e-01, -8.07010770e-01,  4.53431189e-01,\n",
            "        -5.25296271e-01, -5.02529383e-01,  8.60147715e-01,\n",
            "        -4.16066617e-01,  5.93855679e-01, -5.35046279e-01,\n",
            "         6.70217216e-01,  1.21910162e-01, -1.91055134e-01,\n",
            "         3.10262322e-01,  7.13037372e-01,  2.74043441e-01,\n",
            "        -8.51631351e-03,  9.99106765e-01, -6.21862292e-01,\n",
            "        -5.03857255e-01, -7.98487067e-01,  6.08766973e-01,\n",
            "        -5.03505468e-01, -5.62379956e-01,  4.53506768e-01,\n",
            "         6.93644285e-01,  3.81157964e-01, -9.43132758e-01,\n",
            "         1.35894433e-01,  2.21210513e-02,  2.63468981e-01,\n",
            "         3.61090183e-01, -2.40042284e-01, -3.09645295e-01,\n",
            "         6.44068062e-01,  8.40028942e-01,  6.27896190e-01,\n",
            "         1.50706902e-01,  3.40625226e-01, -2.00273484e-01,\n",
            "         5.01536012e-01,  4.88630682e-01, -6.38519466e-01,\n",
            "         7.98830569e-01,  3.92228693e-01, -9.48171079e-01,\n",
            "         7.42395341e-01, -8.03803802e-01,  7.25600123e-01,\n",
            "         6.23095810e-01, -3.91539067e-01, -8.82740974e-01,\n",
            "         7.36721456e-01, -4.95630860e-01, -8.99113655e-01,\n",
            "        -3.67690772e-01,  5.26380718e-01,  6.47216201e-01,\n",
            "        -6.83704495e-01, -4.51656729e-01,  1.70731358e-03,\n",
            "         8.22199345e-01, -1.98591962e-01,  5.82672238e-01,\n",
            "        -1.11535452e-01, -1.22745678e-01,  8.33110213e-01,\n",
            "         7.75062263e-01,  4.69271332e-01, -6.91622347e-02,\n",
            "         3.70304167e-01,  6.80272579e-01,  5.57203710e-01,\n",
            "         7.84199655e-01,  5.18201649e-01,  5.95249236e-01,\n",
            "         9.92021799e-01, -5.71153462e-01, -3.14891368e-01,\n",
            "        -2.69435763e-01,  9.01377738e-01,  5.94135940e-01,\n",
            "        -5.14162123e-01,  4.28674340e-01,  9.04395103e-01,\n",
            "        -4.24804240e-01, -6.74044490e-01,  2.80054867e-01,\n",
            "         6.53945923e-01, -1.43874705e-01,  1.13533754e-02,\n",
            "        -3.65787357e-01,  9.36329544e-01, -9.13095474e-02,\n",
            "         3.19098085e-01, -2.03810886e-01,  4.38454151e-01,\n",
            "        -4.10974771e-01, -5.27372897e-01, -3.68299633e-01,\n",
            "        -8.59604061e-01, -5.51709533e-01,  7.25710511e-01,\n",
            "         5.20009041e-01, -7.89858460e-01, -1.97603226e-01,\n",
            "         8.30576062e-01,  7.65226901e-01, -2.63912767e-01,\n",
            "         3.54768366e-01,  1.86269522e-01,  9.60467994e-01,\n",
            "        -4.81449962e-01,  5.90828359e-01,  6.47750199e-01,\n",
            "         8.14179599e-01,  9.89834964e-01, -7.08926082e-01,\n",
            "        -1.33492097e-01, -4.22377378e-01, -5.05580008e-02,\n",
            "        -5.40474594e-01, -7.20091701e-01,  9.57977712e-01,\n",
            "        -7.46321380e-01, -9.45358634e-01, -3.98565531e-01,\n",
            "         6.33110583e-01,  2.60757476e-01,  5.49245477e-01,\n",
            "        -6.99469388e-01, -9.47879195e-01, -7.75911093e-01,\n",
            "         1.14190374e-02,  2.33550906e-01, -3.15230161e-01,\n",
            "         5.86143374e-01, -1.72359005e-01,  5.37278175e-01,\n",
            "         7.11791754e-01,  4.11115408e-01,  1.45454034e-01,\n",
            "         8.09540629e-01,  6.54273808e-01, -6.36660755e-01,\n",
            "         3.34877253e-01, -2.63829350e-01,  9.29959655e-01,\n",
            "        -1.35898069e-01, -9.17655647e-01,  1.09276146e-01,\n",
            "        -3.64842534e-01,  7.78265536e-01,  5.90539277e-01,\n",
            "         7.59799108e-02, -2.39006821e-02, -6.67715132e-01,\n",
            "         1.51351839e-01, -6.23107076e-01, -8.74829963e-02,\n",
            "        -2.02178791e-01, -2.67034441e-01, -2.17587247e-01,\n",
            "         6.28000975e-01, -6.71069384e-01,  2.71984249e-01,\n",
            "         7.69221604e-01, -2.45660264e-02,  8.33921041e-03,\n",
            "         4.80023772e-01, -8.31022680e-01,  6.49616063e-01,\n",
            "         9.17141736e-01, -4.36635874e-02, -2.31893480e-01,\n",
            "        -8.47268701e-01,  4.81188148e-01, -6.50140643e-01,\n",
            "         2.29578644e-01, -7.39899203e-02,  3.90126705e-01,\n",
            "        -6.28126636e-02,  1.36515558e-01, -9.16743219e-01,\n",
            "        -6.30832493e-01,  5.94703019e-01, -1.81105500e-03,\n",
            "        -8.48232031e-01, -8.50551844e-01,  1.78538963e-01,\n",
            "         5.15528858e-01, -3.47150087e-01, -1.37960389e-01,\n",
            "         8.78906995e-02,  2.95396715e-01,  4.32048827e-01,\n",
            "         2.73801953e-01, -8.29367697e-01,  4.97403979e-01,\n",
            "        -1.67593390e-01,  7.77539968e-01,  8.84446859e-01,\n",
            "        -8.10578763e-01,  7.27642775e-01, -2.53241837e-01,\n",
            "        -7.93370068e-01,  6.33841529e-02,  8.06456029e-01,\n",
            "        -4.13330317e-01,  2.14901850e-01, -5.17030120e-01,\n",
            "        -7.12208807e-01, -6.95326805e-01,  9.17928398e-01,\n",
            "        -7.30802417e-01, -8.24921191e-01, -6.92611396e-01,\n",
            "        -1.20521083e-01, -1.67128190e-01,  2.35059664e-01,\n",
            "         8.06230903e-01,  8.01495984e-02, -1.24688201e-01,\n",
            "        -7.86981881e-01,  4.46484089e-01,  3.63716722e-01,\n",
            "        -2.01819360e-01,  7.90537775e-01, -8.47763896e-01,\n",
            "        -2.62788624e-01,  5.20339787e-01, -6.76078558e-01,\n",
            "         2.69603729e-01, -7.55835652e-01,  1.08588368e-01,\n",
            "        -8.49417746e-01,  3.10132831e-01,  1.68560848e-01,\n",
            "        -8.01500976e-01, -5.50911427e-01, -6.19144499e-01,\n",
            "         5.34075677e-01,  1.22324675e-01, -7.00286508e-01,\n",
            "        -8.45900297e-01,  8.58943224e-01,  4.85178918e-01,\n",
            "         7.04707429e-02,  5.04685342e-01,  6.12921901e-02,\n",
            "        -3.02996218e-01, -4.62947458e-01,  6.09044433e-02,\n",
            "        -5.69470406e-01, -7.54461646e-01, -6.45497799e-01,\n",
            "        -4.87778038e-01, -4.94224668e-01,  1.85702413e-01,\n",
            "         9.60098386e-01,  3.31094354e-01,  5.33092499e-01,\n",
            "        -6.24627061e-02, -5.00693858e-01, -3.49068433e-01,\n",
            "        -7.04553783e-01,  8.84495556e-01, -1.12739287e-01,\n",
            "         6.89636648e-01, -4.93131280e-01,  9.73975897e-01,\n",
            "         6.42038882e-01,  6.48771703e-01, -5.26816845e-01,\n",
            "        -7.97149241e-01,  2.96395689e-01,  9.24933236e-03,\n",
            "        -4.79782224e-01, -8.80791903e-01, -6.82077110e-01,\n",
            "        -1.00000000e+00, -9.01463628e-01,  9.35090423e-01,\n",
            "        -2.66301960e-01,  4.45362866e-01, -7.55914569e-01,\n",
            "         5.83552241e-01, -3.70688200e-01,  8.77752721e-01,\n",
            "        -5.71104646e-01,  6.79393634e-02, -8.30662668e-01,\n",
            "        -4.61905390e-01,  4.36310582e-02, -6.32679939e-01]], dtype=float32)>, 'pooled_output': <tf.Tensor: shape=(1, 768), dtype=float32, numpy=\n",
            "array([[-6.47270560e-01, -7.06107259e-01,  1.34276167e-01,\n",
            "        -1.59531578e-01, -4.69435275e-01, -3.85531455e-01,\n",
            "         7.53125668e-01,  8.39709222e-01,  5.14612794e-01,\n",
            "        -7.81927049e-01,  6.93201721e-01, -1.46007910e-01,\n",
            "         6.75568044e-01,  2.03594625e-01, -8.26803565e-01,\n",
            "         9.85379875e-01, -5.27399004e-01,  5.92745304e-01,\n",
            "        -1.71549916e-01,  8.37817609e-01, -4.45369452e-01,\n",
            "         5.48494756e-01,  5.91045260e-01, -6.64294004e-01,\n",
            "         9.67763841e-01, -3.34347576e-01, -7.25722969e-01,\n",
            "         5.22634447e-01, -1.49134994e-01, -1.99555174e-01,\n",
            "        -6.33884907e-01,  1.55682743e-01, -7.15718389e-01,\n",
            "         9.73863423e-01, -2.47891303e-02, -4.35931921e-01,\n",
            "        -2.73439199e-01, -9.38440040e-02, -9.13662612e-01,\n",
            "         3.69243741e-01,  2.61705220e-01,  8.95764232e-01,\n",
            "        -9.23897266e-01, -1.56670645e-01,  5.70603371e-01,\n",
            "        -1.92336142e-01,  5.54857671e-01,  5.84567606e-01,\n",
            "         8.77510786e-01, -4.29756641e-01, -6.97378695e-01,\n",
            "         5.40936947e-01, -1.56918555e-01,  7.48576939e-01,\n",
            "        -4.30269361e-01, -4.20839906e-01, -2.33529806e-01,\n",
            "        -7.84429252e-01, -5.00723004e-01,  5.08963227e-01,\n",
            "         6.92520082e-01,  7.69520938e-01, -9.35557961e-01,\n",
            "        -8.04720074e-02, -2.98905969e-01,  8.83800030e-01,\n",
            "         4.14895326e-01,  5.55568635e-01,  9.32344675e-01,\n",
            "         8.51573646e-02,  6.19666040e-01, -6.30938828e-01,\n",
            "        -6.71568990e-01, -9.29375291e-01,  6.70064807e-01,\n",
            "         6.12042069e-01, -2.27395475e-01,  5.13055623e-01,\n",
            "        -5.11407435e-01, -9.23772752e-01,  8.18356931e-01,\n",
            "         1.23879641e-01,  2.53977746e-01,  4.35387105e-01,\n",
            "         3.19392622e-01,  6.39214218e-01,  5.19959509e-01,\n",
            "        -1.39915377e-01,  1.71706304e-01, -1.33026570e-01,\n",
            "         5.52481830e-01, -5.22466481e-01, -6.23019412e-02,\n",
            "        -3.94257950e-03,  8.16528559e-01, -3.91675740e-01,\n",
            "        -4.00398314e-01, -2.26175442e-01,  3.14674340e-02,\n",
            "        -2.63279676e-01, -9.57081258e-01,  7.04635799e-01,\n",
            "        -2.33476341e-01,  8.51424277e-01,  3.43638241e-01,\n",
            "         6.41529918e-01,  5.44809811e-02, -6.52341783e-01,\n",
            "         9.12628546e-02,  2.97987610e-01,  2.24526957e-01,\n",
            "        -1.96138188e-01,  5.56397080e-01, -8.53455782e-01,\n",
            "         3.26582879e-01,  1.60780221e-01,  2.37550706e-01,\n",
            "         7.33483434e-01,  4.17379513e-02,  2.69785345e-01,\n",
            "         2.66406834e-01, -5.10578811e-01, -8.42525363e-02,\n",
            "         1.63388982e-01, -7.74232864e-01, -9.72528040e-01,\n",
            "         2.93836981e-01,  5.76805115e-01,  8.20212901e-01,\n",
            "        -1.99882053e-02,  8.08228254e-01,  3.87654789e-02,\n",
            "         7.65327573e-01,  4.01902832e-02,  7.60012805e-01,\n",
            "        -8.69841754e-01, -2.57133842e-01, -3.53689432e-01,\n",
            "        -3.27697903e-01,  4.16797608e-01, -9.63268876e-01,\n",
            "         8.98521960e-01,  9.51361001e-01, -1.45305663e-01,\n",
            "         5.84674537e-01, -6.03249371e-01, -1.89595923e-01,\n",
            "        -9.01208520e-01,  4.07827795e-02,  7.74924040e-01,\n",
            "        -3.99012744e-01, -7.77137503e-02, -7.35502958e-01,\n",
            "         8.10891926e-01, -1.23805471e-01,  8.45354974e-01,\n",
            "         4.98262793e-01,  7.70262420e-01,  7.19960093e-01,\n",
            "        -4.46600795e-01, -2.71794558e-01, -7.75401890e-01,\n",
            "        -3.07703257e-01, -2.05131143e-01, -2.07271129e-01,\n",
            "         2.48460561e-01,  8.32853615e-01,  3.89556468e-01,\n",
            "        -1.21993348e-01, -5.34861267e-01, -8.99836898e-01,\n",
            "         4.24176574e-01, -2.21087694e-01,  3.64716016e-02,\n",
            "        -4.20221895e-01, -4.50362802e-01, -5.97645521e-01,\n",
            "         8.05922687e-01,  9.28002596e-01, -9.57311988e-01,\n",
            "        -7.37512112e-01, -1.40448928e-01,  8.08756873e-02,\n",
            "         3.86641026e-02, -9.96336579e-01, -3.28927338e-01,\n",
            "        -4.84835744e-01, -8.53362083e-01,  3.35081905e-01,\n",
            "         7.34555125e-01,  4.63054806e-01, -8.90232682e-01,\n",
            "        -1.52608812e-01, -2.56489217e-01,  8.30003858e-01,\n",
            "         2.13525385e-01,  6.07942998e-01, -6.18545711e-01,\n",
            "         3.71177912e-01,  6.04629442e-02, -3.95559460e-01,\n",
            "         6.97988331e-01,  8.79851758e-01, -8.61593604e-01,\n",
            "         8.49027872e-01, -2.14833915e-01,  4.99446929e-01,\n",
            "        -5.34401238e-01, -6.37707949e-01, -9.63053524e-01,\n",
            "        -5.35566270e-01, -6.96012676e-01, -4.04271603e-01,\n",
            "         6.72626913e-01,  5.75853348e-01, -1.26749396e-01,\n",
            "         2.08682016e-01, -4.83886786e-02,  9.14655328e-01,\n",
            "         4.01832193e-01, -3.88063520e-01, -3.42209697e-01,\n",
            "         4.21636045e-01, -7.31528878e-01, -6.36055410e-01,\n",
            "         8.78131986e-01,  8.84387314e-01, -2.90006578e-01,\n",
            "         8.18600476e-01,  9.35276926e-01,  9.77374792e-01,\n",
            "         3.84400547e-01, -3.31019610e-01,  3.66708726e-01,\n",
            "         4.78831351e-01,  8.99982035e-01, -2.23045975e-01,\n",
            "        -7.54411817e-01,  1.09223031e-01, -5.85145175e-01,\n",
            "        -5.50085187e-01,  7.05108881e-01,  1.41590834e-04,\n",
            "         1.69824418e-02,  9.33419168e-01,  7.61806220e-02,\n",
            "         2.41088018e-01,  5.55460572e-01,  1.56938359e-01,\n",
            "         2.79049486e-01,  5.00081241e-01, -2.71756887e-01,\n",
            "        -9.13185596e-01,  4.29118015e-02,  6.47907197e-01,\n",
            "         4.35540199e-01, -1.30846024e-01,  5.56904912e-01,\n",
            "        -1.26672477e-01, -4.84721065e-01, -5.00892708e-03,\n",
            "         5.99385381e-01,  4.74932343e-02,  6.38368130e-01,\n",
            "        -8.07435095e-01, -2.60729045e-01,  6.63775086e-01,\n",
            "        -6.11798882e-01, -5.35894930e-01, -7.59330630e-01,\n",
            "         9.08847034e-01, -5.99397779e-01, -1.40656322e-01,\n",
            "         4.29107010e-01, -6.85955405e-01, -5.01555502e-01,\n",
            "         3.39606225e-01,  8.62605155e-01, -2.00982898e-01,\n",
            "        -5.53693771e-01,  6.60075545e-01,  6.85413003e-01,\n",
            "         9.63587582e-01,  9.31332290e-01, -4.67239708e-01,\n",
            "         7.44412303e-01, -3.75425309e-01, -4.61117566e-01,\n",
            "        -1.77059457e-01,  4.39106256e-01, -3.30209941e-01,\n",
            "        -1.38379529e-01,  1.61582381e-02,  8.42041492e-01,\n",
            "         8.61783266e-01, -9.47661936e-01, -1.54305264e-01,\n",
            "        -2.09478773e-02, -7.00069189e-01, -5.55537879e-01,\n",
            "        -4.53875810e-01, -1.14943936e-01,  9.73797083e-01,\n",
            "         1.58157364e-01,  8.07582617e-01, -7.21505165e-01,\n",
            "         1.72481805e-01,  5.17580509e-01,  3.03635985e-01,\n",
            "        -9.99303162e-02,  6.56225145e-01,  4.44145322e-01,\n",
            "         1.19991675e-01,  7.16159701e-01,  5.59646189e-01,\n",
            "        -7.23405719e-01,  9.81653810e-01, -8.28977600e-02,\n",
            "         2.34280959e-01,  9.76332277e-02, -8.44526350e-01,\n",
            "        -7.45577514e-01, -2.42252186e-01,  5.43003380e-01,\n",
            "        -6.96885467e-01,  5.43637097e-01, -8.22661042e-01,\n",
            "         8.48617554e-01,  2.89134264e-01,  1.38947293e-01,\n",
            "         4.35909212e-01,  5.99144161e-01,  5.60336292e-01,\n",
            "         4.49966967e-01,  3.22194934e-01,  8.09173644e-01,\n",
            "         6.20131254e-01,  1.28758833e-01, -5.39588090e-03,\n",
            "         1.54832482e-01, -4.10026908e-01,  5.98262310e-01,\n",
            "         8.55327725e-01,  3.16731840e-01,  8.26961339e-01,\n",
            "        -2.81497329e-01, -8.23853239e-02, -1.06997028e-01,\n",
            "         3.76220644e-01, -2.25588962e-01, -3.88795644e-01,\n",
            "         8.35444987e-01,  3.16895843e-01,  8.32057536e-01,\n",
            "        -1.69171020e-01,  6.90423921e-02, -2.09123939e-02,\n",
            "         9.44276750e-01, -2.63590038e-01,  8.05181026e-01,\n",
            "        -1.25161707e-01,  6.20989859e-01,  1.64269581e-01,\n",
            "         7.54248381e-01,  2.89835215e-01,  6.29287004e-01,\n",
            "        -1.41055230e-02,  9.67573702e-01,  8.73555601e-01,\n",
            "         7.34434128e-01, -4.32039678e-01, -7.00373113e-01,\n",
            "         1.20464712e-01, -7.59519756e-01,  9.92361188e-01,\n",
            "         9.86195635e-04, -7.08595216e-01, -7.21004367e-01,\n",
            "         2.32542709e-01, -5.91597147e-02,  6.66342489e-03,\n",
            "         4.26731467e-01,  5.10777354e-01, -7.80478120e-01,\n",
            "         5.22202432e-01, -7.02022970e-01,  7.94039369e-01,\n",
            "        -2.48261645e-01, -1.61330968e-01,  9.74362612e-01,\n",
            "        -7.52261698e-01,  7.14284003e-01, -1.60175443e-01,\n",
            "         7.89407074e-01, -6.89613283e-01, -9.60046709e-01,\n",
            "         6.88796341e-01, -6.76073968e-01, -4.38497275e-01,\n",
            "         6.93370402e-01, -9.35048759e-01,  8.22698772e-01,\n",
            "         9.15553331e-01,  2.98316240e-01, -5.14312625e-01,\n",
            "         7.62512028e-01,  3.64216685e-01, -6.56141043e-02,\n",
            "        -2.20105007e-01, -8.48309323e-03, -1.14220574e-01,\n",
            "        -9.70863104e-01,  9.13389802e-01,  6.42665625e-01,\n",
            "        -3.23686421e-01,  8.06181729e-01, -6.12571776e-01,\n",
            "        -5.81492603e-01,  7.22738862e-01,  9.52336371e-01,\n",
            "         6.26275659e-01, -3.36406142e-01, -4.29747254e-01,\n",
            "        -3.09707105e-01, -2.10960880e-01,  8.72303784e-01,\n",
            "        -7.42626309e-01,  3.26928586e-01,  8.64579737e-01,\n",
            "        -3.91467005e-01,  6.88522041e-01,  1.30483955e-01,\n",
            "        -9.04254436e-01,  4.78940010e-01,  2.34548867e-01,\n",
            "         1.32267013e-01,  6.21768355e-01,  8.78268600e-01,\n",
            "        -4.83594656e-01, -4.92437035e-01, -6.53740764e-01,\n",
            "        -1.60073061e-02, -7.18126714e-01,  3.45587194e-01,\n",
            "        -3.83940488e-01,  3.30005825e-01,  7.22930968e-01,\n",
            "        -4.79201645e-01,  1.72794715e-01,  2.58451253e-01,\n",
            "        -2.72974640e-01, -6.37527704e-01,  1.18903384e-01,\n",
            "         3.26164544e-01,  7.07208157e-01, -1.91665012e-02,\n",
            "         1.53969496e-01,  7.72398785e-02,  6.54699206e-01,\n",
            "         2.79885381e-01,  7.55222976e-01, -9.18570459e-01,\n",
            "         3.99123102e-01,  7.48545527e-01, -6.86695635e-01,\n",
            "        -9.07125115e-01,  6.69617891e-01, -9.40863729e-01,\n",
            "        -6.32718503e-01, -6.50838315e-01,  7.70240247e-01,\n",
            "        -2.91613638e-01,  6.39400601e-01, -9.22436118e-01,\n",
            "        -4.57436740e-01, -8.07010770e-01,  4.53431189e-01,\n",
            "        -5.25296271e-01, -5.02529383e-01,  8.60147715e-01,\n",
            "        -4.16066617e-01,  5.93855679e-01, -5.35046279e-01,\n",
            "         6.70217216e-01,  1.21910162e-01, -1.91055134e-01,\n",
            "         3.10262322e-01,  7.13037372e-01,  2.74043441e-01,\n",
            "        -8.51631351e-03,  9.99106765e-01, -6.21862292e-01,\n",
            "        -5.03857255e-01, -7.98487067e-01,  6.08766973e-01,\n",
            "        -5.03505468e-01, -5.62379956e-01,  4.53506768e-01,\n",
            "         6.93644285e-01,  3.81157964e-01, -9.43132758e-01,\n",
            "         1.35894433e-01,  2.21210513e-02,  2.63468981e-01,\n",
            "         3.61090183e-01, -2.40042284e-01, -3.09645295e-01,\n",
            "         6.44068062e-01,  8.40028942e-01,  6.27896190e-01,\n",
            "         1.50706902e-01,  3.40625226e-01, -2.00273484e-01,\n",
            "         5.01536012e-01,  4.88630682e-01, -6.38519466e-01,\n",
            "         7.98830569e-01,  3.92228693e-01, -9.48171079e-01,\n",
            "         7.42395341e-01, -8.03803802e-01,  7.25600123e-01,\n",
            "         6.23095810e-01, -3.91539067e-01, -8.82740974e-01,\n",
            "         7.36721456e-01, -4.95630860e-01, -8.99113655e-01,\n",
            "        -3.67690772e-01,  5.26380718e-01,  6.47216201e-01,\n",
            "        -6.83704495e-01, -4.51656729e-01,  1.70731358e-03,\n",
            "         8.22199345e-01, -1.98591962e-01,  5.82672238e-01,\n",
            "        -1.11535452e-01, -1.22745678e-01,  8.33110213e-01,\n",
            "         7.75062263e-01,  4.69271332e-01, -6.91622347e-02,\n",
            "         3.70304167e-01,  6.80272579e-01,  5.57203710e-01,\n",
            "         7.84199655e-01,  5.18201649e-01,  5.95249236e-01,\n",
            "         9.92021799e-01, -5.71153462e-01, -3.14891368e-01,\n",
            "        -2.69435763e-01,  9.01377738e-01,  5.94135940e-01,\n",
            "        -5.14162123e-01,  4.28674340e-01,  9.04395103e-01,\n",
            "        -4.24804240e-01, -6.74044490e-01,  2.80054867e-01,\n",
            "         6.53945923e-01, -1.43874705e-01,  1.13533754e-02,\n",
            "        -3.65787357e-01,  9.36329544e-01, -9.13095474e-02,\n",
            "         3.19098085e-01, -2.03810886e-01,  4.38454151e-01,\n",
            "        -4.10974771e-01, -5.27372897e-01, -3.68299633e-01,\n",
            "        -8.59604061e-01, -5.51709533e-01,  7.25710511e-01,\n",
            "         5.20009041e-01, -7.89858460e-01, -1.97603226e-01,\n",
            "         8.30576062e-01,  7.65226901e-01, -2.63912767e-01,\n",
            "         3.54768366e-01,  1.86269522e-01,  9.60467994e-01,\n",
            "        -4.81449962e-01,  5.90828359e-01,  6.47750199e-01,\n",
            "         8.14179599e-01,  9.89834964e-01, -7.08926082e-01,\n",
            "        -1.33492097e-01, -4.22377378e-01, -5.05580008e-02,\n",
            "        -5.40474594e-01, -7.20091701e-01,  9.57977712e-01,\n",
            "        -7.46321380e-01, -9.45358634e-01, -3.98565531e-01,\n",
            "         6.33110583e-01,  2.60757476e-01,  5.49245477e-01,\n",
            "        -6.99469388e-01, -9.47879195e-01, -7.75911093e-01,\n",
            "         1.14190374e-02,  2.33550906e-01, -3.15230161e-01,\n",
            "         5.86143374e-01, -1.72359005e-01,  5.37278175e-01,\n",
            "         7.11791754e-01,  4.11115408e-01,  1.45454034e-01,\n",
            "         8.09540629e-01,  6.54273808e-01, -6.36660755e-01,\n",
            "         3.34877253e-01, -2.63829350e-01,  9.29959655e-01,\n",
            "        -1.35898069e-01, -9.17655647e-01,  1.09276146e-01,\n",
            "        -3.64842534e-01,  7.78265536e-01,  5.90539277e-01,\n",
            "         7.59799108e-02, -2.39006821e-02, -6.67715132e-01,\n",
            "         1.51351839e-01, -6.23107076e-01, -8.74829963e-02,\n",
            "        -2.02178791e-01, -2.67034441e-01, -2.17587247e-01,\n",
            "         6.28000975e-01, -6.71069384e-01,  2.71984249e-01,\n",
            "         7.69221604e-01, -2.45660264e-02,  8.33921041e-03,\n",
            "         4.80023772e-01, -8.31022680e-01,  6.49616063e-01,\n",
            "         9.17141736e-01, -4.36635874e-02, -2.31893480e-01,\n",
            "        -8.47268701e-01,  4.81188148e-01, -6.50140643e-01,\n",
            "         2.29578644e-01, -7.39899203e-02,  3.90126705e-01,\n",
            "        -6.28126636e-02,  1.36515558e-01, -9.16743219e-01,\n",
            "        -6.30832493e-01,  5.94703019e-01, -1.81105500e-03,\n",
            "        -8.48232031e-01, -8.50551844e-01,  1.78538963e-01,\n",
            "         5.15528858e-01, -3.47150087e-01, -1.37960389e-01,\n",
            "         8.78906995e-02,  2.95396715e-01,  4.32048827e-01,\n",
            "         2.73801953e-01, -8.29367697e-01,  4.97403979e-01,\n",
            "        -1.67593390e-01,  7.77539968e-01,  8.84446859e-01,\n",
            "        -8.10578763e-01,  7.27642775e-01, -2.53241837e-01,\n",
            "        -7.93370068e-01,  6.33841529e-02,  8.06456029e-01,\n",
            "        -4.13330317e-01,  2.14901850e-01, -5.17030120e-01,\n",
            "        -7.12208807e-01, -6.95326805e-01,  9.17928398e-01,\n",
            "        -7.30802417e-01, -8.24921191e-01, -6.92611396e-01,\n",
            "        -1.20521083e-01, -1.67128190e-01,  2.35059664e-01,\n",
            "         8.06230903e-01,  8.01495984e-02, -1.24688201e-01,\n",
            "        -7.86981881e-01,  4.46484089e-01,  3.63716722e-01,\n",
            "        -2.01819360e-01,  7.90537775e-01, -8.47763896e-01,\n",
            "        -2.62788624e-01,  5.20339787e-01, -6.76078558e-01,\n",
            "         2.69603729e-01, -7.55835652e-01,  1.08588368e-01,\n",
            "        -8.49417746e-01,  3.10132831e-01,  1.68560848e-01,\n",
            "        -8.01500976e-01, -5.50911427e-01, -6.19144499e-01,\n",
            "         5.34075677e-01,  1.22324675e-01, -7.00286508e-01,\n",
            "        -8.45900297e-01,  8.58943224e-01,  4.85178918e-01,\n",
            "         7.04707429e-02,  5.04685342e-01,  6.12921901e-02,\n",
            "        -3.02996218e-01, -4.62947458e-01,  6.09044433e-02,\n",
            "        -5.69470406e-01, -7.54461646e-01, -6.45497799e-01,\n",
            "        -4.87778038e-01, -4.94224668e-01,  1.85702413e-01,\n",
            "         9.60098386e-01,  3.31094354e-01,  5.33092499e-01,\n",
            "        -6.24627061e-02, -5.00693858e-01, -3.49068433e-01,\n",
            "        -7.04553783e-01,  8.84495556e-01, -1.12739287e-01,\n",
            "         6.89636648e-01, -4.93131280e-01,  9.73975897e-01,\n",
            "         6.42038882e-01,  6.48771703e-01, -5.26816845e-01,\n",
            "        -7.97149241e-01,  2.96395689e-01,  9.24933236e-03,\n",
            "        -4.79782224e-01, -8.80791903e-01, -6.82077110e-01,\n",
            "        -1.00000000e+00, -9.01463628e-01,  9.35090423e-01,\n",
            "        -2.66301960e-01,  4.45362866e-01, -7.55914569e-01,\n",
            "         5.83552241e-01, -3.70688200e-01,  8.77752721e-01,\n",
            "        -5.71104646e-01,  6.79393634e-02, -8.30662668e-01,\n",
            "        -4.61905390e-01,  4.36310582e-02, -6.32679939e-01]], dtype=float32)>}\n",
            "\n",
            "Pooled output:\n",
            "(1, 768)\n",
            "\n",
            "Sequence output:\n",
            "(1, 128, 768)\n"
          ],
          "name": "stdout"
        }
      ]
    },
    {
      "cell_type": "markdown",
      "metadata": {
        "id": "OTQcpIq26t9j"
      },
      "source": [
        "### Building a model"
      ]
    },
    {
      "cell_type": "code",
      "metadata": {
        "id": "u_NBen2H6t9j"
      },
      "source": [
        "# 1. Token inputs\n",
        "import tensorflow.keras.layers as layers\n",
        "\n",
        "token_inputs = layers.Input(shape=(), dtype=tf.string, name=\"token_inputs\")\n",
        "preprocessing_layer = hub.KerasLayer(preprocess, name='preprocessing')\n",
        "encoder_inputs = preprocessing_layer(token_inputs)\n",
        "encoder = hub.KerasLayer(bert, trainable=False, name='BERT_encoder')\n",
        "bert_outputs = encoder(encoder_inputs)\n",
        "# token_global = layers.GlobalAveragePooling1D()(bert_outputs['pooled_output'])\n",
        "token_outputs = layers.Bidirectional(layers.GRU(32))(bert_outputs['sequence_output'])\n",
        "token_model = tf.keras.Model(inputs=token_inputs,\n",
        "                             outputs=token_outputs)\n",
        "\n",
        "# 2. Char inputs\n",
        "char_inputs = layers.Input(shape=(1,), dtype=tf.string, name=\"char_inputs\")\n",
        "char_vectors = char_vectorizer(char_inputs)\n",
        "char_embeddings = char_embed(char_vectors)\n",
        "char_bi_gru = layers.Bidirectional(layers.GRU(32))(char_embeddings)\n",
        "char_model = tf.keras.Model(inputs=char_inputs,\n",
        "                            outputs=char_bi_gru)\n",
        "\n",
        "# 3. Line numbers inputs\n",
        "line_number_inputs = layers.Input(shape=(15,), dtype=tf.int32, name=\"line_number_inputs\")\n",
        "x = layers.Dense(32, activation=\"relu\")(line_number_inputs)\n",
        "line_number_model = tf.keras.Model(inputs=line_number_inputs,\n",
        "                                   outputs=x)\n",
        "\n",
        "# 4. Total lines inputs\n",
        "total_lines_inputs = layers.Input(shape=(20,), dtype=tf.int32, name=\"total_lines_inputs\")\n",
        "y = layers.Dense(32, activation=\"relu\")(total_lines_inputs)\n",
        "total_lines_model = tf.keras.Model(inputs=total_lines_inputs,\n",
        "                                   outputs=y)\n",
        "\n",
        "# 5. Combine token and char embeddings into a hybrid embedding\n",
        "combined_embeddings = layers.Concatenate(name=\"token_char_hybrid_embedding\")([token_model.output,\n",
        "                                                                              char_model.output])\n",
        "z = layers.Dense(256, activation=\"relu\")(combined_embeddings)\n",
        "z = layers.Dropout(0.5)(z)\n",
        "\n",
        "# 6. Combine positional embeddings with combined token and char embeddings into a tribrid embedding\n",
        "z = layers.Concatenate(name=\"token_char_positional_embedding\")([line_number_model.output,\n",
        "                                                               total_lines_model.output,\n",
        "                                                               z])\n",
        "\n",
        "# 7. Create output layer\n",
        "output_layer = layers.Dense(5, activation=\"softmax\", name=\"output_layer\")(z)\n",
        "\n",
        "# 8. Put together model\n",
        "model_7 = tf.keras.Model(inputs=[token_model.input,\n",
        "                                 char_model.input,\n",
        "                                 line_number_model.input,\n",
        "                                 total_lines_model.input],\n",
        "                         outputs=output_layer)"
      ],
      "execution_count": null,
      "outputs": []
    },
    {
      "cell_type": "code",
      "metadata": {
        "colab": {
          "base_uri": "https://localhost:8080/"
        },
        "id": "2p78CPd86t9k",
        "outputId": "eb1255d1-2440-4113-9ea5-3bc36a852a0b"
      },
      "source": [
        "# Get a summary of our token, char and positional embedding model\n",
        "model_7.summary()"
      ],
      "execution_count": null,
      "outputs": [
        {
          "output_type": "stream",
          "text": [
            "Model: \"model_5\"\n",
            "__________________________________________________________________________________________________\n",
            "Layer (type)                    Output Shape         Param #     Connected to                     \n",
            "==================================================================================================\n",
            "token_inputs (InputLayer)       [(None,)]            0                                            \n",
            "__________________________________________________________________________________________________\n",
            "char_inputs (InputLayer)        [(None, 1)]          0                                            \n",
            "__________________________________________________________________________________________________\n",
            "preprocessing (KerasLayer)      {'input_word_ids': ( 0           token_inputs[0][0]               \n",
            "__________________________________________________________________________________________________\n",
            "char_vectorizer (TextVectorizat (None, 290)          0           char_inputs[0][0]                \n",
            "__________________________________________________________________________________________________\n",
            "BERT_encoder (KerasLayer)       {'encoder_outputs':  109482241   preprocessing[0][0]              \n",
            "                                                                 preprocessing[0][1]              \n",
            "                                                                 preprocessing[0][2]              \n",
            "__________________________________________________________________________________________________\n",
            "char_embed (Embedding)          (None, 290, 25)      1750        char_vectorizer[1][0]            \n",
            "__________________________________________________________________________________________________\n",
            "bidirectional_2 (Bidirectional) (None, 64)           153984      BERT_encoder[0][14]              \n",
            "__________________________________________________________________________________________________\n",
            "bidirectional_3 (Bidirectional) (None, 64)           11328       char_embed[1][0]                 \n",
            "__________________________________________________________________________________________________\n",
            "token_char_hybrid_embedding (Co (None, 128)          0           bidirectional_2[0][0]            \n",
            "                                                                 bidirectional_3[0][0]            \n",
            "__________________________________________________________________________________________________\n",
            "line_number_inputs (InputLayer) [(None, 15)]         0                                            \n",
            "__________________________________________________________________________________________________\n",
            "total_lines_inputs (InputLayer) [(None, 20)]         0                                            \n",
            "__________________________________________________________________________________________________\n",
            "dense_2 (Dense)                 (None, 256)          33024       token_char_hybrid_embedding[0][0]\n",
            "__________________________________________________________________________________________________\n",
            "dense (Dense)                   (None, 32)           512         line_number_inputs[0][0]         \n",
            "__________________________________________________________________________________________________\n",
            "dense_1 (Dense)                 (None, 32)           672         total_lines_inputs[0][0]         \n",
            "__________________________________________________________________________________________________\n",
            "dropout (Dropout)               (None, 256)          0           dense_2[0][0]                    \n",
            "__________________________________________________________________________________________________\n",
            "token_char_positional_embedding (None, 320)          0           dense[0][0]                      \n",
            "                                                                 dense_1[0][0]                    \n",
            "                                                                 dropout[0][0]                    \n",
            "__________________________________________________________________________________________________\n",
            "output_layer (Dense)            (None, 5)            1605        token_char_positional_embedding[0\n",
            "==================================================================================================\n",
            "Total params: 109,685,116\n",
            "Trainable params: 202,875\n",
            "Non-trainable params: 109,482,241\n",
            "__________________________________________________________________________________________________\n"
          ],
          "name": "stdout"
        }
      ]
    },
    {
      "cell_type": "code",
      "metadata": {
        "colab": {
          "base_uri": "https://localhost:8080/",
          "height": 856
        },
        "id": "vlSgd4-y6t9l",
        "outputId": "fb4b8195-7cbe-4cab-eaf2-34cd2df9473e"
      },
      "source": [
        "# Plot the token, char, positional embedding model\n",
        "from tensorflow.keras.utils import plot_model\n",
        "plot_model(model_7)"
      ],
      "execution_count": null,
      "outputs": [
        {
          "output_type": "execute_result",
          "data": {
            "image/png": "[encoded data removed]",
            "text/plain": [
              "<IPython.core.display.Image object>"
            ]
          },
          "metadata": {},
          "execution_count": 54
        }
      ]
    },
    {
      "cell_type": "code",
      "metadata": {
        "colab": {
          "base_uri": "https://localhost:8080/"
        },
        "id": "ydye4r_K6t9m",
        "outputId": "d5a19f0e-d5e1-4cee-c339-c556ff576a1a"
      },
      "source": [
        "# Check which layers of our model are trainable or not\n",
        "for layer in model_7.layers:\n",
        "  print(layer, layer.trainable)"
      ],
      "execution_count": null,
      "outputs": [
        {
          "output_type": "stream",
          "text": [
            "<keras.engine.input_layer.InputLayer object at 0x7f13048f8c50> True\n",
            "<keras.engine.input_layer.InputLayer object at 0x7f130491a1d0> True\n",
            "<tensorflow_hub.keras_layer.KerasLayer object at 0x7f11b77a0fd0> False\n",
            "<keras.layers.preprocessing.text_vectorization.TextVectorization object at 0x7f11b751b910> True\n",
            "<tensorflow_hub.keras_layer.KerasLayer object at 0x7f11b74e3b50> False\n",
            "<keras.layers.embeddings.Embedding object at 0x7f11b74e8150> True\n",
            "<keras.layers.wrappers.Bidirectional object at 0x7f124662c110> True\n",
            "<keras.layers.wrappers.Bidirectional object at 0x7f13048f3d90> True\n",
            "<keras.layers.merge.Concatenate object at 0x7f11b73e4ad0> True\n",
            "<keras.engine.input_layer.InputLayer object at 0x7f130495f290> True\n",
            "<keras.engine.input_layer.InputLayer object at 0x7f11b73e4850> True\n",
            "<keras.layers.core.Dense object at 0x7f11b73e9e10> True\n",
            "<keras.layers.core.Dense object at 0x7f11b73d9810> True\n",
            "<keras.layers.core.Dense object at 0x7f1246106e90> True\n",
            "<keras.layers.core.Dropout object at 0x7f13048e6090> True\n",
            "<keras.layers.merge.Concatenate object at 0x7f11b73f8dd0> True\n",
            "<keras.layers.core.Dense object at 0x7f11b73f0690> True\n"
          ],
          "name": "stdout"
        }
      ]
    },
    {
      "cell_type": "code",
      "metadata": {
        "id": "X09CTMxk6t9m"
      },
      "source": [
        "# Compile token, char, positional embedding model\n",
        "model_7.compile(loss=tf.keras.losses.CategoricalCrossentropy(label_smoothing=0.2),\n",
        "                optimizer=tf.keras.optimizers.Adam(),\n",
        "                metrics=[\"accuracy\"])"
      ],
      "execution_count": null,
      "outputs": []
    },
    {
      "cell_type": "code",
      "metadata": {
        "colab": {
          "base_uri": "https://localhost:8080/"
        },
        "id": "b06eBM8r6t9n",
        "outputId": "d29c80ea-0681-42d4-fbf5-f8feacaddaa7"
      },
      "source": [
        "# Create training and validation datasets (all four kinds of inputs)\n",
        "train_pos_char_token_data = tf.data.Dataset.from_tensor_slices((train_sentences,\n",
        "                                                                train_chars,\n",
        "                                                                train_line_numbers_one_hot,\n",
        "                                                                train_total_lines_one_hot))\n",
        "train_pos_char_token_labels = tf.data.Dataset.from_tensor_slices(train_labels_one_hot)\n",
        "train_pos_char_token_dataset = tf.data.Dataset.zip((train_pos_char_token_data, train_pos_char_token_labels))\n",
        "train_pos_char_token_dataset = train_pos_char_token_dataset.batch(32).prefetch(tf.data.AUTOTUNE)\n",
        "\n",
        "# Validation dataset\n",
        "val_pos_char_token_data = tf.data.Dataset.from_tensor_slices((val_sentences,\n",
        "                                                              val_chars,\n",
        "                                                              val_line_numbers_one_hot,\n",
        "                                                              val_total_lines_one_hot))\n",
        "val_pos_char_token_labels = tf.data.Dataset.from_tensor_slices(val_labels_one_hot)\n",
        "val_pos_char_token_dataset = tf.data.Dataset.zip((val_pos_char_token_data, val_pos_char_token_labels))\n",
        "val_pos_char_token_dataset = val_pos_char_token_dataset.batch(32).prefetch(tf.data.AUTOTUNE) # turn into batches and prefetch appropriately\n",
        "\n",
        "# Check input shapes\n",
        "train_pos_char_token_dataset, val_pos_char_token_dataset"
      ],
      "execution_count": null,
      "outputs": [
        {
          "output_type": "execute_result",
          "data": {
            "text/plain": [
              "(<PrefetchDataset shapes: (((None,), (None,), (None, 15), (None, 20)), (None, 5)), types: ((tf.string, tf.string, tf.float32, tf.float32), tf.float64)>,\n",
              " <PrefetchDataset shapes: (((None,), (None,), (None, 15), (None, 20)), (None, 5)), types: ((tf.string, tf.string, tf.float32, tf.float32), tf.float64)>)"
            ]
          },
          "metadata": {},
          "execution_count": 57
        }
      ]
    },
    {
      "cell_type": "code",
      "metadata": {
        "id": "FCW19G2B6t9o"
      },
      "source": [
        "# Create ModelCheckpoint callback to save model's progress\n",
        "checkpoint_path = \"model_checkpoints/cp.ckpt\" # saving weights requires \".ckpt\" extension\n",
        "model_checkpoint = tf.keras.callbacks.ModelCheckpoint(filepath=checkpoint_path,\n",
        "                                                      save_best_only=True)\n",
        "\n",
        "# Setup EarlyStopping callback to stop training if model's val_loss doesn't improve for 3 epochs\n",
        "early_stopping = tf.keras.callbacks.EarlyStopping(patience=8)"
      ],
      "execution_count": null,
      "outputs": []
    },
    {
      "cell_type": "code",
      "metadata": {
        "colab": {
          "base_uri": "https://localhost:8080/"
        },
        "id": "Kqbj9d3X6t9o",
        "outputId": "85f58d48-3ef9-43d6-fe9c-5fcd1db09536"
      },
      "source": [
        "# Fit the token, char and positional embedding model\n",
        "history_model_7 = model_7.fit(train_pos_char_token_dataset,\n",
        "                              steps_per_epoch=int(0.05 * len(train_pos_char_token_dataset)),\n",
        "                              epochs=20,\n",
        "                              validation_data=val_pos_char_token_dataset,\n",
        "                              validation_steps=int(0.1 * len(val_pos_char_token_dataset)),\n",
        "                              callbacks=[model_checkpoint,\n",
        "                                         early_stopping,\n",
        "                                         tf.keras.callbacks.ReduceLROnPlateau(patience=5, verbose=1)])"
      ],
      "execution_count": null,
      "outputs": [
        {
          "output_type": "stream",
          "text": [
            "Epoch 1/20\n",
            "281/281 [==============================] - 137s 486ms/step - loss: 0.8366 - accuracy: 0.8981 - val_loss: 0.8188 - val_accuracy: 0.9043\n"
          ],
          "name": "stdout"
        },
        {
          "output_type": "stream",
          "text": [
            "WARNING:absl:Found untraced functions such as gru_cell_7_layer_call_and_return_conditional_losses, gru_cell_7_layer_call_fn, gru_cell_8_layer_call_and_return_conditional_losses, gru_cell_8_layer_call_fn, gru_cell_10_layer_call_and_return_conditional_losses while saving (showing 5 of 920). These functions will not be directly callable after loading.\n"
          ],
          "name": "stderr"
        },
        {
          "output_type": "stream",
          "text": [
            "INFO:tensorflow:Assets written to: model_checkpoints/cp.ckpt/assets\n"
          ],
          "name": "stdout"
        },
        {
          "output_type": "stream",
          "text": [
            "INFO:tensorflow:Assets written to: model_checkpoints/cp.ckpt/assets\n"
          ],
          "name": "stderr"
        },
        {
          "output_type": "stream",
          "text": [
            "Epoch 2/20\n",
            "281/281 [==============================] - 135s 480ms/step - loss: 0.8161 - accuracy: 0.9090 - val_loss: 0.8183 - val_accuracy: 0.9053\n"
          ],
          "name": "stdout"
        },
        {
          "output_type": "stream",
          "text": [
            "WARNING:absl:Found untraced functions such as gru_cell_7_layer_call_and_return_conditional_losses, gru_cell_7_layer_call_fn, gru_cell_8_layer_call_and_return_conditional_losses, gru_cell_8_layer_call_fn, gru_cell_10_layer_call_and_return_conditional_losses while saving (showing 5 of 920). These functions will not be directly callable after loading.\n"
          ],
          "name": "stderr"
        },
        {
          "output_type": "stream",
          "text": [
            "INFO:tensorflow:Assets written to: model_checkpoints/cp.ckpt/assets\n"
          ],
          "name": "stdout"
        },
        {
          "output_type": "stream",
          "text": [
            "INFO:tensorflow:Assets written to: model_checkpoints/cp.ckpt/assets\n"
          ],
          "name": "stderr"
        },
        {
          "output_type": "stream",
          "text": [
            "Epoch 3/20\n",
            "281/281 [==============================] - 136s 485ms/step - loss: 0.8167 - accuracy: 0.9114 - val_loss: 0.8208 - val_accuracy: 0.9029\n",
            "Epoch 4/20\n",
            "281/281 [==============================] - 139s 496ms/step - loss: 0.8208 - accuracy: 0.9070 - val_loss: 0.8181 - val_accuracy: 0.9056\n"
          ],
          "name": "stdout"
        },
        {
          "output_type": "stream",
          "text": [
            "WARNING:absl:Found untraced functions such as gru_cell_7_layer_call_and_return_conditional_losses, gru_cell_7_layer_call_fn, gru_cell_8_layer_call_and_return_conditional_losses, gru_cell_8_layer_call_fn, gru_cell_10_layer_call_and_return_conditional_losses while saving (showing 5 of 920). These functions will not be directly callable after loading.\n"
          ],
          "name": "stderr"
        },
        {
          "output_type": "stream",
          "text": [
            "INFO:tensorflow:Assets written to: model_checkpoints/cp.ckpt/assets\n"
          ],
          "name": "stdout"
        },
        {
          "output_type": "stream",
          "text": [
            "INFO:tensorflow:Assets written to: model_checkpoints/cp.ckpt/assets\n"
          ],
          "name": "stderr"
        },
        {
          "output_type": "stream",
          "text": [
            "Epoch 5/20\n",
            "281/281 [==============================] - 135s 479ms/step - loss: 0.8124 - accuracy: 0.9099 - val_loss: 0.8182 - val_accuracy: 0.9043\n",
            "Epoch 6/20\n",
            "281/281 [==============================] - 140s 497ms/step - loss: 0.8190 - accuracy: 0.9037 - val_loss: 0.8172 - val_accuracy: 0.9049\n"
          ],
          "name": "stdout"
        },
        {
          "output_type": "stream",
          "text": [
            "WARNING:absl:Found untraced functions such as gru_cell_7_layer_call_and_return_conditional_losses, gru_cell_7_layer_call_fn, gru_cell_8_layer_call_and_return_conditional_losses, gru_cell_8_layer_call_fn, gru_cell_10_layer_call_and_return_conditional_losses while saving (showing 5 of 920). These functions will not be directly callable after loading.\n"
          ],
          "name": "stderr"
        },
        {
          "output_type": "stream",
          "text": [
            "INFO:tensorflow:Assets written to: model_checkpoints/cp.ckpt/assets\n"
          ],
          "name": "stdout"
        },
        {
          "output_type": "stream",
          "text": [
            "INFO:tensorflow:Assets written to: model_checkpoints/cp.ckpt/assets\n"
          ],
          "name": "stderr"
        },
        {
          "output_type": "stream",
          "text": [
            "Epoch 7/20\n",
            "281/281 [==============================] - 137s 487ms/step - loss: 0.8138 - accuracy: 0.9100 - val_loss: 0.8183 - val_accuracy: 0.9023\n",
            "Epoch 8/20\n",
            "281/281 [==============================] - 141s 501ms/step - loss: 0.8165 - accuracy: 0.9105 - val_loss: 0.8197 - val_accuracy: 0.9009\n",
            "Epoch 9/20\n",
            "281/281 [==============================] - 140s 500ms/step - loss: 0.8075 - accuracy: 0.9143 - val_loss: 0.8180 - val_accuracy: 0.9013\n",
            "Epoch 10/20\n",
            "281/281 [==============================] - 140s 497ms/step - loss: 0.8107 - accuracy: 0.9121 - val_loss: 0.8175 - val_accuracy: 0.9029\n",
            "Epoch 11/20\n",
            "281/281 [==============================] - 140s 497ms/step - loss: 0.8289 - accuracy: 0.9015 - val_loss: 0.8184 - val_accuracy: 0.9029\n",
            "\n",
            "Epoch 00011: ReduceLROnPlateau reducing learning rate to 1.0000000474974514e-05.\n",
            "Epoch 12/20\n",
            "281/281 [==============================] - 141s 501ms/step - loss: 0.8301 - accuracy: 0.8985 - val_loss: 0.8175 - val_accuracy: 0.9043\n",
            "Epoch 13/20\n",
            "281/281 [==============================] - 141s 501ms/step - loss: 0.8161 - accuracy: 0.9055 - val_loss: 0.8175 - val_accuracy: 0.9046\n",
            "Epoch 14/20\n",
            "281/281 [==============================] - 143s 508ms/step - loss: 0.8319 - accuracy: 0.8988 - val_loss: 0.8174 - val_accuracy: 0.9046\n"
          ],
          "name": "stdout"
        }
      ]
    },
    {
      "cell_type": "code",
      "metadata": {
        "colab": {
          "base_uri": "https://localhost:8080/"
        },
        "id": "Ufhwe622_UHB",
        "outputId": "b4c246b2-c796-483f-b4c9-0c497ebbe832"
      },
      "source": [
        "model_7.evaluate(val_pos_char_token_dataset)"
      ],
      "execution_count": null,
      "outputs": [
        {
          "output_type": "stream",
          "text": [
            "945/945 [==============================] - 334s 354ms/step - loss: 0.8168 - accuracy: 0.9029\n"
          ],
          "name": "stdout"
        },
        {
          "output_type": "execute_result",
          "data": {
            "text/plain": [
              "[0.8168005347251892, 0.902919352054596]"
            ]
          },
          "metadata": {},
          "execution_count": 69
        }
      ]
    },
    {
      "cell_type": "code",
      "metadata": {
        "colab": {
          "base_uri": "https://localhost:8080/"
        },
        "id": "PHjmARU46t9p",
        "outputId": "239a1d1b-76ca-4d95-c836-c09f0560fce9"
      },
      "source": [
        "# Make predictions with token-char-positional hybrid model\n",
        "model_7_pred_probs = model_7.predict(val_pos_char_token_dataset, verbose=1)\n",
        "model_7_pred_probs"
      ],
      "execution_count": null,
      "outputs": [
        {
          "output_type": "stream",
          "text": [
            "945/945 [==============================] - 331s 350ms/step\n"
          ],
          "name": "stdout"
        },
        {
          "output_type": "execute_result",
          "data": {
            "text/plain": [
              "array([[0.55796516, 0.12376964, 0.03323145, 0.25372276, 0.03131094],\n",
              "       [0.55055255, 0.08024336, 0.04765299, 0.28847408, 0.03307705],\n",
              "       [0.50098723, 0.05929141, 0.04526653, 0.35635927, 0.03809558],\n",
              "       ...,\n",
              "       [0.03139478, 0.06791192, 0.03246948, 0.03731416, 0.83090967],\n",
              "       [0.03675387, 0.8177305 , 0.019503  , 0.02926671, 0.09674596],\n",
              "       [0.03697338, 0.85987777, 0.03642422, 0.03597138, 0.03075321]],\n",
              "      dtype=float32)"
            ]
          },
          "metadata": {},
          "execution_count": 70
        }
      ]
    },
    {
      "cell_type": "code",
      "metadata": {
        "colab": {
          "base_uri": "https://localhost:8080/"
        },
        "id": "0JQGPzUTG1V5",
        "outputId": "9b22337a-8527-4786-e18a-884bdd6cdf23"
      },
      "source": [
        "# Turn prediction probabilities into prediction classes\n",
        "model_7_preds = tf.argmax(model_7_pred_probs, axis=1)\n",
        "model_7_preds"
      ],
      "execution_count": null,
      "outputs": [
        {
          "output_type": "execute_result",
          "data": {
            "text/plain": [
              "<tf.Tensor: shape=(30212,), dtype=int64, numpy=array([0, 0, 0, ..., 4, 1, 1])>"
            ]
          },
          "metadata": {},
          "execution_count": 71
        }
      ]
    },
    {
      "cell_type": "code",
      "metadata": {
        "colab": {
          "base_uri": "https://localhost:8080/"
        },
        "id": "WP43NCRd6t9r",
        "outputId": "6ac0945c-1521-4be9-9d3a-0c50ad703665"
      },
      "source": [
        "# Calculate results of token-char-positional hybrid model\n",
        "model_7_results = calculate_results(y_true=val_labels_encoded,\n",
        "                                    y_pred=model_7_preds)\n",
        "model_7_results"
      ],
      "execution_count": null,
      "outputs": [
        {
          "output_type": "execute_result",
          "data": {
            "text/plain": [
              "{'accuracy': 90.29193697868396,\n",
              " 'f1': 0.9009874522422634,\n",
              " 'precision': 0.903896803760051,\n",
              " 'recall': 0.9029193697868396}"
            ]
          },
          "metadata": {},
          "execution_count": 72
        }
      ]
    },
    {
      "cell_type": "markdown",
      "metadata": {
        "id": "bl3W1BtU6t9s"
      },
      "source": [
        "### Save model"
      ]
    },
    {
      "cell_type": "code",
      "metadata": {
        "colab": {
          "base_uri": "https://localhost:8080/"
        },
        "id": "pPiITX1H6t9s",
        "outputId": "c792bde7-2438-442d-a867-f1bede834ce3"
      },
      "source": [
        "# Save best performing model to SavedModel format (default)\n",
        "model_7.save(\"skimlit_bert_model\")"
      ],
      "execution_count": null,
      "outputs": [
        {
          "output_type": "stream",
          "text": [
            "WARNING:absl:Found untraced functions such as gru_cell_7_layer_call_and_return_conditional_losses, gru_cell_7_layer_call_fn, gru_cell_8_layer_call_and_return_conditional_losses, gru_cell_8_layer_call_fn, gru_cell_10_layer_call_and_return_conditional_losses while saving (showing 5 of 920). These functions will not be directly callable after loading.\n"
          ],
          "name": "stderr"
        },
        {
          "output_type": "stream",
          "text": [
            "INFO:tensorflow:Assets written to: skimlit_bert_model/assets\n"
          ],
          "name": "stdout"
        },
        {
          "output_type": "stream",
          "text": [
            "INFO:tensorflow:Assets written to: skimlit_bert_model/assets\n"
          ],
          "name": "stderr"
        }
      ]
    },
    {
      "cell_type": "code",
      "metadata": {
        "id": "g0LqOs5a6t9t"
      },
      "source": [
        "# Example of copying saved model from Google Colab to Drive (requires Google Drive to be mounted)\n",
        "!cp skimlit_bert_model -r /content/drive/MyDrive/skim_lit"
      ],
      "execution_count": null,
      "outputs": []
    }
  ]
}
