{
  "nbformat": 4,
  "nbformat_minor": 0,
  "metadata": {
    "colab": {
      "name": "Project: Food Vision Big",
      "provenance": [],
      "collapsed_sections": [
        "RiMYeceAAnOi",
        "uCxNeZ3EoLLx",
        "LLaa0wE0p0GO",
        "CHY_q3IFwGxN",
        "fEIcGiz1z11Z",
        "JDCGy3Jm0vXN",
        "M9Az5hh07GqO",
        "Rg-3c1iMv3Dh",
        "CeLLVrjlx6Iv",
        "iTIv191lz10p",
        "T6MqMqREJv-4",
        "TMGceSOtLbBZ",
        "HiyzlbJKTUwB",
        "GmxfkizAakea",
        "s_0qR5BnSuXm",
        "a4SFeLFmcocE",
        "eU8v_T0bYoMo",
        "jNzaHj1yyzQ9",
        "PtceZZH-1d8y",
        "MmUHUzx5nBz8"
      ]
    },
    "kernelspec": {
      "name": "python3",
      "display_name": "Python 3"
    },
    "language_info": {
      "name": "python"
    },
    "accelerator": "GPU"
  },
  "cells": [
    {
      "cell_type": "markdown",
      "metadata": {
        "id": "lHAE9EwPnOd1"
      },
      "source": [
        "# Food Vision Project"
      ]
    },
    {
      "cell_type": "markdown",
      "metadata": {
        "id": "RiMYeceAAnOi"
      },
      "source": [
        "We're going to be building Food Vision Big™, using all of the data from the Food101 dataset.\n",
        "\n",
        "We've got the goal of beating DeepFood, a 2016 paper which used a Convolutional Neural Network trained for 2-3 days to achieve 77.4% top-1 accuracy.\n",
        "\n",
        "|  | 🍔👁 Food Vision Big™ | 🍔👁 Food Vision mini |\n",
        "|-----|-----|-----|\n",
        "| Dataset source | TensorFlow Datasets | Preprocessed download from Kaggle | \n",
        "| Train data | 75,750 images | 7,575 images | \n",
        "| Test data | 25,250 images | 25,250 images | \n",
        "| Mixed precision | Yes | No |\n",
        "| Data loading | Performanant tf.data API | TensorFlow pre-built function |  \n",
        "| Target results | 77.4% top-1 accuracy (beat [DeepFood paper](https://arxiv.org/abs/1606.05675)) | 50.76% top-1 accuracy (beat [Food101 paper](https://data.vision.ee.ethz.ch/cvl/datasets_extra/food-101/static/bossard_eccv14_food-101.pdf)) | \n",
        "\n",
        "### What we're going to cover\n",
        "\n",
        "* Using TensorFlow Datasets to download and explore data\n",
        "* Creating preprocessing function for our data\n",
        "* Batching & preparing datasets for modelling (**making our datasets run fast**)\n",
        "* Creating modelling callbacks\n",
        "* Setting up **mixed precision training**\n",
        "* Building a feature extraction model\n",
        "* Fine-tuning the feature extraction model\n",
        "* Viewing training results on TensorBoard"
      ]
    },
    {
      "cell_type": "markdown",
      "metadata": {
        "id": "xqZ3bKdAD4w2"
      },
      "source": [
        "We're going to be using mixed precision training. For mixed precision training to work, we need access to a GPU with a compute compability score of 7.0+.\n",
        "Google\n",
        "\n",
        "Colab offers P100, K80 and T4 GPUs, however, the P100 and K80 aren't compatible with mixed precision training. Therefore before we proceed we need to make sure we have access to a Tesla T4 GPU in our Google Colab instance."
      ]
    },
    {
      "cell_type": "code",
      "metadata": {
        "id": "XbN8WHISAPgs",
        "colab": {
          "base_uri": "https://localhost:8080/"
        },
        "outputId": "b0eca1c1-c534-4de0-840e-d7f50322caad"
      },
      "source": [
        "# If using Google Colab, this should output \"Tesla T4\" otherwise, \n",
        "# you won't be able to use mixed precision training\n",
        "!nvidia-smi -L"
      ],
      "execution_count": null,
      "outputs": [
        {
          "output_type": "stream",
          "text": [
            "GPU 0: Tesla T4 (UUID: GPU-d0d5dc2e-d2a4-8d9f-3873-b5e935585fe6)\n"
          ],
          "name": "stdout"
        }
      ]
    },
    {
      "cell_type": "code",
      "metadata": {
        "id": "5XO58UjJFaXL"
      },
      "source": [
        "# # There is a bug with efficientnet on ver. 2.5.0. \n",
        "# # If this problem was not resolved at the time of launching the notepad, complete this cell\n",
        "# !pip uninstall tensorflow -y\n",
        "# !pip install  tensorflow==2.4.0"
      ],
      "execution_count": null,
      "outputs": []
    },
    {
      "cell_type": "code",
      "metadata": {
        "id": "r41gsQXoEiHz",
        "colab": {
          "base_uri": "https://localhost:8080/"
        },
        "outputId": "cc66df2b-1853-4e67-e89b-9ad8d727be0b"
      },
      "source": [
        "# Since mixed precision training was introduced in TensorFlow 2.4.0, make sure you've got at least TensorFlow 2.4.0+.\n",
        "%tensorflow_version 2.4.0\n",
        "import tensorflow as tf\n",
        "print(tf.__version__)"
      ],
      "execution_count": null,
      "outputs": [
        {
          "output_type": "stream",
          "text": [
            "`%tensorflow_version` only switches the major version: 1.x or 2.x.\n",
            "You set: `2.4.0`. This will be interpreted as: `2.x`.\n",
            "\n",
            "\n",
            "TensorFlow is already loaded. Please restart the runtime to change versions.\n",
            "2.4.0\n"
          ],
          "name": "stdout"
        }
      ]
    },
    {
      "cell_type": "markdown",
      "metadata": {
        "id": "uCxNeZ3EoLLx"
      },
      "source": [
        "## Get helper functions"
      ]
    },
    {
      "cell_type": "code",
      "metadata": {
        "id": "EVEawguVoqHL"
      },
      "source": [
        "import datetime\n",
        "def create_tensorboard_callback(dir_name, experiment_name):\n",
        "  \"\"\"\n",
        "  Creates a TensorBoard callback instand to store log files.\n",
        "\n",
        "  Stores log files with the filepath:\n",
        "    \"dir_name/experiment_name/current_datetime/\"\n",
        "\n",
        "  Args:\n",
        "    dir_name: target directory to store TensorBoard log files\n",
        "    experiment_name: name of experiment directory (e.g. efficientnet_model_1)\n",
        "  \"\"\"\n",
        "  log_dir = dir_name + \"/\" + experiment_name + \"/\" + datetime.datetime.now().strftime(\"%Y%m%d-%H%M%S\")\n",
        "  tensorboard_callback = tf.keras.callbacks.TensorBoard(\n",
        "      log_dir=log_dir\n",
        "  )\n",
        "  print(f\"Saving TensorBoard log files to: {log_dir}\")\n",
        "  return tensorboard_callback"
      ],
      "execution_count": null,
      "outputs": []
    },
    {
      "cell_type": "code",
      "metadata": {
        "id": "23zmhzxSpTLd"
      },
      "source": [
        "def plot_loss_curves(history):\n",
        "  \"\"\"\n",
        "  Returns separate loss curves for training and validation metrics.\n",
        "\n",
        "  Args:\n",
        "    history: TensorFlow model History object (see: https://www.tensorflow.org/api_docs/python/tf/keras/callbacks/History)\n",
        "  \"\"\" \n",
        "  loss = history.history['loss']\n",
        "  val_loss = history.history['val_loss']\n",
        "\n",
        "  accuracy = history.history['accuracy']\n",
        "  val_accuracy = history.history['val_accuracy']\n",
        "\n",
        "  epochs = range(len(history.history['loss']))\n",
        "\n",
        "  # Plot loss\n",
        "  plt.plot(epochs, loss, label='training_loss')\n",
        "  plt.plot(epochs, val_loss, label='val_loss')\n",
        "  plt.title('Loss')\n",
        "  plt.xlabel('Epochs')\n",
        "  plt.legend()\n",
        "\n",
        "  # Plot accuracy\n",
        "  plt.figure()\n",
        "  plt.plot(epochs, accuracy, label='training_accuracy')\n",
        "  plt.plot(epochs, val_accuracy, label='val_accuracy')\n",
        "  plt.title('Accuracy')\n",
        "  plt.xlabel('Epochs')\n",
        "  plt.legend();"
      ],
      "execution_count": null,
      "outputs": []
    },
    {
      "cell_type": "code",
      "metadata": {
        "id": "2WBCGBwipc-i"
      },
      "source": [
        "def compare_historys(original_history, new_history, initial_epochs=5):\n",
        "    \"\"\"\n",
        "    Compares two TensorFlow model History objects.\n",
        "    \n",
        "    Args:\n",
        "      original_history: History object from original model (before new_history)\n",
        "      new_history: History object from continued model training (after original_history)\n",
        "      initial_epochs: Number of epochs in original_history (new_history plot starts from here) \n",
        "    \"\"\"\n",
        "    \n",
        "    # Get original history measurements\n",
        "    acc = original_history.history[\"accuracy\"]\n",
        "    loss = original_history.history[\"loss\"]\n",
        "\n",
        "    val_acc = original_history.history[\"val_accuracy\"]\n",
        "    val_loss = original_history.history[\"val_loss\"]\n",
        "\n",
        "    # Combine original history with new history\n",
        "    total_acc = acc + new_history.history[\"accuracy\"]\n",
        "    total_loss = loss + new_history.history[\"loss\"]\n",
        "\n",
        "    total_val_acc = val_acc + new_history.history[\"val_accuracy\"]\n",
        "    total_val_loss = val_loss + new_history.history[\"val_loss\"]\n",
        "\n",
        "    # Make plots\n",
        "    plt.figure(figsize=(8, 8))\n",
        "    plt.subplot(2, 1, 1)\n",
        "    plt.plot(total_acc, label='Training Accuracy')\n",
        "    plt.plot(total_val_acc, label='Validation Accuracy')\n",
        "    plt.plot([initial_epochs-1, initial_epochs-1],\n",
        "              plt.ylim(), label='Start Fine Tuning') # reshift plot around epochs\n",
        "    plt.legend(loc='lower right')\n",
        "    plt.title('Training and Validation Accuracy')\n",
        "\n",
        "    plt.subplot(2, 1, 2)\n",
        "    plt.plot(total_loss, label='Training Loss')\n",
        "    plt.plot(total_val_loss, label='Validation Loss')\n",
        "    plt.plot([initial_epochs-1, initial_epochs-1],\n",
        "              plt.ylim(), label='Start Fine Tuning') # reshift plot around epochs\n",
        "    plt.legend(loc='upper right')\n",
        "    plt.title('Training and Validation Loss')\n",
        "    plt.xlabel('epoch')\n",
        "    plt.show()"
      ],
      "execution_count": null,
      "outputs": []
    },
    {
      "cell_type": "markdown",
      "metadata": {
        "id": "LLaa0wE0p0GO"
      },
      "source": [
        "## Using TensorFlow Datasets to download and explore data"
      ]
    },
    {
      "cell_type": "code",
      "metadata": {
        "id": "z4OKelsVpi8D"
      },
      "source": [
        "# Get TensorFlow Datasets\n",
        "import tensorflow_datasets as tfds"
      ],
      "execution_count": null,
      "outputs": []
    },
    {
      "cell_type": "code",
      "metadata": {
        "colab": {
          "base_uri": "https://localhost:8080/"
        },
        "id": "UPO_V7fPqlSg",
        "outputId": "86820fc8-4d54-479d-c8b2-8e0ce460c1f7"
      },
      "source": [
        "# Check to see if the one we're after (\"food101\") is present in Tensorflow Datasets\n",
        "datasets_list = tfds.list_builders() # get all available datasets in TFDS\n",
        "print(\"food101\" in datasets_list)"
      ],
      "execution_count": null,
      "outputs": [
        {
          "output_type": "stream",
          "text": [
            "True\n"
          ],
          "name": "stdout"
        }
      ]
    },
    {
      "cell_type": "code",
      "metadata": {
        "id": "JtBFi_aZrTEQ"
      },
      "source": [
        "# Load in the data (takes about 5-6 minutes in Google Colab)\n",
        "(train_data, test_data), ds_info = tfds.load(name=\"food101\", # target dataset to get from TFDS\n",
        "                                             split=[\"train\", \"validation\"], # what splits of data should we get? note: not all datasets have train, valid, test\n",
        "                                             shuffle_files=True, # shuffle files on download?\n",
        "                                             as_supervised=True, # download data in tuple format (sample, label)\n",
        "                                             with_info=True) # include dataset metadata? if so, tfds.load() returns tuple (data, ds_info)"
      ],
      "execution_count": null,
      "outputs": []
    },
    {
      "cell_type": "code",
      "metadata": {
        "colab": {
          "base_uri": "https://localhost:8080/"
        },
        "id": "qYx6l1hLuNVV",
        "outputId": "e97a12f7-6416-4c41-e1b0-b85806f72b1f"
      },
      "source": [
        "# Features of Food101 TFDS\n",
        "ds_info.features"
      ],
      "execution_count": null,
      "outputs": [
        {
          "output_type": "execute_result",
          "data": {
            "text/plain": [
              "FeaturesDict({\n",
              "    'image': Image(shape=(None, None, 3), dtype=tf.uint8),\n",
              "    'label': ClassLabel(shape=(), dtype=tf.int64, num_classes=101),\n",
              "})"
            ]
          },
          "metadata": {
            "tags": []
          },
          "execution_count": 103
        }
      ]
    },
    {
      "cell_type": "code",
      "metadata": {
        "colab": {
          "base_uri": "https://localhost:8080/"
        },
        "id": "gBI14t7du72W",
        "outputId": "c8a24c2a-b395-425d-c188-4c13c038dc41"
      },
      "source": [
        "# Get class names\n",
        "class_names = ds_info.features[\"label\"].names\n",
        "class_names[:10]"
      ],
      "execution_count": null,
      "outputs": [
        {
          "output_type": "execute_result",
          "data": {
            "text/plain": [
              "['apple_pie',\n",
              " 'baby_back_ribs',\n",
              " 'baklava',\n",
              " 'beef_carpaccio',\n",
              " 'beef_tartare',\n",
              " 'beet_salad',\n",
              " 'beignets',\n",
              " 'bibimbap',\n",
              " 'bread_pudding',\n",
              " 'breakfast_burrito']"
            ]
          },
          "metadata": {
            "tags": []
          },
          "execution_count": 104
        }
      ]
    },
    {
      "cell_type": "markdown",
      "metadata": {
        "id": "CHY_q3IFwGxN"
      },
      "source": [
        "### Exploring the Food101 data from TensorFlow Datasets"
      ]
    },
    {
      "cell_type": "markdown",
      "metadata": {
        "id": "kAxdIE_0woyR"
      },
      "source": [
        "Let's find out a few details about our dataset:\n",
        "* The shape of our input data (image tensors)\n",
        "* The datatype of our input data\n",
        "* What the labels of our input data look like (e.g. one-hot encoded versus label-encoded)\n",
        "* Do the labels match up with the class names?"
      ]
    },
    {
      "cell_type": "code",
      "metadata": {
        "id": "4awLpPU4wIul"
      },
      "source": [
        "# Take one sample off the training data\n",
        "train_one_sample = train_data.take(1) # samples are in format (image_tensor, label)"
      ],
      "execution_count": null,
      "outputs": []
    },
    {
      "cell_type": "code",
      "metadata": {
        "colab": {
          "base_uri": "https://localhost:8080/"
        },
        "id": "5Vd_pmA2xRZ7",
        "outputId": "d87ba03e-eb93-4f78-821b-3f91f970ef93"
      },
      "source": [
        "# What does one sample of our training data look like?\n",
        "train_one_sample"
      ],
      "execution_count": null,
      "outputs": [
        {
          "output_type": "execute_result",
          "data": {
            "text/plain": [
              "<TakeDataset shapes: ((None, None, 3), ()), types: (tf.uint8, tf.int64)>"
            ]
          },
          "metadata": {
            "tags": []
          },
          "execution_count": 106
        }
      ]
    },
    {
      "cell_type": "markdown",
      "metadata": {
        "id": "UoGq5N6FxlP0"
      },
      "source": [
        "Because we used the as_supervised=True parameter in our tfds.load() method above, data samples come in the tuple format structure (data, label) or in our case (image_tensor, label)."
      ]
    },
    {
      "cell_type": "code",
      "metadata": {
        "colab": {
          "base_uri": "https://localhost:8080/"
        },
        "id": "99a_iGRwxbDN",
        "outputId": "80e323b7-2446-4e42-d513-39cb9f53b7c7"
      },
      "source": [
        "# Output info about our training sample\n",
        "for image, label in train_one_sample:\n",
        "  print(f\"\"\"\n",
        "  Image shape: {image.shape}\n",
        "  Image data type: {image.dtype}\n",
        "  Target class from Food101 (tensor form): {label}\n",
        "  Class name (str form): {class_names[label.numpy()]}\n",
        "        \"\"\")"
      ],
      "execution_count": null,
      "outputs": [
        {
          "output_type": "stream",
          "text": [
            "\n",
            "  Image shape: (512, 289, 3)\n",
            "  Image data type: <dtype: 'uint8'>\n",
            "  Target class from Food101 (tensor form): 45\n",
            "  Class name (str form): frozen_yogurt\n",
            "        \n"
          ],
          "name": "stdout"
        }
      ]
    },
    {
      "cell_type": "code",
      "metadata": {
        "colab": {
          "base_uri": "https://localhost:8080/"
        },
        "id": "s28Ifu43y_kX",
        "outputId": "560c8a18-db4a-48a0-a5f3-db016742a042"
      },
      "source": [
        "# What does an image tensor from TFDS's Food101 look like?\n",
        "image"
      ],
      "execution_count": null,
      "outputs": [
        {
          "output_type": "execute_result",
          "data": {
            "text/plain": [
              "<tf.Tensor: shape=(512, 289, 3), dtype=uint8, numpy=\n",
              "array([[[145, 151, 125],\n",
              "        [157, 163, 137],\n",
              "        [159, 165, 139],\n",
              "        ...,\n",
              "        [197, 209, 199],\n",
              "        [197, 209, 199],\n",
              "        [197, 207, 198]],\n",
              "\n",
              "       [[146, 152, 126],\n",
              "        [156, 162, 136],\n",
              "        [158, 164, 138],\n",
              "        ...,\n",
              "        [197, 209, 199],\n",
              "        [197, 209, 199],\n",
              "        [199, 209, 200]],\n",
              "\n",
              "       [[150, 156, 130],\n",
              "        [155, 161, 135],\n",
              "        [157, 163, 137],\n",
              "        ...,\n",
              "        [197, 209, 199],\n",
              "        [197, 209, 199],\n",
              "        [199, 209, 198]],\n",
              "\n",
              "       ...,\n",
              "\n",
              "       [[173, 186, 177],\n",
              "        [174, 187, 178],\n",
              "        [176, 189, 180],\n",
              "        ...,\n",
              "        [181, 197, 187],\n",
              "        [181, 197, 187],\n",
              "        [178, 195, 187]],\n",
              "\n",
              "       [[176, 187, 179],\n",
              "        [176, 187, 179],\n",
              "        [176, 189, 180],\n",
              "        ...,\n",
              "        [182, 198, 188],\n",
              "        [182, 198, 188],\n",
              "        [180, 197, 189]],\n",
              "\n",
              "       [[178, 189, 181],\n",
              "        [177, 188, 180],\n",
              "        [175, 188, 179],\n",
              "        ...,\n",
              "        [179, 195, 185],\n",
              "        [179, 195, 185],\n",
              "        [179, 196, 190]]], dtype=uint8)>"
            ]
          },
          "metadata": {
            "tags": []
          },
          "execution_count": 108
        }
      ]
    },
    {
      "cell_type": "code",
      "metadata": {
        "colab": {
          "base_uri": "https://localhost:8080/"
        },
        "id": "2EpkmMM9zZGu",
        "outputId": "a70cde2a-8738-4084-c655-b17537249d79"
      },
      "source": [
        "# What are the min and max values?\n",
        "tf.reduce_min(image), tf.reduce_max(image)"
      ],
      "execution_count": null,
      "outputs": [
        {
          "output_type": "execute_result",
          "data": {
            "text/plain": [
              "(<tf.Tensor: shape=(), dtype=uint8, numpy=0>,\n",
              " <tf.Tensor: shape=(), dtype=uint8, numpy=255>)"
            ]
          },
          "metadata": {
            "tags": []
          },
          "execution_count": 109
        }
      ]
    },
    {
      "cell_type": "markdown",
      "metadata": {
        "id": "fEIcGiz1z11Z"
      },
      "source": [
        "### Plot an image from TensorFlow Datasets"
      ]
    },
    {
      "cell_type": "code",
      "metadata": {
        "colab": {
          "base_uri": "https://localhost:8080/"
        },
        "id": "6b066d3FzsYA",
        "outputId": "dafbfc8b-b638-4c5e-d4b6-4eef3c53e263"
      },
      "source": [
        "# Plot an image tensor\n",
        "import matplotlib.pyplot as plt\n",
        "plt.imshow(image)\n",
        "plt.title(class_names[label.numpy()])\n",
        "plt.axis(False)\n",
        "plt.show()"
      ],
      "execution_count": null,
      "outputs": [
        {
          "output_type": "display_data",
          "data": {
            "image/png": "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\n",
            "text/plain": [
              "<Figure size 432x288 with 1 Axes>"
            ]
          },
          "metadata": {
            "tags": [],
            "needs_background": "light"
          }
        }
      ]
    },
    {
      "cell_type": "code",
      "metadata": {
        "id": "pz1ttFUM0XN3"
      },
      "source": [
        ""
      ],
      "execution_count": null,
      "outputs": []
    },
    {
      "cell_type": "markdown",
      "metadata": {
        "id": "JDCGy3Jm0vXN"
      },
      "source": [
        "## Creating preprocessing function for our data"
      ]
    },
    {
      "cell_type": "markdown",
      "metadata": {
        "id": "s0BUDihy1_t2"
      },
      "source": [
        "Whereas, models like data to be:\n",
        "\n",
        "* In `float32` data type\n",
        "* Have all of the same size tensors (batches require all tensors have the same shape, e.g. `(224, 224, 3)`)\n",
        "* Scaled (values between 0 & 1), also called normalized\n",
        "\n",
        "To take care of these, we'll create a preprocess_img() function\n",
        "\n",
        "Pretrained EfficientNetBX models in tf.keras.applications.efficientnet (what we're going to be using) have rescaling built-in."
      ]
    },
    {
      "cell_type": "code",
      "metadata": {
        "id": "TcoUlnv60xbU"
      },
      "source": [
        "# Make a function for preprocessing images\n",
        "def preprocess_img(image, label, img_shape=224):\n",
        "  \"\"\"\n",
        "  Converts image datatype from 'uint8' -> 'float32' and reshapes image to\n",
        "  [img_shape, img_shape, color_channels]\n",
        "  \"\"\"\n",
        "  image = tf.image.resize(image, [img_shape, img_shape]) # reshape to img_shape\n",
        "  return tf.cast(image, tf.float32), label # return (float32_image, label) tuple"
      ],
      "execution_count": null,
      "outputs": []
    },
    {
      "cell_type": "markdown",
      "metadata": {
        "id": "BTS_7pc33ycK"
      },
      "source": [
        "Our preprocess_img() function above takes image and label as input (even though it does nothing to the label) because our dataset is currently in the tuple structure (image, label)."
      ]
    },
    {
      "cell_type": "code",
      "metadata": {
        "colab": {
          "base_uri": "https://localhost:8080/"
        },
        "id": "AjNqEAyj3rEs",
        "outputId": "7d7ff8c7-9630-456b-9266-8861bf72eb98"
      },
      "source": [
        "# Preprocess a single sample image and check the outputs\n",
        "preprocessed_img = preprocess_img(image, label)[0]\n",
        "print(f\"Image before preprocessing:\\n {image[:2]}...,\\nShape: {image.shape},\\nDatatype: {image.dtype}\\n\")\n",
        "print(f\"Image after preprocessing:\\n {preprocessed_img[:2]}...,\\nShape: {preprocessed_img.shape},\\nDatatype: {preprocessed_img.dtype}\")"
      ],
      "execution_count": null,
      "outputs": [
        {
          "output_type": "stream",
          "text": [
            "Image before preprocessing:\n",
            " [[[145 151 125]\n",
            "  [157 163 137]\n",
            "  [159 165 139]\n",
            "  ...\n",
            "  [197 209 199]\n",
            "  [197 209 199]\n",
            "  [197 207 198]]\n",
            "\n",
            " [[146 152 126]\n",
            "  [156 162 136]\n",
            "  [158 164 138]\n",
            "  ...\n",
            "  [197 209 199]\n",
            "  [197 209 199]\n",
            "  [199 209 200]]]...,\n",
            "Shape: (512, 289, 3),\n",
            "Datatype: <dtype: 'uint8'>\n",
            "\n",
            "Image after preprocessing:\n",
            " [[[147.19739 153.19739 127.19739]\n",
            "  [157.22768 163.22768 137.22768]\n",
            "  [158.09805 164.09805 138.09805]\n",
            "  ...\n",
            "  [197.      209.      197.54907]\n",
            "  [197.      209.      199.     ]\n",
            "  [198.09914 208.38936 199.24425]]\n",
            "\n",
            " [[154.69467 160.69467 134.69467]\n",
            "  [155.87053 161.87053 135.87053]\n",
            "  [158.39908 164.39908 138.39908]\n",
            "  ...\n",
            "  [197.      209.      197.54907]\n",
            "  [197.      209.      199.     ]\n",
            "  [196.32831 206.61853 195.76364]]]...,\n",
            "Shape: (224, 224, 3),\n",
            "Datatype: <dtype: 'float32'>\n"
          ],
          "name": "stdout"
        }
      ]
    },
    {
      "cell_type": "code",
      "metadata": {
        "colab": {
          "base_uri": "https://localhost:8080/"
        },
        "id": "ZyW5Lwde5Be8",
        "outputId": "d2700cce-4d2a-4ba6-8741-69e0212e2776"
      },
      "source": [
        "# We can still plot our preprocessed image as long as we \n",
        "# divide by 255 (for matplotlib capatibility)\n",
        "plt.imshow(preprocessed_img/255.)\n",
        "plt.title(class_names[label])\n",
        "plt.axis(False);"
      ],
      "execution_count": null,
      "outputs": [
        {
          "output_type": "display_data",
          "data": {
            "image/png": "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\n",
            "text/plain": [
              "<Figure size 432x288 with 1 Axes>"
            ]
          },
          "metadata": {
            "tags": [],
            "needs_background": "light"
          }
        }
      ]
    },
    {
      "cell_type": "markdown",
      "metadata": {
        "id": "M9Az5hh07GqO"
      },
      "source": [
        "## Batching & preparing datasets for modelling"
      ]
    },
    {
      "cell_type": "markdown",
      "metadata": {
        "id": "sVTk2kYrqIhT"
      },
      "source": [
        "We're going to through things in the following order:\n",
        "\n",
        "```\n",
        "Original dataset (e.g. train_data) -> map() -> shuffle() -> batch() -> prefetch() -> PrefetchDataset\n",
        "```"
      ]
    },
    {
      "cell_type": "code",
      "metadata": {
        "id": "hcn4760I6uid"
      },
      "source": [
        "# Map preprocessing function to training data (and paralellize)\n",
        "training_data = train_data.map(map_func=preprocess_img, num_parallel_calls=tf.data.AUTOTUNE)\n",
        "# Shuffle train_data and turn it into batches and prefetch it (load it faster)\n",
        "training_data = training_data.shuffle(buffer_size=1000).batch(batch_size=32).prefetch(buffer_size=tf.data.AUTOTUNE)\n",
        "\n",
        "# Map prepreprocessing function to test data\n",
        "testing_data = test_data.map(preprocess_img, num_parallel_calls=tf.data.AUTOTUNE)\n",
        "# Turn test data into batches (don't need to shuffle)\n",
        "testing_data = testing_data.batch(32).prefetch(tf.data.AUTOTUNE)"
      ],
      "execution_count": null,
      "outputs": []
    },
    {
      "cell_type": "code",
      "metadata": {
        "colab": {
          "base_uri": "https://localhost:8080/"
        },
        "id": "qHM5KQbntgJO",
        "outputId": "a75fc0e1-31cc-4a68-eb58-6d5a4589131f"
      },
      "source": [
        "training_data, testing_data"
      ],
      "execution_count": null,
      "outputs": [
        {
          "output_type": "execute_result",
          "data": {
            "text/plain": [
              "(<PrefetchDataset shapes: ((None, 224, 224, 3), (None,)), types: (tf.float32, tf.int64)>,\n",
              " <PrefetchDataset shapes: ((None, 224, 224, 3), (None,)), types: (tf.float32, tf.int64)>)"
            ]
          },
          "metadata": {
            "tags": []
          },
          "execution_count": 115
        }
      ]
    },
    {
      "cell_type": "markdown",
      "metadata": {
        "id": "Rg-3c1iMv3Dh"
      },
      "source": [
        "## Create modelling callbacks"
      ]
    },
    {
      "cell_type": "code",
      "metadata": {
        "id": "EnFG9B97ts-L"
      },
      "source": [
        "# Create ModelCheckpoint callback to save model's progress\n",
        "checkpoint_path = \"model_checkpoints/cp.ckpt\" # saving weights requires \".ckpt\" extension\n",
        "model_checkpoint = tf.keras.callbacks.ModelCheckpoint(filepath=checkpoint_path,\n",
        "                                                      monitor=\"val_accuracy\", # save the model weights with best validation accuracy\n",
        "                                                      save_best_only=True,\n",
        "                                                      save_weights_only=True,\n",
        "                                                      verbose=0)"
      ],
      "execution_count": null,
      "outputs": []
    },
    {
      "cell_type": "markdown",
      "metadata": {
        "id": "CeLLVrjlx6Iv"
      },
      "source": [
        "## Setup mixed precision training"
      ]
    },
    {
      "cell_type": "code",
      "metadata": {
        "id": "Z-sSQ7ykx1dJ"
      },
      "source": [
        "# Turn on mixed precision training\n",
        "from tensorflow.keras import mixed_precision\n",
        "mixed_precision.set_global_policy(policy=\"mixed_float16\") # set global policy to mixed precision"
      ],
      "execution_count": null,
      "outputs": []
    },
    {
      "cell_type": "code",
      "metadata": {
        "colab": {
          "base_uri": "https://localhost:8080/"
        },
        "id": "QjPsQolSzScg",
        "outputId": "9532ed36-f90e-49bc-c3fe-782d1474eb2e"
      },
      "source": [
        "# check the global dtype policy\n",
        "mixed_precision.global_policy()"
      ],
      "execution_count": null,
      "outputs": [
        {
          "output_type": "execute_result",
          "data": {
            "text/plain": [
              "<Policy \"mixed_float16\">"
            ]
          },
          "metadata": {
            "tags": []
          },
          "execution_count": 118
        }
      ]
    },
    {
      "cell_type": "markdown",
      "metadata": {
        "id": "iTIv191lz10p"
      },
      "source": [
        "## Build feature extraction model"
      ]
    },
    {
      "cell_type": "markdown",
      "metadata": {
        "id": "VfmYCsej5BLG"
      },
      "source": [
        "Since we're using mixed precision training, our model needs a separate output layer with a hard-coded dtype=float32, for example, layers.Activation(\"softmax\", dtype=tf.float32). This ensures the outputs of our model are returned back to the float32 data type which is more numerically stable than the float16 datatype (important for loss calculations)."
      ]
    },
    {
      "cell_type": "code",
      "metadata": {
        "id": "aC12q5EczoQU"
      },
      "source": [
        "from tensorflow.keras import layers\n",
        "from tensorflow.keras.layers.experimental import preprocessing"
      ],
      "execution_count": null,
      "outputs": []
    },
    {
      "cell_type": "code",
      "metadata": {
        "id": "IB-rQR2s2teX"
      },
      "source": [
        "# Create base model\n",
        "base_model = tf.keras.applications.EfficientNetB0(include_top=False)\n",
        "base_model.trainable = False # freeze base model layers\n",
        "\n",
        "# Create Functional model \n",
        "input_shape = (224, 224, 3)\n",
        "inputs = layers.Input(shape=input_shape, name=\"input_layer\")\n",
        "# Note: EfficientNetBX models have rescaling built-in but if our model didn't us could have a layer like below\n",
        "# x = preprocessing.Rescaling(1./255)(inputs)\n",
        "# Don't forget change inputs on x in base_model next string\n",
        "x = base_model(inputs, training=False) # set base_model to inference mode only\n",
        "x = layers.GlobalAveragePooling2D(name=\"global_average_pool_layer\")(x)\n",
        "# Separate activation of output layer so we can output float32 activations\n",
        "x = layers.Dense(len(class_names))(x)\n",
        "outputs = layers.Activation(\"softmax\", dtype=tf.float32, name=\"softmax_float32\")(x)\n",
        "model = tf.keras.Model(inputs, outputs)\n",
        "\n",
        "# Compile the model\n",
        "model.compile(loss=\"sparse_categorical_crossentropy\", # Use sparse_categorical_crossentropy when labels are *not* one-hot\n",
        "              optimizer=tf.keras.optimizers.Adam(),\n",
        "              metrics=[\"accuracy\"])"
      ],
      "execution_count": null,
      "outputs": []
    },
    {
      "cell_type": "code",
      "metadata": {
        "colab": {
          "base_uri": "https://localhost:8080/"
        },
        "id": "fK5K7RNz6ZSP",
        "outputId": "e4b57191-5c6b-43a0-9663-0234faf3da16"
      },
      "source": [
        "# Check out our model\n",
        "model.summary()"
      ],
      "execution_count": null,
      "outputs": [
        {
          "output_type": "stream",
          "text": [
            "Model: \"model_1\"\n",
            "_________________________________________________________________\n",
            "Layer (type)                 Output Shape              Param #   \n",
            "=================================================================\n",
            "input_layer (InputLayer)     [(None, 224, 224, 3)]     0         \n",
            "_________________________________________________________________\n",
            "efficientnetb0 (Functional)  (None, None, None, 1280)  4049571   \n",
            "_________________________________________________________________\n",
            "global_average_pool_layer (G (None, 1280)              0         \n",
            "_________________________________________________________________\n",
            "dense_1 (Dense)              (None, 101)               129381    \n",
            "_________________________________________________________________\n",
            "softmax_float32 (Activation) (None, 101)               0         \n",
            "=================================================================\n",
            "Total params: 4,178,952\n",
            "Trainable params: 129,381\n",
            "Non-trainable params: 4,049,571\n",
            "_________________________________________________________________\n"
          ],
          "name": "stdout"
        }
      ]
    },
    {
      "cell_type": "markdown",
      "metadata": {
        "id": "T6MqMqREJv-4"
      },
      "source": [
        "## Checking layer dtype policies (are we using mixed precision?)"
      ]
    },
    {
      "cell_type": "code",
      "metadata": {
        "colab": {
          "base_uri": "https://localhost:8080/"
        },
        "id": "uwCrQPTUJyXt",
        "outputId": "a5b87eb1-6967-45b7-e0fe-5779e2b45090"
      },
      "source": [
        "# Check the dtype_policy attributes of layers in our model\n",
        "for layer in model.layers:\n",
        "  print(layer.name, layer.trainable, layer.dtype, layer.dtype_policy)"
      ],
      "execution_count": null,
      "outputs": [
        {
          "output_type": "stream",
          "text": [
            "input_layer True float32 <Policy \"float32\">\n",
            "efficientnetb0 False float32 <Policy \"mixed_float16\">\n",
            "global_average_pool_layer True float32 <Policy \"mixed_float16\">\n",
            "dense_1 True float32 <Policy \"mixed_float16\">\n",
            "softmax_float32 True float32 <Policy \"float32\">\n"
          ],
          "name": "stdout"
        }
      ]
    },
    {
      "cell_type": "code",
      "metadata": {
        "colab": {
          "base_uri": "https://localhost:8080/"
        },
        "id": "7bJ3cDc_KjcO",
        "outputId": "a8837756-87ea-4fa5-9306-18e5b31f859c"
      },
      "source": [
        "# Check the layers in the base model and see what dtype policy they're using\n",
        "for layer in model.layers[1].layers[:20]:\n",
        "  print(layer.name, layer.trainable, layer.dtype, layer.dtype_policy)"
      ],
      "execution_count": null,
      "outputs": [
        {
          "output_type": "stream",
          "text": [
            "input_2 False float32 <Policy \"float32\">\n",
            "rescaling_1 False float32 <Policy \"mixed_float16\">\n",
            "normalization_1 False float32 <Policy \"float32\">\n",
            "stem_conv_pad False float32 <Policy \"mixed_float16\">\n",
            "stem_conv False float32 <Policy \"mixed_float16\">\n",
            "stem_bn False float32 <Policy \"mixed_float16\">\n",
            "stem_activation False float32 <Policy \"mixed_float16\">\n",
            "block1a_dwconv False float32 <Policy \"mixed_float16\">\n",
            "block1a_bn False float32 <Policy \"mixed_float16\">\n",
            "block1a_activation False float32 <Policy \"mixed_float16\">\n",
            "block1a_se_squeeze False float32 <Policy \"mixed_float16\">\n",
            "block1a_se_reshape False float32 <Policy \"mixed_float16\">\n",
            "block1a_se_reduce False float32 <Policy \"mixed_float16\">\n",
            "block1a_se_expand False float32 <Policy \"mixed_float16\">\n",
            "block1a_se_excite False float32 <Policy \"mixed_float16\">\n",
            "block1a_project_conv False float32 <Policy \"mixed_float16\">\n",
            "block1a_project_bn False float32 <Policy \"mixed_float16\">\n",
            "block2a_expand_conv False float32 <Policy \"mixed_float16\">\n",
            "block2a_expand_bn False float32 <Policy \"mixed_float16\">\n",
            "block2a_expand_activation False float32 <Policy \"mixed_float16\">\n"
          ],
          "name": "stdout"
        }
      ]
    },
    {
      "cell_type": "markdown",
      "metadata": {
        "id": "TMGceSOtLbBZ"
      },
      "source": [
        "## Fit the feature extraction model"
      ]
    },
    {
      "cell_type": "code",
      "metadata": {
        "colab": {
          "base_uri": "https://localhost:8080/"
        },
        "id": "iQD0wrVWLLMv",
        "outputId": "e7f4bf90-d986-4841-cab3-516a10746c35"
      },
      "source": [
        "# Fit the model with callbacks\n",
        "history_101_food_classes_feature_extract = model.fit(training_data,\n",
        "                                                     epochs=3,\n",
        "                                                     validation_data=testing_data,\n",
        "                                                     validation_steps=int(0.15*len(testing_data)),\n",
        "                                                     callbacks=[create_tensorboard_callback(\"training_logs\", \n",
        "                                                                                            \"efficientnetb0_101_classes_all_data_feature_extract\"),\n",
        "                                                                model_checkpoint])"
      ],
      "execution_count": null,
      "outputs": [
        {
          "output_type": "stream",
          "text": [
            "Saving TensorBoard log files to: training_logs/efficientnetb0_101_classes_all_data_feature_extract/20210621-113543\n",
            "Epoch 1/3\n",
            "2368/2368 [==============================] - 172s 70ms/step - loss: 2.3238 - accuracy: 0.4658 - val_loss: 1.2303 - val_accuracy: 0.6679\n",
            "Epoch 2/3\n",
            "2368/2368 [==============================] - 165s 69ms/step - loss: 1.3123 - accuracy: 0.6635 - val_loss: 1.1290 - val_accuracy: 0.6965\n",
            "Epoch 3/3\n",
            "2368/2368 [==============================] - 165s 69ms/step - loss: 1.1488 - accuracy: 0.7009 - val_loss: 1.0817 - val_accuracy: 0.7100\n"
          ],
          "name": "stdout"
        }
      ]
    },
    {
      "cell_type": "code",
      "metadata": {
        "colab": {
          "base_uri": "https://localhost:8080/"
        },
        "id": "88nglX4LMnK8",
        "outputId": "4591f274-2c42-42cb-f00b-a8b3106d03e9"
      },
      "source": [
        "# Evaluate model (unsaved version) on whole test dataset\n",
        "results_feature_extract_model = model.evaluate(testing_data)\n",
        "results_feature_extract_model"
      ],
      "execution_count": null,
      "outputs": [
        {
          "output_type": "stream",
          "text": [
            "790/790 [==============================] - 47s 60ms/step - loss: 1.0879 - accuracy: 0.7065\n"
          ],
          "name": "stdout"
        },
        {
          "output_type": "execute_result",
          "data": {
            "text/plain": [
              "[1.087876558303833, 0.7064950466156006]"
            ]
          },
          "metadata": {
            "tags": []
          },
          "execution_count": 47
        }
      ]
    },
    {
      "cell_type": "markdown",
      "metadata": {
        "id": "HiyzlbJKTUwB"
      },
      "source": [
        "## Load and evaluate checkpoint weights"
      ]
    },
    {
      "cell_type": "code",
      "metadata": {
        "id": "40wrdQf1O514",
        "colab": {
          "base_uri": "https://localhost:8080/"
        },
        "outputId": "b61df240-e2ee-4d8e-a4b2-c05d9914788b"
      },
      "source": [
        "# Clone the model we created (this resets all weights)\n",
        "cloned_model = tf.keras.models.clone_model(model)\n",
        "cloned_model.summary()"
      ],
      "execution_count": null,
      "outputs": [
        {
          "output_type": "stream",
          "text": [
            "Model: \"model_1\"\n",
            "_________________________________________________________________\n",
            "Layer (type)                 Output Shape              Param #   \n",
            "=================================================================\n",
            "input_layer (InputLayer)     [(None, 224, 224, 3)]     0         \n",
            "_________________________________________________________________\n",
            "efficientnetb0 (Functional)  (None, None, None, 1280)  4049571   \n",
            "_________________________________________________________________\n",
            "global_average_pool_layer (G (None, 1280)              0         \n",
            "_________________________________________________________________\n",
            "dense_1 (Dense)              (None, 101)               129381    \n",
            "_________________________________________________________________\n",
            "softmax_float32 (Activation) (None, 101)               0         \n",
            "=================================================================\n",
            "Total params: 4,178,952\n",
            "Trainable params: 129,381\n",
            "Non-trainable params: 4,049,571\n",
            "_________________________________________________________________\n"
          ],
          "name": "stdout"
        }
      ]
    },
    {
      "cell_type": "code",
      "metadata": {
        "colab": {
          "base_uri": "https://localhost:8080/",
          "height": 35
        },
        "id": "99TnqsAQVU2u",
        "outputId": "f56615ba-b35c-459b-b4cd-322bc9dad8db"
      },
      "source": [
        "# Where are our checkpoints stored?\n",
        "checkpoint_path"
      ],
      "execution_count": null,
      "outputs": [
        {
          "output_type": "execute_result",
          "data": {
            "application/vnd.google.colaboratory.intrinsic+json": {
              "type": "string"
            },
            "text/plain": [
              "'model_checkpoints/cp.ckpt'"
            ]
          },
          "metadata": {
            "tags": []
          },
          "execution_count": 49
        }
      ]
    },
    {
      "cell_type": "code",
      "metadata": {
        "colab": {
          "base_uri": "https://localhost:8080/"
        },
        "id": "Pqe12i2AVZ_2",
        "outputId": "af0b3bf1-ce7d-4dff-ee78-f3b4bc7883e8"
      },
      "source": [
        "# Load checkpointed weights into cloned_model\n",
        "cloned_model.load_weights(checkpoint_path)"
      ],
      "execution_count": null,
      "outputs": [
        {
          "output_type": "execute_result",
          "data": {
            "text/plain": [
              "<tensorflow.python.training.tracking.util.CheckpointLoadStatus at 0x7f2e796a4510>"
            ]
          },
          "metadata": {
            "tags": []
          },
          "execution_count": 50
        }
      ]
    },
    {
      "cell_type": "code",
      "metadata": {
        "id": "SUvaJUMuVoTo"
      },
      "source": [
        "# Each time you make a change to your model (including loading weights), you have to recompile.\n",
        "cloned_model.compile(loss=\"sparse_categorical_crossentropy\",\n",
        "                     optimizer=tf.keras.optimizers.Adam(),\n",
        "                     metrics=[\"accuracy\"])"
      ],
      "execution_count": null,
      "outputs": []
    },
    {
      "cell_type": "code",
      "metadata": {
        "colab": {
          "base_uri": "https://localhost:8080/"
        },
        "id": "2D7Jx03UYDMd",
        "outputId": "f45c6cd4-7122-4024-8c31-76e516705c61"
      },
      "source": [
        "# Evalaute cloned model with loaded weights (should be same score as trained model)\n",
        "results_cloned_model_with_loaded_weights = cloned_model.evaluate(testing_data)"
      ],
      "execution_count": null,
      "outputs": [
        {
          "output_type": "stream",
          "text": [
            "790/790 [==============================] - 49s 60ms/step - loss: 1.0926 - accuracy: 0.7036\n"
          ],
          "name": "stdout"
        }
      ]
    },
    {
      "cell_type": "code",
      "metadata": {
        "id": "0H3VedAMYkIA"
      },
      "source": [
        "# Loaded checkpoint weights should return very similar results to checkpoint weights prior to saving\n",
        "import numpy as np\n",
        "assert np.isclose(results_cloned_model_with_loaded_weights, results_feature_extract_model).all() # check if all elements in array are close"
      ],
      "execution_count": null,
      "outputs": []
    },
    {
      "cell_type": "code",
      "metadata": {
        "colab": {
          "base_uri": "https://localhost:8080/"
        },
        "id": "cslZnf4sZ9JG",
        "outputId": "ae36cf03-e29c-4d44-c3b3-4ace85f1e8e3"
      },
      "source": [
        "for layer in cloned_model.layers[1].layers[:20]:\n",
        "  print(layer.name, layer.trainable, layer.dtype, layer.dtype_policy)"
      ],
      "execution_count": null,
      "outputs": [
        {
          "output_type": "stream",
          "text": [
            "input_2 True float32 <Policy \"float32\">\n",
            "rescaling_1 False float32 <Policy \"mixed_float16\">\n",
            "normalization_1 False float32 <Policy \"float32\">\n",
            "stem_conv_pad False float32 <Policy \"mixed_float16\">\n",
            "stem_conv False float32 <Policy \"mixed_float16\">\n",
            "stem_bn False float32 <Policy \"mixed_float16\">\n",
            "stem_activation False float32 <Policy \"mixed_float16\">\n",
            "block1a_dwconv False float32 <Policy \"mixed_float16\">\n",
            "block1a_bn False float32 <Policy \"mixed_float16\">\n",
            "block1a_activation False float32 <Policy \"mixed_float16\">\n",
            "block1a_se_squeeze False float32 <Policy \"mixed_float16\">\n",
            "block1a_se_reshape False float32 <Policy \"mixed_float16\">\n",
            "block1a_se_reduce False float32 <Policy \"mixed_float16\">\n",
            "block1a_se_expand False float32 <Policy \"mixed_float16\">\n",
            "block1a_se_excite False float32 <Policy \"mixed_float16\">\n",
            "block1a_project_conv False float32 <Policy \"mixed_float16\">\n",
            "block1a_project_bn False float32 <Policy \"mixed_float16\">\n",
            "block2a_expand_conv False float32 <Policy \"mixed_float16\">\n",
            "block2a_expand_bn False float32 <Policy \"mixed_float16\">\n",
            "block2a_expand_activation False float32 <Policy \"mixed_float16\">\n"
          ],
          "name": "stdout"
        }
      ]
    },
    {
      "cell_type": "markdown",
      "metadata": {
        "id": "GmxfkizAakea"
      },
      "source": [
        "## Save the whole model to file"
      ]
    },
    {
      "cell_type": "code",
      "metadata": {
        "id": "jX88eTUHU5y6"
      },
      "source": [
        "# Create save path to drive\n",
        "save_dir = \"drive/MyDrive/food_vision/07_efficientnetb0_feature_extract_model_mixed_precision/\""
      ],
      "execution_count": null,
      "outputs": []
    },
    {
      "cell_type": "code",
      "metadata": {
        "colab": {
          "base_uri": "https://localhost:8080/"
        },
        "id": "f2FZM3uaaVl2",
        "outputId": "37be1d4d-b980-4cd2-b206-7375d6f9be7f"
      },
      "source": [
        "# Saving model to Google Drive\n",
        "import os\n",
        "os.makedirs(save_dir)\n",
        "\n",
        "# Save model\n",
        "model.save(save_dir)"
      ],
      "execution_count": null,
      "outputs": [
        {
          "output_type": "stream",
          "text": [
            "INFO:tensorflow:Assets written to: drive/MyDrive/food_vision/07_efficientnetb0_feature_extract_model_mixed_precision/assets\n"
          ],
          "name": "stdout"
        },
        {
          "output_type": "stream",
          "text": [
            "INFO:tensorflow:Assets written to: drive/MyDrive/food_vision/07_efficientnetb0_feature_extract_model_mixed_precision/assets\n"
          ],
          "name": "stderr"
        }
      ]
    },
    {
      "cell_type": "code",
      "metadata": {
        "colab": {
          "base_uri": "https://localhost:8080/"
        },
        "id": "wRWyYy3xcvYx",
        "outputId": "c8f5e3e6-c1d0-451c-db95-386de11e8a35"
      },
      "source": [
        "# Check whether or not our model saved correctly by loading it in and evaluating it\n",
        "loaded_saved_model = tf.keras.models.load_model(\"drive/MyDrive/food_vision/07_efficientnetb0_feature_extract_model_mixed_precision/\")"
      ],
      "execution_count": null,
     
    },
    {
      "cell_type": "code",
      "metadata": {
        "colab": {
          "base_uri": "https://localhost:8080/"
        },
        "id": "TLEnY02OdRSe",
        "outputId": "7c639eda-068d-4c37-84b7-e6ae93c98027"
      },
      "source": [
        "# Check the layers in the base model and see what dtype policy they're using\n",
        "for layer in loaded_saved_model.layers[1].layers[:20]: # check only the first 20 layers to save output space\n",
        "  print(layer.name, layer.trainable, layer.dtype, layer.dtype_policy)"
      ],
      "execution_count": null,
      "outputs": [
        {
          "output_type": "stream",
          "text": [
            "input_2 True float32 <Policy \"float32\">\n",
            "rescaling_1 True float32 <Policy \"mixed_float16\">\n",
            "normalization_1 True float32 <Policy \"float32\">\n",
            "stem_conv_pad True float32 <Policy \"mixed_float16\">\n",
            "stem_conv True float32 <Policy \"mixed_float16\">\n",
            "stem_bn True float32 <Policy \"mixed_float16\">\n",
            "stem_activation True float32 <Policy \"mixed_float16\">\n",
            "block1a_dwconv True float32 <Policy \"mixed_float16\">\n",
            "block1a_bn True float32 <Policy \"mixed_float16\">\n",
            "block1a_activation True float32 <Policy \"mixed_float16\">\n",
            "block1a_se_squeeze True float32 <Policy \"mixed_float16\">\n",
            "block1a_se_reshape True float32 <Policy \"mixed_float16\">\n",
            "block1a_se_reduce True float32 <Policy \"mixed_float16\">\n",
            "block1a_se_expand True float32 <Policy \"mixed_float16\">\n",
            "block1a_se_excite True float32 <Policy \"mixed_float16\">\n",
            "block1a_project_conv True float32 <Policy \"mixed_float16\">\n",
            "block1a_project_bn True float32 <Policy \"mixed_float16\">\n",
            "block2a_expand_conv True float32 <Policy \"mixed_float16\">\n",
            "block2a_expand_bn True float32 <Policy \"mixed_float16\">\n",
            "block2a_expand_activation True float32 <Policy \"mixed_float16\">\n"
          ],
          "name": "stdout"
        }
      ]
    },
    {
      "cell_type": "code",
      "metadata": {
        "colab": {
          "base_uri": "https://localhost:8080/"
        },
        "id": "VvkX-Qj4ddwi",
        "outputId": "5aa26e1a-8193-43e5-ba91-2971687e4686"
      },
      "source": [
        "# Check loaded model performance (this should be the same as results_feature_extract_model)\n",
        "results_loaded_saved_model = loaded_saved_model.evaluate(testing_data)\n",
        "results_loaded_saved_model"
      ],
      "execution_count": null,
      "outputs": [
        {
          "output_type": "stream",
          "text": [
            "790/790 [==============================] - 58s 61ms/step - loss: 1.0879 - accuracy: 0.7065\n"
          ],
          "name": "stdout"
        },
        {
          "output_type": "execute_result",
          "data": {
            "text/plain": [
              "[1.0878762006759644, 0.7064950466156006]"
            ]
          },
          "metadata": {
            "tags": []
          },
          "execution_count": 28
        }
      ]
    },
    {
      "cell_type": "markdown",
      "metadata": {
        "id": "s_0qR5BnSuXm"
      },
      "source": [
        "## Preparing our model's layers for fine-tuning"
      ]
    },
    {
      "cell_type": "code",
      "metadata": {
        "id": "u4_A6hL9d0a0",
        "colab": {
          "base_uri": "https://localhost:8080/"
        },
        "outputId": "97d64d75-75bd-45a2-e3bf-37b40437e63b"
      },
      "source": [
        "# Are any of the layers in our model frozen?\n",
        "for layer in loaded_saved_model.layers:\n",
        "  layer.trainable = True\n",
        "  print(layer.name, layer.trainable, layer.dtype, layer.dtype_policy) "
      ],
      "execution_count": null,
      "outputs": [
        {
          "output_type": "stream",
          "text": [
            "input_layer True float32 <Policy \"float32\">\n",
            "efficientnetb0 True float32 <Policy \"mixed_float16\">\n",
            "global_average_pool_layer True float32 <Policy \"mixed_float16\">\n",
            "dense_1 True float32 <Policy \"mixed_float16\">\n",
            "softmax_float32 True float32 <Policy \"float32\">\n"
          ],
          "name": "stdout"
        }
      ]
    },
    {
      "cell_type": "code",
      "metadata": {
        "colab": {
          "base_uri": "https://localhost:8080/"
        },
        "id": "MwHMMlKgUaMW",
        "outputId": "4ebd163a-2284-4317-cae0-a0a559d839f3"
      },
      "source": [
        "# Check the layers in the base model and see what dtype policy they're using\n",
        "for layer in loaded_saved_model.layers[1].layers[:20]:\n",
        "  print(layer.name, layer.trainable, layer.dtype, layer.dtype_policy)"
      ],
      "execution_count": null,
      "outputs": [
        {
          "output_type": "stream",
          "text": [
            "input_2 True float32 <Policy \"float32\">\n",
            "rescaling_1 True float32 <Policy \"mixed_float16\">\n",
            "normalization_1 True float32 <Policy \"float32\">\n",
            "stem_conv_pad True float32 <Policy \"mixed_float16\">\n",
            "stem_conv True float32 <Policy \"mixed_float16\">\n",
            "stem_bn True float32 <Policy \"mixed_float16\">\n",
            "stem_activation True float32 <Policy \"mixed_float16\">\n",
            "block1a_dwconv True float32 <Policy \"mixed_float16\">\n",
            "block1a_bn True float32 <Policy \"mixed_float16\">\n",
            "block1a_activation True float32 <Policy \"mixed_float16\">\n",
            "block1a_se_squeeze True float32 <Policy \"mixed_float16\">\n",
            "block1a_se_reshape True float32 <Policy \"mixed_float16\">\n",
            "block1a_se_reduce True float32 <Policy \"mixed_float16\">\n",
            "block1a_se_expand True float32 <Policy \"mixed_float16\">\n",
            "block1a_se_excite True float32 <Policy \"mixed_float16\">\n",
            "block1a_project_conv True float32 <Policy \"mixed_float16\">\n",
            "block1a_project_bn True float32 <Policy \"mixed_float16\">\n",
            "block2a_expand_conv True float32 <Policy \"mixed_float16\">\n",
            "block2a_expand_bn True float32 <Policy \"mixed_float16\">\n",
            "block2a_expand_activation True float32 <Policy \"mixed_float16\">\n"
          ],
          "name": "stdout"
        }
      ]
    },
    {
      "cell_type": "markdown",
      "metadata": {
        "id": "Xve4QUKScb5x"
      },
      "source": [
        "Since we've got so much data (750 images x 101 training classes = 75750 training images), let's keep all of our base model's layers unfrozen."
      ]
    },
    {
      "cell_type": "markdown",
      "metadata": {
        "id": "a4SFeLFmcocE"
      },
      "source": [
        "## A couple more callbacks"
      ]
    },
    {
      "cell_type": "code",
      "metadata": {
        "id": "15nKkUfnaJk7"
      },
      "source": [
        "# Setup EarlyStopping callback to stop training if model's val_loss doesn't improve for 3 epochs\n",
        "early_stopping = tf.keras.callbacks.EarlyStopping(monitor=\"val_loss\", # watch the val loss metric\n",
        "                                                  patience=3) # if val loss decreases for 3 epochs in a row, stop training\n",
        "\n",
        "# Create ModelCheckpoint callback to save best model during fine-tuning\n",
        "checkpoint_path = \"fine_tune_checkpoints/\"\n",
        "model_checkpoint = tf.keras.callbacks.ModelCheckpoint(checkpoint_path,\n",
        "                                                      save_best_only=True,\n",
        "                                                      monitor=\"val_loss\")                                                "
      ],
      "execution_count": null,
      "outputs": []
    },
    {
      "cell_type": "code",
      "metadata": {
        "id": "jo4xC_6DT4Yh"
      },
      "source": [
        "# Creating learning rate reduction callback\n",
        "reduce_lr = tf.keras.callbacks.ReduceLROnPlateau(monitor=\"val_loss\",\n",
        "                                                 factor=0.2, # multiply the learning rate by 0.2 (reduce by 5x)\n",
        "                                                 patience=2,\n",
        "                                                 verbose=1,\n",
        "                                                 min_lr=1e-7)"
      ],
      "execution_count": null,
      "outputs": []
    },
    {
      "cell_type": "code",
      "metadata": {
        "id": "mG4xzGP0UiBX"
      },
      "source": [
        "# Compile the model. We'll use sparse categorical crossentropy as the loss \n",
        "# and since we're fine-tuning, we'll use a 10x lower learning rate \n",
        "# than the Adam optimizers default\n",
        "loaded_saved_model.compile(loss=\"sparse_categorical_crossentropy\",\n",
        "                           optimizer=tf.keras.optimizers.Adam(0.0001),\n",
        "                           metrics=[\"accuracy\"])"
      ],
      "execution_count": null,
      "outputs": []
    },
    {
      "cell_type": "code",
      "metadata": {
        "colab": {
          "base_uri": "https://localhost:8080/"
        },
        "id": "-WPDbW3-Veyk",
        "outputId": "c4987faa-40c5-489e-e1dc-3916c6dde1f8"
      },
      "source": [
        "# Start to fine-tune (all layers)\n",
        "history_101_food_classes_all_data_fine_tune = loaded_saved_model.fit(training_data,\n",
        "                                                                     epochs=100,\n",
        "                                                                     validation_data=testing_data,\n",
        "                                                                     validation_steps=int(0.15*len(testing_data)), # validation during training on 15% of test data\n",
        "                                                                     callbacks=[create_tensorboard_callback(\"training_logs\", \"efficientb0_101_classes_all_data_fine_tuning\"), # track the model training logs\n",
        "                                                                                model_checkpoint, # save only the best model during training\n",
        "                                                                                early_stopping, # stop model after X epochs of no improvements\n",
        "                                                                                reduce_lr]) # reduce the learning rate after X epochs of no improvements"
      ],
      "execution_count": null,
      "outputs": [
        {
          "output_type": "stream",
          "text": [
            "Saving TensorBoard log files to: training_logs/efficientb0_101_classes_all_data_fine_tuning/20210623-070058\n",
            "Epoch 1/100\n",
            "2368/2368 [==============================] - 303s 123ms/step - loss: 0.9937 - accuracy: 0.7356 - val_loss: 0.8486 - val_accuracy: 0.7622\n",
            "INFO:tensorflow:Assets written to: fine_tune_checkpoints/assets\n"
          ],
          "name": "stdout"
        },
        {
          "output_type": "stream",
          "text": [
            "INFO:tensorflow:Assets written to: fine_tune_checkpoints/assets\n"
          ],
          "name": "stderr"
        },
        {
          "output_type": "stream",
          "text": [
            "Epoch 2/100\n",
            "2368/2368 [==============================] - 287s 120ms/step - loss: 0.5924 - accuracy: 0.8377 - val_loss: 0.8016 - val_accuracy: 0.7855\n",
            "INFO:tensorflow:Assets written to: fine_tune_checkpoints/assets\n"
          ],
          "name": "stdout"
        },
        {
          "output_type": "stream",
          "text": [
            "INFO:tensorflow:Assets written to: fine_tune_checkpoints/assets\n"
          ],
          "name": "stderr"
        },
        {
          "output_type": "stream",
          "text": [
            "Epoch 3/100\n",
            "2368/2368 [==============================] - 289s 119ms/step - loss: 0.3296 - accuracy: 0.9054 - val_loss: 0.8676 - val_accuracy: 0.7828\n",
            "Epoch 4/100\n",
            "2368/2368 [==============================] - 285s 120ms/step - loss: 0.1665 - accuracy: 0.9517 - val_loss: 0.9936 - val_accuracy: 0.7791\n",
            "\n",
            "Epoch 00004: ReduceLROnPlateau reducing learning rate to 1.9999999494757503e-05.\n",
            "Epoch 5/100\n",
            "2368/2368 [==============================] - 285s 120ms/step - loss: 0.0471 - accuracy: 0.9892 - val_loss: 1.0645 - val_accuracy: 0.7998\n"
          ],
          "name": "stdout"
        }
      ]
    },
    {
      "cell_type": "markdown",
      "metadata": {
        "id": "8cTzRWMTXAAf"
      },
      "source": [
        "Example fine-tuning time for non-prefetched data as well as non-mixed precision training (~2.5-3x longer per epoch)."
      ]
    },
    {
      "cell_type": "code",
      "metadata": {
        "colab": {
          "base_uri": "https://localhost:8080/"
        },
        "id": "szFJVjVbXAol",
        "outputId": "b3fbd0b5-e9de-473c-a213-be79f5ce3916"
      },
      "source": [
        "# Save model to Google Drive\n",
        "loaded_saved_model.save(\"drive/MyDrive/food_vision/07_efficientnetb0_fine_tuned_101_classes_mixed_precision/\")"
      ],
      "execution_count": null,
      "outputs": [
        {
          "output_type": "stream",
          "text": [
            "INFO:tensorflow:Assets written to: drive/MyDrive/food_vision/07_efficientnetb0_fine_tuned_101_classes_mixed_precision/assets\n"
          ],
          "name": "stdout"
        },
        {
          "output_type": "stream",
          "text": [
            "INFO:tensorflow:Assets written to: drive/MyDrive/food_vision/07_efficientnetb0_fine_tuned_101_classes_mixed_precision/assets\n"
          ],
          "name": "stderr"
        }
      ]
    },
    {
      "cell_type": "code",
      "metadata": {
        "colab": {
          "base_uri": "https://localhost:8080/"
        },
        "id": "NTIuHoT5XdUm",
        "outputId": "ae70c96f-5417-4c5f-aed9-905544426bf0"
      },
      "source": [
        "# Evaluate mixed precision trained loaded model\n",
        "results_loaded_saved_model_fine_tuned = loaded_saved_model.evaluate(testing_data) \n",
        "results_loaded_saved_model_fine_tuned"
      ],
      "execution_count": null,
      "outputs": [
        {
          "output_type": "stream",
          "text": [
            "790/790 [==============================] - 53s 66ms/step - loss: 1.0503 - accuracy: 0.8002\n"
          ],
          "name": "stdout"
        },
        {
          "output_type": "execute_result",
          "data": {
            "text/plain": [
              "[1.0502619743347168, 0.8002375960350037]"
            ]
          },
          "metadata": {
            "tags": []
          },
          "execution_count": 35
        }
      ]
    },
    {
      "cell_type": "markdown",
      "metadata": {
        "id": "SJ1-_cEwb3km"
      },
      "source": [
        "It looks like our model beat the results mentioned in the DeepFood paper for Food101 (DeepFood's 77.4% top-1 accuracy versus our ~80% top-1 accuracy)"
      ]
    },
    {
      "cell_type": "markdown",
      "metadata": {
        "id": "eU8v_T0bYoMo"
      },
      "source": [
        "## Download fine-tuned model from Google Drive"
      ]
    },
    {
      "cell_type": "code",
      "metadata": {
        "colab": {
          "base_uri": "https://localhost:8080/"
        },
        "id": "1EAByNpLYppa",
        "outputId": "a01a654f-00f7-44f0-ae1a-304fffd2d64c"
      },
      "source": [
        "# Load in fine-tuned model from Google Drive and evaluate\n",
        "loaded_fine_tuned_model = tf.keras.models.load_model(\"drive/MyDrive/food_vision/07_efficientnetb0_fine_tuned_101_classes_mixed_precision/\")"
      ],
      "execution_count": null,
      "outputs": [
        {
          "output_type": "stream",
          "text": [
            "WARNING:absl:Importing a function (__inference_block5b_se_reduce_layer_call_and_return_conditional_losses_248864) with ops with custom gradients. Will likely fail if a gradient is requested.\n",
            "WARNING:absl:Importing a function (__inference_block6d_activation_layer_call_and_return_conditional_losses_216806) with ops with custom gradients. Will likely fail if a gradient is requested.\n",
            "WARNING:absl:Importing a function (__inference_stem_activation_layer_call_and_return_conditional_losses_212332) with ops with custom gradients. Will likely fail if a gradient is requested.\n",
            "WARNING:absl:Importing a function (__inference_block6a_activation_layer_call_and_return_conditional_losses_215845) with ops with custom gradients. Will likely fail if a gradient is requested.\n",
            "WARNING:absl:Importing a function (__inference_block6b_activation_layer_call_and_return_conditional_losses_216130) with ops with custom gradients. Will likely fail if a gradient is requested.\n",
            "WARNING:absl:Importing a function (__inference_block5b_activation_layer_call_and_return_conditional_losses_215168) with ops with custom gradients. Will likely fail if a gradient is requested.\n",
            "WARNING:absl:Importing a function (__inference_block3a_expand_activation_layer_call_and_return_conditional_losses_246610) with ops with custom gradients. Will likely fail if a gradient is requested.\n",
            "WARNING:absl:Importing a function (__inference_block1a_se_reduce_layer_call_and_return_conditional_losses_212437) with ops with custom gradients. Will likely fail if a gradient is requested.\n",
            "WARNING:absl:Importing a function (__inference_block2b_activation_layer_call_and_return_conditional_losses_212959) with ops with custom gradients. Will likely fail if a gradient is requested.\n",
            "WARNING:absl:Importing a function (__inference_block6c_se_reduce_layer_call_and_return_conditional_losses_216517) with ops with custom gradients. Will likely fail if a gradient is requested.\n",
            "WARNING:absl:Importing a function (__inference_block4a_se_reduce_layer_call_and_return_conditional_losses_213971) with ops with custom gradients. Will likely fail if a gradient is requested.\n",
            "WARNING:absl:Importing a function (__inference_block5b_expand_activation_layer_call_and_return_conditional_losses_215112) with ops with custom gradients. Will likely fail if a gradient is requested.\n",
            "WARNING:absl:Importing a function (__inference_model_1_layer_call_and_return_conditional_losses_234243) with ops with custom gradients. Will likely fail if a gradient is requested.\n",
            "WARNING:absl:Importing a function (__inference_model_1_layer_call_and_return_conditional_losses_234243) with ops with custom gradients. Will likely fail if a gradient is requested.\n",
            "WARNING:absl:Importing a function (__inference_model_1_layer_call_and_return_conditional_losses_234243) with ops with custom gradients. Will likely fail if a gradient is requested.\n",
            "WARNING:absl:Importing a function (__inference_model_1_layer_call_and_return_conditional_losses_234243) with ops with custom gradients. Will likely fail if a gradient is requested.\n",
            "WARNING:absl:Importing a function (__inference_model_1_layer_call_and_return_conditional_losses_234243) with ops with custom gradients. Will likely fail if a gradient is requested.\n",
            "WARNING:absl:Importing a function (__inference_model_1_layer_call_and_return_conditional_losses_234243) with ops with custom gradients. Will likely fail if a gradient is requested.\n",
            "WARNING:absl:Importing a function (__inference_model_1_layer_call_and_return_conditional_losses_234243) with ops with custom gradients. Will likely fail if a gradient is requested.\n",
            "WARNING:absl:Importing a function (__inference_model_1_layer_call_and_return_conditional_losses_234243) with ops with custom gradients. Will likely fail if a gradient is requested.\n",
            "WARNING:absl:Importing a function (__inference_model_1_layer_call_and_return_conditional_losses_234243) with ops with custom gradients. Will likely fail if a gradient is requested.\n",
            "WARNING:absl:Importing a function (__inference_model_1_layer_call_and_return_conditional_losses_234243) with ops with custom gradients. Will likely fail if a gradient is requested.\n",
            "WARNING:absl:Importing a function (__inference_model_1_layer_call_and_return_conditional_losses_234243) with ops with custom gradients. Will likely fail if a gradient is requested.\n",
            "WARNING:absl:Importing a function (__inference_model_1_layer_call_and_return_conditional_losses_234243) with ops with custom gradients. Will likely fail if a gradient is requested.\n",
            "WARNING:absl:Importing a function (__inference_model_1_layer_call_and_return_conditional_losses_234243) with ops with custom gradients. Will likely fail if a gradient is requested.\n",
            "WARNING:absl:Importing a function (__inference_model_1_layer_call_and_return_conditional_losses_234243) with ops with custom gradients. Will likely fail if a gradient is requested.\n",
            "WARNING:absl:Importing a function (__inference_model_1_layer_call_and_return_conditional_losses_234243) with ops with custom gradients. Will likely fail if a gradient is requested.\n",
            "WARNING:absl:Importing a function (__inference_model_1_layer_call_and_return_conditional_losses_234243) with ops with custom gradients. Will likely fail if a gradient is requested.\n",
            "WARNING:absl:Importing a function (__inference_model_1_layer_call_and_return_conditional_losses_234243) with ops with custom gradients. Will likely fail if a gradient is requested.\n",
            "WARNING:absl:Importing a function (__inference_model_1_layer_call_and_return_conditional_losses_234243) with ops with custom gradients. Will likely fail if a gradient is requested.\n",
            "WARNING:absl:Importing a function (__inference_model_1_layer_call_and_return_conditional_losses_234243) with ops with custom gradients. Will likely fail if a gradient is requested.\n",
            "WARNING:absl:Importing a function (__inference_model_1_layer_call_and_return_conditional_losses_234243) with ops with custom gradients. Will likely fail if a gradient is requested.\n",
            "WARNING:absl:Importing a function (__inference_model_1_layer_call_and_return_conditional_losses_234243) with ops with custom gradients. Will likely fail if a gradient is requested.\n",
            "WARNING:absl:Importing a function (__inference_model_1_layer_call_and_return_conditional_losses_234243) with ops with custom gradients. Will likely fail if a gradient is requested.\n",
            "WARNING:absl:Importing a function (__inference_model_1_layer_call_and_return_conditional_losses_234243) with ops with custom gradients. Will likely fail if a gradient is requested.\n",
            "WARNING:absl:Importing a function (__inference_model_1_layer_call_and_return_conditional_losses_234243) with ops with custom gradients. Will likely fail if a gradient is requested.\n",
            "WARNING:absl:Importing a function (__inference_model_1_layer_call_and_return_conditional_losses_234243) with ops with custom gradients. Will likely fail if a gradient is requested.\n",
            "WARNING:absl:Importing a function (__inference_model_1_layer_call_and_return_conditional_losses_234243) with ops with custom gradients. Will likely fail if a gradient is requested.\n",
            "WARNING:absl:Importing a function (__inference_model_1_layer_call_and_return_conditional_losses_234243) with ops with custom gradients. Will likely fail if a gradient is requested.\n",
            "WARNING:absl:Importing a function (__inference_model_1_layer_call_and_return_conditional_losses_234243) with ops with custom gradients. Will likely fail if a gradient is requested.\n",
            "WARNING:absl:Importing a function (__inference_model_1_layer_call_and_return_conditional_losses_234243) with ops with custom gradients. Will likely fail if a gradient is requested.\n",
            "WARNING:absl:Importing a function (__inference_model_1_layer_call_and_return_conditional_losses_234243) with ops with custom gradients. Will likely fail if a gradient is requested.\n",
            "WARNING:absl:Importing a function (__inference_model_1_layer_call_and_return_conditional_losses_234243) with ops with custom gradients. Will likely fail if a gradient is requested.\n",
            "WARNING:absl:Importing a function (__inference_model_1_layer_call_and_return_conditional_losses_234243) with ops with custom gradients. Will likely fail if a gradient is requested.\n",
            "WARNING:absl:Importing a function (__inference_model_1_layer_call_and_return_conditional_losses_234243) with ops with custom gradients. Will likely fail if a gradient is requested.\n",
            "WARNING:absl:Importing a function (__inference_model_1_layer_call_and_return_conditional_losses_234243) with ops with custom gradients. Will likely fail if a gradient is requested.\n",
            "WARNING:absl:Importing a function (__inference_model_1_layer_call_and_return_conditional_losses_234243) with ops with custom gradients. Will likely fail if a gradient is requested.\n",
            "WARNING:absl:Importing a function (__inference_model_1_layer_call_and_return_conditional_losses_234243) with ops with custom gradients. Will likely fail if a gradient is requested.\n",
            "WARNING:absl:Importing a function (__inference_model_1_layer_call_and_return_conditional_losses_234243) with ops with custom gradients. Will likely fail if a gradient is requested.\n",
            "WARNING:absl:Importing a function (__inference_model_1_layer_call_and_return_conditional_losses_234243) with ops with custom gradients. Will likely fail if a gradient is requested.\n",
            "WARNING:absl:Importing a function (__inference_model_1_layer_call_and_return_conditional_losses_234243) with ops with custom gradients. Will likely fail if a gradient is requested.\n",
            "WARNING:absl:Importing a function (__inference_model_1_layer_call_and_return_conditional_losses_234243) with ops with custom gradients. Will likely fail if a gradient is requested.\n",
            "WARNING:absl:Importing a function (__inference_model_1_layer_call_and_return_conditional_losses_234243) with ops with custom gradients. Will likely fail if a gradient is requested.\n",
            "WARNING:absl:Importing a function (__inference_model_1_layer_call_and_return_conditional_losses_234243) with ops with custom gradients. Will likely fail if a gradient is requested.\n",
            "WARNING:absl:Importing a function (__inference_model_1_layer_call_and_return_conditional_losses_234243) with ops with custom gradients. Will likely fail if a gradient is requested.\n",
            "WARNING:absl:Importing a function (__inference_model_1_layer_call_and_return_conditional_losses_234243) with ops with custom gradients. Will likely fail if a gradient is requested.\n",
            "WARNING:absl:Importing a function (__inference_model_1_layer_call_and_return_conditional_losses_234243) with ops with custom gradients. Will likely fail if a gradient is requested.\n",
            "WARNING:absl:Importing a function (__inference_model_1_layer_call_and_return_conditional_losses_234243) with ops with custom gradients. Will likely fail if a gradient is requested.\n",
            "WARNING:absl:Importing a function (__inference_model_1_layer_call_and_return_conditional_losses_234243) with ops with custom gradients. Will likely fail if a gradient is requested.\n",
            "WARNING:absl:Importing a function (__inference_model_1_layer_call_and_return_conditional_losses_234243) with ops with custom gradients. Will likely fail if a gradient is requested.\n",
            "WARNING:absl:Importing a function (__inference_model_1_layer_call_and_return_conditional_losses_234243) with ops with custom gradients. Will likely fail if a gradient is requested.\n",
            "WARNING:absl:Importing a function (__inference_block7a_se_reduce_layer_call_and_return_conditional_losses_251091) with ops with custom gradients. Will likely fail if a gradient is requested.\n",
            "WARNING:absl:Importing a function (__inference_block2b_activation_layer_call_and_return_conditional_losses_246310) with ops with custom gradients. Will likely fail if a gradient is requested.\n",
            "WARNING:absl:Importing a function (__inference_efficientnetb0_layer_call_and_return_conditional_losses_237480) with ops with custom gradients. Will likely fail if a gradient is requested.\n",
            "WARNING:absl:Importing a function (__inference_efficientnetb0_layer_call_and_return_conditional_losses_237480) with ops with custom gradients. Will likely fail if a gradient is requested.\n",
            "WARNING:absl:Importing a function (__inference_efficientnetb0_layer_call_and_return_conditional_losses_237480) with ops with custom gradients. Will likely fail if a gradient is requested.\n",
            "WARNING:absl:Importing a function (__inference_efficientnetb0_layer_call_and_return_conditional_losses_237480) with ops with custom gradients. Will likely fail if a gradient is requested.\n",
            "WARNING:absl:Importing a function (__inference_efficientnetb0_layer_call_and_return_conditional_losses_237480) with ops with custom gradients. Will likely fail if a gradient is requested.\n",
            "WARNING:absl:Importing a function (__inference_efficientnetb0_layer_call_and_return_conditional_losses_237480) with ops with custom gradients. Will likely fail if a gradient is requested.\n",
            "WARNING:absl:Importing a function (__inference_efficientnetb0_layer_call_and_return_conditional_losses_237480) with ops with custom gradients. Will likely fail if a gradient is requested.\n",
            "WARNING:absl:Importing a function (__inference_efficientnetb0_layer_call_and_return_conditional_losses_237480) with ops with custom gradients. Will likely fail if a gradient is requested.\n",
            "WARNING:absl:Importing a function (__inference_efficientnetb0_layer_call_and_return_conditional_losses_237480) with ops with custom gradients. Will likely fail if a gradient is requested.\n",
            "WARNING:absl:Importing a function (__inference_efficientnetb0_layer_call_and_return_conditional_losses_237480) with ops with custom gradients. Will likely fail if a gradient is requested.\n",
            "WARNING:absl:Importing a function (__inference_efficientnetb0_layer_call_and_return_conditional_losses_237480) with ops with custom gradients. Will likely fail if a gradient is requested.\n",
            "WARNING:absl:Importing a function (__inference_efficientnetb0_layer_call_and_return_conditional_losses_237480) with ops with custom gradients. Will likely fail if a gradient is requested.\n",
            "WARNING:absl:Importing a function (__inference_efficientnetb0_layer_call_and_return_conditional_losses_237480) with ops with custom gradients. Will likely fail if a gradient is requested.\n",
            "WARNING:absl:Importing a function (__inference_efficientnetb0_layer_call_and_return_conditional_losses_237480) with ops with custom gradients. Will likely fail if a gradient is requested.\n",
            "WARNING:absl:Importing a function (__inference_efficientnetb0_layer_call_and_return_conditional_losses_237480) with ops with custom gradients. Will likely fail if a gradient is requested.\n",
            "WARNING:absl:Importing a function (__inference_efficientnetb0_layer_call_and_return_conditional_losses_237480) with ops with custom gradients. Will likely fail if a gradient is requested.\n",
            "WARNING:absl:Importing a function (__inference_efficientnetb0_layer_call_and_return_conditional_losses_237480) with ops with custom gradients. Will likely fail if a gradient is requested.\n",
            "WARNING:absl:Importing a function (__inference_efficientnetb0_layer_call_and_return_conditional_losses_237480) with ops with custom gradients. Will likely fail if a gradient is requested.\n",
            "WARNING:absl:Importing a function (__inference_efficientnetb0_layer_call_and_return_conditional_losses_237480) with ops with custom gradients. Will likely fail if a gradient is requested.\n",
            "WARNING:absl:Importing a function (__inference_efficientnetb0_layer_call_and_return_conditional_losses_237480) with ops with custom gradients. Will likely fail if a gradient is requested.\n",
            "WARNING:absl:Importing a function (__inference_efficientnetb0_layer_call_and_return_conditional_losses_237480) with ops with custom gradients. Will likely fail if a gradient is requested.\n",
            "WARNING:absl:Importing a function (__inference_efficientnetb0_layer_call_and_return_conditional_losses_237480) with ops with custom gradients. Will likely fail if a gradient is requested.\n",
            "WARNING:absl:Importing a function (__inference_efficientnetb0_layer_call_and_return_conditional_losses_237480) with ops with custom gradients. Will likely fail if a gradient is requested.\n",
            "WARNING:absl:Importing a function (__inference_efficientnetb0_layer_call_and_return_conditional_losses_237480) with ops with custom gradients. Will likely fail if a gradient is requested.\n",
            "WARNING:absl:Importing a function (__inference_efficientnetb0_layer_call_and_return_conditional_losses_237480) with ops with custom gradients. Will likely fail if a gradient is requested.\n",
            "WARNING:absl:Importing a function (__inference_efficientnetb0_layer_call_and_return_conditional_losses_237480) with ops with custom gradients. Will likely fail if a gradient is requested.\n",
            "WARNING:absl:Importing a function (__inference_efficientnetb0_layer_call_and_return_conditional_losses_237480) with ops with custom gradients. Will likely fail if a gradient is requested.\n",
            "WARNING:absl:Importing a function (__inference_efficientnetb0_layer_call_and_return_conditional_losses_237480) with ops with custom gradients. Will likely fail if a gradient is requested.\n",
            "WARNING:absl:Importing a function (__inference_efficientnetb0_layer_call_and_return_conditional_losses_237480) with ops with custom gradients. Will likely fail if a gradient is requested.\n",
            "WARNING:absl:Importing a function (__inference_efficientnetb0_layer_call_and_return_conditional_losses_237480) with ops with custom gradients. Will likely fail if a gradient is requested.\n",
            "WARNING:absl:Importing a function (__inference_efficientnetb0_layer_call_and_return_conditional_losses_237480) with ops with custom gradients. Will likely fail if a gradient is requested.\n",
            "WARNING:absl:Importing a function (__inference_efficientnetb0_layer_call_and_return_conditional_losses_237480) with ops with custom gradients. Will likely fail if a gradient is requested.\n",
            "WARNING:absl:Importing a function (__inference_efficientnetb0_layer_call_and_return_conditional_losses_237480) with ops with custom gradients. Will likely fail if a gradient is requested.\n",
            "WARNING:absl:Importing a function (__inference_efficientnetb0_layer_call_and_return_conditional_losses_237480) with ops with custom gradients. Will likely fail if a gradient is requested.\n",
            "WARNING:absl:Importing a function (__inference_efficientnetb0_layer_call_and_return_conditional_losses_237480) with ops with custom gradients. Will likely fail if a gradient is requested.\n",
            "WARNING:absl:Importing a function (__inference_efficientnetb0_layer_call_and_return_conditional_losses_237480) with ops with custom gradients. Will likely fail if a gradient is requested.\n",
            "WARNING:absl:Importing a function (__inference_efficientnetb0_layer_call_and_return_conditional_losses_237480) with ops with custom gradients. Will likely fail if a gradient is requested.\n",
            "WARNING:absl:Importing a function (__inference_efficientnetb0_layer_call_and_return_conditional_losses_237480) with ops with custom gradients. Will likely fail if a gradient is requested.\n",
            "WARNING:absl:Importing a function (__inference_efficientnetb0_layer_call_and_return_conditional_losses_237480) with ops with custom gradients. Will likely fail if a gradient is requested.\n",
            "WARNING:absl:Importing a function (__inference_efficientnetb0_layer_call_and_return_conditional_losses_237480) with ops with custom gradients. Will likely fail if a gradient is requested.\n",
            "WARNING:absl:Importing a function (__inference_efficientnetb0_layer_call_and_return_conditional_losses_237480) with ops with custom gradients. Will likely fail if a gradient is requested.\n",
            "WARNING:absl:Importing a function (__inference_efficientnetb0_layer_call_and_return_conditional_losses_237480) with ops with custom gradients. Will likely fail if a gradient is requested.\n",
            "WARNING:absl:Importing a function (__inference_efficientnetb0_layer_call_and_return_conditional_losses_237480) with ops with custom gradients. Will likely fail if a gradient is requested.\n",
            "WARNING:absl:Importing a function (__inference_efficientnetb0_layer_call_and_return_conditional_losses_237480) with ops with custom gradients. Will likely fail if a gradient is requested.\n",
            "WARNING:absl:Importing a function (__inference_efficientnetb0_layer_call_and_return_conditional_losses_237480) with ops with custom gradients. Will likely fail if a gradient is requested.\n",
            "WARNING:absl:Importing a function (__inference_efficientnetb0_layer_call_and_return_conditional_losses_237480) with ops with custom gradients. Will likely fail if a gradient is requested.\n",
            "WARNING:absl:Importing a function (__inference_efficientnetb0_layer_call_and_return_conditional_losses_237480) with ops with custom gradients. Will likely fail if a gradient is requested.\n",
            "WARNING:absl:Importing a function (__inference_efficientnetb0_layer_call_and_return_conditional_losses_237480) with ops with custom gradients. Will likely fail if a gradient is requested.\n",
            "WARNING:absl:Importing a function (__inference_efficientnetb0_layer_call_and_return_conditional_losses_237480) with ops with custom gradients. Will likely fail if a gradient is requested.\n",
            "WARNING:absl:Importing a function (__inference_block5c_activation_layer_call_and_return_conditional_losses_249201) with ops with custom gradients. Will likely fail if a gradient is requested.\n",
            "WARNING:absl:Importing a function (__inference__wrapped_model_206567) with ops with custom gradients. Will likely fail if a gradient is requested.\n",
            "WARNING:absl:Importing a function (__inference__wrapped_model_206567) with ops with custom gradients. Will likely fail if a gradient is requested.\n",
            "WARNING:absl:Importing a function (__inference__wrapped_model_206567) with ops with custom gradients. Will likely fail if a gradient is requested.\n",
            "WARNING:absl:Importing a function (__inference__wrapped_model_206567) with ops with custom gradients. Will likely fail if a gradient is requested.\n",
            "WARNING:absl:Importing a function (__inference__wrapped_model_206567) with ops with custom gradients. Will likely fail if a gradient is requested.\n",
            "WARNING:absl:Importing a function (__inference__wrapped_model_206567) with ops with custom gradients. Will likely fail if a gradient is requested.\n",
            "WARNING:absl:Importing a function (__inference__wrapped_model_206567) with ops with custom gradients. Will likely fail if a gradient is requested.\n",
            "WARNING:absl:Importing a function (__inference__wrapped_model_206567) with ops with custom gradients. Will likely fail if a gradient is requested.\n",
            "WARNING:absl:Importing a function (__inference__wrapped_model_206567) with ops with custom gradients. Will likely fail if a gradient is requested.\n",
            "WARNING:absl:Importing a function (__inference__wrapped_model_206567) with ops with custom gradients. Will likely fail if a gradient is requested.\n",
            "WARNING:absl:Importing a function (__inference__wrapped_model_206567) with ops with custom gradients. Will likely fail if a gradient is requested.\n",
            "WARNING:absl:Importing a function (__inference__wrapped_model_206567) with ops with custom gradients. Will likely fail if a gradient is requested.\n",
            "WARNING:absl:Importing a function (__inference__wrapped_model_206567) with ops with custom gradients. Will likely fail if a gradient is requested.\n",
            "WARNING:absl:Importing a function (__inference__wrapped_model_206567) with ops with custom gradients. Will likely fail if a gradient is requested.\n",
            "WARNING:absl:Importing a function (__inference__wrapped_model_206567) with ops with custom gradients. Will likely fail if a gradient is requested.\n",
            "WARNING:absl:Importing a function (__inference__wrapped_model_206567) with ops with custom gradients. Will likely fail if a gradient is requested.\n",
            "WARNING:absl:Importing a function (__inference__wrapped_model_206567) with ops with custom gradients. Will likely fail if a gradient is requested.\n",
            "WARNING:absl:Importing a function (__inference__wrapped_model_206567) with ops with custom gradients. Will likely fail if a gradient is requested.\n",
            "WARNING:absl:Importing a function (__inference__wrapped_model_206567) with ops with custom gradients. Will likely fail if a gradient is requested.\n",
            "WARNING:absl:Importing a function (__inference__wrapped_model_206567) with ops with custom gradients. Will likely fail if a gradient is requested.\n",
            "WARNING:absl:Importing a function (__inference__wrapped_model_206567) with ops with custom gradients. Will likely fail if a gradient is requested.\n",
            "WARNING:absl:Importing a function (__inference__wrapped_model_206567) with ops with custom gradients. Will likely fail if a gradient is requested.\n",
            "WARNING:absl:Importing a function (__inference__wrapped_model_206567) with ops with custom gradients. Will likely fail if a gradient is requested.\n",
            "WARNING:absl:Importing a function (__inference__wrapped_model_206567) with ops with custom gradients. Will likely fail if a gradient is requested.\n",
            "WARNING:absl:Importing a function (__inference__wrapped_model_206567) with ops with custom gradients. Will likely fail if a gradient is requested.\n",
            "WARNING:absl:Importing a function (__inference__wrapped_model_206567) with ops with custom gradients. Will likely fail if a gradient is requested.\n",
            "WARNING:absl:Importing a function (__inference__wrapped_model_206567) with ops with custom gradients. Will likely fail if a gradient is requested.\n",
            "WARNING:absl:Importing a function (__inference__wrapped_model_206567) with ops with custom gradients. Will likely fail if a gradient is requested.\n",
            "WARNING:absl:Importing a function (__inference__wrapped_model_206567) with ops with custom gradients. Will likely fail if a gradient is requested.\n",
            "WARNING:absl:Importing a function (__inference__wrapped_model_206567) with ops with custom gradients. Will likely fail if a gradient is requested.\n",
            "WARNING:absl:Importing a function (__inference__wrapped_model_206567) with ops with custom gradients. Will likely fail if a gradient is requested.\n",
            "WARNING:absl:Importing a function (__inference__wrapped_model_206567) with ops with custom gradients. Will likely fail if a gradient is requested.\n",
            "WARNING:absl:Importing a function (__inference__wrapped_model_206567) with ops with custom gradients. Will likely fail if a gradient is requested.\n",
            "WARNING:absl:Importing a function (__inference__wrapped_model_206567) with ops with custom gradients. Will likely fail if a gradient is requested.\n",
            "WARNING:absl:Importing a function (__inference__wrapped_model_206567) with ops with custom gradients. Will likely fail if a gradient is requested.\n",
            "WARNING:absl:Importing a function (__inference__wrapped_model_206567) with ops with custom gradients. Will likely fail if a gradient is requested.\n",
            "WARNING:absl:Importing a function (__inference__wrapped_model_206567) with ops with custom gradients. Will likely fail if a gradient is requested.\n",
            "WARNING:absl:Importing a function (__inference__wrapped_model_206567) with ops with custom gradients. Will likely fail if a gradient is requested.\n",
            "WARNING:absl:Importing a function (__inference__wrapped_model_206567) with ops with custom gradients. Will likely fail if a gradient is requested.\n",
            "WARNING:absl:Importing a function (__inference__wrapped_model_206567) with ops with custom gradients. Will likely fail if a gradient is requested.\n",
            "WARNING:absl:Importing a function (__inference__wrapped_model_206567) with ops with custom gradients. Will likely fail if a gradient is requested.\n",
            "WARNING:absl:Importing a function (__inference__wrapped_model_206567) with ops with custom gradients. Will likely fail if a gradient is requested.\n",
            "WARNING:absl:Importing a function (__inference__wrapped_model_206567) with ops with custom gradients. Will likely fail if a gradient is requested.\n",
            "WARNING:absl:Importing a function (__inference__wrapped_model_206567) with ops with custom gradients. Will likely fail if a gradient is requested.\n",
            "WARNING:absl:Importing a function (__inference__wrapped_model_206567) with ops with custom gradients. Will likely fail if a gradient is requested.\n",
            "WARNING:absl:Importing a function (__inference__wrapped_model_206567) with ops with custom gradients. Will likely fail if a gradient is requested.\n",
            "WARNING:absl:Importing a function (__inference__wrapped_model_206567) with ops with custom gradients. Will likely fail if a gradient is requested.\n",
            "WARNING:absl:Importing a function (__inference__wrapped_model_206567) with ops with custom gradients. Will likely fail if a gradient is requested.\n",
            "WARNING:absl:Importing a function (__inference__wrapped_model_206567) with ops with custom gradients. Will likely fail if a gradient is requested.\n",
            "WARNING:absl:Importing a function (__inference_efficientnetb0_layer_call_and_return_conditional_losses_225004) with ops with custom gradients. Will likely fail if a gradient is requested.\n",
            "WARNING:absl:Importing a function (__inference_efficientnetb0_layer_call_and_return_conditional_losses_225004) with ops with custom gradients. Will likely fail if a gradient is requested.\n",
            "WARNING:absl:Importing a function (__inference_efficientnetb0_layer_call_and_return_conditional_losses_225004) with ops with custom gradients. Will likely fail if a gradient is requested.\n",
            "WARNING:absl:Importing a function (__inference_efficientnetb0_layer_call_and_return_conditional_losses_225004) with ops with custom gradients. Will likely fail if a gradient is requested.\n",
            "WARNING:absl:Importing a function (__inference_efficientnetb0_layer_call_and_return_conditional_losses_225004) with ops with custom gradients. Will likely fail if a gradient is requested.\n",
            "WARNING:absl:Importing a function (__inference_efficientnetb0_layer_call_and_return_conditional_losses_225004) with ops with custom gradients. Will likely fail if a gradient is requested.\n",
            "WARNING:absl:Importing a function (__inference_efficientnetb0_layer_call_and_return_conditional_losses_225004) with ops with custom gradients. Will likely fail if a gradient is requested.\n",
            "WARNING:absl:Importing a function (__inference_efficientnetb0_layer_call_and_return_conditional_losses_225004) with ops with custom gradients. Will likely fail if a gradient is requested.\n",
            "WARNING:absl:Importing a function (__inference_efficientnetb0_layer_call_and_return_conditional_losses_225004) with ops with custom gradients. Will likely fail if a gradient is requested.\n",
            "WARNING:absl:Importing a function (__inference_efficientnetb0_layer_call_and_return_conditional_losses_225004) with ops with custom gradients. Will likely fail if a gradient is requested.\n",
            "WARNING:absl:Importing a function (__inference_efficientnetb0_layer_call_and_return_conditional_losses_225004) with ops with custom gradients. Will likely fail if a gradient is requested.\n",
            "WARNING:absl:Importing a function (__inference_efficientnetb0_layer_call_and_return_conditional_losses_225004) with ops with custom gradients. Will likely fail if a gradient is requested.\n",
            "WARNING:absl:Importing a function (__inference_efficientnetb0_layer_call_and_return_conditional_losses_225004) with ops with custom gradients. Will likely fail if a gradient is requested.\n",
            "WARNING:absl:Importing a function (__inference_efficientnetb0_layer_call_and_return_conditional_losses_225004) with ops with custom gradients. Will likely fail if a gradient is requested.\n",
            "WARNING:absl:Importing a function (__inference_efficientnetb0_layer_call_and_return_conditional_losses_225004) with ops with custom gradients. Will likely fail if a gradient is requested.\n",
            "WARNING:absl:Importing a function (__inference_efficientnetb0_layer_call_and_return_conditional_losses_225004) with ops with custom gradients. Will likely fail if a gradient is requested.\n",
            "WARNING:absl:Importing a function (__inference_efficientnetb0_layer_call_and_return_conditional_losses_225004) with ops with custom gradients. Will likely fail if a gradient is requested.\n",
            "WARNING:absl:Importing a function (__inference_efficientnetb0_layer_call_and_return_conditional_losses_225004) with ops with custom gradients. Will likely fail if a gradient is requested.\n",
            "WARNING:absl:Importing a function (__inference_efficientnetb0_layer_call_and_return_conditional_losses_225004) with ops with custom gradients. Will likely fail if a gradient is requested.\n",
            "WARNING:absl:Importing a function (__inference_efficientnetb0_layer_call_and_return_conditional_losses_225004) with ops with custom gradients. Will likely fail if a gradient is requested.\n",
            "WARNING:absl:Importing a function (__inference_efficientnetb0_layer_call_and_return_conditional_losses_225004) with ops with custom gradients. Will likely fail if a gradient is requested.\n",
            "WARNING:absl:Importing a function (__inference_efficientnetb0_layer_call_and_return_conditional_losses_225004) with ops with custom gradients. Will likely fail if a gradient is requested.\n",
            "WARNING:absl:Importing a function (__inference_efficientnetb0_layer_call_and_return_conditional_losses_225004) with ops with custom gradients. Will likely fail if a gradient is requested.\n",
            "WARNING:absl:Importing a function (__inference_efficientnetb0_layer_call_and_return_conditional_losses_225004) with ops with custom gradients. Will likely fail if a gradient is requested.\n",
            "WARNING:absl:Importing a function (__inference_efficientnetb0_layer_call_and_return_conditional_losses_225004) with ops with custom gradients. Will likely fail if a gradient is requested.\n",
            "WARNING:absl:Importing a function (__inference_efficientnetb0_layer_call_and_return_conditional_losses_225004) with ops with custom gradients. Will likely fail if a gradient is requested.\n",
            "WARNING:absl:Importing a function (__inference_efficientnetb0_layer_call_and_return_conditional_losses_225004) with ops with custom gradients. Will likely fail if a gradient is requested.\n",
            "WARNING:absl:Importing a function (__inference_efficientnetb0_layer_call_and_return_conditional_losses_225004) with ops with custom gradients. Will likely fail if a gradient is requested.\n",
            "WARNING:absl:Importing a function (__inference_efficientnetb0_layer_call_and_return_conditional_losses_225004) with ops with custom gradients. Will likely fail if a gradient is requested.\n",
            "WARNING:absl:Importing a function (__inference_efficientnetb0_layer_call_and_return_conditional_losses_225004) with ops with custom gradients. Will likely fail if a gradient is requested.\n",
            "WARNING:absl:Importing a function (__inference_efficientnetb0_layer_call_and_return_conditional_losses_225004) with ops with custom gradients. Will likely fail if a gradient is requested.\n",
            "WARNING:absl:Importing a function (__inference_efficientnetb0_layer_call_and_return_conditional_losses_225004) with ops with custom gradients. Will likely fail if a gradient is requested.\n",
            "WARNING:absl:Importing a function (__inference_efficientnetb0_layer_call_and_return_conditional_losses_225004) with ops with custom gradients. Will likely fail if a gradient is requested.\n",
            "WARNING:absl:Importing a function (__inference_efficientnetb0_layer_call_and_return_conditional_losses_225004) with ops with custom gradients. Will likely fail if a gradient is requested.\n",
            "WARNING:absl:Importing a function (__inference_efficientnetb0_layer_call_and_return_conditional_losses_225004) with ops with custom gradients. Will likely fail if a gradient is requested.\n",
            "WARNING:absl:Importing a function (__inference_efficientnetb0_layer_call_and_return_conditional_losses_225004) with ops with custom gradients. Will likely fail if a gradient is requested.\n",
            "WARNING:absl:Importing a function (__inference_efficientnetb0_layer_call_and_return_conditional_losses_225004) with ops with custom gradients. Will likely fail if a gradient is requested.\n",
            "WARNING:absl:Importing a function (__inference_efficientnetb0_layer_call_and_return_conditional_losses_225004) with ops with custom gradients. Will likely fail if a gradient is requested.\n",
            "WARNING:absl:Importing a function (__inference_efficientnetb0_layer_call_and_return_conditional_losses_225004) with ops with custom gradients. Will likely fail if a gradient is requested.\n",
            "WARNING:absl:Importing a function (__inference_efficientnetb0_layer_call_and_return_conditional_losses_225004) with ops with custom gradients. Will likely fail if a gradient is requested.\n",
            "WARNING:absl:Importing a function (__inference_efficientnetb0_layer_call_and_return_conditional_losses_225004) with ops with custom gradients. Will likely fail if a gradient is requested.\n",
            "WARNING:absl:Importing a function (__inference_efficientnetb0_layer_call_and_return_conditional_losses_225004) with ops with custom gradients. Will likely fail if a gradient is requested.\n",
            "WARNING:absl:Importing a function (__inference_efficientnetb0_layer_call_and_return_conditional_losses_225004) with ops with custom gradients. Will likely fail if a gradient is requested.\n",
            "WARNING:absl:Importing a function (__inference_efficientnetb0_layer_call_and_return_conditional_losses_225004) with ops with custom gradients. Will likely fail if a gradient is requested.\n",
            "WARNING:absl:Importing a function (__inference_efficientnetb0_layer_call_and_return_conditional_losses_225004) with ops with custom gradients. Will likely fail if a gradient is requested.\n",
            "WARNING:absl:Importing a function (__inference_efficientnetb0_layer_call_and_return_conditional_losses_225004) with ops with custom gradients. Will likely fail if a gradient is requested.\n",
            "WARNING:absl:Importing a function (__inference_efficientnetb0_layer_call_and_return_conditional_losses_225004) with ops with custom gradients. Will likely fail if a gradient is requested.\n",
            "WARNING:absl:Importing a function (__inference_efficientnetb0_layer_call_and_return_conditional_losses_225004) with ops with custom gradients. Will likely fail if a gradient is requested.\n",
            "WARNING:absl:Importing a function (__inference_efficientnetb0_layer_call_and_return_conditional_losses_225004) with ops with custom gradients. Will likely fail if a gradient is requested.\n",
            "WARNING:absl:Importing a function (__inference_block4c_expand_activation_layer_call_and_return_conditional_losses_248032) with ops with custom gradients. Will likely fail if a gradient is requested.\n",
            "WARNING:absl:Importing a function (__inference_block4a_expand_activation_layer_call_and_return_conditional_losses_247321) with ops with custom gradients. Will likely fail if a gradient is requested.\n",
            "WARNING:absl:Importing a function (__inference_block2a_expand_activation_layer_call_and_return_conditional_losses_212617) with ops with custom gradients. Will likely fail if a gradient is requested.\n",
            "WARNING:absl:Importing a function (__inference_efficientnetb0_layer_call_and_return_conditional_losses_244193) with ops with custom gradients. Will likely fail if a gradient is requested.\n",
            "WARNING:absl:Importing a function (__inference_efficientnetb0_layer_call_and_return_conditional_losses_244193) with ops with custom gradients. Will likely fail if a gradient is requested.\n",
            "WARNING:absl:Importing a function (__inference_efficientnetb0_layer_call_and_return_conditional_losses_244193) with ops with custom gradients. Will likely fail if a gradient is requested.\n",
            "WARNING:absl:Importing a function (__inference_efficientnetb0_layer_call_and_return_conditional_losses_244193) with ops with custom gradients. Will likely fail if a gradient is requested.\n",
            "WARNING:absl:Importing a function (__inference_efficientnetb0_layer_call_and_return_conditional_losses_244193) with ops with custom gradients. Will likely fail if a gradient is requested.\n",
            "WARNING:absl:Importing a function (__inference_efficientnetb0_layer_call_and_return_conditional_losses_244193) with ops with custom gradients. Will likely fail if a gradient is requested.\n",
            "WARNING:absl:Importing a function (__inference_efficientnetb0_layer_call_and_return_conditional_losses_244193) with ops with custom gradients. Will likely fail if a gradient is requested.\n",
            "WARNING:absl:Importing a function (__inference_efficientnetb0_layer_call_and_return_conditional_losses_244193) with ops with custom gradients. Will likely fail if a gradient is requested.\n",
            "WARNING:absl:Importing a function (__inference_efficientnetb0_layer_call_and_return_conditional_losses_244193) with ops with custom gradients. Will likely fail if a gradient is requested.\n",
            "WARNING:absl:Importing a function (__inference_efficientnetb0_layer_call_and_return_conditional_losses_244193) with ops with custom gradients. Will likely fail if a gradient is requested.\n",
            "WARNING:absl:Importing a function (__inference_efficientnetb0_layer_call_and_return_conditional_losses_244193) with ops with custom gradients. Will likely fail if a gradient is requested.\n",
            "WARNING:absl:Importing a function (__inference_efficientnetb0_layer_call_and_return_conditional_losses_244193) with ops with custom gradients. Will likely fail if a gradient is requested.\n",
            "WARNING:absl:Importing a function (__inference_efficientnetb0_layer_call_and_return_conditional_losses_244193) with ops with custom gradients. Will likely fail if a gradient is requested.\n",
            "WARNING:absl:Importing a function (__inference_efficientnetb0_layer_call_and_return_conditional_losses_244193) with ops with custom gradients. Will likely fail if a gradient is requested.\n",
            "WARNING:absl:Importing a function (__inference_efficientnetb0_layer_call_and_return_conditional_losses_244193) with ops with custom gradients. Will likely fail if a gradient is requested.\n",
            "WARNING:absl:Importing a function (__inference_efficientnetb0_layer_call_and_return_conditional_losses_244193) with ops with custom gradients. Will likely fail if a gradient is requested.\n",
            "WARNING:absl:Importing a function (__inference_efficientnetb0_layer_call_and_return_conditional_losses_244193) with ops with custom gradients. Will likely fail if a gradient is requested.\n",
            "WARNING:absl:Importing a function (__inference_efficientnetb0_layer_call_and_return_conditional_losses_244193) with ops with custom gradients. Will likely fail if a gradient is requested.\n",
            "WARNING:absl:Importing a function (__inference_efficientnetb0_layer_call_and_return_conditional_losses_244193) with ops with custom gradients. Will likely fail if a gradient is requested.\n",
            "WARNING:absl:Importing a function (__inference_efficientnetb0_layer_call_and_return_conditional_losses_244193) with ops with custom gradients. Will likely fail if a gradient is requested.\n",
            "WARNING:absl:Importing a function (__inference_efficientnetb0_layer_call_and_return_conditional_losses_244193) with ops with custom gradients. Will likely fail if a gradient is requested.\n",
            "WARNING:absl:Importing a function (__inference_efficientnetb0_layer_call_and_return_conditional_losses_244193) with ops with custom gradients. Will likely fail if a gradient is requested.\n",
            "WARNING:absl:Importing a function (__inference_efficientnetb0_layer_call_and_return_conditional_losses_244193) with ops with custom gradients. Will likely fail if a gradient is requested.\n",
            "WARNING:absl:Importing a function (__inference_efficientnetb0_layer_call_and_return_conditional_losses_244193) with ops with custom gradients. Will likely fail if a gradient is requested.\n",
            "WARNING:absl:Importing a function (__inference_efficientnetb0_layer_call_and_return_conditional_losses_244193) with ops with custom gradients. Will likely fail if a gradient is requested.\n",
            "WARNING:absl:Importing a function (__inference_efficientnetb0_layer_call_and_return_conditional_losses_244193) with ops with custom gradients. Will likely fail if a gradient is requested.\n",
            "WARNING:absl:Importing a function (__inference_efficientnetb0_layer_call_and_return_conditional_losses_244193) with ops with custom gradients. Will likely fail if a gradient is requested.\n",
            "WARNING:absl:Importing a function (__inference_efficientnetb0_layer_call_and_return_conditional_losses_244193) with ops with custom gradients. Will likely fail if a gradient is requested.\n",
            "WARNING:absl:Importing a function (__inference_efficientnetb0_layer_call_and_return_conditional_losses_244193) with ops with custom gradients. Will likely fail if a gradient is requested.\n",
            "WARNING:absl:Importing a function (__inference_efficientnetb0_layer_call_and_return_conditional_losses_244193) with ops with custom gradients. Will likely fail if a gradient is requested.\n",
            "WARNING:absl:Importing a function (__inference_efficientnetb0_layer_call_and_return_conditional_losses_244193) with ops with custom gradients. Will likely fail if a gradient is requested.\n",
            "WARNING:absl:Importing a function (__inference_efficientnetb0_layer_call_and_return_conditional_losses_244193) with ops with custom gradients. Will likely fail if a gradient is requested.\n",
            "WARNING:absl:Importing a function (__inference_efficientnetb0_layer_call_and_return_conditional_losses_244193) with ops with custom gradients. Will likely fail if a gradient is requested.\n",
            "WARNING:absl:Importing a function (__inference_efficientnetb0_layer_call_and_return_conditional_losses_244193) with ops with custom gradients. Will likely fail if a gradient is requested.\n",
            "WARNING:absl:Importing a function (__inference_efficientnetb0_layer_call_and_return_conditional_losses_244193) with ops with custom gradients. Will likely fail if a gradient is requested.\n",
            "WARNING:absl:Importing a function (__inference_efficientnetb0_layer_call_and_return_conditional_losses_244193) with ops with custom gradients. Will likely fail if a gradient is requested.\n",
            "WARNING:absl:Importing a function (__inference_efficientnetb0_layer_call_and_return_conditional_losses_244193) with ops with custom gradients. Will likely fail if a gradient is requested.\n",
            "WARNING:absl:Importing a function (__inference_efficientnetb0_layer_call_and_return_conditional_losses_244193) with ops with custom gradients. Will likely fail if a gradient is requested.\n",
            "WARNING:absl:Importing a function (__inference_efficientnetb0_layer_call_and_return_conditional_losses_244193) with ops with custom gradients. Will likely fail if a gradient is requested.\n",
            "WARNING:absl:Importing a function (__inference_efficientnetb0_layer_call_and_return_conditional_losses_244193) with ops with custom gradients. Will likely fail if a gradient is requested.\n",
            "WARNING:absl:Importing a function (__inference_efficientnetb0_layer_call_and_return_conditional_losses_244193) with ops with custom gradients. Will likely fail if a gradient is requested.\n",
            "WARNING:absl:Importing a function (__inference_efficientnetb0_layer_call_and_return_conditional_losses_244193) with ops with custom gradients. Will likely fail if a gradient is requested.\n",
            "WARNING:absl:Importing a function (__inference_efficientnetb0_layer_call_and_return_conditional_losses_244193) with ops with custom gradients. Will likely fail if a gradient is requested.\n",
            "WARNING:absl:Importing a function (__inference_efficientnetb0_layer_call_and_return_conditional_losses_244193) with ops with custom gradients. Will likely fail if a gradient is requested.\n",
            "WARNING:absl:Importing a function (__inference_efficientnetb0_layer_call_and_return_conditional_losses_244193) with ops with custom gradients. Will likely fail if a gradient is requested.\n",
            "WARNING:absl:Importing a function (__inference_efficientnetb0_layer_call_and_return_conditional_losses_244193) with ops with custom gradients. Will likely fail if a gradient is requested.\n",
            "WARNING:absl:Importing a function (__inference_efficientnetb0_layer_call_and_return_conditional_losses_244193) with ops with custom gradients. Will likely fail if a gradient is requested.\n",
            "WARNING:absl:Importing a function (__inference_efficientnetb0_layer_call_and_return_conditional_losses_244193) with ops with custom gradients. Will likely fail if a gradient is requested.\n",
            "WARNING:absl:Importing a function (__inference_efficientnetb0_layer_call_and_return_conditional_losses_244193) with ops with custom gradients. Will likely fail if a gradient is requested.\n",
            "WARNING:absl:Importing a function (__inference_block2a_activation_layer_call_and_return_conditional_losses_245978) with ops with custom gradients. Will likely fail if a gradient is requested.\n",
            "WARNING:absl:Importing a function (__inference_block5a_expand_activation_layer_call_and_return_conditional_losses_248411) with ops with custom gradients. Will likely fail if a gradient is requested.\n",
            "WARNING:absl:Importing a function (__inference_block7a_activation_layer_call_and_return_conditional_losses_251049) with ops with custom gradients. Will likely fail if a gradient is requested.\n",
            "WARNING:absl:Importing a function (__inference_block6d_expand_activation_layer_call_and_return_conditional_losses_216750) with ops with custom gradients. Will likely fail if a gradient is requested.\n",
            "WARNING:absl:Importing a function (__inference_block7a_expand_activation_layer_call_and_return_conditional_losses_217088) with ops with custom gradients. Will likely fail if a gradient is requested.\n",
            "WARNING:absl:Importing a function (__inference_block6b_activation_layer_call_and_return_conditional_losses_249912) with ops with custom gradients. Will likely fail if a gradient is requested.\n",
            "WARNING:absl:Importing a function (__inference_block7a_expand_activation_layer_call_and_return_conditional_losses_250970) with ops with custom gradients. Will likely fail if a gradient is requested.\n",
            "WARNING:absl:Importing a function (__inference_block4c_activation_layer_call_and_return_conditional_losses_248111) with ops with custom gradients. Will likely fail if a gradient is requested.\n",
            "WARNING:absl:Importing a function (__inference_block2b_expand_activation_layer_call_and_return_conditional_losses_246231) with ops with custom gradients. Will likely fail if a gradient is requested.\n",
            "WARNING:absl:Importing a function (__inference_block6c_activation_layer_call_and_return_conditional_losses_216468) with ops with custom gradients. Will likely fail if a gradient is requested.\n",
            "WARNING:absl:Importing a function (__inference_block5a_se_reduce_layer_call_and_return_conditional_losses_248532) with ops with custom gradients. Will likely fail if a gradient is requested.\n",
            "WARNING:absl:Importing a function (__inference_block3b_activation_layer_call_and_return_conditional_losses_213583) with ops with custom gradients. Will likely fail if a gradient is requested.\n",
            "WARNING:absl:Importing a function (__inference_block4c_expand_activation_layer_call_and_return_conditional_losses_214489) with ops with custom gradients. Will likely fail if a gradient is requested.\n",
            "WARNING:absl:Importing a function (__inference_block4b_activation_layer_call_and_return_conditional_losses_214207) with ops with custom gradients. Will likely fail if a gradient is requested.\n",
            "WARNING:absl:Importing a function (__inference_block4a_activation_layer_call_and_return_conditional_losses_247400) with ops with custom gradients. Will likely fail if a gradient is requested.\n",
            "WARNING:absl:Importing a function (__inference_block4a_activation_layer_call_and_return_conditional_losses_213922) with ops with custom gradients. Will likely fail if a gradient is requested.\n",
            "WARNING:absl:Importing a function (__inference_block3b_expand_activation_layer_call_and_return_conditional_losses_213527) with ops with custom gradients. Will likely fail if a gradient is requested.\n",
            "WARNING:absl:Importing a function (__inference_block6d_se_reduce_layer_call_and_return_conditional_losses_250712) with ops with custom gradients. Will likely fail if a gradient is requested.\n",
            "WARNING:absl:Importing a function (__inference_block6c_expand_activation_layer_call_and_return_conditional_losses_216412) with ops with custom gradients. Will likely fail if a gradient is requested.\n",
            "WARNING:absl:Importing a function (__inference_block1a_activation_layer_call_and_return_conditional_losses_212388) with ops with custom gradients. Will likely fail if a gradient is requested.\n",
            "WARNING:absl:Importing a function (__inference_block3b_se_reduce_layer_call_and_return_conditional_losses_213632) with ops with custom gradients. Will likely fail if a gradient is requested.\n",
            "WARNING:absl:Importing a function (__inference_block4b_expand_activation_layer_call_and_return_conditional_losses_214151) with ops with custom gradients. Will likely fail if a gradient is requested.\n",
            "WARNING:absl:Importing a function (__inference_block3a_se_reduce_layer_call_and_return_conditional_losses_213347) with ops with custom gradients. Will likely fail if a gradient is requested.\n",
            "WARNING:absl:Importing a function (__inference_block6c_activation_layer_call_and_return_conditional_losses_250291) with ops with custom gradients. Will likely fail if a gradient is requested.\n",
            "WARNING:absl:Importing a function (__inference_block4c_se_reduce_layer_call_and_return_conditional_losses_248153) with ops with custom gradients. Will likely fail if a gradient is requested.\n",
            "WARNING:absl:Importing a function (__inference_block1a_activation_layer_call_and_return_conditional_losses_245646) with ops with custom gradients. Will likely fail if a gradient is requested.\n",
            "WARNING:absl:Importing a function (__inference_efficientnetb0_layer_call_and_return_conditional_losses_223262) with ops with custom gradients. Will likely fail if a gradient is requested.\n",
            "WARNING:absl:Importing a function (__inference_efficientnetb0_layer_call_and_return_conditional_losses_223262) with ops with custom gradients. Will likely fail if a gradient is requested.\n",
            "WARNING:absl:Importing a function (__inference_efficientnetb0_layer_call_and_return_conditional_losses_223262) with ops with custom gradients. Will likely fail if a gradient is requested.\n",
            "WARNING:absl:Importing a function (__inference_efficientnetb0_layer_call_and_return_conditional_losses_223262) with ops with custom gradients. Will likely fail if a gradient is requested.\n",
            "WARNING:absl:Importing a function (__inference_efficientnetb0_layer_call_and_return_conditional_losses_223262) with ops with custom gradients. Will likely fail if a gradient is requested.\n",
            "WARNING:absl:Importing a function (__inference_efficientnetb0_layer_call_and_return_conditional_losses_223262) with ops with custom gradients. Will likely fail if a gradient is requested.\n",
            "WARNING:absl:Importing a function (__inference_efficientnetb0_layer_call_and_return_conditional_losses_223262) with ops with custom gradients. Will likely fail if a gradient is requested.\n",
            "WARNING:absl:Importing a function (__inference_efficientnetb0_layer_call_and_return_conditional_losses_223262) with ops with custom gradients. Will likely fail if a gradient is requested.\n",
            "WARNING:absl:Importing a function (__inference_efficientnetb0_layer_call_and_return_conditional_losses_223262) with ops with custom gradients. Will likely fail if a gradient is requested.\n",
            "WARNING:absl:Importing a function (__inference_efficientnetb0_layer_call_and_return_conditional_losses_223262) with ops with custom gradients. Will likely fail if a gradient is requested.\n",
            "WARNING:absl:Importing a function (__inference_efficientnetb0_layer_call_and_return_conditional_losses_223262) with ops with custom gradients. Will likely fail if a gradient is requested.\n",
            "WARNING:absl:Importing a function (__inference_efficientnetb0_layer_call_and_return_conditional_losses_223262) with ops with custom gradients. Will likely fail if a gradient is requested.\n",
            "WARNING:absl:Importing a function (__inference_efficientnetb0_layer_call_and_return_conditional_losses_223262) with ops with custom gradients. Will likely fail if a gradient is requested.\n",
            "WARNING:absl:Importing a function (__inference_efficientnetb0_layer_call_and_return_conditional_losses_223262) with ops with custom gradients. Will likely fail if a gradient is requested.\n",
            "WARNING:absl:Importing a function (__inference_efficientnetb0_layer_call_and_return_conditional_losses_223262) with ops with custom gradients. Will likely fail if a gradient is requested.\n",
            "WARNING:absl:Importing a function (__inference_efficientnetb0_layer_call_and_return_conditional_losses_223262) with ops with custom gradients. Will likely fail if a gradient is requested.\n",
            "WARNING:absl:Importing a function (__inference_efficientnetb0_layer_call_and_return_conditional_losses_223262) with ops with custom gradients. Will likely fail if a gradient is requested.\n",
            "WARNING:absl:Importing a function (__inference_efficientnetb0_layer_call_and_return_conditional_losses_223262) with ops with custom gradients. Will likely fail if a gradient is requested.\n",
            "WARNING:absl:Importing a function (__inference_efficientnetb0_layer_call_and_return_conditional_losses_223262) with ops with custom gradients. Will likely fail if a gradient is requested.\n",
            "WARNING:absl:Importing a function (__inference_efficientnetb0_layer_call_and_return_conditional_losses_223262) with ops with custom gradients. Will likely fail if a gradient is requested.\n",
            "WARNING:absl:Importing a function (__inference_efficientnetb0_layer_call_and_return_conditional_losses_223262) with ops with custom gradients. Will likely fail if a gradient is requested.\n",
            "WARNING:absl:Importing a function (__inference_efficientnetb0_layer_call_and_return_conditional_losses_223262) with ops with custom gradients. Will likely fail if a gradient is requested.\n",
            "WARNING:absl:Importing a function (__inference_efficientnetb0_layer_call_and_return_conditional_losses_223262) with ops with custom gradients. Will likely fail if a gradient is requested.\n",
            "WARNING:absl:Importing a function (__inference_efficientnetb0_layer_call_and_return_conditional_losses_223262) with ops with custom gradients. Will likely fail if a gradient is requested.\n",
            "WARNING:absl:Importing a function (__inference_efficientnetb0_layer_call_and_return_conditional_losses_223262) with ops with custom gradients. Will likely fail if a gradient is requested.\n",
            "WARNING:absl:Importing a function (__inference_efficientnetb0_layer_call_and_return_conditional_losses_223262) with ops with custom gradients. Will likely fail if a gradient is requested.\n",
            "WARNING:absl:Importing a function (__inference_efficientnetb0_layer_call_and_return_conditional_losses_223262) with ops with custom gradients. Will likely fail if a gradient is requested.\n",
            "WARNING:absl:Importing a function (__inference_efficientnetb0_layer_call_and_return_conditional_losses_223262) with ops with custom gradients. Will likely fail if a gradient is requested.\n",
            "WARNING:absl:Importing a function (__inference_efficientnetb0_layer_call_and_return_conditional_losses_223262) with ops with custom gradients. Will likely fail if a gradient is requested.\n",
            "WARNING:absl:Importing a function (__inference_efficientnetb0_layer_call_and_return_conditional_losses_223262) with ops with custom gradients. Will likely fail if a gradient is requested.\n",
            "WARNING:absl:Importing a function (__inference_efficientnetb0_layer_call_and_return_conditional_losses_223262) with ops with custom gradients. Will likely fail if a gradient is requested.\n",
            "WARNING:absl:Importing a function (__inference_efficientnetb0_layer_call_and_return_conditional_losses_223262) with ops with custom gradients. Will likely fail if a gradient is requested.\n",
            "WARNING:absl:Importing a function (__inference_efficientnetb0_layer_call_and_return_conditional_losses_223262) with ops with custom gradients. Will likely fail if a gradient is requested.\n",
            "WARNING:absl:Importing a function (__inference_efficientnetb0_layer_call_and_return_conditional_losses_223262) with ops with custom gradients. Will likely fail if a gradient is requested.\n",
            "WARNING:absl:Importing a function (__inference_efficientnetb0_layer_call_and_return_conditional_losses_223262) with ops with custom gradients. Will likely fail if a gradient is requested.\n",
            "WARNING:absl:Importing a function (__inference_efficientnetb0_layer_call_and_return_conditional_losses_223262) with ops with custom gradients. Will likely fail if a gradient is requested.\n",
            "WARNING:absl:Importing a function (__inference_efficientnetb0_layer_call_and_return_conditional_losses_223262) with ops with custom gradients. Will likely fail if a gradient is requested.\n",
            "WARNING:absl:Importing a function (__inference_efficientnetb0_layer_call_and_return_conditional_losses_223262) with ops with custom gradients. Will likely fail if a gradient is requested.\n",
            "WARNING:absl:Importing a function (__inference_efficientnetb0_layer_call_and_return_conditional_losses_223262) with ops with custom gradients. Will likely fail if a gradient is requested.\n",
            "WARNING:absl:Importing a function (__inference_efficientnetb0_layer_call_and_return_conditional_losses_223262) with ops with custom gradients. Will likely fail if a gradient is requested.\n",
            "WARNING:absl:Importing a function (__inference_efficientnetb0_layer_call_and_return_conditional_losses_223262) with ops with custom gradients. Will likely fail if a gradient is requested.\n",
            "WARNING:absl:Importing a function (__inference_efficientnetb0_layer_call_and_return_conditional_losses_223262) with ops with custom gradients. Will likely fail if a gradient is requested.\n",
            "WARNING:absl:Importing a function (__inference_efficientnetb0_layer_call_and_return_conditional_losses_223262) with ops with custom gradients. Will likely fail if a gradient is requested.\n",
            "WARNING:absl:Importing a function (__inference_efficientnetb0_layer_call_and_return_conditional_losses_223262) with ops with custom gradients. Will likely fail if a gradient is requested.\n",
            "WARNING:absl:Importing a function (__inference_efficientnetb0_layer_call_and_return_conditional_losses_223262) with ops with custom gradients. Will likely fail if a gradient is requested.\n",
            "WARNING:absl:Importing a function (__inference_efficientnetb0_layer_call_and_return_conditional_losses_223262) with ops with custom gradients. Will likely fail if a gradient is requested.\n",
            "WARNING:absl:Importing a function (__inference_efficientnetb0_layer_call_and_return_conditional_losses_223262) with ops with custom gradients. Will likely fail if a gradient is requested.\n",
            "WARNING:absl:Importing a function (__inference_efficientnetb0_layer_call_and_return_conditional_losses_223262) with ops with custom gradients. Will likely fail if a gradient is requested.\n",
            "WARNING:absl:Importing a function (__inference_efficientnetb0_layer_call_and_return_conditional_losses_223262) with ops with custom gradients. Will likely fail if a gradient is requested.\n",
            "WARNING:absl:Importing a function (__inference_block1a_se_reduce_layer_call_and_return_conditional_losses_245688) with ops with custom gradients. Will likely fail if a gradient is requested.\n",
            "WARNING:absl:Importing a function (__inference_block2b_se_reduce_layer_call_and_return_conditional_losses_246352) with ops with custom gradients. Will likely fail if a gradient is requested.\n",
            "WARNING:absl:Importing a function (__inference_block5b_expand_activation_layer_call_and_return_conditional_losses_248743) with ops with custom gradients. Will likely fail if a gradient is requested.\n",
            "WARNING:absl:Importing a function (__inference_block6a_expand_activation_layer_call_and_return_conditional_losses_249501) with ops with custom gradients. Will likely fail if a gradient is requested.\n",
            "WARNING:absl:Importing a function (__inference_block5a_expand_activation_layer_call_and_return_conditional_losses_214827) with ops with custom gradients. Will likely fail if a gradient is requested.\n",
            "WARNING:absl:Importing a function (__inference_block6b_expand_activation_layer_call_and_return_conditional_losses_249833) with ops with custom gradients. Will likely fail if a gradient is requested.\n",
            "WARNING:absl:Importing a function (__inference_block3a_expand_activation_layer_call_and_return_conditional_losses_213241) with ops with custom gradients. Will likely fail if a gradient is requested.\n",
            "WARNING:absl:Importing a function (__inference_block6b_se_reduce_layer_call_and_return_conditional_losses_216179) with ops with custom gradients. Will likely fail if a gradient is requested.\n",
            "WARNING:absl:Importing a function (__inference_block3a_se_reduce_layer_call_and_return_conditional_losses_246731) with ops with custom gradients. Will likely fail if a gradient is requested.\n",
            "WARNING:absl:Importing a function (__inference_block5a_se_reduce_layer_call_and_return_conditional_losses_214932) with ops with custom gradients. Will likely fail if a gradient is requested.\n",
            "WARNING:absl:Importing a function (__inference_block6b_se_reduce_layer_call_and_return_conditional_losses_249954) with ops with custom gradients. Will likely fail if a gradient is requested.\n",
            "WARNING:absl:Importing a function (__inference_block4c_activation_layer_call_and_return_conditional_losses_214545) with ops with custom gradients. Will likely fail if a gradient is requested.\n",
            "WARNING:absl:Importing a function (__inference_block3b_se_reduce_layer_call_and_return_conditional_losses_247063) with ops with custom gradients. Will likely fail if a gradient is requested.\n",
            "WARNING:absl:Importing a function (__inference_block3a_activation_layer_call_and_return_conditional_losses_213298) with ops with custom gradients. Will likely fail if a gradient is requested.\n",
            "WARNING:absl:Importing a function (__inference_block6a_expand_activation_layer_call_and_return_conditional_losses_215788) with ops with custom gradients. Will likely fail if a gradient is requested.\n",
            "WARNING:absl:Importing a function (__inference_block5c_expand_activation_layer_call_and_return_conditional_losses_249122) with ops with custom gradients. Will likely fail if a gradient is requested.\n",
            "WARNING:absl:Importing a function (__inference_top_activation_layer_call_and_return_conditional_losses_251302) with ops with custom gradients. Will likely fail if a gradient is requested.\n",
            "WARNING:absl:Importing a function (__inference_block4a_se_reduce_layer_call_and_return_conditional_losses_247442) with ops with custom gradients. Will likely fail if a gradient is requested.\n",
            "WARNING:absl:Importing a function (__inference_block6a_se_reduce_layer_call_and_return_conditional_losses_215894) with ops with custom gradients. Will likely fail if a gradient is requested.\n",
            "WARNING:absl:Importing a function (__inference_model_1_layer_call_and_return_conditional_losses_232489) with ops with custom gradients. Will likely fail if a gradient is requested.\n",
            "WARNING:absl:Importing a function (__inference_model_1_layer_call_and_return_conditional_losses_232489) with ops with custom gradients. Will likely fail if a gradient is requested.\n",
            "WARNING:absl:Importing a function (__inference_model_1_layer_call_and_return_conditional_losses_232489) with ops with custom gradients. Will likely fail if a gradient is requested.\n",
            "WARNING:absl:Importing a function (__inference_model_1_layer_call_and_return_conditional_losses_232489) with ops with custom gradients. Will likely fail if a gradient is requested.\n",
            "WARNING:absl:Importing a function (__inference_model_1_layer_call_and_return_conditional_losses_232489) with ops with custom gradients. Will likely fail if a gradient is requested.\n",
            "WARNING:absl:Importing a function (__inference_model_1_layer_call_and_return_conditional_losses_232489) with ops with custom gradients. Will likely fail if a gradient is requested.\n",
            "WARNING:absl:Importing a function (__inference_model_1_layer_call_and_return_conditional_losses_232489) with ops with custom gradients. Will likely fail if a gradient is requested.\n",
            "WARNING:absl:Importing a function (__inference_model_1_layer_call_and_return_conditional_losses_232489) with ops with custom gradients. Will likely fail if a gradient is requested.\n",
            "WARNING:absl:Importing a function (__inference_model_1_layer_call_and_return_conditional_losses_232489) with ops with custom gradients. Will likely fail if a gradient is requested.\n",
            "WARNING:absl:Importing a function (__inference_model_1_layer_call_and_return_conditional_losses_232489) with ops with custom gradients. Will likely fail if a gradient is requested.\n",
            "WARNING:absl:Importing a function (__inference_model_1_layer_call_and_return_conditional_losses_232489) with ops with custom gradients. Will likely fail if a gradient is requested.\n",
            "WARNING:absl:Importing a function (__inference_model_1_layer_call_and_return_conditional_losses_232489) with ops with custom gradients. Will likely fail if a gradient is requested.\n",
            "WARNING:absl:Importing a function (__inference_model_1_layer_call_and_return_conditional_losses_232489) with ops with custom gradients. Will likely fail if a gradient is requested.\n",
            "WARNING:absl:Importing a function (__inference_model_1_layer_call_and_return_conditional_losses_232489) with ops with custom gradients. Will likely fail if a gradient is requested.\n",
            "WARNING:absl:Importing a function (__inference_model_1_layer_call_and_return_conditional_losses_232489) with ops with custom gradients. Will likely fail if a gradient is requested.\n",
            "WARNING:absl:Importing a function (__inference_model_1_layer_call_and_return_conditional_losses_232489) with ops with custom gradients. Will likely fail if a gradient is requested.\n",
            "WARNING:absl:Importing a function (__inference_model_1_layer_call_and_return_conditional_losses_232489) with ops with custom gradients. Will likely fail if a gradient is requested.\n",
            "WARNING:absl:Importing a function (__inference_model_1_layer_call_and_return_conditional_losses_232489) with ops with custom gradients. Will likely fail if a gradient is requested.\n",
            "WARNING:absl:Importing a function (__inference_model_1_layer_call_and_return_conditional_losses_232489) with ops with custom gradients. Will likely fail if a gradient is requested.\n",
            "WARNING:absl:Importing a function (__inference_model_1_layer_call_and_return_conditional_losses_232489) with ops with custom gradients. Will likely fail if a gradient is requested.\n",
            "WARNING:absl:Importing a function (__inference_model_1_layer_call_and_return_conditional_losses_232489) with ops with custom gradients. Will likely fail if a gradient is requested.\n",
            "WARNING:absl:Importing a function (__inference_model_1_layer_call_and_return_conditional_losses_232489) with ops with custom gradients. Will likely fail if a gradient is requested.\n",
            "WARNING:absl:Importing a function (__inference_model_1_layer_call_and_return_conditional_losses_232489) with ops with custom gradients. Will likely fail if a gradient is requested.\n",
            "WARNING:absl:Importing a function (__inference_model_1_layer_call_and_return_conditional_losses_232489) with ops with custom gradients. Will likely fail if a gradient is requested.\n",
            "WARNING:absl:Importing a function (__inference_model_1_layer_call_and_return_conditional_losses_232489) with ops with custom gradients. Will likely fail if a gradient is requested.\n",
            "WARNING:absl:Importing a function (__inference_model_1_layer_call_and_return_conditional_losses_232489) with ops with custom gradients. Will likely fail if a gradient is requested.\n",
            "WARNING:absl:Importing a function (__inference_model_1_layer_call_and_return_conditional_losses_232489) with ops with custom gradients. Will likely fail if a gradient is requested.\n",
            "WARNING:absl:Importing a function (__inference_model_1_layer_call_and_return_conditional_losses_232489) with ops with custom gradients. Will likely fail if a gradient is requested.\n",
            "WARNING:absl:Importing a function (__inference_model_1_layer_call_and_return_conditional_losses_232489) with ops with custom gradients. Will likely fail if a gradient is requested.\n",
            "WARNING:absl:Importing a function (__inference_model_1_layer_call_and_return_conditional_losses_232489) with ops with custom gradients. Will likely fail if a gradient is requested.\n",
            "WARNING:absl:Importing a function (__inference_model_1_layer_call_and_return_conditional_losses_232489) with ops with custom gradients. Will likely fail if a gradient is requested.\n",
            "WARNING:absl:Importing a function (__inference_model_1_layer_call_and_return_conditional_losses_232489) with ops with custom gradients. Will likely fail if a gradient is requested.\n",
            "WARNING:absl:Importing a function (__inference_model_1_layer_call_and_return_conditional_losses_232489) with ops with custom gradients. Will likely fail if a gradient is requested.\n",
            "WARNING:absl:Importing a function (__inference_model_1_layer_call_and_return_conditional_losses_232489) with ops with custom gradients. Will likely fail if a gradient is requested.\n",
            "WARNING:absl:Importing a function (__inference_model_1_layer_call_and_return_conditional_losses_232489) with ops with custom gradients. Will likely fail if a gradient is requested.\n",
            "WARNING:absl:Importing a function (__inference_model_1_layer_call_and_return_conditional_losses_232489) with ops with custom gradients. Will likely fail if a gradient is requested.\n",
            "WARNING:absl:Importing a function (__inference_model_1_layer_call_and_return_conditional_losses_232489) with ops with custom gradients. Will likely fail if a gradient is requested.\n",
            "WARNING:absl:Importing a function (__inference_model_1_layer_call_and_return_conditional_losses_232489) with ops with custom gradients. Will likely fail if a gradient is requested.\n",
            "WARNING:absl:Importing a function (__inference_model_1_layer_call_and_return_conditional_losses_232489) with ops with custom gradients. Will likely fail if a gradient is requested.\n",
            "WARNING:absl:Importing a function (__inference_model_1_layer_call_and_return_conditional_losses_232489) with ops with custom gradients. Will likely fail if a gradient is requested.\n",
            "WARNING:absl:Importing a function (__inference_model_1_layer_call_and_return_conditional_losses_232489) with ops with custom gradients. Will likely fail if a gradient is requested.\n",
            "WARNING:absl:Importing a function (__inference_model_1_layer_call_and_return_conditional_losses_232489) with ops with custom gradients. Will likely fail if a gradient is requested.\n",
            "WARNING:absl:Importing a function (__inference_model_1_layer_call_and_return_conditional_losses_232489) with ops with custom gradients. Will likely fail if a gradient is requested.\n",
            "WARNING:absl:Importing a function (__inference_model_1_layer_call_and_return_conditional_losses_232489) with ops with custom gradients. Will likely fail if a gradient is requested.\n",
            "WARNING:absl:Importing a function (__inference_model_1_layer_call_and_return_conditional_losses_232489) with ops with custom gradients. Will likely fail if a gradient is requested.\n",
            "WARNING:absl:Importing a function (__inference_model_1_layer_call_and_return_conditional_losses_232489) with ops with custom gradients. Will likely fail if a gradient is requested.\n",
            "WARNING:absl:Importing a function (__inference_model_1_layer_call_and_return_conditional_losses_232489) with ops with custom gradients. Will likely fail if a gradient is requested.\n",
            "WARNING:absl:Importing a function (__inference_model_1_layer_call_and_return_conditional_losses_232489) with ops with custom gradients. Will likely fail if a gradient is requested.\n",
            "WARNING:absl:Importing a function (__inference_model_1_layer_call_and_return_conditional_losses_232489) with ops with custom gradients. Will likely fail if a gradient is requested.\n",
            "WARNING:absl:Importing a function (__inference_block4b_expand_activation_layer_call_and_return_conditional_losses_247653) with ops with custom gradients. Will likely fail if a gradient is requested.\n",
            "WARNING:absl:Importing a function (__inference_block6c_se_reduce_layer_call_and_return_conditional_losses_250333) with ops with custom gradients. Will likely fail if a gradient is requested.\n",
            "WARNING:absl:Importing a function (__inference_block6d_se_reduce_layer_call_and_return_conditional_losses_216855) with ops with custom gradients. Will likely fail if a gradient is requested.\n",
            "WARNING:absl:Importing a function (__inference_block5c_se_reduce_layer_call_and_return_conditional_losses_249243) with ops with custom gradients. Will likely fail if a gradient is requested.\n",
            "WARNING:absl:Importing a function (__inference_block5c_activation_layer_call_and_return_conditional_losses_215506) with ops with custom gradients. Will likely fail if a gradient is requested.\n",
            "WARNING:absl:Importing a function (__inference_block5a_activation_layer_call_and_return_conditional_losses_214883) with ops with custom gradients. Will likely fail if a gradient is requested.\n",
            "WARNING:absl:Importing a function (__inference_block5b_se_reduce_layer_call_and_return_conditional_losses_215217) with ops with custom gradients. Will likely fail if a gradient is requested.\n",
            "WARNING:absl:Importing a function (__inference_block4b_se_reduce_layer_call_and_return_conditional_losses_214256) with ops with custom gradients. Will likely fail if a gradient is requested.\n",
            "WARNING:absl:Importing a function (__inference_block3b_activation_layer_call_and_return_conditional_losses_247021) with ops with custom gradients. Will likely fail if a gradient is requested.\n",
            "WARNING:absl:Importing a function (__inference_block5c_expand_activation_layer_call_and_return_conditional_losses_215450) with ops with custom gradients. Will likely fail if a gradient is requested.\n",
            "WARNING:absl:Importing a function (__inference_block5c_se_reduce_layer_call_and_return_conditional_losses_215555) with ops with custom gradients. Will likely fail if a gradient is requested.\n",
            "WARNING:absl:Importing a function (__inference_block7a_activation_layer_call_and_return_conditional_losses_217144) with ops with custom gradients. Will likely fail if a gradient is requested.\n",
            "WARNING:absl:Importing a function (__inference_block2a_se_reduce_layer_call_and_return_conditional_losses_246020) with ops with custom gradients. Will likely fail if a gradient is requested.\n",
            "WARNING:absl:Importing a function (__inference_block4b_se_reduce_layer_call_and_return_conditional_losses_247774) with ops with custom gradients. Will likely fail if a gradient is requested.\n",
            "WARNING:absl:Importing a function (__inference_top_activation_layer_call_and_return_conditional_losses_217373) with ops with custom gradients. Will likely fail if a gradient is requested.\n",
            "WARNING:absl:Importing a function (__inference_block6b_expand_activation_layer_call_and_return_conditional_losses_216074) with ops with custom gradients. Will likely fail if a gradient is requested.\n",
            "WARNING:absl:Importing a function (__inference_block4c_se_reduce_layer_call_and_return_conditional_losses_214594) with ops with custom gradients. Will likely fail if a gradient is requested.\n",
            "WARNING:absl:Importing a function (__inference_block2b_se_reduce_layer_call_and_return_conditional_losses_213008) with ops with custom gradients. Will likely fail if a gradient is requested.\n",
            "WARNING:absl:Importing a function (__inference_block2a_expand_activation_layer_call_and_return_conditional_losses_245899) with ops with custom gradients. Will likely fail if a gradient is requested.\n",
            "WARNING:absl:Importing a function (__inference_stem_activation_layer_call_and_return_conditional_losses_245567) with ops with custom gradients. Will likely fail if a gradient is requested.\n",
            "WARNING:absl:Importing a function (__inference_block3b_expand_activation_layer_call_and_return_conditional_losses_246942) with ops with custom gradients. Will likely fail if a gradient is requested.\n",
            "WARNING:absl:Importing a function (__inference_block6a_activation_layer_call_and_return_conditional_losses_249580) with ops with custom gradients. Will likely fail if a gradient is requested.\n",
            "WARNING:absl:Importing a function (__inference_block3a_activation_layer_call_and_return_conditional_losses_246689) with ops with custom gradients. Will likely fail if a gradient is requested.\n",
            "WARNING:absl:Importing a function (__inference_block2a_activation_layer_call_and_return_conditional_losses_212674) with ops with custom gradients. Will likely fail if a gradient is requested.\n",
            "WARNING:absl:Importing a function (__inference_block6c_expand_activation_layer_call_and_return_conditional_losses_250212) with ops with custom gradients. Will likely fail if a gradient is requested.\n",
            "WARNING:absl:Importing a function (__inference_block4a_expand_activation_layer_call_and_return_conditional_losses_213865) with ops with custom gradients. Will likely fail if a gradient is requested.\n",
            "WARNING:absl:Importing a function (__inference_block5b_activation_layer_call_and_return_conditional_losses_248822) with ops with custom gradients. Will likely fail if a gradient is requested.\n",
            "WARNING:absl:Importing a function (__inference_block6d_activation_layer_call_and_return_conditional_losses_250670) with ops with custom gradients. Will likely fail if a gradient is requested.\n",
            "WARNING:absl:Importing a function (__inference_block2b_expand_activation_layer_call_and_return_conditional_losses_212903) with ops with custom gradients. Will likely fail if a gradient is requested.\n",
            "WARNING:absl:Importing a function (__inference_efficientnetb0_layer_call_and_return_conditional_losses_242451) with ops with custom gradients. Will likely fail if a gradient is requested.\n",
            "WARNING:absl:Importing a function (__inference_efficientnetb0_layer_call_and_return_conditional_losses_242451) with ops with custom gradients. Will likely fail if a gradient is requested.\n",
            "WARNING:absl:Importing a function (__inference_efficientnetb0_layer_call_and_return_conditional_losses_242451) with ops with custom gradients. Will likely fail if a gradient is requested.\n",
            "WARNING:absl:Importing a function (__inference_efficientnetb0_layer_call_and_return_conditional_losses_242451) with ops with custom gradients. Will likely fail if a gradient is requested.\n",
            "WARNING:absl:Importing a function (__inference_efficientnetb0_layer_call_and_return_conditional_losses_242451) with ops with custom gradients. Will likely fail if a gradient is requested.\n",
            "WARNING:absl:Importing a function (__inference_efficientnetb0_layer_call_and_return_conditional_losses_242451) with ops with custom gradients. Will likely fail if a gradient is requested.\n",
            "WARNING:absl:Importing a function (__inference_efficientnetb0_layer_call_and_return_conditional_losses_242451) with ops with custom gradients. Will likely fail if a gradient is requested.\n",
            "WARNING:absl:Importing a function (__inference_efficientnetb0_layer_call_and_return_conditional_losses_242451) with ops with custom gradients. Will likely fail if a gradient is requested.\n",
            "WARNING:absl:Importing a function (__inference_efficientnetb0_layer_call_and_return_conditional_losses_242451) with ops with custom gradients. Will likely fail if a gradient is requested.\n",
            "WARNING:absl:Importing a function (__inference_efficientnetb0_layer_call_and_return_conditional_losses_242451) with ops with custom gradients. Will likely fail if a gradient is requested.\n",
            "WARNING:absl:Importing a function (__inference_efficientnetb0_layer_call_and_return_conditional_losses_242451) with ops with custom gradients. Will likely fail if a gradient is requested.\n",
            "WARNING:absl:Importing a function (__inference_efficientnetb0_layer_call_and_return_conditional_losses_242451) with ops with custom gradients. Will likely fail if a gradient is requested.\n",
            "WARNING:absl:Importing a function (__inference_efficientnetb0_layer_call_and_return_conditional_losses_242451) with ops with custom gradients. Will likely fail if a gradient is requested.\n",
            "WARNING:absl:Importing a function (__inference_efficientnetb0_layer_call_and_return_conditional_losses_242451) with ops with custom gradients. Will likely fail if a gradient is requested.\n",
            "WARNING:absl:Importing a function (__inference_efficientnetb0_layer_call_and_return_conditional_losses_242451) with ops with custom gradients. Will likely fail if a gradient is requested.\n",
            "WARNING:absl:Importing a function (__inference_efficientnetb0_layer_call_and_return_conditional_losses_242451) with ops with custom gradients. Will likely fail if a gradient is requested.\n",
            "WARNING:absl:Importing a function (__inference_efficientnetb0_layer_call_and_return_conditional_losses_242451) with ops with custom gradients. Will likely fail if a gradient is requested.\n",
            "WARNING:absl:Importing a function (__inference_efficientnetb0_layer_call_and_return_conditional_losses_242451) with ops with custom gradients. Will likely fail if a gradient is requested.\n",
            "WARNING:absl:Importing a function (__inference_efficientnetb0_layer_call_and_return_conditional_losses_242451) with ops with custom gradients. Will likely fail if a gradient is requested.\n",
            "WARNING:absl:Importing a function (__inference_efficientnetb0_layer_call_and_return_conditional_losses_242451) with ops with custom gradients. Will likely fail if a gradient is requested.\n",
            "WARNING:absl:Importing a function (__inference_efficientnetb0_layer_call_and_return_conditional_losses_242451) with ops with custom gradients. Will likely fail if a gradient is requested.\n",
            "WARNING:absl:Importing a function (__inference_efficientnetb0_layer_call_and_return_conditional_losses_242451) with ops with custom gradients. Will likely fail if a gradient is requested.\n",
            "WARNING:absl:Importing a function (__inference_efficientnetb0_layer_call_and_return_conditional_losses_242451) with ops with custom gradients. Will likely fail if a gradient is requested.\n",
            "WARNING:absl:Importing a function (__inference_efficientnetb0_layer_call_and_return_conditional_losses_242451) with ops with custom gradients. Will likely fail if a gradient is requested.\n",
            "WARNING:absl:Importing a function (__inference_efficientnetb0_layer_call_and_return_conditional_losses_242451) with ops with custom gradients. Will likely fail if a gradient is requested.\n",
            "WARNING:absl:Importing a function (__inference_efficientnetb0_layer_call_and_return_conditional_losses_242451) with ops with custom gradients. Will likely fail if a gradient is requested.\n",
            "WARNING:absl:Importing a function (__inference_efficientnetb0_layer_call_and_return_conditional_losses_242451) with ops with custom gradients. Will likely fail if a gradient is requested.\n",
            "WARNING:absl:Importing a function (__inference_efficientnetb0_layer_call_and_return_conditional_losses_242451) with ops with custom gradients. Will likely fail if a gradient is requested.\n",
            "WARNING:absl:Importing a function (__inference_efficientnetb0_layer_call_and_return_conditional_losses_242451) with ops with custom gradients. Will likely fail if a gradient is requested.\n",
            "WARNING:absl:Importing a function (__inference_efficientnetb0_layer_call_and_return_conditional_losses_242451) with ops with custom gradients. Will likely fail if a gradient is requested.\n",
            "WARNING:absl:Importing a function (__inference_efficientnetb0_layer_call_and_return_conditional_losses_242451) with ops with custom gradients. Will likely fail if a gradient is requested.\n",
            "WARNING:absl:Importing a function (__inference_efficientnetb0_layer_call_and_return_conditional_losses_242451) with ops with custom gradients. Will likely fail if a gradient is requested.\n",
            "WARNING:absl:Importing a function (__inference_efficientnetb0_layer_call_and_return_conditional_losses_242451) with ops with custom gradients. Will likely fail if a gradient is requested.\n",
            "WARNING:absl:Importing a function (__inference_efficientnetb0_layer_call_and_return_conditional_losses_242451) with ops with custom gradients. Will likely fail if a gradient is requested.\n",
            "WARNING:absl:Importing a function (__inference_efficientnetb0_layer_call_and_return_conditional_losses_242451) with ops with custom gradients. Will likely fail if a gradient is requested.\n",
            "WARNING:absl:Importing a function (__inference_efficientnetb0_layer_call_and_return_conditional_losses_242451) with ops with custom gradients. Will likely fail if a gradient is requested.\n",
            "WARNING:absl:Importing a function (__inference_efficientnetb0_layer_call_and_return_conditional_losses_242451) with ops with custom gradients. Will likely fail if a gradient is requested.\n",
            "WARNING:absl:Importing a function (__inference_efficientnetb0_layer_call_and_return_conditional_losses_242451) with ops with custom gradients. Will likely fail if a gradient is requested.\n",
            "WARNING:absl:Importing a function (__inference_efficientnetb0_layer_call_and_return_conditional_losses_242451) with ops with custom gradients. Will likely fail if a gradient is requested.\n",
            "WARNING:absl:Importing a function (__inference_efficientnetb0_layer_call_and_return_conditional_losses_242451) with ops with custom gradients. Will likely fail if a gradient is requested.\n",
            "WARNING:absl:Importing a function (__inference_efficientnetb0_layer_call_and_return_conditional_losses_242451) with ops with custom gradients. Will likely fail if a gradient is requested.\n",
            "WARNING:absl:Importing a function (__inference_efficientnetb0_layer_call_and_return_conditional_losses_242451) with ops with custom gradients. Will likely fail if a gradient is requested.\n",
            "WARNING:absl:Importing a function (__inference_efficientnetb0_layer_call_and_return_conditional_losses_242451) with ops with custom gradients. Will likely fail if a gradient is requested.\n",
            "WARNING:absl:Importing a function (__inference_efficientnetb0_layer_call_and_return_conditional_losses_242451) with ops with custom gradients. Will likely fail if a gradient is requested.\n",
            "WARNING:absl:Importing a function (__inference_efficientnetb0_layer_call_and_return_conditional_losses_242451) with ops with custom gradients. Will likely fail if a gradient is requested.\n",
            "WARNING:absl:Importing a function (__inference_efficientnetb0_layer_call_and_return_conditional_losses_242451) with ops with custom gradients. Will likely fail if a gradient is requested.\n",
            "WARNING:absl:Importing a function (__inference_efficientnetb0_layer_call_and_return_conditional_losses_242451) with ops with custom gradients. Will likely fail if a gradient is requested.\n",
            "WARNING:absl:Importing a function (__inference_efficientnetb0_layer_call_and_return_conditional_losses_242451) with ops with custom gradients. Will likely fail if a gradient is requested.\n",
            "WARNING:absl:Importing a function (__inference_efficientnetb0_layer_call_and_return_conditional_losses_242451) with ops with custom gradients. Will likely fail if a gradient is requested.\n",
            "WARNING:absl:Importing a function (__inference_block6d_expand_activation_layer_call_and_return_conditional_losses_250591) with ops with custom gradients. Will likely fail if a gradient is requested.\n",
            "WARNING:absl:Importing a function (__inference_efficientnetb0_layer_call_and_return_conditional_losses_239222) with ops with custom gradients. Will likely fail if a gradient is requested.\n",
            "WARNING:absl:Importing a function (__inference_efficientnetb0_layer_call_and_return_conditional_losses_239222) with ops with custom gradients. Will likely fail if a gradient is requested.\n",
            "WARNING:absl:Importing a function (__inference_efficientnetb0_layer_call_and_return_conditional_losses_239222) with ops with custom gradients. Will likely fail if a gradient is requested.\n",
            "WARNING:absl:Importing a function (__inference_efficientnetb0_layer_call_and_return_conditional_losses_239222) with ops with custom gradients. Will likely fail if a gradient is requested.\n",
            "WARNING:absl:Importing a function (__inference_efficientnetb0_layer_call_and_return_conditional_losses_239222) with ops with custom gradients. Will likely fail if a gradient is requested.\n",
            "WARNING:absl:Importing a function (__inference_efficientnetb0_layer_call_and_return_conditional_losses_239222) with ops with custom gradients. Will likely fail if a gradient is requested.\n",
            "WARNING:absl:Importing a function (__inference_efficientnetb0_layer_call_and_return_conditional_losses_239222) with ops with custom gradients. Will likely fail if a gradient is requested.\n",
            "WARNING:absl:Importing a function (__inference_efficientnetb0_layer_call_and_return_conditional_losses_239222) with ops with custom gradients. Will likely fail if a gradient is requested.\n",
            "WARNING:absl:Importing a function (__inference_efficientnetb0_layer_call_and_return_conditional_losses_239222) with ops with custom gradients. Will likely fail if a gradient is requested.\n",
            "WARNING:absl:Importing a function (__inference_efficientnetb0_layer_call_and_return_conditional_losses_239222) with ops with custom gradients. Will likely fail if a gradient is requested.\n",
            "WARNING:absl:Importing a function (__inference_efficientnetb0_layer_call_and_return_conditional_losses_239222) with ops with custom gradients. Will likely fail if a gradient is requested.\n",
            "WARNING:absl:Importing a function (__inference_efficientnetb0_layer_call_and_return_conditional_losses_239222) with ops with custom gradients. Will likely fail if a gradient is requested.\n",
            "WARNING:absl:Importing a function (__inference_efficientnetb0_layer_call_and_return_conditional_losses_239222) with ops with custom gradients. Will likely fail if a gradient is requested.\n",
            "WARNING:absl:Importing a function (__inference_efficientnetb0_layer_call_and_return_conditional_losses_239222) with ops with custom gradients. Will likely fail if a gradient is requested.\n",
            "WARNING:absl:Importing a function (__inference_efficientnetb0_layer_call_and_return_conditional_losses_239222) with ops with custom gradients. Will likely fail if a gradient is requested.\n",
            "WARNING:absl:Importing a function (__inference_efficientnetb0_layer_call_and_return_conditional_losses_239222) with ops with custom gradients. Will likely fail if a gradient is requested.\n",
            "WARNING:absl:Importing a function (__inference_efficientnetb0_layer_call_and_return_conditional_losses_239222) with ops with custom gradients. Will likely fail if a gradient is requested.\n",
            "WARNING:absl:Importing a function (__inference_efficientnetb0_layer_call_and_return_conditional_losses_239222) with ops with custom gradients. Will likely fail if a gradient is requested.\n",
            "WARNING:absl:Importing a function (__inference_efficientnetb0_layer_call_and_return_conditional_losses_239222) with ops with custom gradients. Will likely fail if a gradient is requested.\n",
            "WARNING:absl:Importing a function (__inference_efficientnetb0_layer_call_and_return_conditional_losses_239222) with ops with custom gradients. Will likely fail if a gradient is requested.\n",
            "WARNING:absl:Importing a function (__inference_efficientnetb0_layer_call_and_return_conditional_losses_239222) with ops with custom gradients. Will likely fail if a gradient is requested.\n",
            "WARNING:absl:Importing a function (__inference_efficientnetb0_layer_call_and_return_conditional_losses_239222) with ops with custom gradients. Will likely fail if a gradient is requested.\n",
            "WARNING:absl:Importing a function (__inference_efficientnetb0_layer_call_and_return_conditional_losses_239222) with ops with custom gradients. Will likely fail if a gradient is requested.\n",
            "WARNING:absl:Importing a function (__inference_efficientnetb0_layer_call_and_return_conditional_losses_239222) with ops with custom gradients. Will likely fail if a gradient is requested.\n",
            "WARNING:absl:Importing a function (__inference_efficientnetb0_layer_call_and_return_conditional_losses_239222) with ops with custom gradients. Will likely fail if a gradient is requested.\n",
            "WARNING:absl:Importing a function (__inference_efficientnetb0_layer_call_and_return_conditional_losses_239222) with ops with custom gradients. Will likely fail if a gradient is requested.\n",
            "WARNING:absl:Importing a function (__inference_efficientnetb0_layer_call_and_return_conditional_losses_239222) with ops with custom gradients. Will likely fail if a gradient is requested.\n",
            "WARNING:absl:Importing a function (__inference_efficientnetb0_layer_call_and_return_conditional_losses_239222) with ops with custom gradients. Will likely fail if a gradient is requested.\n",
            "WARNING:absl:Importing a function (__inference_efficientnetb0_layer_call_and_return_conditional_losses_239222) with ops with custom gradients. Will likely fail if a gradient is requested.\n",
            "WARNING:absl:Importing a function (__inference_efficientnetb0_layer_call_and_return_conditional_losses_239222) with ops with custom gradients. Will likely fail if a gradient is requested.\n",
            "WARNING:absl:Importing a function (__inference_efficientnetb0_layer_call_and_return_conditional_losses_239222) with ops with custom gradients. Will likely fail if a gradient is requested.\n",
            "WARNING:absl:Importing a function (__inference_efficientnetb0_layer_call_and_return_conditional_losses_239222) with ops with custom gradients. Will likely fail if a gradient is requested.\n",
            "WARNING:absl:Importing a function (__inference_efficientnetb0_layer_call_and_return_conditional_losses_239222) with ops with custom gradients. Will likely fail if a gradient is requested.\n",
            "WARNING:absl:Importing a function (__inference_efficientnetb0_layer_call_and_return_conditional_losses_239222) with ops with custom gradients. Will likely fail if a gradient is requested.\n",
            "WARNING:absl:Importing a function (__inference_efficientnetb0_layer_call_and_return_conditional_losses_239222) with ops with custom gradients. Will likely fail if a gradient is requested.\n",
            "WARNING:absl:Importing a function (__inference_efficientnetb0_layer_call_and_return_conditional_losses_239222) with ops with custom gradients. Will likely fail if a gradient is requested.\n",
            "WARNING:absl:Importing a function (__inference_efficientnetb0_layer_call_and_return_conditional_losses_239222) with ops with custom gradients. Will likely fail if a gradient is requested.\n",
            "WARNING:absl:Importing a function (__inference_efficientnetb0_layer_call_and_return_conditional_losses_239222) with ops with custom gradients. Will likely fail if a gradient is requested.\n",
            "WARNING:absl:Importing a function (__inference_efficientnetb0_layer_call_and_return_conditional_losses_239222) with ops with custom gradients. Will likely fail if a gradient is requested.\n",
            "WARNING:absl:Importing a function (__inference_efficientnetb0_layer_call_and_return_conditional_losses_239222) with ops with custom gradients. Will likely fail if a gradient is requested.\n",
            "WARNING:absl:Importing a function (__inference_efficientnetb0_layer_call_and_return_conditional_losses_239222) with ops with custom gradients. Will likely fail if a gradient is requested.\n",
            "WARNING:absl:Importing a function (__inference_efficientnetb0_layer_call_and_return_conditional_losses_239222) with ops with custom gradients. Will likely fail if a gradient is requested.\n",
            "WARNING:absl:Importing a function (__inference_efficientnetb0_layer_call_and_return_conditional_losses_239222) with ops with custom gradients. Will likely fail if a gradient is requested.\n",
            "WARNING:absl:Importing a function (__inference_efficientnetb0_layer_call_and_return_conditional_losses_239222) with ops with custom gradients. Will likely fail if a gradient is requested.\n",
            "WARNING:absl:Importing a function (__inference_efficientnetb0_layer_call_and_return_conditional_losses_239222) with ops with custom gradients. Will likely fail if a gradient is requested.\n",
            "WARNING:absl:Importing a function (__inference_efficientnetb0_layer_call_and_return_conditional_losses_239222) with ops with custom gradients. Will likely fail if a gradient is requested.\n",
            "WARNING:absl:Importing a function (__inference_efficientnetb0_layer_call_and_return_conditional_losses_239222) with ops with custom gradients. Will likely fail if a gradient is requested.\n",
            "WARNING:absl:Importing a function (__inference_efficientnetb0_layer_call_and_return_conditional_losses_239222) with ops with custom gradients. Will likely fail if a gradient is requested.\n",
            "WARNING:absl:Importing a function (__inference_efficientnetb0_layer_call_and_return_conditional_losses_239222) with ops with custom gradients. Will likely fail if a gradient is requested.\n",
            "WARNING:absl:Importing a function (__inference_block7a_se_reduce_layer_call_and_return_conditional_losses_217193) with ops with custom gradients. Will likely fail if a gradient is requested.\n",
            "WARNING:absl:Importing a function (__inference_block2a_se_reduce_layer_call_and_return_conditional_losses_212723) with ops with custom gradients. Will likely fail if a gradient is requested.\n",
            "WARNING:absl:Importing a function (__inference_block5a_activation_layer_call_and_return_conditional_losses_248490) with ops with custom gradients. Will likely fail if a gradient is requested.\n",
            "WARNING:absl:Importing a function (__inference_block6a_se_reduce_layer_call_and_return_conditional_losses_249622) with ops with custom gradients. Will likely fail if a gradient is requested.\n",
            "WARNING:absl:Importing a function (__inference_block4b_activation_layer_call_and_return_conditional_losses_247732) with ops with custom gradients. Will likely fail if a gradient is requested.\n"
          ],
          "name": "stderr"
        }
      ]
    },
    {
      "cell_type": "code",
      "metadata": {
        "colab": {
          "base_uri": "https://localhost:8080/"
        },
        "id": "RECduqlMZyZ6",
        "outputId": "eb50fe73-ca79-461d-8ae4-ed861111b305"
      },
      "source": [
        "# Get a model summary (same model architecture as above)\n",
        "loaded_fine_tuned_model.summary()"
      ],
      "execution_count": null,
      "outputs": [
        {
          "output_type": "stream",
          "text": [
            "Model: \"model_1\"\n",
            "_________________________________________________________________\n",
            "Layer (type)                 Output Shape              Param #   \n",
            "=================================================================\n",
            "input_layer (InputLayer)     [(None, 224, 224, 3)]     0         \n",
            "_________________________________________________________________\n",
            "efficientnetb0 (Functional)  (None, None, None, 1280)  4049571   \n",
            "_________________________________________________________________\n",
            "global_average_pool_layer (G (None, 1280)              0         \n",
            "_________________________________________________________________\n",
            "dense_1 (Dense)              (None, 101)               129381    \n",
            "_________________________________________________________________\n",
            "softmax_float32 (Activation) (None, 101)               0         \n",
            "=================================================================\n",
            "Total params: 4,178,952\n",
            "Trainable params: 4,136,929\n",
            "Non-trainable params: 42,023\n",
            "_________________________________________________________________\n"
          ],
          "name": "stdout"
        }
      ]
    },
    {
      "cell_type": "code",
      "metadata": {
        "colab": {
          "base_uri": "https://localhost:8080/"
        },
        "id": "C_GNYmZ6Z5tG",
        "outputId": "80d8d7f1-0b3e-46f9-9cbd-0003bb3e7132"
      },
      "source": [
        "# Evaluate our model on the test data\n",
        "results_downloaded_fine_tuned_model = loaded_fine_tuned_model.evaluate(testing_data)\n",
        "results_downloaded_fine_tuned_model"
      ],
      "execution_count": null,
      "outputs": [
        {
          "output_type": "stream",
          "text": [
            "790/790 [==============================] - 45s 55ms/step - loss: 1.0503 - accuracy: 0.8002\n"
          ],
          "name": "stdout"
        },
        {
          "output_type": "execute_result",
          "data": {
            "text/plain": [
              "[1.0502618551254272, 0.8002375960350037]"
            ]
          },
          "metadata": {
            "tags": []
          },
          "execution_count": 38
        }
      ]
    },
    {
      "cell_type": "markdown",
      "metadata": {
        "id": "jNzaHj1yyzQ9"
      },
      "source": [
        "## View training results on TensorBoard"
      ]
    },
    {
      "cell_type": "code",
      "metadata": {
        "id": "QeZ-_ERgf3XL",
        "colab": {
          "base_uri": "https://localhost:8080/"
        },
        "outputId": "774f2f16-7d8e-4516-e85e-620a7fca6039"
      },
      "source": [
        "!tensorboard dev upload --logdir ./training_logs \\\n",
        "  --name \"Fine-tuning EfficientNetB0 on all Food101 Data\" \\\n",
        "  --description \"Training results for fine-tuning EfficientNetB0 on Food101 Data with learning rate 0.0001\" \\\n",
        "  --one_shot"
      ],
      "execution_count": null,
      "outputs": [
        {
          "output_type": "stream",
          "text": [
            "2021-06-23 07:35:41.342696: I tensorflow/stream_executor/platform/default/dso_loader.cc:49] Successfully opened dynamic library libcudart.so.11.0\n",
            "\n",
            "***** TensorBoard Uploader *****\n",
            "\n",
            "This will upload your TensorBoard logs to https://tensorboard.dev/ from\n",
            "the following directory:\n",
            "\n",
            "./training_logs\n",
            "\n",
            "This TensorBoard will be visible to everyone. Do not upload sensitive\n",
            "data.\n",
            "\n",
            "Your use of this service is subject to Google's Terms of Service\n",
            "<https://policies.google.com/terms> and Privacy Policy\n",
            "<https://policies.google.com/privacy>, and TensorBoard.dev's Terms of Service\n",
            "<https://tensorboard.dev/policy/terms/>.\n",
            "\n",
            "This notice will not be shown again while you are logged into the uploader.\n",
            "To log out, run `tensorboard dev auth revoke`.\n",
            "\n",
            "Continue? (yes/NO) yes\n",
            "\n",
            "Please visit this URL to authorize this application: https://accounts.google.com/o/oauth2/auth?response_type=code&client_id=373649185512-8v619h5kft38l4456nm2dj4ubeqsrvh6.apps.googleusercontent.com&redirect_uri=urn%3Aietf%3Awg%3Aoauth%3A2.0%3Aoob&scope=openid+https%3A%2F%2Fwww.googleapis.com%2Fauth%2Fuserinfo.email&state=v9CjNYg1W4GvxV7MnkAAwCsnMNDURw&prompt=consent&access_type=offline\n",
            "Enter the authorization code: 4/1AX4XfWg82GAoXcgbiIBMYlWvfAB_l_edVS5eCwzfaNbaZHqQIS36WzIbv-k\n",
            "\n",
            "Data for the \"text\" plugin is now uploaded to TensorBoard.dev! Note that uploaded data is public. If you do not want to upload data for this plugin, use the \"--plugins\" command line argument.\n",
            "\n",
            "New experiment created. View your TensorBoard at: https://tensorboard.dev/experiment/Vc7hZNykSE6pmLbdkOaILA/\n",
            "\n",
            "\u001b[1m[2021-06-23T07:36:30]\u001b[0m Started scanning logdir.\n",
            "\u001b[1m[2021-06-23T07:36:31]\u001b[0m Total uploaded: 20 scalars, 0 tensors, 1 binary objects (1.2 MB)\n",
            "\u001b[1m[2021-06-23T07:36:31]\u001b[0m Done scanning logdir.\n",
            "\n",
            "\n",
            "Done. View your TensorBoard at https://tensorboard.dev/experiment/Vc7hZNykSE6pmLbdkOaILA/\n"
          ],
          "name": "stdout"
        }
      ]
    },
    {
      "cell_type": "markdown",
      "metadata": {
        "id": "ZAf2jU6PzS4T"
      },
      "source": [
        "View experiment: https://tensorboard.dev/experiment/Vc7hZNykSE6pmLbdkOaILA/\n",
        "\n",
        "it looks like our fine-tuning model gains boost in performance but starts to overfit as training goes on. \n",
        "\n",
        "To fix this, in future experiments, we might try things like:\n",
        "\n",
        "*   A different iteration of EfficientNet (e.g. EfficientNetB4 instead of EfficientNetB0).\n",
        "*   Unfreezing less layers of the base model and training them rather than unfreezing the whole base model in one go.\n",
        "\n",
        "\n",
        "\n"
      ]
    },
    {
      "cell_type": "code",
      "metadata": {
        "colab": {
          "base_uri": "https://localhost:8080/"
        },
        "id": "NBJa2FV4y7sm",
        "outputId": "0d06226b-938b-42c5-ff71-dfab3ea4c25f"
      },
      "source": [
        "# View past TensorBoard experiments\n",
        "!tensorboard dev list"
      ],
      "execution_count": null,
      "outputs": [
        {
          "output_type": "stream",
          "text": [
            "2021-06-23 07:42:35.679863: I tensorflow/stream_executor/platform/default/dso_loader.cc:49] Successfully opened dynamic library libcudart.so.11.0\n",
            "Data for the \"text\" plugin is now uploaded to TensorBoard.dev! Note that uploaded data is public. If you do not want to upload data for this plugin, use the \"--plugins\" command line argument.\n",
            "https://tensorboard.dev/experiment/Vc7hZNykSE6pmLbdkOaILA/\n",
            "\tName                 Fine-tuning EfficientNetB0 on all Food101 Data\n",
            "\tDescription          Training results for fine-tuning EfficientNetB0 on Food101 Data with learning rate 0.0001\n",
            "\tId                   Vc7hZNykSE6pmLbdkOaILA\n",
            "\tCreated              2021-06-23 07:36:30 (6 minutes ago)\n",
            "\tUpdated              2021-06-23 07:36:31 (6 minutes ago)\n",
            "\tRuns                 2\n",
            "\tTags                 3\n",
            "\tScalars              20\n",
            "\tTensor bytes         0\n",
            "\tBinary object bytes  1286889\n",
            "https://tensorboard.dev/experiment/6IoNMuRZQzS7mk8m5y7fJw/\n",
            "\tName                 Transfer learning experiments\n",
            "\tDescription          A series of different transfer learning experiments with varying amounts of data and fine-tuning\n",
            "\tId                   6IoNMuRZQzS7mk8m5y7fJw\n",
            "\tCreated              2021-06-09 08:54:51\n",
            "\tUpdated              2021-06-09 08:54:57\n",
            "\tRuns                 12\n",
            "\tTags                 5\n",
            "\tScalars              192\n",
            "\tTensor bytes         0\n",
            "\tBinary object bytes  5024060\n",
            "Total: 2 experiment(s)\n"
          ],
          "name": "stdout"
        }
      ]
    },
    {
      "cell_type": "code",
      "metadata": {
        "colab": {
          "base_uri": "https://localhost:8080/"
        },
        "id": "ffFBXhxozO9V",
        "outputId": "8aec31af-ccf6-4cda-b579-7f95bb079a16"
      },
      "source": [
        "# Delete past TensorBoard experiments\n",
        "!tensorboard dev delete --experiment_id 6IoNMuRZQzS7mk8m5y7fJw"
      ],
      "execution_count": null,
      "outputs": [
        {
          "output_type": "stream",
          "text": [
            "2021-06-23 07:44:46.191681: I tensorflow/stream_executor/platform/default/dso_loader.cc:49] Successfully opened dynamic library libcudart.so.11.0\n",
            "Data for the \"text\" plugin is now uploaded to TensorBoard.dev! Note that uploaded data is public. If you do not want to upload data for this plugin, use the \"--plugins\" command line argument.\n",
            "Deleted experiment 6IoNMuRZQzS7mk8m5y7fJw.\n"
          ],
          "name": "stdout"
        }
      ]
    },
    {
      "cell_type": "markdown",
      "metadata": {
        "id": "PtceZZH-1d8y"
      },
      "source": [
        "## Unfreezing less layers of the base model"
      ]
    },
    {
      "cell_type": "code",
      "metadata": {
        "colab": {
          "base_uri": "https://localhost:8080/"
        },
        "id": "CR6eIMRwqo9d",
        "outputId": "dd0e3d6e-b21c-4921-9fdc-661735ed52f5"
      },
      "source": [
        "feature_extraction_model = tf.keras.models.load_model(\"drive/MyDrive/food_vision/07_efficientnetb0_feature_extract_model_mixed_precision/\")"
      ],
      "execution_count": null,
      "outputs": [
        {
          "output_type": "stream",
          "text": [
            "WARNING:absl:Importing a function (__inference_block7a_expand_activation_layer_call_and_return_conditional_losses_135661) with ops with custom gradients. Will likely fail if a gradient is requested.\n",
            "WARNING:absl:Importing a function (__inference_block4a_se_reduce_layer_call_and_return_conditional_losses_99048) with ops with custom gradients. Will likely fail if a gradient is requested.\n",
            "WARNING:absl:Importing a function (__inference_block5b_activation_layer_call_and_return_conditional_losses_133547) with ops with custom gradients. Will likely fail if a gradient is requested.\n",
            "WARNING:absl:Importing a function (__inference_efficientnetb0_layer_call_and_return_conditional_losses_128976) with ops with custom gradients. Will likely fail if a gradient is requested.\n",
            "WARNING:absl:Importing a function (__inference_efficientnetb0_layer_call_and_return_conditional_losses_128976) with ops with custom gradients. Will likely fail if a gradient is requested.\n",
            "WARNING:absl:Importing a function (__inference_efficientnetb0_layer_call_and_return_conditional_losses_128976) with ops with custom gradients. Will likely fail if a gradient is requested.\n",
            "WARNING:absl:Importing a function (__inference_efficientnetb0_layer_call_and_return_conditional_losses_128976) with ops with custom gradients. Will likely fail if a gradient is requested.\n",
            "WARNING:absl:Importing a function (__inference_efficientnetb0_layer_call_and_return_conditional_losses_128976) with ops with custom gradients. Will likely fail if a gradient is requested.\n",
            "WARNING:absl:Importing a function (__inference_efficientnetb0_layer_call_and_return_conditional_losses_128976) with ops with custom gradients. Will likely fail if a gradient is requested.\n",
            "WARNING:absl:Importing a function (__inference_efficientnetb0_layer_call_and_return_conditional_losses_128976) with ops with custom gradients. Will likely fail if a gradient is requested.\n",
            "WARNING:absl:Importing a function (__inference_efficientnetb0_layer_call_and_return_conditional_losses_128976) with ops with custom gradients. Will likely fail if a gradient is requested.\n",
            "WARNING:absl:Importing a function (__inference_efficientnetb0_layer_call_and_return_conditional_losses_128976) with ops with custom gradients. Will likely fail if a gradient is requested.\n",
            "WARNING:absl:Importing a function (__inference_efficientnetb0_layer_call_and_return_conditional_losses_128976) with ops with custom gradients. Will likely fail if a gradient is requested.\n",
            "WARNING:absl:Importing a function (__inference_efficientnetb0_layer_call_and_return_conditional_losses_128976) with ops with custom gradients. Will likely fail if a gradient is requested.\n",
            "WARNING:absl:Importing a function (__inference_efficientnetb0_layer_call_and_return_conditional_losses_128976) with ops with custom gradients. Will likely fail if a gradient is requested.\n",
            "WARNING:absl:Importing a function (__inference_efficientnetb0_layer_call_and_return_conditional_losses_128976) with ops with custom gradients. Will likely fail if a gradient is requested.\n",
            "WARNING:absl:Importing a function (__inference_efficientnetb0_layer_call_and_return_conditional_losses_128976) with ops with custom gradients. Will likely fail if a gradient is requested.\n",
            "WARNING:absl:Importing a function (__inference_efficientnetb0_layer_call_and_return_conditional_losses_128976) with ops with custom gradients. Will likely fail if a gradient is requested.\n",
            "WARNING:absl:Importing a function (__inference_efficientnetb0_layer_call_and_return_conditional_losses_128976) with ops with custom gradients. Will likely fail if a gradient is requested.\n",
            "WARNING:absl:Importing a function (__inference_efficientnetb0_layer_call_and_return_conditional_losses_128976) with ops with custom gradients. Will likely fail if a gradient is requested.\n",
            "WARNING:absl:Importing a function (__inference_efficientnetb0_layer_call_and_return_conditional_losses_128976) with ops with custom gradients. Will likely fail if a gradient is requested.\n",
            "WARNING:absl:Importing a function (__inference_efficientnetb0_layer_call_and_return_conditional_losses_128976) with ops with custom gradients. Will likely fail if a gradient is requested.\n",
            "WARNING:absl:Importing a function (__inference_efficientnetb0_layer_call_and_return_conditional_losses_128976) with ops with custom gradients. Will likely fail if a gradient is requested.\n",
            "WARNING:absl:Importing a function (__inference_efficientnetb0_layer_call_and_return_conditional_losses_128976) with ops with custom gradients. Will likely fail if a gradient is requested.\n",
            "WARNING:absl:Importing a function (__inference_efficientnetb0_layer_call_and_return_conditional_losses_128976) with ops with custom gradients. Will likely fail if a gradient is requested.\n",
            "WARNING:absl:Importing a function (__inference_efficientnetb0_layer_call_and_return_conditional_losses_128976) with ops with custom gradients. Will likely fail if a gradient is requested.\n",
            "WARNING:absl:Importing a function (__inference_efficientnetb0_layer_call_and_return_conditional_losses_128976) with ops with custom gradients. Will likely fail if a gradient is requested.\n",
            "WARNING:absl:Importing a function (__inference_efficientnetb0_layer_call_and_return_conditional_losses_128976) with ops with custom gradients. Will likely fail if a gradient is requested.\n",
            "WARNING:absl:Importing a function (__inference_efficientnetb0_layer_call_and_return_conditional_losses_128976) with ops with custom gradients. Will likely fail if a gradient is requested.\n",
            "WARNING:absl:Importing a function (__inference_efficientnetb0_layer_call_and_return_conditional_losses_128976) with ops with custom gradients. Will likely fail if a gradient is requested.\n",
            "WARNING:absl:Importing a function (__inference_efficientnetb0_layer_call_and_return_conditional_losses_128976) with ops with custom gradients. Will likely fail if a gradient is requested.\n",
            "WARNING:absl:Importing a function (__inference_efficientnetb0_layer_call_and_return_conditional_losses_128976) with ops with custom gradients. Will likely fail if a gradient is requested.\n",
            "WARNING:absl:Importing a function (__inference_efficientnetb0_layer_call_and_return_conditional_losses_128976) with ops with custom gradients. Will likely fail if a gradient is requested.\n",
            "WARNING:absl:Importing a function (__inference_efficientnetb0_layer_call_and_return_conditional_losses_128976) with ops with custom gradients. Will likely fail if a gradient is requested.\n",
            "WARNING:absl:Importing a function (__inference_efficientnetb0_layer_call_and_return_conditional_losses_128976) with ops with custom gradients. Will likely fail if a gradient is requested.\n",
            "WARNING:absl:Importing a function (__inference_efficientnetb0_layer_call_and_return_conditional_losses_128976) with ops with custom gradients. Will likely fail if a gradient is requested.\n",
            "WARNING:absl:Importing a function (__inference_efficientnetb0_layer_call_and_return_conditional_losses_128976) with ops with custom gradients. Will likely fail if a gradient is requested.\n",
            "WARNING:absl:Importing a function (__inference_efficientnetb0_layer_call_and_return_conditional_losses_128976) with ops with custom gradients. Will likely fail if a gradient is requested.\n",
            "WARNING:absl:Importing a function (__inference_efficientnetb0_layer_call_and_return_conditional_losses_128976) with ops with custom gradients. Will likely fail if a gradient is requested.\n",
            "WARNING:absl:Importing a function (__inference_efficientnetb0_layer_call_and_return_conditional_losses_128976) with ops with custom gradients. Will likely fail if a gradient is requested.\n",
            "WARNING:absl:Importing a function (__inference_efficientnetb0_layer_call_and_return_conditional_losses_128976) with ops with custom gradients. Will likely fail if a gradient is requested.\n",
            "WARNING:absl:Importing a function (__inference_efficientnetb0_layer_call_and_return_conditional_losses_128976) with ops with custom gradients. Will likely fail if a gradient is requested.\n",
            "WARNING:absl:Importing a function (__inference_efficientnetb0_layer_call_and_return_conditional_losses_128976) with ops with custom gradients. Will likely fail if a gradient is requested.\n",
            "WARNING:absl:Importing a function (__inference_efficientnetb0_layer_call_and_return_conditional_losses_128976) with ops with custom gradients. Will likely fail if a gradient is requested.\n",
            "WARNING:absl:Importing a function (__inference_efficientnetb0_layer_call_and_return_conditional_losses_128976) with ops with custom gradients. Will likely fail if a gradient is requested.\n",
            "WARNING:absl:Importing a function (__inference_efficientnetb0_layer_call_and_return_conditional_losses_128976) with ops with custom gradients. Will likely fail if a gradient is requested.\n",
            "WARNING:absl:Importing a function (__inference_efficientnetb0_layer_call_and_return_conditional_losses_128976) with ops with custom gradients. Will likely fail if a gradient is requested.\n",
            "WARNING:absl:Importing a function (__inference_efficientnetb0_layer_call_and_return_conditional_losses_128976) with ops with custom gradients. Will likely fail if a gradient is requested.\n",
            "WARNING:absl:Importing a function (__inference_efficientnetb0_layer_call_and_return_conditional_losses_128976) with ops with custom gradients. Will likely fail if a gradient is requested.\n",
            "WARNING:absl:Importing a function (__inference_efficientnetb0_layer_call_and_return_conditional_losses_128976) with ops with custom gradients. Will likely fail if a gradient is requested.\n",
            "WARNING:absl:Importing a function (__inference_efficientnetb0_layer_call_and_return_conditional_losses_128976) with ops with custom gradients. Will likely fail if a gradient is requested.\n",
            "WARNING:absl:Importing a function (__inference_efficientnetb0_layer_call_and_return_conditional_losses_128976) with ops with custom gradients. Will likely fail if a gradient is requested.\n",
            "WARNING:absl:Importing a function (__inference_block6a_activation_layer_call_and_return_conditional_losses_134293) with ops with custom gradients. Will likely fail if a gradient is requested.\n",
            "WARNING:absl:Importing a function (__inference_block5b_expand_activation_layer_call_and_return_conditional_losses_133470) with ops with custom gradients. Will likely fail if a gradient is requested.\n",
            "WARNING:absl:Importing a function (__inference_block4c_expand_activation_layer_call_and_return_conditional_losses_99566) with ops with custom gradients. Will likely fail if a gradient is requested.\n",
            "WARNING:absl:Importing a function (__inference_block6b_expand_activation_layer_call_and_return_conditional_losses_134542) with ops with custom gradients. Will likely fail if a gradient is requested.\n",
            "WARNING:absl:Importing a function (__inference_block5b_se_reduce_layer_call_and_return_conditional_losses_133589) with ops with custom gradients. Will likely fail if a gradient is requested.\n",
            "WARNING:absl:Importing a function (__inference_block5a_activation_layer_call_and_return_conditional_losses_133221) with ops with custom gradients. Will likely fail if a gradient is requested.\n",
            "WARNING:absl:Importing a function (__inference_efficientnetb0_layer_call_and_return_conditional_losses_109983) with ops with custom gradients. Will likely fail if a gradient is requested.\n",
            "WARNING:absl:Importing a function (__inference_efficientnetb0_layer_call_and_return_conditional_losses_109983) with ops with custom gradients. Will likely fail if a gradient is requested.\n",
            "WARNING:absl:Importing a function (__inference_efficientnetb0_layer_call_and_return_conditional_losses_109983) with ops with custom gradients. Will likely fail if a gradient is requested.\n",
            "WARNING:absl:Importing a function (__inference_efficientnetb0_layer_call_and_return_conditional_losses_109983) with ops with custom gradients. Will likely fail if a gradient is requested.\n",
            "WARNING:absl:Importing a function (__inference_efficientnetb0_layer_call_and_return_conditional_losses_109983) with ops with custom gradients. Will likely fail if a gradient is requested.\n",
            "WARNING:absl:Importing a function (__inference_efficientnetb0_layer_call_and_return_conditional_losses_109983) with ops with custom gradients. Will likely fail if a gradient is requested.\n",
            "WARNING:absl:Importing a function (__inference_efficientnetb0_layer_call_and_return_conditional_losses_109983) with ops with custom gradients. Will likely fail if a gradient is requested.\n",
            "WARNING:absl:Importing a function (__inference_efficientnetb0_layer_call_and_return_conditional_losses_109983) with ops with custom gradients. Will likely fail if a gradient is requested.\n",
            "WARNING:absl:Importing a function (__inference_efficientnetb0_layer_call_and_return_conditional_losses_109983) with ops with custom gradients. Will likely fail if a gradient is requested.\n",
            "WARNING:absl:Importing a function (__inference_efficientnetb0_layer_call_and_return_conditional_losses_109983) with ops with custom gradients. Will likely fail if a gradient is requested.\n",
            "WARNING:absl:Importing a function (__inference_efficientnetb0_layer_call_and_return_conditional_losses_109983) with ops with custom gradients. Will likely fail if a gradient is requested.\n",
            "WARNING:absl:Importing a function (__inference_efficientnetb0_layer_call_and_return_conditional_losses_109983) with ops with custom gradients. Will likely fail if a gradient is requested.\n",
            "WARNING:absl:Importing a function (__inference_efficientnetb0_layer_call_and_return_conditional_losses_109983) with ops with custom gradients. Will likely fail if a gradient is requested.\n",
            "WARNING:absl:Importing a function (__inference_efficientnetb0_layer_call_and_return_conditional_losses_109983) with ops with custom gradients. Will likely fail if a gradient is requested.\n",
            "WARNING:absl:Importing a function (__inference_efficientnetb0_layer_call_and_return_conditional_losses_109983) with ops with custom gradients. Will likely fail if a gradient is requested.\n",
            "WARNING:absl:Importing a function (__inference_efficientnetb0_layer_call_and_return_conditional_losses_109983) with ops with custom gradients. Will likely fail if a gradient is requested.\n",
            "WARNING:absl:Importing a function (__inference_efficientnetb0_layer_call_and_return_conditional_losses_109983) with ops with custom gradients. Will likely fail if a gradient is requested.\n",
            "WARNING:absl:Importing a function (__inference_efficientnetb0_layer_call_and_return_conditional_losses_109983) with ops with custom gradients. Will likely fail if a gradient is requested.\n",
            "WARNING:absl:Importing a function (__inference_efficientnetb0_layer_call_and_return_conditional_losses_109983) with ops with custom gradients. Will likely fail if a gradient is requested.\n",
            "WARNING:absl:Importing a function (__inference_efficientnetb0_layer_call_and_return_conditional_losses_109983) with ops with custom gradients. Will likely fail if a gradient is requested.\n",
            "WARNING:absl:Importing a function (__inference_efficientnetb0_layer_call_and_return_conditional_losses_109983) with ops with custom gradients. Will likely fail if a gradient is requested.\n",
            "WARNING:absl:Importing a function (__inference_efficientnetb0_layer_call_and_return_conditional_losses_109983) with ops with custom gradients. Will likely fail if a gradient is requested.\n",
            "WARNING:absl:Importing a function (__inference_efficientnetb0_layer_call_and_return_conditional_losses_109983) with ops with custom gradients. Will likely fail if a gradient is requested.\n",
            "WARNING:absl:Importing a function (__inference_efficientnetb0_layer_call_and_return_conditional_losses_109983) with ops with custom gradients. Will likely fail if a gradient is requested.\n",
            "WARNING:absl:Importing a function (__inference_efficientnetb0_layer_call_and_return_conditional_losses_109983) with ops with custom gradients. Will likely fail if a gradient is requested.\n",
            "WARNING:absl:Importing a function (__inference_efficientnetb0_layer_call_and_return_conditional_losses_109983) with ops with custom gradients. Will likely fail if a gradient is requested.\n",
            "WARNING:absl:Importing a function (__inference_efficientnetb0_layer_call_and_return_conditional_losses_109983) with ops with custom gradients. Will likely fail if a gradient is requested.\n",
            "WARNING:absl:Importing a function (__inference_efficientnetb0_layer_call_and_return_conditional_losses_109983) with ops with custom gradients. Will likely fail if a gradient is requested.\n",
            "WARNING:absl:Importing a function (__inference_efficientnetb0_layer_call_and_return_conditional_losses_109983) with ops with custom gradients. Will likely fail if a gradient is requested.\n",
            "WARNING:absl:Importing a function (__inference_efficientnetb0_layer_call_and_return_conditional_losses_109983) with ops with custom gradients. Will likely fail if a gradient is requested.\n",
            "WARNING:absl:Importing a function (__inference_efficientnetb0_layer_call_and_return_conditional_losses_109983) with ops with custom gradients. Will likely fail if a gradient is requested.\n",
            "WARNING:absl:Importing a function (__inference_efficientnetb0_layer_call_and_return_conditional_losses_109983) with ops with custom gradients. Will likely fail if a gradient is requested.\n",
            "WARNING:absl:Importing a function (__inference_efficientnetb0_layer_call_and_return_conditional_losses_109983) with ops with custom gradients. Will likely fail if a gradient is requested.\n",
            "WARNING:absl:Importing a function (__inference_efficientnetb0_layer_call_and_return_conditional_losses_109983) with ops with custom gradients. Will likely fail if a gradient is requested.\n",
            "WARNING:absl:Importing a function (__inference_efficientnetb0_layer_call_and_return_conditional_losses_109983) with ops with custom gradients. Will likely fail if a gradient is requested.\n",
            "WARNING:absl:Importing a function (__inference_efficientnetb0_layer_call_and_return_conditional_losses_109983) with ops with custom gradients. Will likely fail if a gradient is requested.\n",
            "WARNING:absl:Importing a function (__inference_efficientnetb0_layer_call_and_return_conditional_losses_109983) with ops with custom gradients. Will likely fail if a gradient is requested.\n",
            "WARNING:absl:Importing a function (__inference_efficientnetb0_layer_call_and_return_conditional_losses_109983) with ops with custom gradients. Will likely fail if a gradient is requested.\n",
            "WARNING:absl:Importing a function (__inference_efficientnetb0_layer_call_and_return_conditional_losses_109983) with ops with custom gradients. Will likely fail if a gradient is requested.\n",
            "WARNING:absl:Importing a function (__inference_efficientnetb0_layer_call_and_return_conditional_losses_109983) with ops with custom gradients. Will likely fail if a gradient is requested.\n",
            "WARNING:absl:Importing a function (__inference_efficientnetb0_layer_call_and_return_conditional_losses_109983) with ops with custom gradients. Will likely fail if a gradient is requested.\n",
            "WARNING:absl:Importing a function (__inference_efficientnetb0_layer_call_and_return_conditional_losses_109983) with ops with custom gradients. Will likely fail if a gradient is requested.\n",
            "WARNING:absl:Importing a function (__inference_efficientnetb0_layer_call_and_return_conditional_losses_109983) with ops with custom gradients. Will likely fail if a gradient is requested.\n",
            "WARNING:absl:Importing a function (__inference_efficientnetb0_layer_call_and_return_conditional_losses_109983) with ops with custom gradients. Will likely fail if a gradient is requested.\n",
            "WARNING:absl:Importing a function (__inference_efficientnetb0_layer_call_and_return_conditional_losses_109983) with ops with custom gradients. Will likely fail if a gradient is requested.\n",
            "WARNING:absl:Importing a function (__inference_efficientnetb0_layer_call_and_return_conditional_losses_109983) with ops with custom gradients. Will likely fail if a gradient is requested.\n",
            "WARNING:absl:Importing a function (__inference_efficientnetb0_layer_call_and_return_conditional_losses_109983) with ops with custom gradients. Will likely fail if a gradient is requested.\n",
            "WARNING:absl:Importing a function (__inference_efficientnetb0_layer_call_and_return_conditional_losses_109983) with ops with custom gradients. Will likely fail if a gradient is requested.\n",
            "WARNING:absl:Importing a function (__inference_efficientnetb0_layer_call_and_return_conditional_losses_109983) with ops with custom gradients. Will likely fail if a gradient is requested.\n",
            "WARNING:absl:Importing a function (__inference_block6d_expand_activation_layer_call_and_return_conditional_losses_101827) with ops with custom gradients. Will likely fail if a gradient is requested.\n",
            "WARNING:absl:Importing a function (__inference_block4a_activation_layer_call_and_return_conditional_losses_98999) with ops with custom gradients. Will likely fail if a gradient is requested.\n",
            "WARNING:absl:Importing a function (__inference_block2a_se_reduce_layer_call_and_return_conditional_losses_97800) with ops with custom gradients. Will likely fail if a gradient is requested.\n",
            "WARNING:absl:Importing a function (__inference_block6a_expand_activation_layer_call_and_return_conditional_losses_100865) with ops with custom gradients. Will likely fail if a gradient is requested.\n",
            "WARNING:absl:Importing a function (__inference_efficientnetb0_layer_call_and_return_conditional_losses_124103) with ops with custom gradients. Will likely fail if a gradient is requested.\n",
            "WARNING:absl:Importing a function (__inference_efficientnetb0_layer_call_and_return_conditional_losses_124103) with ops with custom gradients. Will likely fail if a gradient is requested.\n",
            "WARNING:absl:Importing a function (__inference_efficientnetb0_layer_call_and_return_conditional_losses_124103) with ops with custom gradients. Will likely fail if a gradient is requested.\n",
            "WARNING:absl:Importing a function (__inference_efficientnetb0_layer_call_and_return_conditional_losses_124103) with ops with custom gradients. Will likely fail if a gradient is requested.\n",
            "WARNING:absl:Importing a function (__inference_efficientnetb0_layer_call_and_return_conditional_losses_124103) with ops with custom gradients. Will likely fail if a gradient is requested.\n",
            "WARNING:absl:Importing a function (__inference_efficientnetb0_layer_call_and_return_conditional_losses_124103) with ops with custom gradients. Will likely fail if a gradient is requested.\n",
            "WARNING:absl:Importing a function (__inference_efficientnetb0_layer_call_and_return_conditional_losses_124103) with ops with custom gradients. Will likely fail if a gradient is requested.\n",
            "WARNING:absl:Importing a function (__inference_efficientnetb0_layer_call_and_return_conditional_losses_124103) with ops with custom gradients. Will likely fail if a gradient is requested.\n",
            "WARNING:absl:Importing a function (__inference_efficientnetb0_layer_call_and_return_conditional_losses_124103) with ops with custom gradients. Will likely fail if a gradient is requested.\n",
            "WARNING:absl:Importing a function (__inference_efficientnetb0_layer_call_and_return_conditional_losses_124103) with ops with custom gradients. Will likely fail if a gradient is requested.\n",
            "WARNING:absl:Importing a function (__inference_efficientnetb0_layer_call_and_return_conditional_losses_124103) with ops with custom gradients. Will likely fail if a gradient is requested.\n",
            "WARNING:absl:Importing a function (__inference_efficientnetb0_layer_call_and_return_conditional_losses_124103) with ops with custom gradients. Will likely fail if a gradient is requested.\n",
            "WARNING:absl:Importing a function (__inference_efficientnetb0_layer_call_and_return_conditional_losses_124103) with ops with custom gradients. Will likely fail if a gradient is requested.\n",
            "WARNING:absl:Importing a function (__inference_efficientnetb0_layer_call_and_return_conditional_losses_124103) with ops with custom gradients. Will likely fail if a gradient is requested.\n",
            "WARNING:absl:Importing a function (__inference_efficientnetb0_layer_call_and_return_conditional_losses_124103) with ops with custom gradients. Will likely fail if a gradient is requested.\n",
            "WARNING:absl:Importing a function (__inference_efficientnetb0_layer_call_and_return_conditional_losses_124103) with ops with custom gradients. Will likely fail if a gradient is requested.\n",
            "WARNING:absl:Importing a function (__inference_efficientnetb0_layer_call_and_return_conditional_losses_124103) with ops with custom gradients. Will likely fail if a gradient is requested.\n",
            "WARNING:absl:Importing a function (__inference_efficientnetb0_layer_call_and_return_conditional_losses_124103) with ops with custom gradients. Will likely fail if a gradient is requested.\n",
            "WARNING:absl:Importing a function (__inference_efficientnetb0_layer_call_and_return_conditional_losses_124103) with ops with custom gradients. Will likely fail if a gradient is requested.\n",
            "WARNING:absl:Importing a function (__inference_efficientnetb0_layer_call_and_return_conditional_losses_124103) with ops with custom gradients. Will likely fail if a gradient is requested.\n",
            "WARNING:absl:Importing a function (__inference_efficientnetb0_layer_call_and_return_conditional_losses_124103) with ops with custom gradients. Will likely fail if a gradient is requested.\n",
            "WARNING:absl:Importing a function (__inference_efficientnetb0_layer_call_and_return_conditional_losses_124103) with ops with custom gradients. Will likely fail if a gradient is requested.\n",
            "WARNING:absl:Importing a function (__inference_efficientnetb0_layer_call_and_return_conditional_losses_124103) with ops with custom gradients. Will likely fail if a gradient is requested.\n",
            "WARNING:absl:Importing a function (__inference_efficientnetb0_layer_call_and_return_conditional_losses_124103) with ops with custom gradients. Will likely fail if a gradient is requested.\n",
            "WARNING:absl:Importing a function (__inference_efficientnetb0_layer_call_and_return_conditional_losses_124103) with ops with custom gradients. Will likely fail if a gradient is requested.\n",
            "WARNING:absl:Importing a function (__inference_efficientnetb0_layer_call_and_return_conditional_losses_124103) with ops with custom gradients. Will likely fail if a gradient is requested.\n",
            "WARNING:absl:Importing a function (__inference_efficientnetb0_layer_call_and_return_conditional_losses_124103) with ops with custom gradients. Will likely fail if a gradient is requested.\n",
            "WARNING:absl:Importing a function (__inference_efficientnetb0_layer_call_and_return_conditional_losses_124103) with ops with custom gradients. Will likely fail if a gradient is requested.\n",
            "WARNING:absl:Importing a function (__inference_efficientnetb0_layer_call_and_return_conditional_losses_124103) with ops with custom gradients. Will likely fail if a gradient is requested.\n",
            "WARNING:absl:Importing a function (__inference_efficientnetb0_layer_call_and_return_conditional_losses_124103) with ops with custom gradients. Will likely fail if a gradient is requested.\n",
            "WARNING:absl:Importing a function (__inference_efficientnetb0_layer_call_and_return_conditional_losses_124103) with ops with custom gradients. Will likely fail if a gradient is requested.\n",
            "WARNING:absl:Importing a function (__inference_efficientnetb0_layer_call_and_return_conditional_losses_124103) with ops with custom gradients. Will likely fail if a gradient is requested.\n",
            "WARNING:absl:Importing a function (__inference_efficientnetb0_layer_call_and_return_conditional_losses_124103) with ops with custom gradients. Will likely fail if a gradient is requested.\n",
            "WARNING:absl:Importing a function (__inference_efficientnetb0_layer_call_and_return_conditional_losses_124103) with ops with custom gradients. Will likely fail if a gradient is requested.\n",
            "WARNING:absl:Importing a function (__inference_efficientnetb0_layer_call_and_return_conditional_losses_124103) with ops with custom gradients. Will likely fail if a gradient is requested.\n",
            "WARNING:absl:Importing a function (__inference_efficientnetb0_layer_call_and_return_conditional_losses_124103) with ops with custom gradients. Will likely fail if a gradient is requested.\n",
            "WARNING:absl:Importing a function (__inference_efficientnetb0_layer_call_and_return_conditional_losses_124103) with ops with custom gradients. Will likely fail if a gradient is requested.\n",
            "WARNING:absl:Importing a function (__inference_efficientnetb0_layer_call_and_return_conditional_losses_124103) with ops with custom gradients. Will likely fail if a gradient is requested.\n",
            "WARNING:absl:Importing a function (__inference_efficientnetb0_layer_call_and_return_conditional_losses_124103) with ops with custom gradients. Will likely fail if a gradient is requested.\n",
            "WARNING:absl:Importing a function (__inference_efficientnetb0_layer_call_and_return_conditional_losses_124103) with ops with custom gradients. Will likely fail if a gradient is requested.\n",
            "WARNING:absl:Importing a function (__inference_efficientnetb0_layer_call_and_return_conditional_losses_124103) with ops with custom gradients. Will likely fail if a gradient is requested.\n",
            "WARNING:absl:Importing a function (__inference_efficientnetb0_layer_call_and_return_conditional_losses_124103) with ops with custom gradients. Will likely fail if a gradient is requested.\n",
            "WARNING:absl:Importing a function (__inference_efficientnetb0_layer_call_and_return_conditional_losses_124103) with ops with custom gradients. Will likely fail if a gradient is requested.\n",
            "WARNING:absl:Importing a function (__inference_efficientnetb0_layer_call_and_return_conditional_losses_124103) with ops with custom gradients. Will likely fail if a gradient is requested.\n",
            "WARNING:absl:Importing a function (__inference_efficientnetb0_layer_call_and_return_conditional_losses_124103) with ops with custom gradients. Will likely fail if a gradient is requested.\n",
            "WARNING:absl:Importing a function (__inference_efficientnetb0_layer_call_and_return_conditional_losses_124103) with ops with custom gradients. Will likely fail if a gradient is requested.\n",
            "WARNING:absl:Importing a function (__inference_efficientnetb0_layer_call_and_return_conditional_losses_124103) with ops with custom gradients. Will likely fail if a gradient is requested.\n",
            "WARNING:absl:Importing a function (__inference_efficientnetb0_layer_call_and_return_conditional_losses_124103) with ops with custom gradients. Will likely fail if a gradient is requested.\n",
            "WARNING:absl:Importing a function (__inference_efficientnetb0_layer_call_and_return_conditional_losses_124103) with ops with custom gradients. Will likely fail if a gradient is requested.\n",
            "WARNING:absl:Importing a function (__inference_block7a_activation_layer_call_and_return_conditional_losses_102221) with ops with custom gradients. Will likely fail if a gradient is requested.\n",
            "WARNING:absl:Importing a function (__inference_block5b_expand_activation_layer_call_and_return_conditional_losses_100189) with ops with custom gradients. Will likely fail if a gradient is requested.\n",
            "WARNING:absl:Importing a function (__inference_block1a_activation_layer_call_and_return_conditional_losses_97465) with ops with custom gradients. Will likely fail if a gradient is requested.\n",
            "WARNING:absl:Importing a function (__inference_block6a_activation_layer_call_and_return_conditional_losses_100922) with ops with custom gradients. Will likely fail if a gradient is requested.\n",
            "WARNING:absl:Importing a function (__inference_block5a_expand_activation_layer_call_and_return_conditional_losses_133144) with ops with custom gradients. Will likely fail if a gradient is requested.\n",
            "WARNING:absl:Importing a function (__inference_block3a_expand_activation_layer_call_and_return_conditional_losses_131373) with ops with custom gradients. Will likely fail if a gradient is requested.\n",
            "WARNING:absl:Importing a function (__inference_block6a_se_reduce_layer_call_and_return_conditional_losses_100971) with ops with custom gradients. Will likely fail if a gradient is requested.\n",
            "WARNING:absl:Importing a function (__inference_block6c_se_reduce_layer_call_and_return_conditional_losses_101594) with ops with custom gradients. Will likely fail if a gradient is requested.\n",
            "WARNING:absl:Importing a function (__inference_block7a_se_reduce_layer_call_and_return_conditional_losses_102270) with ops with custom gradients. Will likely fail if a gradient is requested.\n",
            "WARNING:absl:Importing a function (__inference_block5c_se_reduce_layer_call_and_return_conditional_losses_100632) with ops with custom gradients. Will likely fail if a gradient is requested.\n",
            "WARNING:absl:Importing a function (__inference_block4b_se_reduce_layer_call_and_return_conditional_losses_99333) with ops with custom gradients. Will likely fail if a gradient is requested.\n",
            "WARNING:absl:Importing a function (__inference_block7a_activation_layer_call_and_return_conditional_losses_135738) with ops with custom gradients. Will likely fail if a gradient is requested.\n",
            "WARNING:absl:Importing a function (__inference_block2b_se_reduce_layer_call_and_return_conditional_losses_98085) with ops with custom gradients. Will likely fail if a gradient is requested.\n",
            "WARNING:absl:Importing a function (__inference_block5c_activation_layer_call_and_return_conditional_losses_100583) with ops with custom gradients. Will likely fail if a gradient is requested.\n",
            "WARNING:absl:Importing a function (__inference_block3a_activation_layer_call_and_return_conditional_losses_131450) with ops with custom gradients. Will likely fail if a gradient is requested.\n",
            "WARNING:absl:Importing a function (__inference_block6c_expand_activation_layer_call_and_return_conditional_losses_101489) with ops with custom gradients. Will likely fail if a gradient is requested.\n",
            "WARNING:absl:Importing a function (__inference_block5a_se_reduce_layer_call_and_return_conditional_losses_133263) with ops with custom gradients. Will likely fail if a gradient is requested.\n",
            "WARNING:absl:Importing a function (__inference_block4a_se_reduce_layer_call_and_return_conditional_losses_132191) with ops with custom gradients. Will likely fail if a gradient is requested.\n",
            "WARNING:absl:Importing a function (__inference_block3a_expand_activation_layer_call_and_return_conditional_losses_98318) with ops with custom gradients. Will likely fail if a gradient is requested.\n",
            "WARNING:absl:Importing a function (__inference_block1a_se_reduce_layer_call_and_return_conditional_losses_97514) with ops with custom gradients. Will likely fail if a gradient is requested.\n",
            "WARNING:absl:Importing a function (__inference_block3b_activation_layer_call_and_return_conditional_losses_131776) with ops with custom gradients. Will likely fail if a gradient is requested.\n",
            "WARNING:absl:Importing a function (__inference_block5c_expand_activation_layer_call_and_return_conditional_losses_133843) with ops with custom gradients. Will likely fail if a gradient is requested.\n",
            "WARNING:absl:Importing a function (__inference_efficientnetb0_layer_call_and_return_conditional_losses_108241) with ops with custom gradients. Will likely fail if a gradient is requested.\n",
            "WARNING:absl:Importing a function (__inference_efficientnetb0_layer_call_and_return_conditional_losses_108241) with ops with custom gradients. Will likely fail if a gradient is requested.\n",
            "WARNING:absl:Importing a function (__inference_efficientnetb0_layer_call_and_return_conditional_losses_108241) with ops with custom gradients. Will likely fail if a gradient is requested.\n",
            "WARNING:absl:Importing a function (__inference_efficientnetb0_layer_call_and_return_conditional_losses_108241) with ops with custom gradients. Will likely fail if a gradient is requested.\n",
            "WARNING:absl:Importing a function (__inference_efficientnetb0_layer_call_and_return_conditional_losses_108241) with ops with custom gradients. Will likely fail if a gradient is requested.\n",
            "WARNING:absl:Importing a function (__inference_efficientnetb0_layer_call_and_return_conditional_losses_108241) with ops with custom gradients. Will likely fail if a gradient is requested.\n",
            "WARNING:absl:Importing a function (__inference_efficientnetb0_layer_call_and_return_conditional_losses_108241) with ops with custom gradients. Will likely fail if a gradient is requested.\n",
            "WARNING:absl:Importing a function (__inference_efficientnetb0_layer_call_and_return_conditional_losses_108241) with ops with custom gradients. Will likely fail if a gradient is requested.\n",
            "WARNING:absl:Importing a function (__inference_efficientnetb0_layer_call_and_return_conditional_losses_108241) with ops with custom gradients. Will likely fail if a gradient is requested.\n",
            "WARNING:absl:Importing a function (__inference_efficientnetb0_layer_call_and_return_conditional_losses_108241) with ops with custom gradients. Will likely fail if a gradient is requested.\n",
            "WARNING:absl:Importing a function (__inference_efficientnetb0_layer_call_and_return_conditional_losses_108241) with ops with custom gradients. Will likely fail if a gradient is requested.\n",
            "WARNING:absl:Importing a function (__inference_efficientnetb0_layer_call_and_return_conditional_losses_108241) with ops with custom gradients. Will likely fail if a gradient is requested.\n",
            "WARNING:absl:Importing a function (__inference_efficientnetb0_layer_call_and_return_conditional_losses_108241) with ops with custom gradients. Will likely fail if a gradient is requested.\n",
            "WARNING:absl:Importing a function (__inference_efficientnetb0_layer_call_and_return_conditional_losses_108241) with ops with custom gradients. Will likely fail if a gradient is requested.\n",
            "WARNING:absl:Importing a function (__inference_efficientnetb0_layer_call_and_return_conditional_losses_108241) with ops with custom gradients. Will likely fail if a gradient is requested.\n",
            "WARNING:absl:Importing a function (__inference_efficientnetb0_layer_call_and_return_conditional_losses_108241) with ops with custom gradients. Will likely fail if a gradient is requested.\n",
            "WARNING:absl:Importing a function (__inference_efficientnetb0_layer_call_and_return_conditional_losses_108241) with ops with custom gradients. Will likely fail if a gradient is requested.\n",
            "WARNING:absl:Importing a function (__inference_efficientnetb0_layer_call_and_return_conditional_losses_108241) with ops with custom gradients. Will likely fail if a gradient is requested.\n",
            "WARNING:absl:Importing a function (__inference_efficientnetb0_layer_call_and_return_conditional_losses_108241) with ops with custom gradients. Will likely fail if a gradient is requested.\n",
            "WARNING:absl:Importing a function (__inference_efficientnetb0_layer_call_and_return_conditional_losses_108241) with ops with custom gradients. Will likely fail if a gradient is requested.\n",
            "WARNING:absl:Importing a function (__inference_efficientnetb0_layer_call_and_return_conditional_losses_108241) with ops with custom gradients. Will likely fail if a gradient is requested.\n",
            "WARNING:absl:Importing a function (__inference_efficientnetb0_layer_call_and_return_conditional_losses_108241) with ops with custom gradients. Will likely fail if a gradient is requested.\n",
            "WARNING:absl:Importing a function (__inference_efficientnetb0_layer_call_and_return_conditional_losses_108241) with ops with custom gradients. Will likely fail if a gradient is requested.\n",
            "WARNING:absl:Importing a function (__inference_efficientnetb0_layer_call_and_return_conditional_losses_108241) with ops with custom gradients. Will likely fail if a gradient is requested.\n",
            "WARNING:absl:Importing a function (__inference_efficientnetb0_layer_call_and_return_conditional_losses_108241) with ops with custom gradients. Will likely fail if a gradient is requested.\n",
            "WARNING:absl:Importing a function (__inference_efficientnetb0_layer_call_and_return_conditional_losses_108241) with ops with custom gradients. Will likely fail if a gradient is requested.\n",
            "WARNING:absl:Importing a function (__inference_efficientnetb0_layer_call_and_return_conditional_losses_108241) with ops with custom gradients. Will likely fail if a gradient is requested.\n",
            "WARNING:absl:Importing a function (__inference_efficientnetb0_layer_call_and_return_conditional_losses_108241) with ops with custom gradients. Will likely fail if a gradient is requested.\n",
            "WARNING:absl:Importing a function (__inference_efficientnetb0_layer_call_and_return_conditional_losses_108241) with ops with custom gradients. Will likely fail if a gradient is requested.\n",
            "WARNING:absl:Importing a function (__inference_efficientnetb0_layer_call_and_return_conditional_losses_108241) with ops with custom gradients. Will likely fail if a gradient is requested.\n",
            "WARNING:absl:Importing a function (__inference_efficientnetb0_layer_call_and_return_conditional_losses_108241) with ops with custom gradients. Will likely fail if a gradient is requested.\n",
            "WARNING:absl:Importing a function (__inference_efficientnetb0_layer_call_and_return_conditional_losses_108241) with ops with custom gradients. Will likely fail if a gradient is requested.\n",
            "WARNING:absl:Importing a function (__inference_efficientnetb0_layer_call_and_return_conditional_losses_108241) with ops with custom gradients. Will likely fail if a gradient is requested.\n",
            "WARNING:absl:Importing a function (__inference_efficientnetb0_layer_call_and_return_conditional_losses_108241) with ops with custom gradients. Will likely fail if a gradient is requested.\n",
            "WARNING:absl:Importing a function (__inference_efficientnetb0_layer_call_and_return_conditional_losses_108241) with ops with custom gradients. Will likely fail if a gradient is requested.\n",
            "WARNING:absl:Importing a function (__inference_efficientnetb0_layer_call_and_return_conditional_losses_108241) with ops with custom gradients. Will likely fail if a gradient is requested.\n",
            "WARNING:absl:Importing a function (__inference_efficientnetb0_layer_call_and_return_conditional_losses_108241) with ops with custom gradients. Will likely fail if a gradient is requested.\n",
            "WARNING:absl:Importing a function (__inference_efficientnetb0_layer_call_and_return_conditional_losses_108241) with ops with custom gradients. Will likely fail if a gradient is requested.\n",
            "WARNING:absl:Importing a function (__inference_efficientnetb0_layer_call_and_return_conditional_losses_108241) with ops with custom gradients. Will likely fail if a gradient is requested.\n",
            "WARNING:absl:Importing a function (__inference_efficientnetb0_layer_call_and_return_conditional_losses_108241) with ops with custom gradients. Will likely fail if a gradient is requested.\n",
            "WARNING:absl:Importing a function (__inference_efficientnetb0_layer_call_and_return_conditional_losses_108241) with ops with custom gradients. Will likely fail if a gradient is requested.\n",
            "WARNING:absl:Importing a function (__inference_efficientnetb0_layer_call_and_return_conditional_losses_108241) with ops with custom gradients. Will likely fail if a gradient is requested.\n",
            "WARNING:absl:Importing a function (__inference_efficientnetb0_layer_call_and_return_conditional_losses_108241) with ops with custom gradients. Will likely fail if a gradient is requested.\n",
            "WARNING:absl:Importing a function (__inference_efficientnetb0_layer_call_and_return_conditional_losses_108241) with ops with custom gradients. Will likely fail if a gradient is requested.\n",
            "WARNING:absl:Importing a function (__inference_efficientnetb0_layer_call_and_return_conditional_losses_108241) with ops with custom gradients. Will likely fail if a gradient is requested.\n",
            "WARNING:absl:Importing a function (__inference_efficientnetb0_layer_call_and_return_conditional_losses_108241) with ops with custom gradients. Will likely fail if a gradient is requested.\n",
            "WARNING:absl:Importing a function (__inference_efficientnetb0_layer_call_and_return_conditional_losses_108241) with ops with custom gradients. Will likely fail if a gradient is requested.\n",
            "WARNING:absl:Importing a function (__inference_efficientnetb0_layer_call_and_return_conditional_losses_108241) with ops with custom gradients. Will likely fail if a gradient is requested.\n",
            "WARNING:absl:Importing a function (__inference_efficientnetb0_layer_call_and_return_conditional_losses_108241) with ops with custom gradients. Will likely fail if a gradient is requested.\n",
            "WARNING:absl:Importing a function (__inference_block5b_activation_layer_call_and_return_conditional_losses_100245) with ops with custom gradients. Will likely fail if a gradient is requested.\n",
            "WARNING:absl:Importing a function (__inference_block2b_expand_activation_layer_call_and_return_conditional_losses_97980) with ops with custom gradients. Will likely fail if a gradient is requested.\n",
            "WARNING:absl:Importing a function (__inference_stem_activation_layer_call_and_return_conditional_losses_130348) with ops with custom gradients. Will likely fail if a gradient is requested.\n",
            "WARNING:absl:Importing a function (__inference_block4c_se_reduce_layer_call_and_return_conditional_losses_99671) with ops with custom gradients. Will likely fail if a gradient is requested.\n",
            "WARNING:absl:Importing a function (__inference_block6b_se_reduce_layer_call_and_return_conditional_losses_101256) with ops with custom gradients. Will likely fail if a gradient is requested.\n",
            "WARNING:absl:Importing a function (__inference_block3b_expand_activation_layer_call_and_return_conditional_losses_131699) with ops with custom gradients. Will likely fail if a gradient is requested.\n",
            "WARNING:absl:Importing a function (__inference_block3b_se_reduce_layer_call_and_return_conditional_losses_131818) with ops with custom gradients. Will likely fail if a gradient is requested.\n",
            "WARNING:absl:Importing a function (__inference_block6c_expand_activation_layer_call_and_return_conditional_losses_134915) with ops with custom gradients. Will likely fail if a gradient is requested.\n",
            "WARNING:absl:Importing a function (__inference_block6b_expand_activation_layer_call_and_return_conditional_losses_101151) with ops with custom gradients. Will likely fail if a gradient is requested.\n",
            "WARNING:absl:Importing a function (__inference__wrapped_model_91840) with ops with custom gradients. Will likely fail if a gradient is requested.\n",
            "WARNING:absl:Importing a function (__inference__wrapped_model_91840) with ops with custom gradients. Will likely fail if a gradient is requested.\n",
            "WARNING:absl:Importing a function (__inference__wrapped_model_91840) with ops with custom gradients. Will likely fail if a gradient is requested.\n",
            "WARNING:absl:Importing a function (__inference__wrapped_model_91840) with ops with custom gradients. Will likely fail if a gradient is requested.\n",
            "WARNING:absl:Importing a function (__inference__wrapped_model_91840) with ops with custom gradients. Will likely fail if a gradient is requested.\n",
            "WARNING:absl:Importing a function (__inference__wrapped_model_91840) with ops with custom gradients. Will likely fail if a gradient is requested.\n",
            "WARNING:absl:Importing a function (__inference__wrapped_model_91840) with ops with custom gradients. Will likely fail if a gradient is requested.\n",
            "WARNING:absl:Importing a function (__inference__wrapped_model_91840) with ops with custom gradients. Will likely fail if a gradient is requested.\n",
            "WARNING:absl:Importing a function (__inference__wrapped_model_91840) with ops with custom gradients. Will likely fail if a gradient is requested.\n",
            "WARNING:absl:Importing a function (__inference__wrapped_model_91840) with ops with custom gradients. Will likely fail if a gradient is requested.\n",
            "WARNING:absl:Importing a function (__inference__wrapped_model_91840) with ops with custom gradients. Will likely fail if a gradient is requested.\n",
            "WARNING:absl:Importing a function (__inference__wrapped_model_91840) with ops with custom gradients. Will likely fail if a gradient is requested.\n",
            "WARNING:absl:Importing a function (__inference__wrapped_model_91840) with ops with custom gradients. Will likely fail if a gradient is requested.\n",
            "WARNING:absl:Importing a function (__inference__wrapped_model_91840) with ops with custom gradients. Will likely fail if a gradient is requested.\n",
            "WARNING:absl:Importing a function (__inference__wrapped_model_91840) with ops with custom gradients. Will likely fail if a gradient is requested.\n",
            "WARNING:absl:Importing a function (__inference__wrapped_model_91840) with ops with custom gradients. Will likely fail if a gradient is requested.\n",
            "WARNING:absl:Importing a function (__inference__wrapped_model_91840) with ops with custom gradients. Will likely fail if a gradient is requested.\n",
            "WARNING:absl:Importing a function (__inference__wrapped_model_91840) with ops with custom gradients. Will likely fail if a gradient is requested.\n",
            "WARNING:absl:Importing a function (__inference__wrapped_model_91840) with ops with custom gradients. Will likely fail if a gradient is requested.\n",
            "WARNING:absl:Importing a function (__inference__wrapped_model_91840) with ops with custom gradients. Will likely fail if a gradient is requested.\n",
            "WARNING:absl:Importing a function (__inference__wrapped_model_91840) with ops with custom gradients. Will likely fail if a gradient is requested.\n",
            "WARNING:absl:Importing a function (__inference__wrapped_model_91840) with ops with custom gradients. Will likely fail if a gradient is requested.\n",
            "WARNING:absl:Importing a function (__inference__wrapped_model_91840) with ops with custom gradients. Will likely fail if a gradient is requested.\n",
            "WARNING:absl:Importing a function (__inference__wrapped_model_91840) with ops with custom gradients. Will likely fail if a gradient is requested.\n",
            "WARNING:absl:Importing a function (__inference__wrapped_model_91840) with ops with custom gradients. Will likely fail if a gradient is requested.\n",
            "WARNING:absl:Importing a function (__inference__wrapped_model_91840) with ops with custom gradients. Will likely fail if a gradient is requested.\n",
            "WARNING:absl:Importing a function (__inference__wrapped_model_91840) with ops with custom gradients. Will likely fail if a gradient is requested.\n",
            "WARNING:absl:Importing a function (__inference__wrapped_model_91840) with ops with custom gradients. Will likely fail if a gradient is requested.\n",
            "WARNING:absl:Importing a function (__inference__wrapped_model_91840) with ops with custom gradients. Will likely fail if a gradient is requested.\n",
            "WARNING:absl:Importing a function (__inference__wrapped_model_91840) with ops with custom gradients. Will likely fail if a gradient is requested.\n",
            "WARNING:absl:Importing a function (__inference__wrapped_model_91840) with ops with custom gradients. Will likely fail if a gradient is requested.\n",
            "WARNING:absl:Importing a function (__inference__wrapped_model_91840) with ops with custom gradients. Will likely fail if a gradient is requested.\n",
            "WARNING:absl:Importing a function (__inference__wrapped_model_91840) with ops with custom gradients. Will likely fail if a gradient is requested.\n",
            "WARNING:absl:Importing a function (__inference__wrapped_model_91840) with ops with custom gradients. Will likely fail if a gradient is requested.\n",
            "WARNING:absl:Importing a function (__inference__wrapped_model_91840) with ops with custom gradients. Will likely fail if a gradient is requested.\n",
            "WARNING:absl:Importing a function (__inference__wrapped_model_91840) with ops with custom gradients. Will likely fail if a gradient is requested.\n",
            "WARNING:absl:Importing a function (__inference__wrapped_model_91840) with ops with custom gradients. Will likely fail if a gradient is requested.\n",
            "WARNING:absl:Importing a function (__inference__wrapped_model_91840) with ops with custom gradients. Will likely fail if a gradient is requested.\n",
            "WARNING:absl:Importing a function (__inference__wrapped_model_91840) with ops with custom gradients. Will likely fail if a gradient is requested.\n",
            "WARNING:absl:Importing a function (__inference__wrapped_model_91840) with ops with custom gradients. Will likely fail if a gradient is requested.\n",
            "WARNING:absl:Importing a function (__inference__wrapped_model_91840) with ops with custom gradients. Will likely fail if a gradient is requested.\n",
            "WARNING:absl:Importing a function (__inference__wrapped_model_91840) with ops with custom gradients. Will likely fail if a gradient is requested.\n",
            "WARNING:absl:Importing a function (__inference__wrapped_model_91840) with ops with custom gradients. Will likely fail if a gradient is requested.\n",
            "WARNING:absl:Importing a function (__inference__wrapped_model_91840) with ops with custom gradients. Will likely fail if a gradient is requested.\n",
            "WARNING:absl:Importing a function (__inference__wrapped_model_91840) with ops with custom gradients. Will likely fail if a gradient is requested.\n",
            "WARNING:absl:Importing a function (__inference__wrapped_model_91840) with ops with custom gradients. Will likely fail if a gradient is requested.\n",
            "WARNING:absl:Importing a function (__inference__wrapped_model_91840) with ops with custom gradients. Will likely fail if a gradient is requested.\n",
            "WARNING:absl:Importing a function (__inference__wrapped_model_91840) with ops with custom gradients. Will likely fail if a gradient is requested.\n",
            "WARNING:absl:Importing a function (__inference__wrapped_model_91840) with ops with custom gradients. Will likely fail if a gradient is requested.\n",
            "WARNING:absl:Importing a function (__inference_block4c_activation_layer_call_and_return_conditional_losses_99622) with ops with custom gradients. Will likely fail if a gradient is requested.\n",
            "WARNING:absl:Importing a function (__inference_block5c_expand_activation_layer_call_and_return_conditional_losses_100527) with ops with custom gradients. Will likely fail if a gradient is requested.\n",
            "WARNING:absl:Importing a function (__inference_efficientnetb0_layer_call_and_return_conditional_losses_127234) with ops with custom gradients. Will likely fail if a gradient is requested.\n",
            "WARNING:absl:Importing a function (__inference_efficientnetb0_layer_call_and_return_conditional_losses_127234) with ops with custom gradients. Will likely fail if a gradient is requested.\n",
            "WARNING:absl:Importing a function (__inference_efficientnetb0_layer_call_and_return_conditional_losses_127234) with ops with custom gradients. Will likely fail if a gradient is requested.\n",
            "WARNING:absl:Importing a function (__inference_efficientnetb0_layer_call_and_return_conditional_losses_127234) with ops with custom gradients. Will likely fail if a gradient is requested.\n",
            "WARNING:absl:Importing a function (__inference_efficientnetb0_layer_call_and_return_conditional_losses_127234) with ops with custom gradients. Will likely fail if a gradient is requested.\n",
            "WARNING:absl:Importing a function (__inference_efficientnetb0_layer_call_and_return_conditional_losses_127234) with ops with custom gradients. Will likely fail if a gradient is requested.\n",
            "WARNING:absl:Importing a function (__inference_efficientnetb0_layer_call_and_return_conditional_losses_127234) with ops with custom gradients. Will likely fail if a gradient is requested.\n",
            "WARNING:absl:Importing a function (__inference_efficientnetb0_layer_call_and_return_conditional_losses_127234) with ops with custom gradients. Will likely fail if a gradient is requested.\n",
            "WARNING:absl:Importing a function (__inference_efficientnetb0_layer_call_and_return_conditional_losses_127234) with ops with custom gradients. Will likely fail if a gradient is requested.\n",
            "WARNING:absl:Importing a function (__inference_efficientnetb0_layer_call_and_return_conditional_losses_127234) with ops with custom gradients. Will likely fail if a gradient is requested.\n",
            "WARNING:absl:Importing a function (__inference_efficientnetb0_layer_call_and_return_conditional_losses_127234) with ops with custom gradients. Will likely fail if a gradient is requested.\n",
            "WARNING:absl:Importing a function (__inference_efficientnetb0_layer_call_and_return_conditional_losses_127234) with ops with custom gradients. Will likely fail if a gradient is requested.\n",
            "WARNING:absl:Importing a function (__inference_efficientnetb0_layer_call_and_return_conditional_losses_127234) with ops with custom gradients. Will likely fail if a gradient is requested.\n",
            "WARNING:absl:Importing a function (__inference_efficientnetb0_layer_call_and_return_conditional_losses_127234) with ops with custom gradients. Will likely fail if a gradient is requested.\n",
            "WARNING:absl:Importing a function (__inference_efficientnetb0_layer_call_and_return_conditional_losses_127234) with ops with custom gradients. Will likely fail if a gradient is requested.\n",
            "WARNING:absl:Importing a function (__inference_efficientnetb0_layer_call_and_return_conditional_losses_127234) with ops with custom gradients. Will likely fail if a gradient is requested.\n",
            "WARNING:absl:Importing a function (__inference_efficientnetb0_layer_call_and_return_conditional_losses_127234) with ops with custom gradients. Will likely fail if a gradient is requested.\n",
            "WARNING:absl:Importing a function (__inference_efficientnetb0_layer_call_and_return_conditional_losses_127234) with ops with custom gradients. Will likely fail if a gradient is requested.\n",
            "WARNING:absl:Importing a function (__inference_efficientnetb0_layer_call_and_return_conditional_losses_127234) with ops with custom gradients. Will likely fail if a gradient is requested.\n",
            "WARNING:absl:Importing a function (__inference_efficientnetb0_layer_call_and_return_conditional_losses_127234) with ops with custom gradients. Will likely fail if a gradient is requested.\n",
            "WARNING:absl:Importing a function (__inference_efficientnetb0_layer_call_and_return_conditional_losses_127234) with ops with custom gradients. Will likely fail if a gradient is requested.\n",
            "WARNING:absl:Importing a function (__inference_efficientnetb0_layer_call_and_return_conditional_losses_127234) with ops with custom gradients. Will likely fail if a gradient is requested.\n",
            "WARNING:absl:Importing a function (__inference_efficientnetb0_layer_call_and_return_conditional_losses_127234) with ops with custom gradients. Will likely fail if a gradient is requested.\n",
            "WARNING:absl:Importing a function (__inference_efficientnetb0_layer_call_and_return_conditional_losses_127234) with ops with custom gradients. Will likely fail if a gradient is requested.\n",
            "WARNING:absl:Importing a function (__inference_efficientnetb0_layer_call_and_return_conditional_losses_127234) with ops with custom gradients. Will likely fail if a gradient is requested.\n",
            "WARNING:absl:Importing a function (__inference_efficientnetb0_layer_call_and_return_conditional_losses_127234) with ops with custom gradients. Will likely fail if a gradient is requested.\n",
            "WARNING:absl:Importing a function (__inference_efficientnetb0_layer_call_and_return_conditional_losses_127234) with ops with custom gradients. Will likely fail if a gradient is requested.\n",
            "WARNING:absl:Importing a function (__inference_efficientnetb0_layer_call_and_return_conditional_losses_127234) with ops with custom gradients. Will likely fail if a gradient is requested.\n",
            "WARNING:absl:Importing a function (__inference_efficientnetb0_layer_call_and_return_conditional_losses_127234) with ops with custom gradients. Will likely fail if a gradient is requested.\n",
            "WARNING:absl:Importing a function (__inference_efficientnetb0_layer_call_and_return_conditional_losses_127234) with ops with custom gradients. Will likely fail if a gradient is requested.\n",
            "WARNING:absl:Importing a function (__inference_efficientnetb0_layer_call_and_return_conditional_losses_127234) with ops with custom gradients. Will likely fail if a gradient is requested.\n",
            "WARNING:absl:Importing a function (__inference_efficientnetb0_layer_call_and_return_conditional_losses_127234) with ops with custom gradients. Will likely fail if a gradient is requested.\n",
            "WARNING:absl:Importing a function (__inference_efficientnetb0_layer_call_and_return_conditional_losses_127234) with ops with custom gradients. Will likely fail if a gradient is requested.\n",
            "WARNING:absl:Importing a function (__inference_efficientnetb0_layer_call_and_return_conditional_losses_127234) with ops with custom gradients. Will likely fail if a gradient is requested.\n",
            "WARNING:absl:Importing a function (__inference_efficientnetb0_layer_call_and_return_conditional_losses_127234) with ops with custom gradients. Will likely fail if a gradient is requested.\n",
            "WARNING:absl:Importing a function (__inference_efficientnetb0_layer_call_and_return_conditional_losses_127234) with ops with custom gradients. Will likely fail if a gradient is requested.\n",
            "WARNING:absl:Importing a function (__inference_efficientnetb0_layer_call_and_return_conditional_losses_127234) with ops with custom gradients. Will likely fail if a gradient is requested.\n",
            "WARNING:absl:Importing a function (__inference_efficientnetb0_layer_call_and_return_conditional_losses_127234) with ops with custom gradients. Will likely fail if a gradient is requested.\n",
            "WARNING:absl:Importing a function (__inference_efficientnetb0_layer_call_and_return_conditional_losses_127234) with ops with custom gradients. Will likely fail if a gradient is requested.\n",
            "WARNING:absl:Importing a function (__inference_efficientnetb0_layer_call_and_return_conditional_losses_127234) with ops with custom gradients. Will likely fail if a gradient is requested.\n",
            "WARNING:absl:Importing a function (__inference_efficientnetb0_layer_call_and_return_conditional_losses_127234) with ops with custom gradients. Will likely fail if a gradient is requested.\n",
            "WARNING:absl:Importing a function (__inference_efficientnetb0_layer_call_and_return_conditional_losses_127234) with ops with custom gradients. Will likely fail if a gradient is requested.\n",
            "WARNING:absl:Importing a function (__inference_efficientnetb0_layer_call_and_return_conditional_losses_127234) with ops with custom gradients. Will likely fail if a gradient is requested.\n",
            "WARNING:absl:Importing a function (__inference_efficientnetb0_layer_call_and_return_conditional_losses_127234) with ops with custom gradients. Will likely fail if a gradient is requested.\n",
            "WARNING:absl:Importing a function (__inference_efficientnetb0_layer_call_and_return_conditional_losses_127234) with ops with custom gradients. Will likely fail if a gradient is requested.\n",
            "WARNING:absl:Importing a function (__inference_efficientnetb0_layer_call_and_return_conditional_losses_127234) with ops with custom gradients. Will likely fail if a gradient is requested.\n",
            "WARNING:absl:Importing a function (__inference_efficientnetb0_layer_call_and_return_conditional_losses_127234) with ops with custom gradients. Will likely fail if a gradient is requested.\n",
            "WARNING:absl:Importing a function (__inference_efficientnetb0_layer_call_and_return_conditional_losses_127234) with ops with custom gradients. Will likely fail if a gradient is requested.\n",
            "WARNING:absl:Importing a function (__inference_efficientnetb0_layer_call_and_return_conditional_losses_127234) with ops with custom gradients. Will likely fail if a gradient is requested.\n",
            "WARNING:absl:Importing a function (__inference_block6d_activation_layer_call_and_return_conditional_losses_135365) with ops with custom gradients. Will likely fail if a gradient is requested.\n",
            "WARNING:absl:Importing a function (__inference_block2a_se_reduce_layer_call_and_return_conditional_losses_130793) with ops with custom gradients. Will likely fail if a gradient is requested.\n",
            "WARNING:absl:Importing a function (__inference_block6a_expand_activation_layer_call_and_return_conditional_losses_134216) with ops with custom gradients. Will likely fail if a gradient is requested.\n",
            "WARNING:absl:Importing a function (__inference_block5a_activation_layer_call_and_return_conditional_losses_99960) with ops with custom gradients. Will likely fail if a gradient is requested.\n",
            "WARNING:absl:Importing a function (__inference_block3b_expand_activation_layer_call_and_return_conditional_losses_98604) with ops with custom gradients. Will likely fail if a gradient is requested.\n",
            "WARNING:absl:Importing a function (__inference_block6a_se_reduce_layer_call_and_return_conditional_losses_134335) with ops with custom gradients. Will likely fail if a gradient is requested.\n",
            "WARNING:absl:Importing a function (__inference_block5a_expand_activation_layer_call_and_return_conditional_losses_99904) with ops with custom gradients. Will likely fail if a gradient is requested.\n",
            "WARNING:absl:Importing a function (__inference_block4b_expand_activation_layer_call_and_return_conditional_losses_132398) with ops with custom gradients. Will likely fail if a gradient is requested.\n",
            "WARNING:absl:Importing a function (__inference_block6b_se_reduce_layer_call_and_return_conditional_losses_134661) with ops with custom gradients. Will likely fail if a gradient is requested.\n",
            "WARNING:absl:Importing a function (__inference_block4b_activation_layer_call_and_return_conditional_losses_132475) with ops with custom gradients. Will likely fail if a gradient is requested.\n",
            "WARNING:absl:Importing a function (__inference_block2a_expand_activation_layer_call_and_return_conditional_losses_97694) with ops with custom gradients. Will likely fail if a gradient is requested.\n",
            "WARNING:absl:Importing a function (__inference_stem_activation_layer_call_and_return_conditional_losses_97409) with ops with custom gradients. Will likely fail if a gradient is requested.\n",
            "WARNING:absl:Importing a function (__inference_block4b_expand_activation_layer_call_and_return_conditional_losses_99228) with ops with custom gradients. Will likely fail if a gradient is requested.\n",
            "WARNING:absl:Importing a function (__inference_block3a_se_reduce_layer_call_and_return_conditional_losses_98424) with ops with custom gradients. Will likely fail if a gradient is requested.\n",
            "WARNING:absl:Importing a function (__inference_block3b_se_reduce_layer_call_and_return_conditional_losses_98709) with ops with custom gradients. Will likely fail if a gradient is requested.\n",
            "WARNING:absl:Importing a function (__inference_top_activation_layer_call_and_return_conditional_losses_102450) with ops with custom gradients. Will likely fail if a gradient is requested.\n",
            "WARNING:absl:Importing a function (__inference_block4b_se_reduce_layer_call_and_return_conditional_losses_132517) with ops with custom gradients. Will likely fail if a gradient is requested.\n",
            "WARNING:absl:Importing a function (__inference_block6c_activation_layer_call_and_return_conditional_losses_101545) with ops with custom gradients. Will likely fail if a gradient is requested.\n",
            "WARNING:absl:Importing a function (__inference_block2a_activation_layer_call_and_return_conditional_losses_97751) with ops with custom gradients. Will likely fail if a gradient is requested.\n",
            "WARNING:absl:Importing a function (__inference_block3a_activation_layer_call_and_return_conditional_losses_98375) with ops with custom gradients. Will likely fail if a gradient is requested.\n",
            "WARNING:absl:Importing a function (__inference_block4b_activation_layer_call_and_return_conditional_losses_99284) with ops with custom gradients. Will likely fail if a gradient is requested.\n",
            "WARNING:absl:Importing a function (__inference_block4c_expand_activation_layer_call_and_return_conditional_losses_132771) with ops with custom gradients. Will likely fail if a gradient is requested.\n",
            "WARNING:absl:Importing a function (__inference_block2b_activation_layer_call_and_return_conditional_losses_98036) with ops with custom gradients. Will likely fail if a gradient is requested.\n",
            "WARNING:absl:Importing a function (__inference_block4c_se_reduce_layer_call_and_return_conditional_losses_132890) with ops with custom gradients. Will likely fail if a gradient is requested.\n",
            "WARNING:absl:Importing a function (__inference_block2a_activation_layer_call_and_return_conditional_losses_130751) with ops with custom gradients. Will likely fail if a gradient is requested.\n",
            "WARNING:absl:Importing a function (__inference_top_activation_layer_call_and_return_conditional_losses_135987) with ops with custom gradients. Will likely fail if a gradient is requested.\n",
            "WARNING:absl:Importing a function (__inference_efficientnetb0_layer_call_and_return_conditional_losses_122361) with ops with custom gradients. Will likely fail if a gradient is requested.\n",
            "WARNING:absl:Importing a function (__inference_efficientnetb0_layer_call_and_return_conditional_losses_122361) with ops with custom gradients. Will likely fail if a gradient is requested.\n",
            "WARNING:absl:Importing a function (__inference_efficientnetb0_layer_call_and_return_conditional_losses_122361) with ops with custom gradients. Will likely fail if a gradient is requested.\n",
            "WARNING:absl:Importing a function (__inference_efficientnetb0_layer_call_and_return_conditional_losses_122361) with ops with custom gradients. Will likely fail if a gradient is requested.\n",
            "WARNING:absl:Importing a function (__inference_efficientnetb0_layer_call_and_return_conditional_losses_122361) with ops with custom gradients. Will likely fail if a gradient is requested.\n",
            "WARNING:absl:Importing a function (__inference_efficientnetb0_layer_call_and_return_conditional_losses_122361) with ops with custom gradients. Will likely fail if a gradient is requested.\n",
            "WARNING:absl:Importing a function (__inference_efficientnetb0_layer_call_and_return_conditional_losses_122361) with ops with custom gradients. Will likely fail if a gradient is requested.\n",
            "WARNING:absl:Importing a function (__inference_efficientnetb0_layer_call_and_return_conditional_losses_122361) with ops with custom gradients. Will likely fail if a gradient is requested.\n",
            "WARNING:absl:Importing a function (__inference_efficientnetb0_layer_call_and_return_conditional_losses_122361) with ops with custom gradients. Will likely fail if a gradient is requested.\n",
            "WARNING:absl:Importing a function (__inference_efficientnetb0_layer_call_and_return_conditional_losses_122361) with ops with custom gradients. Will likely fail if a gradient is requested.\n",
            "WARNING:absl:Importing a function (__inference_efficientnetb0_layer_call_and_return_conditional_losses_122361) with ops with custom gradients. Will likely fail if a gradient is requested.\n",
            "WARNING:absl:Importing a function (__inference_efficientnetb0_layer_call_and_return_conditional_losses_122361) with ops with custom gradients. Will likely fail if a gradient is requested.\n",
            "WARNING:absl:Importing a function (__inference_efficientnetb0_layer_call_and_return_conditional_losses_122361) with ops with custom gradients. Will likely fail if a gradient is requested.\n",
            "WARNING:absl:Importing a function (__inference_efficientnetb0_layer_call_and_return_conditional_losses_122361) with ops with custom gradients. Will likely fail if a gradient is requested.\n",
            "WARNING:absl:Importing a function (__inference_efficientnetb0_layer_call_and_return_conditional_losses_122361) with ops with custom gradients. Will likely fail if a gradient is requested.\n",
            "WARNING:absl:Importing a function (__inference_efficientnetb0_layer_call_and_return_conditional_losses_122361) with ops with custom gradients. Will likely fail if a gradient is requested.\n",
            "WARNING:absl:Importing a function (__inference_efficientnetb0_layer_call_and_return_conditional_losses_122361) with ops with custom gradients. Will likely fail if a gradient is requested.\n",
            "WARNING:absl:Importing a function (__inference_efficientnetb0_layer_call_and_return_conditional_losses_122361) with ops with custom gradients. Will likely fail if a gradient is requested.\n",
            "WARNING:absl:Importing a function (__inference_efficientnetb0_layer_call_and_return_conditional_losses_122361) with ops with custom gradients. Will likely fail if a gradient is requested.\n",
            "WARNING:absl:Importing a function (__inference_efficientnetb0_layer_call_and_return_conditional_losses_122361) with ops with custom gradients. Will likely fail if a gradient is requested.\n",
            "WARNING:absl:Importing a function (__inference_efficientnetb0_layer_call_and_return_conditional_losses_122361) with ops with custom gradients. Will likely fail if a gradient is requested.\n",
            "WARNING:absl:Importing a function (__inference_efficientnetb0_layer_call_and_return_conditional_losses_122361) with ops with custom gradients. Will likely fail if a gradient is requested.\n",
            "WARNING:absl:Importing a function (__inference_efficientnetb0_layer_call_and_return_conditional_losses_122361) with ops with custom gradients. Will likely fail if a gradient is requested.\n",
            "WARNING:absl:Importing a function (__inference_efficientnetb0_layer_call_and_return_conditional_losses_122361) with ops with custom gradients. Will likely fail if a gradient is requested.\n",
            "WARNING:absl:Importing a function (__inference_efficientnetb0_layer_call_and_return_conditional_losses_122361) with ops with custom gradients. Will likely fail if a gradient is requested.\n",
            "WARNING:absl:Importing a function (__inference_efficientnetb0_layer_call_and_return_conditional_losses_122361) with ops with custom gradients. Will likely fail if a gradient is requested.\n",
            "WARNING:absl:Importing a function (__inference_efficientnetb0_layer_call_and_return_conditional_losses_122361) with ops with custom gradients. Will likely fail if a gradient is requested.\n",
            "WARNING:absl:Importing a function (__inference_efficientnetb0_layer_call_and_return_conditional_losses_122361) with ops with custom gradients. Will likely fail if a gradient is requested.\n",
            "WARNING:absl:Importing a function (__inference_efficientnetb0_layer_call_and_return_conditional_losses_122361) with ops with custom gradients. Will likely fail if a gradient is requested.\n",
            "WARNING:absl:Importing a function (__inference_efficientnetb0_layer_call_and_return_conditional_losses_122361) with ops with custom gradients. Will likely fail if a gradient is requested.\n",
            "WARNING:absl:Importing a function (__inference_efficientnetb0_layer_call_and_return_conditional_losses_122361) with ops with custom gradients. Will likely fail if a gradient is requested.\n",
            "WARNING:absl:Importing a function (__inference_efficientnetb0_layer_call_and_return_conditional_losses_122361) with ops with custom gradients. Will likely fail if a gradient is requested.\n",
            "WARNING:absl:Importing a function (__inference_efficientnetb0_layer_call_and_return_conditional_losses_122361) with ops with custom gradients. Will likely fail if a gradient is requested.\n",
            "WARNING:absl:Importing a function (__inference_efficientnetb0_layer_call_and_return_conditional_losses_122361) with ops with custom gradients. Will likely fail if a gradient is requested.\n",
            "WARNING:absl:Importing a function (__inference_efficientnetb0_layer_call_and_return_conditional_losses_122361) with ops with custom gradients. Will likely fail if a gradient is requested.\n",
            "WARNING:absl:Importing a function (__inference_efficientnetb0_layer_call_and_return_conditional_losses_122361) with ops with custom gradients. Will likely fail if a gradient is requested.\n",
            "WARNING:absl:Importing a function (__inference_efficientnetb0_layer_call_and_return_conditional_losses_122361) with ops with custom gradients. Will likely fail if a gradient is requested.\n",
            "WARNING:absl:Importing a function (__inference_efficientnetb0_layer_call_and_return_conditional_losses_122361) with ops with custom gradients. Will likely fail if a gradient is requested.\n",
            "WARNING:absl:Importing a function (__inference_efficientnetb0_layer_call_and_return_conditional_losses_122361) with ops with custom gradients. Will likely fail if a gradient is requested.\n",
            "WARNING:absl:Importing a function (__inference_efficientnetb0_layer_call_and_return_conditional_losses_122361) with ops with custom gradients. Will likely fail if a gradient is requested.\n",
            "WARNING:absl:Importing a function (__inference_efficientnetb0_layer_call_and_return_conditional_losses_122361) with ops with custom gradients. Will likely fail if a gradient is requested.\n",
            "WARNING:absl:Importing a function (__inference_efficientnetb0_layer_call_and_return_conditional_losses_122361) with ops with custom gradients. Will likely fail if a gradient is requested.\n",
            "WARNING:absl:Importing a function (__inference_efficientnetb0_layer_call_and_return_conditional_losses_122361) with ops with custom gradients. Will likely fail if a gradient is requested.\n",
            "WARNING:absl:Importing a function (__inference_efficientnetb0_layer_call_and_return_conditional_losses_122361) with ops with custom gradients. Will likely fail if a gradient is requested.\n",
            "WARNING:absl:Importing a function (__inference_efficientnetb0_layer_call_and_return_conditional_losses_122361) with ops with custom gradients. Will likely fail if a gradient is requested.\n",
            "WARNING:absl:Importing a function (__inference_efficientnetb0_layer_call_and_return_conditional_losses_122361) with ops with custom gradients. Will likely fail if a gradient is requested.\n",
            "WARNING:absl:Importing a function (__inference_efficientnetb0_layer_call_and_return_conditional_losses_122361) with ops with custom gradients. Will likely fail if a gradient is requested.\n",
            "WARNING:absl:Importing a function (__inference_efficientnetb0_layer_call_and_return_conditional_losses_122361) with ops with custom gradients. Will likely fail if a gradient is requested.\n",
            "WARNING:absl:Importing a function (__inference_efficientnetb0_layer_call_and_return_conditional_losses_122361) with ops with custom gradients. Will likely fail if a gradient is requested.\n",
            "WARNING:absl:Importing a function (__inference_block6c_se_reduce_layer_call_and_return_conditional_losses_135034) with ops with custom gradients. Will likely fail if a gradient is requested.\n",
            "WARNING:absl:Importing a function (__inference_block2a_expand_activation_layer_call_and_return_conditional_losses_130674) with ops with custom gradients. Will likely fail if a gradient is requested.\n",
            "WARNING:absl:Importing a function (__inference_block2b_activation_layer_call_and_return_conditional_losses_131077) with ops with custom gradients. Will likely fail if a gradient is requested.\n",
            "WARNING:absl:Importing a function (__inference_block6b_activation_layer_call_and_return_conditional_losses_101207) with ops with custom gradients. Will likely fail if a gradient is requested.\n",
            "WARNING:absl:Importing a function (__inference_block6b_activation_layer_call_and_return_conditional_losses_134619) with ops with custom gradients. Will likely fail if a gradient is requested.\n",
            "WARNING:absl:Importing a function (__inference_block6c_activation_layer_call_and_return_conditional_losses_134992) with ops with custom gradients. Will likely fail if a gradient is requested.\n",
            "WARNING:absl:Importing a function (__inference_block1a_se_reduce_layer_call_and_return_conditional_losses_130467) with ops with custom gradients. Will likely fail if a gradient is requested.\n",
            "WARNING:absl:Importing a function (__inference_block2b_se_reduce_layer_call_and_return_conditional_losses_131119) with ops with custom gradients. Will likely fail if a gradient is requested.\n",
            "WARNING:absl:Importing a function (__inference_model_1_layer_call_and_return_conditional_losses_119222) with ops with custom gradients. Will likely fail if a gradient is requested.\n",
            "WARNING:absl:Importing a function (__inference_model_1_layer_call_and_return_conditional_losses_119222) with ops with custom gradients. Will likely fail if a gradient is requested.\n",
            "WARNING:absl:Importing a function (__inference_model_1_layer_call_and_return_conditional_losses_119222) with ops with custom gradients. Will likely fail if a gradient is requested.\n",
            "WARNING:absl:Importing a function (__inference_model_1_layer_call_and_return_conditional_losses_119222) with ops with custom gradients. Will likely fail if a gradient is requested.\n",
            "WARNING:absl:Importing a function (__inference_model_1_layer_call_and_return_conditional_losses_119222) with ops with custom gradients. Will likely fail if a gradient is requested.\n",
            "WARNING:absl:Importing a function (__inference_model_1_layer_call_and_return_conditional_losses_119222) with ops with custom gradients. Will likely fail if a gradient is requested.\n",
            "WARNING:absl:Importing a function (__inference_model_1_layer_call_and_return_conditional_losses_119222) with ops with custom gradients. Will likely fail if a gradient is requested.\n",
            "WARNING:absl:Importing a function (__inference_model_1_layer_call_and_return_conditional_losses_119222) with ops with custom gradients. Will likely fail if a gradient is requested.\n",
            "WARNING:absl:Importing a function (__inference_model_1_layer_call_and_return_conditional_losses_119222) with ops with custom gradients. Will likely fail if a gradient is requested.\n",
            "WARNING:absl:Importing a function (__inference_model_1_layer_call_and_return_conditional_losses_119222) with ops with custom gradients. Will likely fail if a gradient is requested.\n",
            "WARNING:absl:Importing a function (__inference_model_1_layer_call_and_return_conditional_losses_119222) with ops with custom gradients. Will likely fail if a gradient is requested.\n",
            "WARNING:absl:Importing a function (__inference_model_1_layer_call_and_return_conditional_losses_119222) with ops with custom gradients. Will likely fail if a gradient is requested.\n",
            "WARNING:absl:Importing a function (__inference_model_1_layer_call_and_return_conditional_losses_119222) with ops with custom gradients. Will likely fail if a gradient is requested.\n",
            "WARNING:absl:Importing a function (__inference_model_1_layer_call_and_return_conditional_losses_119222) with ops with custom gradients. Will likely fail if a gradient is requested.\n",
            "WARNING:absl:Importing a function (__inference_model_1_layer_call_and_return_conditional_losses_119222) with ops with custom gradients. Will likely fail if a gradient is requested.\n",
            "WARNING:absl:Importing a function (__inference_model_1_layer_call_and_return_conditional_losses_119222) with ops with custom gradients. Will likely fail if a gradient is requested.\n",
            "WARNING:absl:Importing a function (__inference_model_1_layer_call_and_return_conditional_losses_119222) with ops with custom gradients. Will likely fail if a gradient is requested.\n",
            "WARNING:absl:Importing a function (__inference_model_1_layer_call_and_return_conditional_losses_119222) with ops with custom gradients. Will likely fail if a gradient is requested.\n",
            "WARNING:absl:Importing a function (__inference_model_1_layer_call_and_return_conditional_losses_119222) with ops with custom gradients. Will likely fail if a gradient is requested.\n",
            "WARNING:absl:Importing a function (__inference_model_1_layer_call_and_return_conditional_losses_119222) with ops with custom gradients. Will likely fail if a gradient is requested.\n",
            "WARNING:absl:Importing a function (__inference_model_1_layer_call_and_return_conditional_losses_119222) with ops with custom gradients. Will likely fail if a gradient is requested.\n",
            "WARNING:absl:Importing a function (__inference_model_1_layer_call_and_return_conditional_losses_119222) with ops with custom gradients. Will likely fail if a gradient is requested.\n",
            "WARNING:absl:Importing a function (__inference_model_1_layer_call_and_return_conditional_losses_119222) with ops with custom gradients. Will likely fail if a gradient is requested.\n",
            "WARNING:absl:Importing a function (__inference_model_1_layer_call_and_return_conditional_losses_119222) with ops with custom gradients. Will likely fail if a gradient is requested.\n",
            "WARNING:absl:Importing a function (__inference_model_1_layer_call_and_return_conditional_losses_119222) with ops with custom gradients. Will likely fail if a gradient is requested.\n",
            "WARNING:absl:Importing a function (__inference_model_1_layer_call_and_return_conditional_losses_119222) with ops with custom gradients. Will likely fail if a gradient is requested.\n",
            "WARNING:absl:Importing a function (__inference_model_1_layer_call_and_return_conditional_losses_119222) with ops with custom gradients. Will likely fail if a gradient is requested.\n",
            "WARNING:absl:Importing a function (__inference_model_1_layer_call_and_return_conditional_losses_119222) with ops with custom gradients. Will likely fail if a gradient is requested.\n",
            "WARNING:absl:Importing a function (__inference_model_1_layer_call_and_return_conditional_losses_119222) with ops with custom gradients. Will likely fail if a gradient is requested.\n",
            "WARNING:absl:Importing a function (__inference_model_1_layer_call_and_return_conditional_losses_119222) with ops with custom gradients. Will likely fail if a gradient is requested.\n",
            "WARNING:absl:Importing a function (__inference_model_1_layer_call_and_return_conditional_losses_119222) with ops with custom gradients. Will likely fail if a gradient is requested.\n",
            "WARNING:absl:Importing a function (__inference_model_1_layer_call_and_return_conditional_losses_119222) with ops with custom gradients. Will likely fail if a gradient is requested.\n",
            "WARNING:absl:Importing a function (__inference_model_1_layer_call_and_return_conditional_losses_119222) with ops with custom gradients. Will likely fail if a gradient is requested.\n",
            "WARNING:absl:Importing a function (__inference_model_1_layer_call_and_return_conditional_losses_119222) with ops with custom gradients. Will likely fail if a gradient is requested.\n",
            "WARNING:absl:Importing a function (__inference_model_1_layer_call_and_return_conditional_losses_119222) with ops with custom gradients. Will likely fail if a gradient is requested.\n",
            "WARNING:absl:Importing a function (__inference_model_1_layer_call_and_return_conditional_losses_119222) with ops with custom gradients. Will likely fail if a gradient is requested.\n",
            "WARNING:absl:Importing a function (__inference_model_1_layer_call_and_return_conditional_losses_119222) with ops with custom gradients. Will likely fail if a gradient is requested.\n",
            "WARNING:absl:Importing a function (__inference_model_1_layer_call_and_return_conditional_losses_119222) with ops with custom gradients. Will likely fail if a gradient is requested.\n",
            "WARNING:absl:Importing a function (__inference_model_1_layer_call_and_return_conditional_losses_119222) with ops with custom gradients. Will likely fail if a gradient is requested.\n",
            "WARNING:absl:Importing a function (__inference_model_1_layer_call_and_return_conditional_losses_119222) with ops with custom gradients. Will likely fail if a gradient is requested.\n",
            "WARNING:absl:Importing a function (__inference_model_1_layer_call_and_return_conditional_losses_119222) with ops with custom gradients. Will likely fail if a gradient is requested.\n",
            "WARNING:absl:Importing a function (__inference_model_1_layer_call_and_return_conditional_losses_119222) with ops with custom gradients. Will likely fail if a gradient is requested.\n",
            "WARNING:absl:Importing a function (__inference_model_1_layer_call_and_return_conditional_losses_119222) with ops with custom gradients. Will likely fail if a gradient is requested.\n",
            "WARNING:absl:Importing a function (__inference_model_1_layer_call_and_return_conditional_losses_119222) with ops with custom gradients. Will likely fail if a gradient is requested.\n",
            "WARNING:absl:Importing a function (__inference_model_1_layer_call_and_return_conditional_losses_119222) with ops with custom gradients. Will likely fail if a gradient is requested.\n",
            "WARNING:absl:Importing a function (__inference_model_1_layer_call_and_return_conditional_losses_119222) with ops with custom gradients. Will likely fail if a gradient is requested.\n",
            "WARNING:absl:Importing a function (__inference_model_1_layer_call_and_return_conditional_losses_119222) with ops with custom gradients. Will likely fail if a gradient is requested.\n",
            "WARNING:absl:Importing a function (__inference_model_1_layer_call_and_return_conditional_losses_119222) with ops with custom gradients. Will likely fail if a gradient is requested.\n",
            "WARNING:absl:Importing a function (__inference_model_1_layer_call_and_return_conditional_losses_119222) with ops with custom gradients. Will likely fail if a gradient is requested.\n",
            "WARNING:absl:Importing a function (__inference_block6d_expand_activation_layer_call_and_return_conditional_losses_135288) with ops with custom gradients. Will likely fail if a gradient is requested.\n",
            "WARNING:absl:Importing a function (__inference_block5c_se_reduce_layer_call_and_return_conditional_losses_133962) with ops with custom gradients. Will likely fail if a gradient is requested.\n",
            "WARNING:absl:Importing a function (__inference_block3a_se_reduce_layer_call_and_return_conditional_losses_131492) with ops with custom gradients. Will likely fail if a gradient is requested.\n",
            "WARNING:absl:Importing a function (__inference_block7a_expand_activation_layer_call_and_return_conditional_losses_102165) with ops with custom gradients. Will likely fail if a gradient is requested.\n",
            "WARNING:absl:Importing a function (__inference_block4c_activation_layer_call_and_return_conditional_losses_132848) with ops with custom gradients. Will likely fail if a gradient is requested.\n",
            "WARNING:absl:Importing a function (__inference_block5c_activation_layer_call_and_return_conditional_losses_133920) with ops with custom gradients. Will likely fail if a gradient is requested.\n",
            "WARNING:absl:Importing a function (__inference_block3b_activation_layer_call_and_return_conditional_losses_98660) with ops with custom gradients. Will likely fail if a gradient is requested.\n",
            "WARNING:absl:Importing a function (__inference_block5a_se_reduce_layer_call_and_return_conditional_losses_100009) with ops with custom gradients. Will likely fail if a gradient is requested.\n",
            "WARNING:absl:Importing a function (__inference_block4a_activation_layer_call_and_return_conditional_losses_132149) with ops with custom gradients. Will likely fail if a gradient is requested.\n",
            "WARNING:absl:Importing a function (__inference_block6d_activation_layer_call_and_return_conditional_losses_101883) with ops with custom gradients. Will likely fail if a gradient is requested.\n",
            "WARNING:absl:Importing a function (__inference_model_1_layer_call_and_return_conditional_losses_117468) with ops with custom gradients. Will likely fail if a gradient is requested.\n",
            "WARNING:absl:Importing a function (__inference_model_1_layer_call_and_return_conditional_losses_117468) with ops with custom gradients. Will likely fail if a gradient is requested.\n",
            "WARNING:absl:Importing a function (__inference_model_1_layer_call_and_return_conditional_losses_117468) with ops with custom gradients. Will likely fail if a gradient is requested.\n",
            "WARNING:absl:Importing a function (__inference_model_1_layer_call_and_return_conditional_losses_117468) with ops with custom gradients. Will likely fail if a gradient is requested.\n",
            "WARNING:absl:Importing a function (__inference_model_1_layer_call_and_return_conditional_losses_117468) with ops with custom gradients. Will likely fail if a gradient is requested.\n",
            "WARNING:absl:Importing a function (__inference_model_1_layer_call_and_return_conditional_losses_117468) with ops with custom gradients. Will likely fail if a gradient is requested.\n",
            "WARNING:absl:Importing a function (__inference_model_1_layer_call_and_return_conditional_losses_117468) with ops with custom gradients. Will likely fail if a gradient is requested.\n",
            "WARNING:absl:Importing a function (__inference_model_1_layer_call_and_return_conditional_losses_117468) with ops with custom gradients. Will likely fail if a gradient is requested.\n",
            "WARNING:absl:Importing a function (__inference_model_1_layer_call_and_return_conditional_losses_117468) with ops with custom gradients. Will likely fail if a gradient is requested.\n",
            "WARNING:absl:Importing a function (__inference_model_1_layer_call_and_return_conditional_losses_117468) with ops with custom gradients. Will likely fail if a gradient is requested.\n",
            "WARNING:absl:Importing a function (__inference_model_1_layer_call_and_return_conditional_losses_117468) with ops with custom gradients. Will likely fail if a gradient is requested.\n",
            "WARNING:absl:Importing a function (__inference_model_1_layer_call_and_return_conditional_losses_117468) with ops with custom gradients. Will likely fail if a gradient is requested.\n",
            "WARNING:absl:Importing a function (__inference_model_1_layer_call_and_return_conditional_losses_117468) with ops with custom gradients. Will likely fail if a gradient is requested.\n",
            "WARNING:absl:Importing a function (__inference_model_1_layer_call_and_return_conditional_losses_117468) with ops with custom gradients. Will likely fail if a gradient is requested.\n",
            "WARNING:absl:Importing a function (__inference_model_1_layer_call_and_return_conditional_losses_117468) with ops with custom gradients. Will likely fail if a gradient is requested.\n",
            "WARNING:absl:Importing a function (__inference_model_1_layer_call_and_return_conditional_losses_117468) with ops with custom gradients. Will likely fail if a gradient is requested.\n",
            "WARNING:absl:Importing a function (__inference_model_1_layer_call_and_return_conditional_losses_117468) with ops with custom gradients. Will likely fail if a gradient is requested.\n",
            "WARNING:absl:Importing a function (__inference_model_1_layer_call_and_return_conditional_losses_117468) with ops with custom gradients. Will likely fail if a gradient is requested.\n",
            "WARNING:absl:Importing a function (__inference_model_1_layer_call_and_return_conditional_losses_117468) with ops with custom gradients. Will likely fail if a gradient is requested.\n",
            "WARNING:absl:Importing a function (__inference_model_1_layer_call_and_return_conditional_losses_117468) with ops with custom gradients. Will likely fail if a gradient is requested.\n",
            "WARNING:absl:Importing a function (__inference_model_1_layer_call_and_return_conditional_losses_117468) with ops with custom gradients. Will likely fail if a gradient is requested.\n",
            "WARNING:absl:Importing a function (__inference_model_1_layer_call_and_return_conditional_losses_117468) with ops with custom gradients. Will likely fail if a gradient is requested.\n",
            "WARNING:absl:Importing a function (__inference_model_1_layer_call_and_return_conditional_losses_117468) with ops with custom gradients. Will likely fail if a gradient is requested.\n",
            "WARNING:absl:Importing a function (__inference_model_1_layer_call_and_return_conditional_losses_117468) with ops with custom gradients. Will likely fail if a gradient is requested.\n",
            "WARNING:absl:Importing a function (__inference_model_1_layer_call_and_return_conditional_losses_117468) with ops with custom gradients. Will likely fail if a gradient is requested.\n",
            "WARNING:absl:Importing a function (__inference_model_1_layer_call_and_return_conditional_losses_117468) with ops with custom gradients. Will likely fail if a gradient is requested.\n",
            "WARNING:absl:Importing a function (__inference_model_1_layer_call_and_return_conditional_losses_117468) with ops with custom gradients. Will likely fail if a gradient is requested.\n",
            "WARNING:absl:Importing a function (__inference_model_1_layer_call_and_return_conditional_losses_117468) with ops with custom gradients. Will likely fail if a gradient is requested.\n",
            "WARNING:absl:Importing a function (__inference_model_1_layer_call_and_return_conditional_losses_117468) with ops with custom gradients. Will likely fail if a gradient is requested.\n",
            "WARNING:absl:Importing a function (__inference_model_1_layer_call_and_return_conditional_losses_117468) with ops with custom gradients. Will likely fail if a gradient is requested.\n",
            "WARNING:absl:Importing a function (__inference_model_1_layer_call_and_return_conditional_losses_117468) with ops with custom gradients. Will likely fail if a gradient is requested.\n",
            "WARNING:absl:Importing a function (__inference_model_1_layer_call_and_return_conditional_losses_117468) with ops with custom gradients. Will likely fail if a gradient is requested.\n",
            "WARNING:absl:Importing a function (__inference_model_1_layer_call_and_return_conditional_losses_117468) with ops with custom gradients. Will likely fail if a gradient is requested.\n",
            "WARNING:absl:Importing a function (__inference_model_1_layer_call_and_return_conditional_losses_117468) with ops with custom gradients. Will likely fail if a gradient is requested.\n",
            "WARNING:absl:Importing a function (__inference_model_1_layer_call_and_return_conditional_losses_117468) with ops with custom gradients. Will likely fail if a gradient is requested.\n",
            "WARNING:absl:Importing a function (__inference_model_1_layer_call_and_return_conditional_losses_117468) with ops with custom gradients. Will likely fail if a gradient is requested.\n",
            "WARNING:absl:Importing a function (__inference_model_1_layer_call_and_return_conditional_losses_117468) with ops with custom gradients. Will likely fail if a gradient is requested.\n",
            "WARNING:absl:Importing a function (__inference_model_1_layer_call_and_return_conditional_losses_117468) with ops with custom gradients. Will likely fail if a gradient is requested.\n",
            "WARNING:absl:Importing a function (__inference_model_1_layer_call_and_return_conditional_losses_117468) with ops with custom gradients. Will likely fail if a gradient is requested.\n",
            "WARNING:absl:Importing a function (__inference_model_1_layer_call_and_return_conditional_losses_117468) with ops with custom gradients. Will likely fail if a gradient is requested.\n",
            "WARNING:absl:Importing a function (__inference_model_1_layer_call_and_return_conditional_losses_117468) with ops with custom gradients. Will likely fail if a gradient is requested.\n",
            "WARNING:absl:Importing a function (__inference_model_1_layer_call_and_return_conditional_losses_117468) with ops with custom gradients. Will likely fail if a gradient is requested.\n",
            "WARNING:absl:Importing a function (__inference_model_1_layer_call_and_return_conditional_losses_117468) with ops with custom gradients. Will likely fail if a gradient is requested.\n",
            "WARNING:absl:Importing a function (__inference_model_1_layer_call_and_return_conditional_losses_117468) with ops with custom gradients. Will likely fail if a gradient is requested.\n",
            "WARNING:absl:Importing a function (__inference_model_1_layer_call_and_return_conditional_losses_117468) with ops with custom gradients. Will likely fail if a gradient is requested.\n",
            "WARNING:absl:Importing a function (__inference_model_1_layer_call_and_return_conditional_losses_117468) with ops with custom gradients. Will likely fail if a gradient is requested.\n",
            "WARNING:absl:Importing a function (__inference_model_1_layer_call_and_return_conditional_losses_117468) with ops with custom gradients. Will likely fail if a gradient is requested.\n",
            "WARNING:absl:Importing a function (__inference_model_1_layer_call_and_return_conditional_losses_117468) with ops with custom gradients. Will likely fail if a gradient is requested.\n",
            "WARNING:absl:Importing a function (__inference_model_1_layer_call_and_return_conditional_losses_117468) with ops with custom gradients. Will likely fail if a gradient is requested.\n",
            "WARNING:absl:Importing a function (__inference_block7a_se_reduce_layer_call_and_return_conditional_losses_135780) with ops with custom gradients. Will likely fail if a gradient is requested.\n",
            "WARNING:absl:Importing a function (__inference_block1a_activation_layer_call_and_return_conditional_losses_130425) with ops with custom gradients. Will likely fail if a gradient is requested.\n",
            "WARNING:absl:Importing a function (__inference_block6d_se_reduce_layer_call_and_return_conditional_losses_135407) with ops with custom gradients. Will likely fail if a gradient is requested.\n",
            "WARNING:absl:Importing a function (__inference_block2b_expand_activation_layer_call_and_return_conditional_losses_131000) with ops with custom gradients. Will likely fail if a gradient is requested.\n",
            "WARNING:absl:Importing a function (__inference_block4a_expand_activation_layer_call_and_return_conditional_losses_132072) with ops with custom gradients. Will likely fail if a gradient is requested.\n",
            "WARNING:absl:Importing a function (__inference_block6d_se_reduce_layer_call_and_return_conditional_losses_101932) with ops with custom gradients. Will likely fail if a gradient is requested.\n",
            "WARNING:absl:Importing a function (__inference_block5b_se_reduce_layer_call_and_return_conditional_losses_100294) with ops with custom gradients. Will likely fail if a gradient is requested.\n",
            "WARNING:absl:Importing a function (__inference_block4a_expand_activation_layer_call_and_return_conditional_losses_98942) with ops with custom gradients. Will likely fail if a gradient is requested.\n"
          ],
          "name": "stderr"
        }
      ]
    },
    {
      "cell_type": "code",
      "metadata": {
        "colab": {
          "base_uri": "https://localhost:8080/"
        },
        "id": "US-1Q3vI2i4s",
        "outputId": "802d3b21-45fb-4276-85d1-b3866df9d389"
      },
      "source": [
        "# Check how many layers in the base model\n",
        "len(feature_extraction_model.layers[1].layers[:])"
      ],
      "execution_count": null,
      "outputs": [
        {
          "output_type": "execute_result",
          "data": {
            "text/plain": [
              "237"
            ]
          },
          "metadata": {
            "tags": []
          },
          "execution_count": 120
        }
      ]
    },
    {
      "cell_type": "code",
      "metadata": {
        "id": "H5nNKyKA2vvM"
      },
      "source": [
        "# Unfrozen some layers of base model\n",
        "feature_extraction_model.layers[1].trainable = False\n",
        "for layer in feature_extraction_model.layers[1].layers[-200:]:\n",
        "  layer.trainable = True"
      ],
      "execution_count": null,
      "outputs": []
    },
    {
      "cell_type": "code",
      "metadata": {
        "colab": {
          "base_uri": "https://localhost:8080/"
        },
        "id": "--GzjQDu3JVt",
        "outputId": "769432f8-752d-40da-ea21-e7db7c3347e5"
      },
      "source": [
        "# Check some\n",
        "for layer_number, layer in enumerate(feature_extraction_model.layers[1].layers[:40]):\n",
        "  print(layer_number, layer.name, layer.trainable)"
      ],
      "execution_count": null,
      "outputs": [
        {
          "output_type": "stream",
          "text": [
            "0 input_2 False\n",
            "1 rescaling_1 False\n",
            "2 normalization_1 False\n",
            "3 stem_conv_pad False\n",
            "4 stem_conv False\n",
            "5 stem_bn False\n",
            "6 stem_activation False\n",
            "7 block1a_dwconv False\n",
            "8 block1a_bn False\n",
            "9 block1a_activation False\n",
            "10 block1a_se_squeeze False\n",
            "11 block1a_se_reshape False\n",
            "12 block1a_se_reduce False\n",
            "13 block1a_se_expand False\n",
            "14 block1a_se_excite False\n",
            "15 block1a_project_conv False\n",
            "16 block1a_project_bn False\n",
            "17 block2a_expand_conv False\n",
            "18 block2a_expand_bn False\n",
            "19 block2a_expand_activation False\n",
            "20 block2a_dwconv_pad False\n",
            "21 block2a_dwconv False\n",
            "22 block2a_bn False\n",
            "23 block2a_activation False\n",
            "24 block2a_se_squeeze False\n",
            "25 block2a_se_reshape False\n",
            "26 block2a_se_reduce False\n",
            "27 block2a_se_expand False\n",
            "28 block2a_se_excite False\n",
            "29 block2a_project_conv False\n",
            "30 block2a_project_bn False\n",
            "31 block2b_expand_conv False\n",
            "32 block2b_expand_bn False\n",
            "33 block2b_expand_activation False\n",
            "34 block2b_dwconv False\n",
            "35 block2b_bn False\n",
            "36 block2b_activation False\n",
            "37 block2b_se_squeeze True\n",
            "38 block2b_se_reshape True\n",
            "39 block2b_se_reduce True\n"
          ],
          "name": "stdout"
        }
      ]
    },
    {
      "cell_type": "code",
      "metadata": {
        "id": "lwW4v-1G4h6K"
      },
      "source": [
        "# Compile model\n",
        "feature_extraction_model.compile(loss=\"sparse_categorical_crossentropy\",\n",
        "                           optimizer=tf.keras.optimizers.Adam(0.0001),\n",
        "                           metrics=[\"accuracy\"])"
      ],
      "execution_count": null,
      "outputs": []
    },
    {
      "cell_type": "code",
      "metadata": {
        "colab": {
          "base_uri": "https://localhost:8080/"
        },
        "id": "B-LHEbTMpWCP",
        "outputId": "f9aa544f-0eaa-4391-cd2b-f6d2507a6012"
      },
      "source": [
        "feature_extraction_model.evaluate(testing_data)"
      ],
      "execution_count": null,
      "outputs": [
        {
          "output_type": "stream",
          "text": [
            "790/790 [==============================] - 47s 56ms/step - loss: 1.0921 - accuracy: 0.7036\n"
          ],
          "name": "stdout"
        },
        {
          "output_type": "execute_result",
          "data": {
            "text/plain": [
              "[1.0878764390945435, 0.7064950466156006]"
            ]
          },
          "metadata": {
            "tags": []
          },
          "execution_count": 45
        }
      ]
    },
    {
      "cell_type": "code",
      "metadata": {
        "colab": {
          "base_uri": "https://localhost:8080/"
        },
        "id": "ouNi1w-rm40L",
        "outputId": "5556aae8-be4d-49e9-f72b-954a26f569ee"
      },
      "source": [
        "# Start to fine-tune (all layers)\n",
        "history_101_food_classes_all_data_some_layers = feature_extraction_model.fit(training_data,\n",
        "                                                                     epochs=10,\n",
        "                                                                     validation_data=testing_data,\n",
        "                                                                     validation_steps=int(0.15*len(testing_data)), # validation during training on 15% of test data\n",
        "                                                                     callbacks=[create_tensorboard_callback(\"training_logs\", \"efficientb0_101_classes_all_data_some_layers\"), # track the model training logs\n",
        "                                                                                model_checkpoint, # save only the best model during training\n",
        "                                                                                early_stopping, # stop model after X epochs of no improvements\n",
        "                                                                                reduce_lr]) # reduce the learning rate after X epochs of no improvements"
      ],
      "execution_count": null,
      "outputs": [
        {
          "output_type": "stream",
          "text": [
            "Saving TensorBoard log files to: training_logs/efficientb0_101_classes_all_data_some_layers/20210624-101518\n",
            "Epoch 1/10\n",
            "2368/2368 [==============================] - 186s 76ms/step - loss: 0.9966 - accuracy: 0.7429 - val_loss: 1.0300 - val_accuracy: 0.7211\n",
            "INFO:tensorflow:Assets written to: fine_tune_checkpoints/assets\n"
          ],
          "name": "stdout"
        },
        {
          "output_type": "stream",
          "text": [
            "INFO:tensorflow:Assets written to: fine_tune_checkpoints/assets\n"
          ],
          "name": "stderr"
        },
        {
          "output_type": "stream",
          "text": [
            "Epoch 2/10\n",
            "2368/2368 [==============================] - 176s 73ms/step - loss: 0.9598 - accuracy: 0.7562 - val_loss: 1.0545 - val_accuracy: 0.7190\n",
            "Epoch 3/10\n",
            "2368/2368 [==============================] - 170s 71ms/step - loss: 0.9527 - accuracy: 0.7589 - val_loss: 1.0491 - val_accuracy: 0.7217\n",
            "\n",
            "Epoch 00003: ReduceLROnPlateau reducing learning rate to 1.9999999494757503e-05.\n",
            "Epoch 4/10\n",
            "2368/2368 [==============================] - 178s 72ms/step - loss: 0.9476 - accuracy: 0.7588 - val_loss: 1.0477 - val_accuracy: 0.7233\n"
          ],
          "name": "stdout"
        }
      ]
    },
    {
      "cell_type": "code",
      "metadata": {
        "colab": {
          "base_uri": "https://localhost:8080/"
        },
        "id": "75LePk-Kl9Dw",
        "outputId": "ed62988d-9a60-439f-80c6-a558c311df8f"
      },
      "source": [
        "feature_extraction_model.evaluate(testing_data)"
      ],
      "execution_count": null,
      "outputs": [
        {
          "output_type": "stream",
          "text": [
            "790/790 [==============================] - 53s 67ms/step - loss: 1.0437 - accuracy: 0.7199\n"
          ],
          "name": "stdout"
        },
        {
          "output_type": "execute_result",
          "data": {
            "text/plain": [
              "[1.0437216758728027, 0.719920814037323]"
            ]
          },
          "metadata": {
            "tags": []
          },
          "execution_count": 136
        }
      ]
    },
    {
      "cell_type": "markdown",
      "metadata": {
        "id": "5jNrwo6af_zf"
      },
      "source": [
        "The score for the model with some frozen layers is significantly lower than for the fully trained base model.\n",
        "\n",
        "Note!\n",
        "```\n",
        "feature_extraction_model.layers[1].trainable = False\n",
        "for layer in feature_extraction_model.layers[1].layers[-237:]:\n",
        "  layer.trainable = True\n",
        "```\n",
        "is not the same like:\n",
        "\n",
        "\n",
        "\n",
        "```\n",
        "feature_extraction_model.layers[1].trainable = True\n",
        "```\n",
        "\n",
        "\n"
      ]
    },
    {
      "cell_type": "markdown",
      "metadata": {
        "id": "MmUHUzx5nBz8"
      },
      "source": [
        "## Using EfficientNetB4 model"
      ]
    },
    {
      "cell_type": "code",
      "metadata": {
        "id": "QI4a63iymDuX"
      },
      "source": [
        "from tensorflow.keras import layers\n",
        "from tensorflow.keras.layers.experimental import preprocessing"
      ],
      "execution_count": null,
      "outputs": []
    },
    {
      "cell_type": "code",
      "metadata": {
        "colab": {
          "base_uri": "https://localhost:8080/"
        },
        "id": "v9RED93TnTER",
        "outputId": "b6eb36d4-1e33-49f1-d462-5d730d75e680"
      },
      "source": [
        "# Create base model\n",
        "base_model_b4 = tf.keras.applications.EfficientNetB4(include_top=False)\n",
        "base_model_b4.trainable = False # freeze base model layers\n",
        "\n",
        "# Create Functional model \n",
        "input_shape = (224, 224, 3)\n",
        "inputs = layers.Input(shape=input_shape, name=\"input_layer\")\n",
        "# Note: EfficientNetBX models have rescaling built-in but if our model didn't us could have a layer like below\n",
        "# x = preprocessing.Rescaling(1./255)(inputs)\n",
        "# Don't forget change inputs on x in base_model next string\n",
        "x = base_model_b4(inputs, training=False) # set base_model to inference mode only\n",
        "x = layers.GlobalAveragePooling2D(name=\"global_average_pool_layer\")(x)\n",
        "# Separate activation of output layer so we can output float32 activations\n",
        "x = layers.Dense(len(class_names))(x)\n",
        "outputs = layers.Activation(\"softmax\", dtype=tf.float32, name=\"softmax_float32\")(x)\n",
        "model_b4 = tf.keras.Model(inputs, outputs)\n",
        "\n",
        "# Compile the model\n",
        "model_b4.compile(loss=\"sparse_categorical_crossentropy\", # Use sparse_categorical_crossentropy when labels are *not* one-hot\n",
        "              optimizer=tf.keras.optimizers.Adam(),\n",
        "              metrics=[\"accuracy\"])"
      ],
      "execution_count": null,
      "outputs": [
        {
          "output_type": "stream",
          "text": [
            "Downloading data from https://storage.googleapis.com/keras-applications/efficientnetb4_notop.h5\n",
            "71688192/71686520 [==============================] - 0s 0us/step\n"
          ],
          "name": "stdout"
        }
      ]
    },
    {
      "cell_type": "code",
      "metadata": {
        "colab": {
          "base_uri": "https://localhost:8080/"
        },
        "id": "aqsvKwDKnmJ2",
        "outputId": "553653e0-67c3-4ba0-8323-b3b3c1876045"
      },
      "source": [
        "# Check out our model\n",
        "model_b4.summary()"
      ],
      "execution_count": null,
      "outputs": [
        {
          "output_type": "stream",
          "text": [
            "Model: \"model\"\n",
            "_________________________________________________________________\n",
            "Layer (type)                 Output Shape              Param #   \n",
            "=================================================================\n",
            "input_layer (InputLayer)     [(None, 224, 224, 3)]     0         \n",
            "_________________________________________________________________\n",
            "efficientnetb4 (Functional)  (None, None, None, 1792)  17673823  \n",
            "_________________________________________________________________\n",
            "global_average_pool_layer (G (None, 1792)              0         \n",
            "_________________________________________________________________\n",
            "dense (Dense)                (None, 101)               181093    \n",
            "_________________________________________________________________\n",
            "softmax_float32 (Activation) (None, 101)               0         \n",
            "=================================================================\n",
            "Total params: 17,854,916\n",
            "Trainable params: 181,093\n",
            "Non-trainable params: 17,673,823\n",
            "_________________________________________________________________\n"
          ],
          "name": "stdout"
        }
      ]
    },
    {
      "cell_type": "code",
      "metadata": {
        "colab": {
          "base_uri": "https://localhost:8080/"
        },
        "id": "1fCGpixdntua",
        "outputId": "c223f200-958f-43ba-8bf2-ce18ca7db2f4"
      },
      "source": [
        "# Check the dtype_policy attributes of layers in our model\n",
        "for layer in model_b4.layers:\n",
        "  print(layer.name, layer.trainable, layer.dtype, layer.dtype_policy)"
      ],
      "execution_count": null,
      "outputs": [
        {
          "output_type": "stream",
          "text": [
            "input_layer True float32 <Policy \"float32\">\n",
            "efficientnetb4 False float32 <Policy \"mixed_float16\">\n",
            "global_average_pool_layer True float32 <Policy \"mixed_float16\">\n",
            "dense True float32 <Policy \"mixed_float16\">\n",
            "softmax_float32 True float32 <Policy \"float32\">\n"
          ],
          "name": "stdout"
        }
      ]
    },
    {
      "cell_type": "code",
      "metadata": {
        "colab": {
          "base_uri": "https://localhost:8080/"
        },
        "id": "DP8eREq4oLp7",
        "outputId": "9cb796ec-36ec-488a-b3e0-a30c1cd79e63"
      },
      "source": [
        "# Check the layers in the base model and see what dtype policy they're using\n",
        "for layer in model_b4.layers[1].layers[:20]:\n",
        "  print(layer.name, layer.trainable, layer.dtype, layer.dtype_policy)"
      ],
      "execution_count": null,
      "outputs": [
        {
          "output_type": "stream",
          "text": [
            "input_1 False float32 <Policy \"float32\">\n",
            "rescaling False float32 <Policy \"mixed_float16\">\n",
            "normalization False float32 <Policy \"float32\">\n",
            "stem_conv_pad False float32 <Policy \"mixed_float16\">\n",
            "stem_conv False float32 <Policy \"mixed_float16\">\n",
            "stem_bn False float32 <Policy \"mixed_float16\">\n",
            "stem_activation False float32 <Policy \"mixed_float16\">\n",
            "block1a_dwconv False float32 <Policy \"mixed_float16\">\n",
            "block1a_bn False float32 <Policy \"mixed_float16\">\n",
            "block1a_activation False float32 <Policy \"mixed_float16\">\n",
            "block1a_se_squeeze False float32 <Policy \"mixed_float16\">\n",
            "block1a_se_reshape False float32 <Policy \"mixed_float16\">\n",
            "block1a_se_reduce False float32 <Policy \"mixed_float16\">\n",
            "block1a_se_expand False float32 <Policy \"mixed_float16\">\n",
            "block1a_se_excite False float32 <Policy \"mixed_float16\">\n",
            "block1a_project_conv False float32 <Policy \"mixed_float16\">\n",
            "block1a_project_bn False float32 <Policy \"mixed_float16\">\n",
            "block1b_dwconv False float32 <Policy \"mixed_float16\">\n",
            "block1b_bn False float32 <Policy \"mixed_float16\">\n",
            "block1b_activation False float32 <Policy \"mixed_float16\">\n"
          ],
          "name": "stdout"
        }
      ]
    },
    {
      "cell_type": "code",
      "metadata": {
        "colab": {
          "base_uri": "https://localhost:8080/"
        },
        "id": "YSvCy9nroMQD",
        "outputId": "14ddc5cb-f111-48b5-f629-9af98d53c8db"
      },
      "source": [
        "# Fit the model with callbacks\n",
        "history_101_food_classes_feature_extract_b4 = model_b4.fit(training_data,\n",
        "                                                     epochs=3,\n",
        "                                                     validation_data=testing_data,\n",
        "                                                     validation_steps=int(0.15*len(testing_data)),\n",
        "                                                     callbacks=[create_tensorboard_callback(\"training_logs\", \n",
        "                                                                                            \"efficientnetb4_101_classes_all_data_feature_extract\"),\n",
        "                                                                model_checkpoint])"
      ],
      "execution_count": null,
      "outputs": [
        {
          "output_type": "stream",
          "text": [
            "Saving TensorBoard log files to: training_logs/efficientnetb4_101_classes_all_data_feature_extract/20210624-104727\n",
            "Epoch 1/3\n",
            "2368/2368 [==============================] - 235s 91ms/step - loss: 2.3284 - accuracy: 0.4507 - val_loss: 1.3287 - val_accuracy: 0.6547\n",
            "Epoch 2/3\n",
            "2368/2368 [==============================] - 225s 91ms/step - loss: 1.4084 - accuracy: 0.6367 - val_loss: 1.2315 - val_accuracy: 0.6758\n",
            "Epoch 3/3\n",
            "2368/2368 [==============================] - 229s 93ms/step - loss: 1.2413 - accuracy: 0.6760 - val_loss: 1.1940 - val_accuracy: 0.6772\n"
          ],
          "name": "stdout"
        }
      ]
    },
    {
      "cell_type": "code",
      "metadata": {
        "colab": {
          "base_uri": "https://localhost:8080/"
        },
        "id": "Lxo0f7uSob7G",
        "outputId": "532c28c9-528c-4af2-ec9f-2aae2bb990f8"
      },
      "source": [
        "model_b4.evaluate(testing_data)"
      ],
      "execution_count": null,
      "outputs": [
        {
          "output_type": "stream",
          "text": [
            "790/790 [==============================] - 65s 82ms/step - loss: 1.1953 - accuracy: 0.6784\n"
          ],
          "name": "stdout"
        },
        {
          "output_type": "execute_result",
          "data": {
            "text/plain": [
              "[1.195328712463379, 0.678415834903717]"
            ]
          },
          "metadata": {
            "tags": []
          },
          "execution_count": 144
        }
      ]
    },
    {
      "cell_type": "code",
      "metadata": {
        "colab": {
          "base_uri": "https://localhost:8080/"
        },
        "id": "LfYse8gKrhSo",
        "outputId": "1d41538b-2bfe-4f79-fb93-9fe29eebc206"
      },
      "source": [
        "# Saving model to Google Drive\n",
        "# import os\n",
        "# os.makedirs(\"drive/MyDrive/food_vision/07_efficientnetb4_feature_extract_model_mixed_precision/\")\n",
        "\n",
        "# Save model\n",
        "model_b4.save(\"drive/MyDrive/food_vision/07_efficientnetb4_feature_extract_model_mixed_precision/\")"
      ],
      "execution_count": null,
      "outputs": [
        {
          "output_type": "stream",
          "text": [
            "INFO:tensorflow:Assets written to: drive/MyDrive/food_vision/07_efficientnetb4_feature_extract_model_mixed_precision/assets\n"
          ],
          "name": "stdout"
        },
        {
          "output_type": "stream",
          "text": [
            "INFO:tensorflow:Assets written to: drive/MyDrive/food_vision/07_efficientnetb4_feature_extract_model_mixed_precision/assets\n"
          ],
          "name": "stderr"
        }
      ]
    },
    {
      "cell_type": "code",
      "metadata": {
        "id": "jVWmg5V_r1-p"
      },
      "source": [
        "model_b4.layers[1].trainable = True"
      ],
      "execution_count": null,
      "outputs": []
    },
    {
      "cell_type": "code",
      "metadata": {
        "colab": {
          "base_uri": "https://localhost:8080/"
        },
        "id": "oqc2b9Cdsib7",
        "outputId": "b21617bf-18db-4080-8fdd-669354c965fc"
      },
      "source": [
        "# Check the dtype_policy attributes of layers in our model\n",
        "for layer in model_b4.layers:\n",
        "  print(layer.name, layer.trainable, layer.dtype, layer.dtype_policy)"
      ],
      "execution_count": null,
      "outputs": [
        {
          "output_type": "stream",
          "text": [
            "input_layer True float32 <Policy \"float32\">\n",
            "efficientnetb4 True float32 <Policy \"mixed_float16\">\n",
            "global_average_pool_layer True float32 <Policy \"mixed_float16\">\n",
            "dense True float32 <Policy \"mixed_float16\">\n",
            "softmax_float32 True float32 <Policy \"float32\">\n"
          ],
          "name": "stdout"
        }
      ]
    },
    {
      "cell_type": "code",
      "metadata": {
        "id": "uTYpvZ0Fsnpq"
      },
      "source": [
        "# Compile model\n",
        "model_b4.compile(loss=\"sparse_categorical_crossentropy\",\n",
        "                           optimizer=tf.keras.optimizers.Adam(0.0001),\n",
        "                           metrics=[\"accuracy\"])"
      ],
      "execution_count": null,
      "outputs": []
    },
    {
      "cell_type": "code",
      "metadata": {
        "colab": {
          "base_uri": "https://localhost:8080/"
        },
        "id": "U6fel58YsvVC",
        "outputId": "e7ed8441-ed8e-441c-c72e-5e5ec742af4d"
      },
      "source": [
        "# Start to fine-tune (all layers)\n",
        "history_101_food_classes_all_data__fine_tune_b4 = model_b4.fit(training_data,\n",
        "                                                                     epochs=10,\n",
        "                                                                     validation_data=testing_data,\n",
        "                                                                     validation_steps=int(0.15*len(testing_data)), # validation during training on 15% of test data\n",
        "                                                                     callbacks=[create_tensorboard_callback(\"training_logs\", \"efficientb4_101_classes_all_data_some_layers\"), # track the model training logs\n",
        "                                                                                model_checkpoint, # save only the best model during training\n",
        "                                                                                early_stopping, # stop model after X epochs of no improvements\n",
        "                                                                                reduce_lr]) # reduce the learning rate after X epochs of no improvements"
      ],
      "execution_count": null,
      "outputs": [
        {
          "output_type": "stream",
          "text": [
            "Saving TensorBoard log files to: training_logs/efficientb4_101_classes_all_data_some_layers/20210624-110725\n",
            "Epoch 1/10\n",
            "2368/2368 [==============================] - 700s 282ms/step - loss: 1.0262 - accuracy: 0.7254 - val_loss: 0.7237 - val_accuracy: 0.8024\n",
            "INFO:tensorflow:Assets written to: fine_tune_checkpoints/assets\n"
          ],
          "name": "stdout"
        },
        {
          "output_type": "stream",
          "text": [
            "INFO:tensorflow:Assets written to: fine_tune_checkpoints/assets\n"
          ],
          "name": "stderr"
        },
        {
          "output_type": "stream",
          "text": [
            "Epoch 2/10\n",
            "2368/2368 [==============================] - 675s 281ms/step - loss: 0.4001 - accuracy: 0.8892 - val_loss: 0.7380 - val_accuracy: 0.8088\n",
            "Epoch 3/10\n",
            "2368/2368 [==============================] - 669s 280ms/step - loss: 0.1299 - accuracy: 0.9614 - val_loss: 0.8555 - val_accuracy: 0.8064\n",
            "\n",
            "Epoch 00003: ReduceLROnPlateau reducing learning rate to 1.9999999494757503e-05.\n",
            "Epoch 4/10\n",
            "2368/2368 [==============================] - 666s 278ms/step - loss: 0.0342 - accuracy: 0.9906 - val_loss: 0.8488 - val_accuracy: 0.8390\n"
          ],
          "name": "stdout"
        }
      ]
    },
    {
      "cell_type": "code",
      "metadata": {
        "colab": {
          "base_uri": "https://localhost:8080/"
        },
        "id": "Z8pGrxaz4oMu",
        "outputId": "162ce9d8-870a-4719-d893-bfbfbc4e3540"
      },
      "source": [
        "model_b4.evaluate(testing_data)"
      ],
      "execution_count": null,
      "outputs": [
        {
          "output_type": "stream",
          "text": [
            "790/790 [==============================] - 68s 85ms/step - loss: 0.8807 - accuracy: 0.8276\n"
          ],
          "name": "stdout"
        },
        {
          "output_type": "execute_result",
          "data": {
            "text/plain": [
              "[0.8807032704353333, 0.8275643587112427]"
            ]
          },
          "metadata": {
            "tags": []
          },
          "execution_count": 152
        }
      ]
    },
    {
      "cell_type": "code",
      "metadata": {
        "colab": {
          "base_uri": "https://localhost:8080/"
        },
        "id": "CM_XCjbE4o8A",
        "outputId": "43487ebd-2a0a-45c5-cc9e-2b52bb76c947"
      },
      "source": [
        "# Save model\n",
        "model_b4.save(\"drive/MyDrive/food_vision/07_efficientnetb4_fine_tuned/\")"
      ],
      "execution_count": null,
      "outputs": [
        {
          "output_type": "stream",
          "text": [
            "INFO:tensorflow:Assets written to: drive/MyDrive/food_vision/07_efficientnetb4_fine_tuned/assets\n"
          ],
          "name": "stdout"
        },
        {
          "output_type": "stream",
          "text": [
            "INFO:tensorflow:Assets written to: drive/MyDrive/food_vision/07_efficientnetb4_fine_tuned/assets\n"
          ],
          "name": "stderr"
        }
      ]
    },
    {
      "cell_type": "markdown",
      "metadata": {
        "id": "3B8L8wPz44vE"
      },
      "source": [
        "The result is almost the same like fine-tuned efficientNetB0 model"
      ]
    }
  ]
}
